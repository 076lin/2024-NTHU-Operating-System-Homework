{
  "nbformat": 4,
  "nbformat_minor": 0,
  "metadata": {
    "colab": {
      "provenance": [],
      "collapsed_sections": [
        "PbjYaEcOcINP"
      ]
    },
    "kernelspec": {
      "name": "python3",
      "display_name": "Python 3"
    },
    "language_info": {
      "name": "python"
    }
  },
  "cells": [
    {
      "cell_type": "markdown",
      "source": [
        "#**MP1_report_59**"
      ],
      "metadata": {
        "id": "k0fRXhU32JRP"
      }
    },
    {
      "cell_type": "markdown",
      "source": [
        "##**組員與分工**\n",
        "\n",
        "組員: 林群佑, 刁一平\n",
        "\n",
        "|      工作項目      |      分工     |\n",
        "|:------------------:|:-------------:|\n",
        "| Trace Code (a),(b) |     林群佑    |\n",
        "|   Trace Code (c),(d)   |     刁一平    |\n",
        "|      功能實作與除錯      |     林群佑    |"
      ],
      "metadata": {
        "id": "mf39YCIbkUgq"
      }
    },
    {
      "cell_type": "markdown",
      "source": [
        "##1. Trace code"
      ],
      "metadata": {
        "id": "NYPE9-Oe2L72"
      }
    },
    {
      "cell_type": "markdown",
      "source": [
        "###(a)SC_Halt\n",
        "\n",
        "首先使用 ../build.linux/nachos -e halt -d c 指令追蹤halt具體調用哪些程式部分"
      ],
      "metadata": {
        "id": "RUyhfZKSQmzX"
      }
    },
    {
      "cell_type": "code",
      "source": [
        "[os24team59@localhost test]$ ../build.linux/nachos -e halt -d c\n",
        "halt\n",
        "In Thread::Sleep, Sleeping thread: main, 20\n",
        "In Semaphore::P(), 30\n",
        "In Thread::Sleep, Sleeping thread: postal worker, 30\n",
        "//由於中間 Tick 40-Tick 52 並沒有實際執行其他函式，故省略\n",
        "In Machine::Run(), return from OneTick == Tick 53 ==\n",
        "In Machine::Run(), into OneInstruction == Tick 53 ==\n",
        "In Machine::OneInstruction, RaiseException(SyscallException, 0), 53\n",
        "In ExceptionHandler(), Received Exception 1 type: 0, 53"
      ],
      "metadata": {
        "id": "JT9KJZzr25Jm"
      },
      "execution_count": null,
      "outputs": []
    },
    {
      "cell_type": "markdown",
      "source": [
        "####**Machine::Run()**\n",
        "\n",
        "當系統執行 system call 時便會調用 Machine::Run() 來處理\n",
        "\n"
      ],
      "metadata": {
        "id": "6dqkhXs_4Frs"
      }
    },
    {
      "cell_type": "code",
      "source": [
        "void Machine::Run() {\n",
        "    Instruction *instr = new Instruction;  // storage for decoded instruction\n",
        "    if (debug->IsEnabled('m')) {\n",
        "        cout << \"Starting program in thread: \" << kernel->currentThread->getName();\n",
        "        cout << \", at time: \" << kernel->stats->totalTicks << \"\\n\";\n",
        "    }\n",
        "    kernel->interrupt->setStatus(UserMode);\n",
        "    for (;;) {\n",
        "        DEBUG(dbgTraCode, \"In Machine::Run(), into OneInstruction \"\n",
        "                              << \"== Tick \" << kernel->stats->totalTicks << \" ==\");\n",
        "        OneInstruction(instr);\n",
        "        DEBUG(dbgTraCode, \"In Machine::Run(), return from OneInstruction  \"\n",
        "                              << \"== Tick \" << kernel->stats->totalTicks << \" ==\");\n",
        "\n",
        "        DEBUG(dbgTraCode, \"In Machine::Run(), into OneTick \"\n",
        "                              << \"== Tick \" << kernel->stats->totalTicks << \" ==\");\n",
        "        kernel->interrupt->OneTick();\n",
        "        DEBUG(dbgTraCode, \"In Machine::Run(), return from OneTick \"\n",
        "                              << \"== Tick \" << kernel->stats->totalTicks << \" ==\");\n",
        "        if (singleStep && (runUntilTime <= kernel->stats->totalTicks))\n",
        "            Debugger();\n",
        "    }\n",
        "}"
      ],
      "metadata": {
        "id": "gwIhmKSD4dW7"
      },
      "execution_count": null,
      "outputs": []
    },
    {
      "cell_type": "markdown",
      "source": [
        "這部分檢查有哪些指令輸入，然後將指令丟到OneInstruction()中執行"
      ],
      "metadata": {
        "id": "s9BNDve54jp7"
      }
    },
    {
      "cell_type": "markdown",
      "source": [
        "####**Machine::OneInstruction()**\n",
        "\n",
        "這部分模擬CPU處理各種 system call 指令"
      ],
      "metadata": {
        "id": "YueJXtOE65Vw"
      }
    },
    {
      "cell_type": "code",
      "source": [
        "case OP_SYSCALL:\n",
        "  DEBUG(dbgTraCode, \"In Machine::OneInstruction, RaiseException(SyscallException, 0), \" << kernel->stats->totalTicks);\n",
        "  RaiseException(SyscallException, 0);\n",
        "  return;\n",
        "//由於其他部分在過程中使用不到故省略"
      ],
      "metadata": {
        "id": "XhamvcXo5VGC"
      },
      "execution_count": null,
      "outputs": []
    },
    {
      "cell_type": "markdown",
      "source": [
        "透過 In Machine::OneInstruction, RaiseException(SyscallException, 0), 53 我們可以瞭解到執行 halt 使用到了 OP_SYSCALL 的部分，會呼叫 RaiseException(SyscallException, 0); 去處理異常的情況"
      ],
      "metadata": {
        "id": "CP4eqSDv7Qaw"
      }
    },
    {
      "cell_type": "markdown",
      "source": [
        "####**RaiseException()**\n",
        "\n",
        "首先呼叫 kernal->interrupt->setStatus(SystemMode) 代表了此時從 User Mode 轉變為 Kernal Mode\n",
        "\n",
        "接著呼叫 ExceptionHandler() 去處理例外狀況，處理完後呼叫\n",
        "\n",
        "kernal->interrupt->setStatus(UserMode) 代表了 ExceptionHander() 執行完後，要從 Kernal Mode 轉回 User Mode\n"
      ],
      "metadata": {
        "id": "r3A40NbT-pZU"
      }
    },
    {
      "cell_type": "code",
      "source": [
        "void Machine::RaiseException(ExceptionType which, int badVAddr) {\n",
        "    DEBUG(dbgMach, \"Exception: \" << exceptionNames[which]);\n",
        "    registers[BadVAddrReg] = badVAddr;\n",
        "    DelayedLoad(0, 0);  // finish anything in progress\n",
        "    kernel->interrupt->setStatus(SystemMode);\n",
        "    ExceptionHandler(which);  // interrupts are enabled at this point\n",
        "    kernel->interrupt->setStatus(UserMode);\n",
        "}"
      ],
      "metadata": {
        "id": "FH5T5Pa979QY"
      },
      "execution_count": null,
      "outputs": []
    },
    {
      "cell_type": "markdown",
      "source": [
        "####**ExceptionHandler()**"
      ],
      "metadata": {
        "id": "Mf3bsOFIlC-e"
      }
    },
    {
      "cell_type": "code",
      "source": [
        "void ExceptionHandler(ExceptionType which) {\n",
        "    char ch;\n",
        "    int val;\n",
        "    int type = kernel->machine->ReadRegister(2);\n",
        "    int status, exit, threadID, programID, fileID, numChar;\n",
        "    DEBUG(dbgSys, \"Received Exception \" << which << \" type: \" << type << \"\\n\");\n",
        "    DEBUG(dbgTraCode, \"In ExceptionHandler(), Received Exception \" << which << \" type: \" << type << \", \" << kernel->stats->totalTicks);\n",
        "    switch (which) {\n",
        "        case SyscallException:\n",
        "            switch (type) {\n",
        "                case SC_Halt:\n",
        "                    DEBUG(dbgSys, \"Shutdown, initiated by user program.\\n\");\n",
        "                    SysHalt();\n",
        "                    cout << \"in exception\\n\";\n",
        "                    ASSERTNOTREACHED(); //屬於是debug中的功能，若上面程式失效會輸出在哪行失效，在debug.h中\n",
        "                    //由於其他case並不會執行故省略\n",
        "    }\n",
        "    ASSERTNOTREACHED();\n",
        "}"
      ],
      "metadata": {
        "id": "zqUoE_3gRPdi"
      },
      "execution_count": null,
      "outputs": []
    },
    {
      "cell_type": "markdown",
      "source": [
        "由 In ExceptionHandler(), Received Exception 1 type: 0, 53\n",
        "\n",
        "可以得知 which=1, type=0 而各自定義分別是 SyscallException 與 SC_Halt\n",
        "\n",
        "而具體處理 SyscallException 的程式在 SysHalt() 中"
      ],
      "metadata": {
        "id": "zCrI7lEBWgGl"
      }
    },
    {
      "cell_type": "code",
      "source": [
        "enum ExceptionType {\n",
        "    NoException, // Everything ok!\n",
        "    SyscallException, // A program executed a system call.\n",
        "    PageFaultException, // No valid translation found\n",
        "    ReadOnlyException, // Write attempted to page marked\n",
        "    BusErrorException, // Translation resulted in an\n",
        "    AddressErrorException, // Unaligned reference or one that\n",
        "    OverflowException, // Integer overflow in add or sub.\n",
        "    IllegalInstrException, // Unimplemented or reserved instr.\n",
        "    NumExceptionTypes\n",
        "};"
      ],
      "metadata": {
        "id": "0GtaPXI3XBVV"
      },
      "execution_count": null,
      "outputs": []
    },
    {
      "cell_type": "markdown",
      "source": [
        "在machine.h的標頭檔中，我們可以找到 which=1 的定義是 SyscallException"
      ],
      "metadata": {
        "id": "SCmHsUoMXiis"
      }
    },
    {
      "cell_type": "code",
      "source": [
        "#define SC_Halt 0\n",
        "#define SC_Exit 1\n",
        "#define SC_Exec 2\n",
        "#define SC_Join 3\n",
        "#define SC_Create 4\n",
        "#define SC_Remove 5\n",
        "// #define SC_Open\t6\n",
        "// #define SC_Read\t7\n",
        "// #define SC_Write\t8\n",
        "#define SC_Seek 9\n",
        "// #define SC_Close\t10\n",
        "#define SC_ThreadFork 11\n",
        "#define SC_ThreadYield 12\n",
        "#define SC_ExecV 13\n",
        "#define SC_ThreadExit 14\n",
        "#define SC_ThreadJoin 15\n",
        "#define SC_PrintInt 16\n",
        "#define SC_Add 42\n",
        "#define SC_MSG 100"
      ],
      "metadata": {
        "id": "pnL6DZjMy8wu"
      },
      "execution_count": null,
      "outputs": []
    },
    {
      "cell_type": "markdown",
      "source": [
        "在 syscall.h 的標頭黨中，我們可以發現 type=0 的定義是 SC_Halt"
      ],
      "metadata": {
        "id": "Ib4JQw-JzC8t"
      }
    },
    {
      "cell_type": "markdown",
      "source": [
        "####**SysHalt()**\n",
        "\n",
        "可以看到具體實現方式是呼叫位於 kernel 模式下的 interrupt 的 Halt() 函式"
      ],
      "metadata": {
        "id": "ezPAWwlPii7B"
      }
    },
    {
      "cell_type": "code",
      "source": [
        "void SysHalt() {\n",
        "    kernel->interrupt->Halt();\n",
        "}"
      ],
      "metadata": {
        "id": "QbeJHM5kiXSJ"
      },
      "execution_count": null,
      "outputs": []
    },
    {
      "cell_type": "markdown",
      "source": [
        "####**Interrupt::Halt()**\n",
        "\n",
        "我們可以很明顯的看到，具體執行的就是把 kernel 刪除，由於 kernel 包含了所有程式與函數，故刪除後自然就停止了"
      ],
      "metadata": {
        "id": "7E6Llb51jYJ4"
      }
    },
    {
      "cell_type": "code",
      "source": [
        "void Interrupt::Halt() {\n",
        "#ifndef NO_HALT_STAT\n",
        "    cout << \"Machine halting!\\n\\n\";\n",
        "    cout << \"This is halt\\n\";\n",
        "    kernel->stats->Print();\n",
        "#endif\n",
        "    delete kernel;  // Never returns.\n",
        "}"
      ],
      "metadata": {
        "id": "X4OeLSuDjWFH"
      },
      "execution_count": null,
      "outputs": []
    },
    {
      "cell_type": "markdown",
      "source": [
        "###(b) SC_Create\n",
        "\n",
        "首先使用 ../build.linux/nachos -e createFile -d c 指令追蹤 createFile 具體調用哪些程式"
      ],
      "metadata": {
        "id": "PbjYaEcOcINP"
      }
    },
    {
      "cell_type": "code",
      "source": [
        "[os24team59@localhost test]$ ../build.linux/nachos -e createFile -d c\n",
        "createFile\n",
        "In Thread::Sleep, Sleeping thread: main, 20\n",
        "In Semaphore::P(), 30\n",
        "In Thread::Sleep, Sleeping thread: postal worker, 30\n",
        "//由於中間 Tick 40-Tick 54 並沒有實際執行其他函式，故省略\n",
        "In Machine::Run(), return from OneTick == Tick 55 ==\n",
        "In Machine::Run(), into OneInstruction == Tick 55 ==\n",
        "In Machine::OneInstruction, RaiseException(SyscallException, 0), 55\n",
        "In ExceptionHandler(), Received Exception 1 type: 4, 55\n",
        "In Machine::Run(), return from OneInstruction  == Tick 55 ==\n",
        "In Machine::Run(), into OneTick == Tick 55 ==\n",
        "//由於中間 Tick 56-Tick 67 並沒有實際執行其他函式，故省略\n",
        "In Machine::Run(), return from OneTick == Tick 68 ==\n",
        "In Machine::Run(), into OneInstruction == Tick 68 ==\n",
        "In Machine::OneInstruction, RaiseException(SyscallException, 0), 68\n",
        "In ExceptionHandler(), Received Exception 1 type: 100, 68\n",
        "Success on creating file0.test"
      ],
      "metadata": {
        "id": "QPn89kEhmvLd"
      },
      "execution_count": null,
      "outputs": []
    },
    {
      "cell_type": "markdown",
      "source": [
        "####**ExceptionHandler()**"
      ],
      "metadata": {
        "id": "lf4_r7vfyU5G"
      }
    },
    {
      "cell_type": "code",
      "source": [
        "void ExceptionHandler(ExceptionType which) {\n",
        "    char ch;\n",
        "    int val;\n",
        "    int type = kernel->machine->ReadRegister(2);\n",
        "    int status, exit, threadID, programID, fileID, numChar;\n",
        "    DEBUG(dbgSys, \"Received Exception \" << which << \" type: \" << type << \"\\n\");\n",
        "    DEBUG(dbgTraCode, \"In ExceptionHandler(), Received Exception \" << which << \" type: \" << type << \", \" << kernel->stats->totalTicks);\n",
        "    switch (which) {\n",
        "        case SyscallException:\n",
        "            switch (type) {\n",
        "                case SC_Create:\n",
        "                    val = kernel->machine->ReadRegister(4);\n",
        "                    {\n",
        "                        char *filename = &(kernel->machine->mainMemory[val]);\n",
        "                        // cout << filename << endl;\n",
        "                        status = SysCreate(filename);\n",
        "                        kernel->machine->WriteRegister(2, (int)status);\n",
        "                    }\n",
        "                    kernel->machine->WriteRegister(PrevPCReg, kernel->machine->ReadRegister(PCReg));\n",
        "                    kernel->machine->WriteRegister(PCReg, kernel->machine->ReadRegister(PCReg) + 4);\n",
        "                    kernel->machine->WriteRegister(NextPCReg, kernel->machine->ReadRegister(PCReg) + 4);\n",
        "                    return;\n",
        "                    ASSERTNOTREACHED(); //屬於是debug中的功能，若上面程式失效會輸出在程式的哪裡失效，在debug.h中\n",
        "                //由於其他case沒用到故省略\n",
        "    }\n",
        "    ASSERTNOTREACHED();\n",
        "}"
      ],
      "metadata": {
        "id": "jFyXiiKdx0Mm"
      },
      "execution_count": null,
      "outputs": []
    },
    {
      "cell_type": "markdown",
      "source": [
        "由 In ExceptionHandler(), Received Exception 1 type: 4, 55 得知\n",
        "\n",
        "which=1, type=4 分別是 SyscallException 與 SC_Create (參考上題 ExceptionHandler()的補充說明可得知)\n",
        "\n",
        "這個函式執行了從暫存器4中讀取相應指令位置，然後到主記憶體中取出實際資料路徑，然後呼叫 SysCreate() 來完成實際的處理\n",
        "做完 SysCreate() 後，將返回的值存到記憶體之中"
      ],
      "metadata": {
        "id": "SZrKcTLiCW08"
      }
    },
    {
      "cell_type": "markdown",
      "source": [
        "####**SysCreate()**"
      ],
      "metadata": {
        "id": "Mb5ZFGc73xdF"
      }
    },
    {
      "cell_type": "code",
      "source": [
        "int SysCreate(char *filename) {\n",
        "    // return value\n",
        "    // 1: success\n",
        "    // 0: failed\n",
        "    return kernel->fileSystem->Create(filename);\n",
        "}"
      ],
      "metadata": {
        "id": "x3OH-6oUIPk-"
      },
      "execution_count": null,
      "outputs": []
    },
    {
      "cell_type": "markdown",
      "source": [
        "執行位於 fileSystem.cc 的 Create() 函式"
      ],
      "metadata": {
        "id": "-TIp_QfeIT5G"
      }
    },
    {
      "cell_type": "markdown",
      "source": [
        "####**FileSystem::Create()**"
      ],
      "metadata": {
        "id": "0M4tyKTeItr2"
      }
    },
    {
      "cell_type": "code",
      "source": [
        "bool Create(char *name) {\n",
        "  int fileDescriptor = OpenForWrite(name);\n",
        "  if (fileDescriptor == -1)\n",
        "    return FALSE;\n",
        "  Close(fileDescriptor);\n",
        "  return TRUE;\n",
        "}"
      ],
      "metadata": {
        "id": "p6GjFhGdJxkN"
      },
      "execution_count": null,
      "outputs": []
    },
    {
      "cell_type": "markdown",
      "source": [
        "此函式其實就是呼叫一次 OpenForWrite 函式來去模擬創建檔案的行為"
      ],
      "metadata": {
        "id": "DtYl2Z_YLJ4p"
      }
    },
    {
      "cell_type": "markdown",
      "source": [
        "###(c) SC_Print_Int"
      ],
      "metadata": {
        "id": "_PE8rW9VTdnt"
      }
    },
    {
      "cell_type": "markdown",
      "source": [
        "ExceptionHandler前面的地方已由(A)HC_Halt提及，所以從ExceptionHandler開始tracecode"
      ],
      "metadata": {
        "id": "uGPoTPdtDm2S"
      }
    },
    {
      "cell_type": "markdown",
      "source": [
        "####**ExceptionHandler()**"
      ],
      "metadata": {
        "id": "bmYNAShs3Ben"
      }
    },
    {
      "cell_type": "markdown",
      "source": [
        " 根據不同exception類別, 採取不同行動"
      ],
      "metadata": {
        "id": "w3Wf67VhI5ho"
      }
    },
    {
      "cell_type": "code",
      "source": [
        "void ExceptionHandler(ExceptionType which) {\n",
        "    char ch;\n",
        "    int val;\n",
        "    int type = kernel->machine->ReadRegister(2); # 將 r2 保存的 system call type 存進 type 變數中\n",
        "    int status, exit, threadID, programID, fileID, numChar;\n",
        "    switch (which) { # 辨別system call 或 其他expection\n",
        "        case SyscallException:\n",
        "            switch (type) {  # 辨別system call的type，並執行該type處理之事\n",
        "                case SC_PrintInt:\n",
        "                    DEBUG(dbgSys, \"Print Int\\n\");\n",
        "                    val = kernel->machine->ReadRegister(4);\n",
        "                    DEBUG(dbgTraCode, \"In ExceptionHandler(), into SysPrintInt, \" << kernel->stats->totalTicks);\n",
        "                    SysPrintInt(val);\n",
        "                    DEBUG(dbgTraCode, \"In ExceptionHandler(), return from SysPrintInt, \" << kernel->stats->totalTicks);\n",
        "                    // Set Program Counter\n",
        "                    kernel->machine->WriteRegister(PrevPCReg, kernel->machine->ReadRegister(PCReg));\n",
        "                    kernel->machine->WriteRegister(PCReg, kernel->machine->ReadRegister(PCReg) + 4);\n",
        "                    kernel->machine->WriteRegister(NextPCReg, kernel->machine->ReadRegister(PCReg) + 4);\n",
        "                    return;\n",
        "                    ASSERTNOTREACHED(); # debug用\n",
        "                    break;\n",
        "                }\n",
        "                     # 其餘case省略"
      ],
      "metadata": {
        "id": "P1vY5KAoVIte"
      },
      "execution_count": null,
      "outputs": []
    },
    {
      "cell_type": "markdown",
      "source": [
        "從r4中讀取system call之parameter  (val) 然後以此呼叫 SysPrintInt , 在做完SysPrintInt之後，更新program counter\n",
        "\n",
        "\n",
        "\n",
        "\n",
        "\n",
        "\n",
        "\n"
      ],
      "metadata": {
        "id": "OrvRlYUyVKJI"
      }
    },
    {
      "cell_type": "markdown",
      "source": [
        " void Machine::WriteRegister(int num, int value): 在 machine.cc 的 function, 其功能為將 value 寫進 register[num] 中"
      ],
      "metadata": {
        "id": "deU_p-ezIUMT"
      }
    },
    {
      "cell_type": "markdown",
      "source": [
        "####**SysPrintInt()** 位於 ksycall.h中"
      ],
      "metadata": {
        "id": "URGRy4Qx3Qp3"
      }
    },
    {
      "cell_type": "code",
      "source": [
        "//userprog/ksyscall.h\n",
        "void SysPrintInt(int val) {\n",
        "    DEBUG(dbgTraCode, \"In ksyscall.h:SysPrintInt, into synchConsoleOut->PutInt, \" << kernel->stats->totalTicks);\n",
        "    kernel->synchConsoleOut->PutInt(val);\n",
        "    DEBUG(dbgTraCode, \"In ksyscall.h:SysPrintInt, return from synchConsoleOut->PutInt, \" << kernel->stats->totalTicks);\n",
        "}"
      ],
      "metadata": {
        "id": "dDvj1XZO3dk-"
      },
      "execution_count": null,
      "outputs": []
    },
    {
      "cell_type": "markdown",
      "source": [
        "傳入val, 呼叫synchConsoleOut.cc的PutInt()函數"
      ],
      "metadata": {
        "id": "t2SfqKYv3x4n"
      }
    },
    {
      "cell_type": "markdown",
      "source": [
        "####**SynchConsoleOutput::PutInt()**"
      ],
      "metadata": {
        "id": "HSumOe3_OwUF"
      }
    },
    {
      "cell_type": "code",
      "source": [
        "void SynchConsoleOutput::PutInt(int value) {\n",
        "    char str[15];\n",
        "    int idx = 0;\n",
        "    // sprintf(str, \"%d\\n\\0\", value);  the true one\n",
        "    sprintf(str, \"%d\\n\\0\", value);  // simply for trace code, # 將 value 轉成字串str\n",
        "    lock->Acquire(); #利用lock->Acquire()鎖定, 並且只有現在這個thread可以取得該鎖，確保輸出過程不被截斷\n",
        "    do { # 將 str 的每一個字元逐一傳送\n",
        "        DEBUG(dbgTraCode, \"In SynchConsoleOutput::PutChar, into consoleOutput->PutChar, \" << kernel->stats->totalTicks);\n",
        "        consoleOutput->PutChar(str[idx]);\n",
        "        DEBUG(dbgTraCode, \"In SynchConsoleOutput::PutChar, return from consoleOutput->PutChar, \" << kernel->stats->totalTicks);\n",
        "        idx++;\n",
        "\n",
        "        DEBUG(dbgTraCode, \"In SynchConsoleOutput::PutChar, into waitFor->P(), \" << kernel->stats->totalTicks);\n",
        "        waitFor->P(); # 每次輸出一個字符後，會產生一個等待操作來確保輸出完成,這裡使用了 waitFor->P() 來讓thread等待輸出完成的信號\n",
        "        DEBUG(dbgTraCode, \"In SynchConsoleOutput::PutChar, return form  waitFor->P(), \" << kernel->stats->totalTicks);\n",
        "    } while (str[idx] != '\\0');\n",
        "    lock->Release(); # 當所有字元都被成功輸出後，通過 lock->Release() 解除(釋放)鎖定\n",
        "}"
      ],
      "metadata": {
        "id": "3LvgUrOV51lj"
      },
      "execution_count": null,
      "outputs": []
    },
    {
      "cell_type": "markdown",
      "source": [
        "除錯信息"
      ],
      "metadata": {
        "id": "HDWX3zs_Kj3z"
      }
    },
    {
      "cell_type": "code",
      "source": [
        "In SynchConsoleOutput::PutChar, into consoleOutput->PutChar, 73\n",
        "In SynchConsoleOutput::PutChar, return from consoleOutput->PutChar, 73\n",
        "In SynchConsoleOutput::PutChar, into waitFor->P(), 73\n",
        "In Semaphore::P(), 73\n",
        "In Thread::Sleep, Sleeping thread: add, 73\n",
        "In Interrupt::Idle, into CheckIfDue, 73\n",
        "In Interrupt::CheckIfDue, into callOnInterrupt->CallBack, 100"
      ],
      "metadata": {
        "id": "JqUK8zc_PHWn"
      },
      "execution_count": null,
      "outputs": []
    },
    {
      "cell_type": "markdown",
      "source": [
        "為了確保多個執行緒不會同時寫入，這裡使用了鎖機制 lock->Acquire() 來保護對輸出的權限, 當一個執行緒獲得了這個鎖後，其他執行緒需要等待該鎖release後才能繼續\n",
        "\n",
        "P(): 能夠讓 thread sleep, 禁⽌進⾏其他 thread, 直到接到 call back\n",
        "\n",
        "由下面output P()與V()的作用可以等待前一個char輸出完成後，再去執行輸出下一個char"
      ],
      "metadata": {
        "id": "Cz7GrSX01nNX"
      }
    },
    {
      "cell_type": "markdown",
      "source": [],
      "metadata": {
        "id": "6W9vk4qK2cvm"
      }
    },
    {
      "cell_type": "markdown",
      "source": [
        "####**SynchConsoleOutput::PutChar()**"
      ],
      "metadata": {
        "id": "2mu1C7yo53aa"
      }
    },
    {
      "cell_type": "code",
      "source": [
        "SynchConsoleOutput::PutChar(char ch)\n",
        "{\n",
        "    lock->Acquire();\n",
        "    consoleOutput->PutChar(ch);\n",
        "    waitFor->P();\n",
        "    lock->Release();\n",
        "}"
      ],
      "metadata": {
        "id": "7U3vk5oD6F1N"
      },
      "execution_count": null,
      "outputs": []
    },
    {
      "cell_type": "markdown",
      "source": [
        "與SynchConsoleOutput::PutInt()差別在於傳入參數為字元"
      ],
      "metadata": {
        "id": "8hBSE7qx3yKu"
      }
    },
    {
      "cell_type": "markdown",
      "source": [
        "####**ConsoleOutput::PutChar**"
      ],
      "metadata": {
        "id": "Oju-2liG505U"
      }
    },
    {
      "cell_type": "code",
      "source": [
        "ConsoleOutput::PutChar(char ch)\n",
        "{\n",
        "  ASSERT(putBusy == FALSE); #若putBusy == TRUE，則終止\n",
        "  WriteFile(writeFileNo, &ch, sizeof(char)); #將字元 ch 寫入simulated display\n",
        "  putBusy = TRUE; #一旦字元被寫入，將 putBusy 設置為 TRUE\n",
        "  kernel->interrupt->Schedule(this, ConsoleTime, ConsoleWriteInt); #進入interrupt.cc裡的Schedule()\n",
        "}\n"
      ],
      "metadata": {
        "id": "D6zUziNV5mId"
      },
      "execution_count": null,
      "outputs": []
    },
    {
      "cell_type": "markdown",
      "source": [
        "這個函數的目的是將字元輸出到simulated display，並安排interrupt來完成輸出操作\n",
        "\n",
        "使用 ASSERT 確保沒有正在進行的輸出，通過sysdep.cc裡的 WriteFile 使用unix的\n",
        "write()，來將字元寫入檔案中，設置 putBusy 標記輸出狀態，\n",
        "\n",
        "接著呼叫Schedule() 來安排 interrupt來完成整個輸出過程\n",
        "\n",
        "ConsoleTime 為 I/O 機器讀寫一個\n",
        "字元所需的時間，讓CPU排程interrupt，在將來I/O結束後再回去執行原來得位置\n",
        "\n",
        "這種設計能夠有效地避免輸出過程的阻塞(busy waiting)，允許系統在輸出操作進行時同時處理其他任務，並保證輸出過程的同步和正確性。\n",
        "\n",
        "\n",
        "\n",
        "\n",
        "\n",
        "\n"
      ],
      "metadata": {
        "id": "C3klbd8f07tw"
      }
    },
    {
      "cell_type": "markdown",
      "source": [
        "####**Interrupt::Schedule()**"
      ],
      "metadata": {
        "id": "XTb1wy9z6NPN"
      }
    },
    {
      "cell_type": "code",
      "source": [
        "Interrupt::Schedule(CallBackObj *toCall, int fromNow, IntType type)\n",
        "{\n",
        "    int when = kernel->stats->totalTicks + fromNow; #現在時間 + 多久後\n",
        "    PendingInterrupt *toOccur = new PendingInterrupt(toCall, when, type);\n",
        "\n",
        "    DEBUG(dbgInt, \"Scheduling interrupt handler the \" << intTypeNames[type] << \" at time = \" << when);\n",
        "    ASSERT(fromNow > 0); #確保fromNow⼤於0，若等於0就當下立刻就要中止，因為並不知道當前是否有interrupt正在執⾏，避免衝突\n",
        "\n",
        "    # pending 是一個sorted list，用來處存interrupt種類\n",
        "    pending->Insert(toOccur); #使用 Insert 將新的interrupt事件插入list中\n",
        "}\n"
      ],
      "metadata": {
        "id": "j_Cl-afH60Ue"
      },
      "execution_count": null,
      "outputs": []
    },
    {
      "cell_type": "markdown",
      "source": [
        "\n",
        "toCall: interrupt時要被執行的對象  \n",
        "\n",
        "fromNow: interrupt多久後要發⽣\n",
        "\n",
        "type: interrupt是由哪個設備產生的\n",
        "\n",
        "when: interrupt發生的時間點  "
      ],
      "metadata": {
        "id": "lVgwLOec_P2s"
      }
    },
    {
      "cell_type": "markdown",
      "source": [
        "Interrupt::Schedule是用來安排一個未來的 interrupt ,  \n",
        "根據totalTicks + fromNow， 計算出 interrupt 的觸發時間，  \n",
        "接著將 interrupt 事件(toOccur)插入到 interrupt pending list中,依時間來排程  \n",
        "\n",
        "這樣在達到指定時間時，系統會觸發該 interrupt"
      ],
      "metadata": {
        "id": "tEGvA7ppAnPq"
      }
    },
    {
      "cell_type": "markdown",
      "source": [
        "####**Machine::Run()**"
      ],
      "metadata": {
        "id": "Msp3OtlfBSnT"
      }
    },
    {
      "cell_type": "code",
      "source": [
        "void Machine::Run() {\n",
        "    Instruction *instr = new Instruction;  // storage for decoded instruction\n",
        "    if (debug->IsEnabled('m')) {\n",
        "        cout << \"Starting program in thread: \" << kernel->currentThread->getName();\n",
        "        cout << \", at time: \" << kernel->stats->totalTicks << \"\\n\";\n",
        "    }\n",
        "    kernel->interrupt->setStatus(UserMode); # 將系統設為user mode\n",
        "        DEBUG(dbgTraCode, \"In Machine::Run(), into OneInstruction \"\n",
        "                              << \"== Tick \" << kernel->stats->totalTicks << \" ==\");\n",
        "        OneInstruction(instr);\n",
        "        DEBUG(dbgTraCode, \"In Machine::Run(), return from OneInstruction  \"\n",
        "                              << \"== Tick \" << kernel->stats->totalTicks << \" ==\");\n",
        "\n",
        "        DEBUG(dbgTraCode, \"In Machine::Run(), into OneTick \"\n",
        "                              << \"== Tick \" << kernel->stats->totalTicks << \" ==\");\n",
        "        kernel->interrupt->OneTick();\n",
        "        DEBUG(dbgTraCode, \"In Machine::Run(), return from OneTick \"\n",
        "                              << \"== Tick \" << kernel->stats->totalTicks << \" ==\");\n",
        "        if (singleStep && (runUntilTime <= kernel->stats->totalTicks))\n",
        "            Debugger();\n",
        "    }\n",
        "}"
      ],
      "metadata": {
        "id": "eY9Z0FC8BvEM"
      },
      "execution_count": null,
      "outputs": []
    },
    {
      "cell_type": "markdown",
      "source": [
        "前面已有提及\n",
        "\n",
        "檢查有哪些指令輸入，然後將指令丟到OneInstruction()中執行,\n",
        "\n",
        "通過 OneTick() 來推進時間⼀個單位, 並檢查有沒有 pending interrupts 待調⽤, 有則進⾏interrupt處理"
      ],
      "metadata": {
        "id": "c4DJeAItG7nq"
      }
    },
    {
      "cell_type": "markdown",
      "source": [
        "####**Interrupt::OneTick()**"
      ],
      "metadata": {
        "id": "551S7Ie7CN_a"
      }
    },
    {
      "cell_type": "code",
      "source": [
        "Interrupt::OneTick()\n",
        "{\n",
        "    MachineStatus oldStatus = status;\n",
        "    Statistics *stats = kernel->stats;\n",
        "\n",
        "// advance simulated time\n",
        "    if (status == SystemMode) {\n",
        "      stats->totalTicks += SystemTick; # SystemTick = 10\n",
        "      stats->systemTicks += SystemTick;\n",
        "    } else {\n",
        "      stats->totalTicks += UserTick; # UserTick = 1\n",
        "      stats->userTicks += UserTick;\n",
        "    }\n",
        "    DEBUG(dbgInt, \"== Tick \" << stats->totalTicks << \" ==\");\n",
        "\n",
        "// check any pending interrupts are now ready to fire  # ChangeLevel: 改變interupt狀態\n",
        "    ChangeLevel(IntOn, IntOff); // first, turn off interrupts\n",
        "                // (interrupt handlers run with\n",
        "                // interrupts disabled)\n",
        "    CheckIfDue(FALSE);      // check for pending interrupts\n",
        "    ChangeLevel(IntOff, IntOn); // re-enable interrupts\n",
        "    if (yieldOnReturn) {    // if the timer device handler asked\n",
        "                    // for a context switch, ok to do it now\n",
        "    yieldOnReturn = FALSE;\n",
        "    status = SystemMode;        // yield is a kernel routine\n",
        "    kernel->currentThread->Yield();\n",
        "    status = oldStatus;\n",
        "    }\n",
        "}"
      ],
      "metadata": {
        "id": "vyyPMdy7COTx"
      },
      "execution_count": null,
      "outputs": []
    },
    {
      "cell_type": "markdown",
      "source": [
        "用來模擬系統中時間的推進，並檢查是否有需要觸發的 pending interrupts  \n",
        "根據當前系統處於system mode或user mode，來決定kernel的推進時間,SystemTick（10）或UserTick（1）  \n",
        "\n",
        "進入CheckIfDue去檢查是否⽬前有需要執⾏的的pending interrupt，  \n",
        "\n",
        "若有,它會短暫禁用interrupt，檢查完後再透過ChangeLevel(IntOn, IntOff)重新啟用interupt,  \n",
        "避免處理interrupt時同時有其他interrupts產生\n",
        "\n",
        "如果當前要求進行context switch，則將 yieldOnReturn設為FALSE,並呼叫currentThread的 Yield(),當此thread⼜可以執⾏時，則恢復 status\n",
        "   \n",
        "Yield(): 將 thread 放到 ready list 的最後, 將 cpu 分給下一個thread"
      ],
      "metadata": {
        "id": "E-YCM-mOKzyK"
      }
    },
    {
      "cell_type": "markdown",
      "source": [
        "####**Interrupt::CheckIfDue()**"
      ],
      "metadata": {
        "id": "x64iL4QJCVci"
      }
    },
    {
      "cell_type": "code",
      "source": [
        "bool Interrupt::CheckIfDue(bool advanceClock) {\n",
        "    PendingInterrupt *next;\n",
        "    Statistics *stats = kernel->stats;\n",
        "\n",
        "    ASSERT(level == IntOff);  // interrupts need to be disabled, # 確保interrupt關掉\n",
        "                              // to invoke an interrupt handler\n",
        "\n",
        "\n",
        "    #若有設定interrupt debug flag，則呼叫DumpState()印出⽬前的pending interrupts\n",
        "    if (debug->IsEnabled(dbgInt)) {\n",
        "        DumpState();\n",
        "    }\n",
        "    if (pending->IsEmpty()) {  // no pending interrupts # 判斷是否有待辦 interrupt\n",
        "        return FALSE;\n",
        "    }\n",
        "    next = pending->Front(); # 取出最前⾯的待辦interrupt\n",
        "\n",
        "    if (next->when > stats->totalTicks) { #若要發生interrupt的時間還未到,使⽤advanceClock判斷是否將totakTicks往後移到interrupt的發⽣時間\n",
        "        if (!advanceClock) {  // not time yet\n",
        "            return FALSE;\n",
        "        } else {  // advance the clock to next interrupt\n",
        "            stats->idleTicks += (next->when - stats->totalTicks);\n",
        "            stats->totalTicks = next->when;\n",
        "            // UDelay(1000L); // rcgood - to stop nachos from spinning.\n",
        "        }\n",
        "    }\n",
        "\n",
        "    DEBUG(dbgInt, \"Invoking interrupt handler for the \");\n",
        "    DEBUG(dbgInt, intTypeNames[next->type] << \" at time \" << next->when);\n",
        "\n",
        "    if (kernel->machine != NULL) { #若kernel 未被刪除,則使用DelayedLoad(0, 0) 結束當前運⾏的東西\n",
        "        kernel->machine->DelayedLoad(0, 0);\n",
        "    }\n",
        "\n",
        "    inHandler = TRUE; # 處理interrupt\n",
        "\n",
        "    do {  #不停地執行interrupt並刪除，直到所有目前時間點或以前的interrupt都被執行完畢\n",
        "        next = pending->RemoveFront();  // pull interrupt off list\n",
        "        DEBUG(dbgTraCode, \"In Interrupt::CheckIfDue, into callOnInterrupt->CallBack, \" << stats->totalTicks);\n",
        "        next->callOnInterrupt->CallBack();  // call the interrupt handler\n",
        "        DEBUG(dbgTraCode, \"In Interrupt::CheckIfDue, return from callOnInterrupt->CallBack, \" << stats->totalTicks);\n",
        "        delete next;\n",
        "    } while (!pending->IsEmpty() && (pending->Front()->when <= stats->totalTicks)); #直到pending為空或是下一個interrupt大於目前時間\n",
        "    inHandler = FALSE; #處理完interrupt\n",
        "    return TRUE;\n",
        "}\n"
      ],
      "metadata": {
        "id": "nJMK1E0YCUI3"
      },
      "execution_count": null,
      "outputs": []
    },
    {
      "cell_type": "markdown",
      "source": [
        "檢查是否有已排程的interupt需要觸發，並在條件滿足時執行interupt處理程序\n",
        "\n",
        "\n",
        "如果沒有interupt需要處理，則可能選擇直接推進系統時間到下一個interupt的觸發點"
      ],
      "metadata": {
        "id": "tvF5O-VDPdCg"
      }
    },
    {
      "cell_type": "markdown",
      "source": [
        "####**ConsoleOutput::CallBack()**"
      ],
      "metadata": {
        "id": "0Wz9A6eKErlR"
      }
    },
    {
      "cell_type": "code",
      "source": [
        "void ConsoleOutput::CallBack() {\n",
        "    DEBUG(dbgTraCode, \"In ConsoleOutput::CallBack(), \" << kernel->stats->totalTicks);\n",
        "    putBusy = FALSE; #將putBusy設回原本\n",
        "    kernel->stats->numConsoleCharsWritten++; #紀錄已經寫入顯示器的字元數\n",
        "    callWhenDone->CallBack();\n",
        "}"
      ],
      "metadata": {
        "id": "4XOxnk2LEbv_"
      },
      "execution_count": null,
      "outputs": []
    },
    {
      "cell_type": "markdown",
      "source": [
        "\n",
        "寫入完後將putBusy設為FALSE,\n",
        "\n",
        "\n",
        "代表能夠輸出下一個 character, 並再次呼叫 CallBack()\n",
        "\n",
        "在成功輸出後更新已顯示character數目"
      ],
      "metadata": {
        "id": "XkYUO3ldQc84"
      }
    },
    {
      "cell_type": "markdown",
      "source": [
        "####**SynchConsoleOutput::CallBack()**"
      ],
      "metadata": {
        "id": "jDGakZokE3C_"
      }
    },
    {
      "cell_type": "code",
      "source": [
        "void SynchConsoleOutput::CallBack() {\n",
        "    DEBUG(dbgTraCode, \"In SynchConsoleOutput::CallBack(), \" << kernel->stats->totalTicks);\n",
        "    waitFor->V();\n",
        "}"
      ],
      "metadata": {
        "id": "SQNczk7YEx0I"
      },
      "execution_count": null,
      "outputs": []
    },
    {
      "cell_type": "markdown",
      "source": [
        "waitFor->V(): 釋放一個信號, 會喚醒在SynchConsoleOutput::PutInt P() 等待的 thread,讓其他的thread可以執行\n",
        "\n",
        " i.e: SynchConsoleOutput::PutInt P()執行下一行\n"
      ],
      "metadata": {
        "id": "hVY8Zx1hR08v"
      }
    },
    {
      "cell_type": "markdown",
      "source": [
        "###(d) Makefile"
      ],
      "metadata": {
        "id": "m9GLbr5rCSg3"
      }
    },
    {
      "cell_type": "code",
      "source": [
        "nclude Makefile.dep\n",
        "\n",
        "CC = $(GCCDIR)gcc\n",
        "AS = $(GCCDIR)as\n",
        "LD = $(GCCDIR)ld\n",
        "\n",
        "INCDIR =-I../userprog -I../lib\n",
        "CFLAGS = -g -G 0 -c $(INCDIR) -B/usr/bin/local/nachos/lib/gcc-lib/decstation-ultrix/2.95.2/ -B/usr/bin/local/nachos/decstation-ultrix/bin/\n"
      ],
      "metadata": {
        "id": "7RmaQwrP0FpA"
      },
      "execution_count": null,
      "outputs": []
    },
    {
      "cell_type": "markdown",
      "source": [
        " CC: Compiler    \n",
        "\n",
        " AS: Assembler    \n",
        "\n",
        " LD: Linker\n",
        "\n",
        " INCDIR: Header檔的⽬錄"
      ],
      "metadata": {
        "id": "UIwJVUYwTDHF"
      }
    },
    {
      "cell_type": "code",
      "source": [
        "ifeq ($(hosttype),unknown) # 檢查 $(hosttype) 是否等於 \"unknown\"\n",
        "PROGRAMS = unknownhost\n",
        "else\n",
        "# change this if you create a new test program!\n",
        "PROGRAMS = add halt createFile LotOfAdd # 設置program 變數\n",
        "endif\n",
        "\n",
        "all: $(PROGRAMS)\n",
        "\n",
        "start.o: start.S ../userprog/syscall.h  # start.o⽬標依賴於start.S及syscall.h\n",
        "\t$(CC) $(CFLAGS) $(ASFLAGS) -c start.S # -c: ⽣成.o檔,⽽不是經由linker連結成可執⾏檔\n",
        "\n",
        "halt.o: halt.c # 表示 halt.o 依賴於 halt.c,所以每當 halt.c 被修改或更新時，halt.o 需要重新make\n",
        "\t$(CC) $(CFLAGS) -c halt.c\n",
        "halt: halt.o start.o\n",
        "\t$(LD) $(LDFLAGS) start.o halt.o -o halt.coff\n",
        "\t$(COFF2NOFF) halt.coff halt"
      ],
      "metadata": {
        "id": "rKBVYG1s_T_l"
      },
      "execution_count": null,
      "outputs": []
    },
    {
      "cell_type": "markdown",
      "source": [
        "all: $(PROGRAMS)：是一個變數，包含所有要編譯的程序名稱,確保在執行 make 時，會編譯所有列出的程序。\n",
        "\n",
        "CFLAGS: 這是一個變數，用來指定編譯器的flags\n",
        "\n",
        "start.o ： start.S\n",
        "\n",
        "使用compler來編譯件 start.S，並包含 syscall.h 標頭文件，輸出為 start.o,\n",
        "\n",
        "halt.o ： halt.c  \n",
        "使用complier來編譯 halt.c，輸出為 halt.o,\n",
        "\n",
        "halt:  halt.o start.o  \n",
        "\n",
        "將 start.o 和 halt.o 連結起來，生成 halt.coff 可執行文件\n",
        "\n",
        "make 會先將彙編和 C 源文件編譯為目標文件（.o），  \n",
        "然後將它們link為最終的可執行文件（halt.coff）\n",
        "最後，會將 COFF 格式轉換為 NOFF 格式，讓程序可以在 Nachos 模擬環境中執行。\n",
        "\n",
        "其他程式運作流程與halt相似,簡單來說:先編譯為.o檔，由linker連結為.coff檔，再轉換成noff格式檔"
      ],
      "metadata": {
        "id": "nLdK2TGo_XVM"
      }
    },
    {
      "cell_type": "code",
      "source": [
        "clean:\n",
        "\t$(RM) -f *.o *.ii\n",
        "\t$(RM) -f *.coff\n",
        "\n",
        "distclean: clean\n",
        "\t$(RM) -f $(PROGRAMS)\n",
        "\n",
        "# 若host can not be determined, 則透過@echo印出終止信息\n",
        "unknownhost:\n",
        "\t@echo Host type could not be determined.\n",
        "\t@echo make is terminating.\n",
        "\t@echo If you are on an MFCF machine, contact the instructor to report this problem\n",
        "\t@echo Otherwise, edit Makefile.dep and try again.\n"
      ],
      "metadata": {
        "id": "g8zmFp36_Xod"
      },
      "execution_count": null,
      "outputs": []
    },
    {
      "cell_type": "markdown",
      "source": [
        "make clean: 刪除由編譯⽣成的臨時檔\n",
        "\n",
        "make distclean: 刪除Nachos可執⾏檔"
      ],
      "metadata": {
        "id": "L7PKJHDZQjCu"
      }
    },
    {
      "cell_type": "markdown",
      "source": [
        "##2. Implement four I/O system calls in NachOS"
      ],
      "metadata": {
        "id": "ezESDW-ZSFCb"
      }
    },
    {
      "cell_type": "markdown",
      "source": [
        "首先，進到 userprog 中的 syscall.h 把註解拿掉，程式碼如下"
      ],
      "metadata": {
        "id": "J93gHmZQSv8T"
      }
    },
    {
      "cell_type": "code",
      "source": [
        "#define SC_Halt 0\n",
        "#define SC_Exit 1\n",
        "#define SC_Exec 2\n",
        "#define SC_Join 3\n",
        "#define SC_Create 4\n",
        "#define SC_Remove 5\n",
        "#define SC_Open\t6\n",
        "#define SC_Read\t7\n",
        "#define SC_Write\t8\n",
        "#define SC_Seek 9\n",
        "#define SC_Close\t10\n",
        "#define SC_ThreadFork 11\n",
        "#define SC_ThreadYield 12\n",
        "#define SC_ExecV 13\n",
        "#define SC_ThreadExit 14\n",
        "#define SC_ThreadJoin 15\n",
        "#define SC_PrintInt 16\n",
        "#define SC_Add 42\n",
        "#define SC_MSG 100"
      ],
      "metadata": {
        "id": "pxKjMtLBSRTD"
      },
      "execution_count": null,
      "outputs": []
    },
    {
      "cell_type": "markdown",
      "source": [
        "然後進到 test 中的 start.S"
      ],
      "metadata": {
        "id": "RgQxAOTiUPQH"
      }
    },
    {
      "cell_type": "code",
      "source": [
        "\t.globl Open\n",
        "\t.ent\tOpen\n",
        "Open:\n",
        "\taddiu $2,$0,SC_Open\n",
        "\tsyscall\n",
        "\tj\t$31\n",
        "\t.end Open\n",
        "\n",
        "\t.globl Write\n",
        "\t.ent\tWrite\n",
        "Write:\n",
        "\taddiu $2,$0,SC_Write\n",
        "\tsyscall\n",
        "\tj\t$31\n",
        "\t.end Write\n",
        "\n",
        "\t.globl Read\n",
        "\t.ent\tRead\n",
        "Read:\n",
        "\taddiu $2,$0,SC_Read\n",
        "\tsyscall\n",
        "\tj\t$31\n",
        "\t.end Read\n",
        "\n",
        "\t.globl Close\n",
        "\t.ent\tClose\n",
        "Close:\n",
        "\taddiu $2,$0,SC_Close\n",
        "\tsyscall\n",
        "\tj\t$31\n",
        "\t.end Close"
      ],
      "metadata": {
        "id": "-6-3zQLJVHLC"
      },
      "execution_count": null,
      "outputs": []
    },
    {
      "cell_type": "markdown",
      "source": [
        "首先，宣告 .globl 函式名稱\n",
        "\n",
        "這樣這個函式就能在廣域被調用(IBM的聲明文件寫的)\n",
        "\n",
        "然後，宣告 .ent 函式名稱\n",
        "\n",
        "這個應該是用來除錯用的\n",
        "\n",
        "然後設定暫存器2儲存呼叫函式的位置(比如說呼叫 SC_Open 那就儲存 SC_Open 的位置到暫存器2中)，接著使用 systemcall 這樣 systemcall 執行時就能從暫存器2中找到要執行什麼\n",
        "\n",
        "當執行完成後，就跳到暫存器31的位置，根據 mips register table 暫存器31應該是 return address 那就是跳到當初呼叫函式的下一行指令繼續完成其他操作\n",
        "\n",
        "最後是 .end 函式名稱\n",
        "\n",
        "用來宣告函式的末端"
      ],
      "metadata": {
        "id": "TcaptxyXV46Q"
      }
    },
    {
      "cell_type": "markdown",
      "source": [
        "接著，進到 userprog 中的 exception.cc 將 SC_Open, SC_Write, SC_Read, SC_Close 做出來，具體而言就是讓各自功能呼叫各自對應的函式而已"
      ],
      "metadata": {
        "id": "lP6J2xaheglu"
      }
    },
    {
      "cell_type": "code",
      "source": [
        "case SC_Open:\n",
        "\t//首先從暫存器4中讀取路徑在主記憶體中的位置\n",
        "\tval = kernel->machine->ReadRegister(4);\n",
        "\t{\n",
        "\t\t//進入主記憶體取出路徑\n",
        "\t\tchar *filename = &(kernel->machine->mainMemory[val]);\n",
        "\t\t//主要是除錯功能\n",
        "\t\tDEBUG(dbgSys, \"filename: \" << filename << \"\\n\");\n",
        "\t\t//然後呼叫SysOpen()來完成實際的處理\n",
        "\t\tstatus = SysOpen(filename);\n",
        "\t\t//主要是除錯功能\n",
        "\t\tDEBUG(dbgSys, \"status: \" << status << \"\\n\");\n",
        "\t\t//將返回的值(打開檔案的編號)存到暫存器2中\n",
        "\t\tkernel->machine->WriteRegister(2, (int) status);\n",
        "\t}\n",
        "\t//下方應該是除錯用的\n",
        "\tkernel->machine->WriteRegister(PrevPCReg, kernel->machine->ReadRegister(PCReg));\n",
        "\tkernel->machine->WriteRegister(PCReg, kernel->machine->ReadRegister(PCReg) + 4);\n",
        "\tkernel->machine->WriteRegister(NextPCReg, kernel->machine->ReadRegister(PCReg)+4);\n",
        "\treturn;\n",
        "\tASSERTNOTREACHED();\n",
        "\tbreak;\n",
        "case SC_Write:\n",
        "\t//首先從暫存器4中讀取路徑在主記憶體中的位置\n",
        "\tval = kernel->machine->ReadRegister(4);\n",
        "\t{\n",
        "\t\t//進入主記憶體取出路徑\n",
        "\t\tchar *buffer = &(kernel->machine->mainMemory[val]);\n",
        "\t\t//然後呼叫SysWrite()來完成實際的處理\n",
        "\t\tint result = SysWrite(buffer,kernel->machine->ReadRegister(5),kernel->machine->ReadRegister(6));\n",
        "\t\t//將返回的值存到暫存器2中\n",
        "\t\tkernel->machine->WriteRegister(2, (int)result);\n",
        "\t}\n",
        "\tkernel->machine->WriteRegister(PrevPCReg, kernel->machine->ReadRegister(PCReg));\n",
        "\tkernel->machine->WriteRegister(PCReg, kernel->machine->ReadRegister(PCReg) + 4);\n",
        "\tkernel->machine->WriteRegister(NextPCReg, kernel->machine->ReadRegister(PCReg)+4);\n",
        "\treturn;\n",
        "\tASSERTNOTREACHED();\n",
        "\tbreak;\n",
        "case SC_Read:\n",
        "\tval = kernel->machine->ReadRegister(4);\n",
        "\t{\n",
        "\t\tchar *buffer = &(kernel->machine->mainMemory[val]);\n",
        "\t\tint result = SysRead(buffer,kernel->machine->ReadRegister(5),kernel->machine->ReadRegister(6));\n",
        "\t\tkernel->machine->WriteRegister(2, (int)result);\n",
        "\t}\n",
        "\tkernel->machine->WriteRegister(PrevPCReg, kernel->machine->ReadRegister(PCReg));\n",
        "\tkernel->machine->WriteRegister(PCReg, kernel->machine->ReadRegister(PCReg) + 4);\n",
        "\tkernel->machine->WriteRegister(NextPCReg, kernel->machine->ReadRegister(PCReg)+4);\n",
        "\treturn;\n",
        "\tASSERTNOTREACHED();\n",
        "\tbreak;\n",
        "case SC_Close:\n",
        "\tval = kernel->machine->ReadRegister(4);\n",
        "\t{\n",
        "\t\tint result = SysClose((int) val);\n",
        "\t\tkernel->machine->WriteRegister(2, (int)result);\n",
        "\t}\n",
        "\tkernel->machine->WriteRegister(PrevPCReg, kernel->machine->ReadRegister(PCReg));\n",
        "\tkernel->machine->WriteRegister(PCReg, kernel->machine->ReadRegister(PCReg) + 4);\n",
        "\tkernel->machine->WriteRegister(NextPCReg, kernel->machine->ReadRegister(PCReg)+4);\n",
        "\treturn;\n",
        "\tASSERTNOTREACHED();\n",
        "\tbreak;"
      ],
      "metadata": {
        "id": "seJ5UBdbeYG7"
      },
      "execution_count": null,
      "outputs": []
    },
    {
      "cell_type": "markdown",
      "source": [
        "基本上就是參考 SC_CREATE 模仿出來的"
      ],
      "metadata": {
        "id": "dYLd8GsicdiB"
      }
    },
    {
      "cell_type": "markdown",
      "source": [
        "接著進到 userprog 中的 ksyscall.h 去完成上面呼叫的程式，基本上就是呼叫位於 kernel 中 filesystem 之下的具體函式"
      ],
      "metadata": {
        "id": "wtw1QTFTcn5h"
      }
    },
    {
      "cell_type": "code",
      "source": [
        "int SysOpen(char *filename) {\n",
        "  return kernel->fileSystem->OpenAFile(filename);\n",
        "}\n",
        "\n",
        "int SysWrite(char *buffer, int size, int id) {\n",
        "  return kernel->fileSystem->Write(buffer, size, id);\n",
        "}\n",
        "\n",
        "int SysRead(char *buffer, int size, int id) {\n",
        "  return kernel->fileSystem->Read(buffer, size, id);\n",
        "}\n",
        "\n",
        "int SysClose(int id) {\n",
        "  return kernel->fileSystem->Close(id);\n",
        "}"
      ],
      "metadata": {
        "id": "wCfEfnpGjy2X"
      },
      "execution_count": null,
      "outputs": []
    },
    {
      "cell_type": "markdown",
      "source": [
        "最後，進到filesys 中的 filesys.h"
      ],
      "metadata": {
        "id": "1M7kE8y9ewp_"
      }
    },
    {
      "cell_type": "code",
      "source": [
        "OpenFile* Open(char *name) {\n",
        "    int fileDescriptor = OpenForReadWrite(name, FALSE);\n",
        "    if (fileDescriptor == -1) return NULL;\n",
        "    return new OpenFile(fileDescriptor);\n",
        "}\n",
        "\n",
        "OpenFileId OpenAFile(char *name) {\n",
        "    //首先模仿 Open 函式打開檔案\n",
        "    int fileDescriptor = OpenForReadWrite(name, FALSE);\n",
        "    //如果打開失敗則回傳 -1\n",
        "    if (fileDescriptor == -1) return -1;\n",
        "    OpenFile *newFile = new OpenFile(fileDescriptor);\n",
        "    int rfd = -1;\n",
        "    //遍歷 OpenFileTable 尋找空閒的位置\n",
        "    for (int i=0; i<20; i++) {\n",
        "        //如果已經存在則回傳 -1 代表開啟失敗\n",
        "        if (OpenFileTable[i] == newFile) {\n",
        "            if (rfd != -1) OpenFileTable[rfd] = NULL;\n",
        "            return -1;\n",
        "        }\n",
        "        //找到空間則將檔案放入 OpenFileTable\n",
        "        if (OpenFileTable[i] == NULL && rfd == -1) {\n",
        "            rfd = i;\n",
        "        }\n",
        "    }\n",
        "    if (rfd == -1) return -1;\n",
        "    OpenFileTable[rfd] = newFile;\n",
        "    return rfd+1;\n",
        "}\n",
        "\n",
        "\n",
        "int Write(char *buffer, int size, OpenFileId id){\n",
        "    //如果 id 有誤或者檔案大小有誤則回傳 -1 代表執行失敗\n",
        "    if(id < 1||id > 20||size < 0) return -1;\n",
        "    //將指定編號的檔案從 OpenFileTable 取出\n",
        "    OpenFile *opFile = OpenFileTable[id-1];\n",
        "    //如果找不到指定編號的檔案則回傳 -1 代表執行失敗\n",
        "    if (opFile == NULL) return -1;\n",
        "    //調用函式將檔案內容寫入主記憶體\n",
        "    int numWritten = opFile->Write(buffer, size);\n",
        "    //返回寫入字數\n",
        "    return numWritten;\n",
        "}\n",
        "int Read(char *buffer, int size, OpenFileId id){\n",
        "    //如果 id 有誤或者檔案大小有誤則回傳 -1 代表執行失敗\n",
        "    if(id < 1||id > 20||size < 0) return -1;\n",
        "    //將指定編號的檔案從 OpenFileTable 取出\n",
        "    OpenFile *opFile = OpenFileTable[id-1];\n",
        "    //如果找不到指定編號的檔案則回傳 -1 代表執行失敗\n",
        "    if (opFile == NULL) return -1;\n",
        "    //調用函式將檔案內容讀出主記憶體\n",
        "    int numRead = opFile->Read(buffer, size);\n",
        "    //返回讀取字數\n",
        "    return numRead;\n",
        "}\n",
        "int Close(OpenFileId id){\n",
        "    //如果 id 有誤則回傳 -1 代表執行失敗\n",
        "    if(id < 1||id > 20) return -1;\n",
        "    //將指定編號的檔案從 OpenFileTable 取出\n",
        "    OpenFile *opFile = OpenFileTable[id-1];\n",
        "    //如果找不到指定編號的檔案則回傳 -1 代表執行失敗\n",
        "    if (opFile == NULL) return -1;\n",
        "    //將指定編號的檔案從 OpenFileTable 清出\n",
        "    OpenFileTable[id-1] = NULL;\n",
        "    //返回 1 代表執行成功\n",
        "    return 1;\n",
        "}"
      ],
      "metadata": {
        "id": "ZvWyGqLwYf21"
      },
      "execution_count": null,
      "outputs": []
    },
    {
      "cell_type": "markdown",
      "source": [
        "##心得\n",
        "\n",
        "林群佑:  \n",
        "\n",
        "在這次作業中我遇上蠻多的困難像是在本地運行 NachOS 系統，雖然最後還是放棄本地運行，使用伺服器環境較為完整不須太多額外調整，然而在最後寫出程式時，還需要花很多時間去 lib 尋找具體要呼叫哪個函式來完成最終的動作也是不太友善，總之最後的引導希望可以多一點，\n",
        "\n",
        "刁一平:\n",
        "\n",
        "首次trace如此大量的code讓我感到overwhleming, 很多時候都要一行一行慢慢看\n",
        "然後跟著function一直跑來跑去, 也了解到一些同步class的機制像是lock 跟semaphor中的P()與V(),雖然過程辛苦，但能夠理解system call的運作，不過我開始擔心後面的作業是否能夠負荷"
      ],
      "metadata": {
        "id": "5bRJ7aExsBI2"
      }
    }
  ]
}