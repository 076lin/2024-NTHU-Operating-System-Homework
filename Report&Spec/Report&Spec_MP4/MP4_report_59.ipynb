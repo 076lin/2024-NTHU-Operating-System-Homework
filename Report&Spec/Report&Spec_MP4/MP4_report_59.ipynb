{
  "nbformat": 4,
  "nbformat_minor": 0,
  "metadata": {
    "colab": {
      "provenance": []
    },
    "kernelspec": {
      "name": "python3",
      "display_name": "Python 3"
    },
    "language_info": {
      "name": "python"
    }
  },
  "cells": [
    {
      "cell_type": "markdown",
      "source": [
        "# **MP4_report_59**"
      ],
      "metadata": {
        "id": "OcSYgD-5hUFK"
      }
    },
    {
      "cell_type": "markdown",
      "source": [
        "##組員與分工\n",
        "\n",
        "組員: 林群佑, 刁一平\n",
        "\n",
        "|      工作項目      |      分工     |\n",
        "|:------------------:|:-------------:|\n",
        "| Part I report (1)(2) |     林群佑    |\n",
        "|      Part I report (3)(4)(5)     |     刁一平    |\n",
        "|      功能實作與除錯      |  林群佑   刁一平    |\n",
        "|      實作 report     |     刁一平    |"
      ],
      "metadata": {
        "id": "6xjW9XvGfmrU"
      }
    },
    {
      "cell_type": "markdown",
      "source": [
        "## Part I. Understanding NachOS file system"
      ],
      "metadata": {
        "id": "HrW_sZLwhfEi"
      }
    },
    {
      "cell_type": "markdown",
      "source": [
        "### (1) How does the NachOS FS manage and find free block space? Where is this information stored on the raw disk (which sector)?"
      ],
      "metadata": {
        "id": "uWeh7JM7hk2q"
      }
    },
    {
      "cell_type": "code",
      "source": [
        "FileSystem::FileSystem(bool format)\n",
        "{\n",
        "    DEBUG(dbgFile, \"Initializing the file system.\");\n",
        "    if (format)\n",
        "    {\n",
        "        PersistentBitmap *freeMap = new PersistentBitmap(NumSectors);\n",
        "        Directory *directory = new Directory(NumDirEntries);\n",
        "        FileHeader *mapHdr = new FileHeader;\n",
        "        FileHeader *dirHdr = new FileHeader;\n",
        "\n",
        "        DEBUG(dbgFile, \"Formatting the file system.\");\n",
        "\n",
        "        // First, allocate space for FileHeaders for the directory and bitmap\n",
        "        // (make sure no one else grabs these!)\n",
        "        freeMap->Mark(FreeMapSector);\n",
        "        freeMap->Mark(DirectorySector);\n",
        "\n",
        "        // Second, allocate space for the data blocks containing the contents\n",
        "        // of the directory and bitmap files.  There better be enough space!\n",
        "\n",
        "        ASSERT(mapHdr->Allocate(freeMap, FreeMapFileSize));\n",
        "        ASSERT(dirHdr->Allocate(freeMap, DirectoryFileSize));\n",
        "\n",
        "        // Flush the bitmap and directory FileHeaders back to disk\n",
        "        // We need to do this before we can \"Open\" the file, since open\n",
        "        // reads the file header off of disk (and currently the disk has garbage\n",
        "        // on it!).\n",
        "\n",
        "        DEBUG(dbgFile, \"Writing headers back to disk.\");\n",
        "        mapHdr->WriteBack(FreeMapSector);\n",
        "        dirHdr->WriteBack(DirectorySector);\n",
        "\n",
        "        // OK to open the bitmap and directory files now\n",
        "        // The file system operations assume these two files are left open\n",
        "        // while Nachos is running.\n",
        "\n",
        "        freeMapFile = new OpenFile(FreeMapSector);\n",
        "        directoryFile = new OpenFile(DirectorySector);\n",
        "\n",
        "        // Once we have the files \"open\", we can write the initial version\n",
        "        // of each file back to disk.  The directory at this point is completely\n",
        "        // empty; but the bitmap has been changed to reflect the fact that\n",
        "        // sectors on the disk have been allocated for the file headers and\n",
        "        // to hold the file data for the directory and bitmap.\n",
        "\n",
        "        DEBUG(dbgFile, \"Writing bitmap and directory back to disk.\");\n",
        "        freeMap->WriteBack(freeMapFile); // flush changes to disk\n",
        "        directory->WriteBack(directoryFile);\n",
        "\n",
        "        if (debug->IsEnabled('f'))\n",
        "        {\n",
        "            freeMap->Print();\n",
        "            directory->Print();\n",
        "        }\n",
        "        delete freeMap;\n",
        "        delete directory;\n",
        "        delete mapHdr;\n",
        "        delete dirHdr;\n",
        "    }\n",
        "    else\n",
        "    {\n",
        "        // if we are not formatting the disk, just open the files representing\n",
        "        // the bitmap and directory; these are left open while Nachos is running\n",
        "        freeMapFile = new OpenFile(FreeMapSector);\n",
        "        directoryFile = new OpenFile(DirectorySector);\n",
        "    }\n",
        "}"
      ],
      "metadata": {
        "id": "e-rNssecfVXy"
      },
      "execution_count": null,
      "outputs": []
    },
    {
      "cell_type": "markdown",
      "source": [
        "我們可以進到 filesys.cc 觀察 FileSystem::FileSystem 函式一窺如何格式化硬碟，進而了解 NachOS 管理空閒區塊方式\n",
        "\n",
        "首先 NachOS 使用 bitmap 來管理磁碟的空閒區塊，而 bitmap 會在檔案系統掛載時被載入記憶體，以便快速查找空閒區塊"
      ],
      "metadata": {
        "id": "ZnuVVGwehqni"
      }
    },
    {
      "cell_type": "code",
      "source": [
        "Bitmap::Bitmap(int numItems)\n",
        "{\n",
        "    int i;\n",
        "\n",
        "    ASSERT(numItems > 0);\n",
        "\n",
        "    numBits = numItems;\n",
        "    numWords = divRoundUp(numBits, BitsInWord);\n",
        "    map = new unsigned int[numWords];\n",
        "    for (i = 0; i < numWords; i++)\n",
        "    {\n",
        "        map[i] = 0; // initialize map to keep Purify happy\n",
        "    }\n",
        "    for (i = 0; i < numBits; i++)\n",
        "    {\n",
        "        Clear(i);\n",
        "    }\n",
        "}"
      ],
      "metadata": {
        "id": "GcE0dQBgj50N"
      },
      "execution_count": null,
      "outputs": []
    },
    {
      "cell_type": "markdown",
      "source": [
        "進到 bitmap.cc 可以看到， bitmap 初始皆設為 0 故可以得出以下結論\n",
        "\n",
        "* 0 表示該區塊是空的，可以分配\n",
        "* 1 表示該區塊已被使用"
      ],
      "metadata": {
        "id": "6_9po9dUj5R-"
      }
    },
    {
      "cell_type": "code",
      "source": [
        "int Bitmap::FindAndSet()\n",
        "{\n",
        "    for (int i = 0; i < numBits; i++)\n",
        "    {\n",
        "        if (!Test(i))\n",
        "        {\n",
        "            Mark(i);\n",
        "            return i;\n",
        "        }\n",
        "    }\n",
        "    return -1;\n",
        "}"
      ],
      "metadata": {
        "id": "6gMKVPTqnaCU"
      },
      "execution_count": null,
      "outputs": []
    },
    {
      "cell_type": "markdown",
      "source": [
        "當需要新的區塊時，系統掃描 bitmap ，找到第一個為 0 的 bit ，將其設為 1"
      ],
      "metadata": {
        "id": "8Yf2A6d1ndxC"
      }
    },
    {
      "cell_type": "code",
      "source": [
        "#define FreeMapSector 0\n",
        "#define DirectorySector 1"
      ],
      "metadata": {
        "id": "bgjrAyFOgBIZ"
      },
      "execution_count": null,
      "outputs": []
    },
    {
      "cell_type": "markdown",
      "source": [
        "由定義我們可知：\n",
        "* Sector 0 為 FreeMap 的 file header 存放的地方\n",
        "* Sector 1 為 Directory 的 file header 存放的地方\n",
        "\n",
        "而理論上來說，接下來就會分配空間給 FreeMap 所以， FreeMap 應該是從 Sector 2 開始儲存"
      ],
      "metadata": {
        "id": "yqPrX5K1gLNg"
      }
    },
    {
      "cell_type": "markdown",
      "source": [
        "### (2) What is the maximum disk size that can be handled by the current implementation? Explain why.\n"
      ],
      "metadata": {
        "id": "oZ9rgQWGrjS_"
      }
    },
    {
      "cell_type": "code",
      "source": [
        "const int SectorSize = 128;\t\t// number of bytes per disk sector\n",
        "const int SectorsPerTrack  = 32;\t// number of sectors per disk track\n",
        "const int NumTracks = 32;\t\t// number of tracks per disk\n",
        "const int NumSectors = (SectorsPerTrack * NumTracks); // total # of sectors per disk"
      ],
      "metadata": {
        "id": "BGx1fl9QyWJx"
      },
      "execution_count": null,
      "outputs": []
    },
    {
      "cell_type": "markdown",
      "source": [
        "在 disk.h 裡，這段程式碼定義了 NachOS 模擬磁碟的基本參數，用來描述磁碟的結構與容量\n",
        "\n",
        "1. SectorSize : 每個 sector 的大小是 128 Bytes ，是磁碟的最小存取單位\n",
        "2. SectorsPerTrack : 每條 track 包含 32 個 sectors\n",
        "3. NumTracks : 整個磁碟由 32 個 tracks 組成\n",
        "4. NumSectors : 總區塊數 = 每條磁軌的區塊數 × 總磁軌數。\n",
        "在這裡：\n",
        "NumSectors = 32 × 32 = 1024\n",
        "表示 disk 總共有 1024 個 sectors ，因此 disk 的總容量為：\n",
        "\n",
        "  NumSectors × SectorSize = 1024 × 128 Bytes = 131072 Bytes = 128 KB"
      ],
      "metadata": {
        "id": "F1atcyYFyXWR"
      }
    },
    {
      "cell_type": "markdown",
      "source": [
        "### (3) How does the NachOS FS manage the directory data structure? Where is this information stored on the raw disk (which sector)?"
      ],
      "metadata": {
        "id": "O-ZMwjlL1C73"
      }
    },
    {
      "cell_type": "markdown",
      "source": [
        "NachOS FS 把 directory 當成一個 file 來管理，有 header 和 dataSectors\n",
        "\n",
        "Data 是 Directory ，用來記錄檔案名稱和檔案 fileHeader 位置"
      ],
      "metadata": {
        "id": "u4dchk97COIr"
      }
    },
    {
      "cell_type": "markdown",
      "source": [
        "\n",
        "FileSystem 的建構式負責初始化檔案系統。若需要格式化，會建立一個包含 10 個 DirectoryEntry 的 Directory，並配置對應的 FileHeader\n",
        "\n",
        "Directory 大小為 200 bytes，需要使用兩個sector來儲存。dirHdr 被寫入的第 1 號sector，而 Directory 的資料則分配到第 3 和 4 號sector，最後開啟 directoryFile，將變更寫入檔案。如果不需格式化，則直接從第 1 號sector開啟 directoryFile\n",
        "\n",
        "FileSystem 提供了幾個主要的方法來管理 Directory：\n",
        "\n",
        "Create ：\n",
        "用來創建檔案。它會先檢查 Directory 中是否已有同名檔案，若有則創建失敗。接著，會從 freeMap 找到可用的sector，分配給檔案的 fileHeader 和資料。如果檔案超出容量限制（最多 10 個檔案）或sector不足，創建失敗。最後，將更新的 fileHeader、Directory 和 freeMap 寫回硬碟\n",
        "\n",
        "Open ：\n",
        "用來開啟檔案，從 Directory 中尋找檔案的 fileHeader 對應的sector\n",
        "\n",
        "若找到，會返回開啟的檔案；若找不到，則返回 NULL\n",
        "\n",
        "Remove ：\n",
        "用來刪除檔案。它會從 Directory 中確認檔案是否存在，然後釋放檔案的 fileHeader 和資料塊，並將它們歸還到 freeMap。最後，將更新的 Directory 和 freeMap 寫回硬碟\n",
        "\n",
        "List ：\n",
        "從 Directory 中讀取所有已使用的檔案條目，並列出這些檔案的名稱。\n",
        "\n",
        "Print ：\n",
        "負責印出檔案系統的詳細資訊，包括 freeMap 的狀態、Directory 的內容，以及每個檔案的 fileHeader 和檔案內容。"
      ],
      "metadata": {
        "id": "ME0wVkUbhQcl"
      }
    },
    {
      "cell_type": "markdown",
      "source": [
        "###(4) Explain what information is stored in an inode, and use a figure to illustrate the disk allocation scheme of current implementation."
      ],
      "metadata": {
        "id": "SbPzrsAXJl2m"
      }
    },
    {
      "cell_type": "code",
      "source": [
        "\tint numBytes;\t\t\t\t// Number of bytes in the file\n",
        "\tint numSectors;\t\t\t\t// Number of data sectors in the file\n",
        "\tint dataSectors[NumDirect]; // Disk sector numbers for each data"
      ],
      "metadata": {
        "id": "HqwBvOTmKG_z"
      },
      "execution_count": null,
      "outputs": []
    },
    {
      "cell_type": "markdown",
      "source": [
        "透過 FileHeader class 中的private memeber可以看到 inode 所儲存的相關資訊\n",
        "\n",
        "其中numBytes 為檔案的大小，numSectors為檔案使用sector的數目，\n",
        "dataSectors[NumDirect]為每個dataBlock在哪個sector\n",
        "\n",
        "由此可知 Nachos 使用的是 **direct index** scheme"
      ],
      "metadata": {
        "id": "zlZXZE5pKOlW"
      }
    },
    {
      "cell_type": "markdown",
      "source": [
        "![2024-12-29_164925.png](data:image/png;base64,iVBORw0KGgoAAAANSUhEUgAAA9oAAAHVCAIAAACBvBTsAAAACXBIWXMAABJ0AAASdAHeZh94AAAgAElEQVR42uydBUAU2xrHvSp2d2FhN7ZigK2ADYiAgYGKSCNggwqKKCoqIS2IIlxBlJRQxCCU7u5GECS979s9MI4zy7Ig1vP87//tO85O7ezszG8+vvOddvfUH/hZB3gYeT8z9PxjfNPT7ZaXp5HPcxN/H9MXfmYBLywCX1q+htcAqzevbYPe2YcGP/zgftvb+LjZGQktxY2qR9crKG5S3c23j3/Eyrl9FiwfvkJw4iYRXvF9y2Tk1isqb1JTFFZRFGrOwioKgsrHNijBIsjH4HWdguxa+SNrjsmSvVa+WR9tudGCsK3Da+QIH1p9VGa17MHVRw6uYnp1g2FimxvWf2Dl4QMrDu9fcQgZtaX5D+5dfkB6+UFo/FDv45fZJyADjT3L9u9eug9ekaG9i09aim8ve8M8u5a03rAV+Jgic8RXjV7LN2TZsuEC8wcsmtJ52pJhy2HHVLaoH12noHvgivst7/B/o+EMfGMXHGD95qXVa+QXloF+5gFwunqb+ME8T296/Ek/OmxsbGxsbOw2tZeJj6/lSwuFe+0K0gr/+2NVXlNWWF6QnJUUFvshJDI4PC4sMOSVs/tjR9dHHn4ej90eG1kYXTK4pHNVB3z5+mX1M+pS+6S27tgqKS1x8OhBeZVjmmc1z1/SvnTtkq6+jg7NuhRf1YWJF/QunL98/gJY7wJqa1/S1tLVQtZmvp7TOXf24tlzjYb2mQtnzpw/zXhl+vT506e0T9F9muLzp78xc56T2idPajX4hNYJpjU1z2kQ1jinrnGWYfWzx9Er8vGzasfPqKFXtTOqyKpnVMDEP9lb9bQKWOWUMtnKJ5WUTigqaiqAoYHaChryZMurHzt2XI5iObWjnJuy4FFVWVmVI2QfVjpE8SFFGRmFg2QflD8APnBsP+H9cvvYmzwzLAvrlDooKSwqtFp41brNawU28M9fNm/tpjVHlA6rnVY9rHjohLamlb0lnIR2jrb/PnMKCHoZGhUaFP4uNCokMiEyKTMxsyCj9r+a/7CwsLCwsLCw/vsv5UNaO/jfb7VPX758oU+sr69PTEz09fV1cXFxdHR84vLk4cOHxsbGN27cuHPnzlX9q6dOnjqudhxe5Y/Ji24X3Si0UXyH+IF9B+Rk5U6on7h4XufK5SuXdC7pXdIzuGpwA/67aqCvp693iTFR96KuzgWdi+cvIl/QvkD4vNZ5sPY5bcJoCsXkRdBS5EXAWme1zp05R/bZ02fPnDpz+uRpeEWG9qkTp05qniT7hMYJTXVNwvBPlj6pcZJhtJQGcykNTfKCGuoaYPXj6sjHG6V2XO2r1dRU1VTBKmoqDVZVUVZVZlqJaWWWVlFT/roI0zBRSUWJbEVlRQUlBXlFeXhFhvYxhWMsLScvd/TYUWTUlpWTPXL0CGH4J93EIoQpSx2WPQw+dOQQYZnDMgcPHaT4gMwB8P6D+wnvO7APWXq/NBimwIJoDbBC2Mph2UPwrtRuKXGJHcKbhAVWCsxfMJ93Du9y/uU7xHccOHBg79698Cp3TE5ZRRmOqo6ujpW11ePHj+FkfvbsWWBgYFxcXE5OTm1tLec/CiwsLCwsLKz/A0X6Rv92OA6qq6vLzMoMDg72YQoarq6uF85fkNgpsX7d+uXLlq9asUpYSHiH2A65o3JAulevXAW2BgNzQxto++b1m9evXQfmBqN34S0wmo1u9C7A+mXdywDo6BVhOpnU6bxO5m+WpM6S2ukEjybCZwFMJyM7YnR4RabzOkJ2ZEDwpnidNb6T3LAGJrirq6uj1wZeb8T0b2BdlcLrzftbaqcSPBnlEbuDoYHaiNHJbgq+WZJ6s+BOWQkCdwLfEbUjTCdM5nUC2aEBb8HMiNehAfi+R3rP3n17kXdK7ty4eePSZUtnzJoxcdLEqVOn8vPzS0pJwnHWPq9tamrq7Oz89s3bmOiYpKQkYPTc3Fx8ncLCwsLCwsI4/kNUX19fWVlZWloKwJGenp6QkBAVFRUXGwftV69eXb9+XUxMjHcW74TxE/gW84mLiasoqehf1r9z646ZqZnxHROj20bQNrxhCNgNwE02e+ZukVmuBME6MrSB2hGjN4vsrTB9JQjTCWonouxA6mTTqZ1gdzLBtwjc0ZSGQDsSM9BO4fUGaldVoZhzcGeF8k0iO6J2eUV5xOjskR0Bd0vdFLITAXJE3ux5HSE74nUE64dlv0bot4lsW8S3aPSY0QMGDpg+fToAuryC/N69e89pnfPy9kplKjMzMzs7Oy8vr7CwEH47+PqFhYWFhYWFcbzF/F1eXg4kkV+Qn5iY+ObNm6dPnzo8dDC8aXjy5Mndu3ZvWL9h9arVW7dslTsqp3dJz/yuOZA32NTYFMH3rZu3gL/phumE4Z83r9+8YXCDbBQpv6Z/jTAbcP9+aieQHV6RoY0C7YRZIjuZ2ltE8PRQvdZZLcIEwROJMU3lxrSI1NnH2lFujMZxDYaZbRRoZ4iZG9MQaFdtDLSTMmTI7M45xzeF7CjETmTLNJUV07bUzibKTkmMQaSOGB1mO3KUMSdM2bVn146dYqvWrJoxa8bCRQt3SuxUUVE5eeqkjo6Ovr6+o6MjPL4WMwU/q+rqapzQgoWFhYWFhXGcNYJXVVWhjNi4uLjbt2/v2rVr7dq1fHx8AgIC0nukAV7vWd+zMLMA7L5rchfIG2xiZGJ8xxgh+G3D201ReNsaQTyR4oLwnZzo8kPNTGTXQxkyYBR6B2pvdVi9pTF4lCpDhNvJQffWMXrrDCivqaGJ8mRAKNMd2B3h9Y82GeIB3FGmOxF3bwWgt8JE3J1IT0ehdyIfZvfeXWLioitWrpg6bSpgurS0tKGhoaenZ3JKcmlpKfzWAM3hFdM5FhYWFhYWxnHmBiIj1dTU+Pn5165ZK7pd9MihI9rntIGwLc0tEX+31ADriNQJs4ma/yBqJyM7ovafg+wou51AdsI/jdpR0J0eZf+ZvE7kuJM7pKKEme/Mh+HcqGcq4nVkFGj/ObyOkJ3gdWjv2rNLUFhw6bKlixYt2rB+g4yMjJ2dHU46x8LCwsLC+utwvLCwMDQ09NmzZwYGBgqKCnul9x4+cvjEyRPXrl0zNja+fes22OiOkYkxMPVdlIXSChznhNdRcB1RO8HuRKAdvbY5wQOmg+nIDg3URoF2coI7wusfgexEdjsKtBPUTuS4f086e1OkTq48Aw16jjuR4E50SyXqxrQZpmtoEv1ZychO1JOhd0ttrBvTZqRORnYiu53Ik6Gntrctne87sE9SSnKnxM7de3bvP7D/0OFDZ8+dtbKyCg8Pr6urw5c8LCwsLCys/wccJ/8RvLa21tvbW1ZWVkBAQFhYWPao7LXr1yysLG7duQVEesPwxm2j26ZmpuaW5mYWZgybm901v9tgs0YT/wSZ3v0qU4TXbYbp7A0Qj6idMJEng1CbDNyt5nU2RuUXiex2RPAIr8n+Hkxnb9QtlZ7gTqft70R29tY6q4WC7uR6MpSCj60meMTrVKN1MtsozZ1RUOY4KcddVUVZhaj2qNRqfKcUf2RpFHenJ7iTizayyVxnVl08jJLUUTL6gYMHpHZJbdq0acXKFfv27TM3N09ISGDzo8bCwsLCwsL6HXGccreurKx0d3fX0NDYvn371m1bAVaYxUXO6+nr3TG+A/DdaAaCA2oDkX+lcM5txspkWCfcpsF1OqYTJjLaKdROp+22QnZyh1QUdEcZ7eQ+qSxRuw2pneiQSqn/yJLXfxC4k3umohx3eglIOrI3ULt6i2PwdFhH9WQIo0A70TO1CWRX+p4oOx3Tm+qTSuF1CqMDkTM6hu7etWPnjp0SO/dK7z1y5IiCooKhoaG/v39JSQm+DmJhYWFhYf0x0fGoqCg7Ozu9K3qaJzRPnjypoakBFHLhwgUg70eOj+wf2tvet7WxtbGytrK0siTbwsrC3KIhQA4NRtu8AdPJbmNkN2XlVjE6ObWmqcg6So9hQ+3k8i9EqgwnEE+vG0NHdpQSQy4jQ6kkQ3RLpZda5wTi2SxCJnWC1ylRdmSWNWRYBsg5rx7DZqAlMDnHnVJMhigHSWS2cD7c0tdFSMhO4XWiN6oaSZT6j98OsdQ8xBMVY1iOskSQOpEkQyA7NGAizAbgfkDmwK49uySlJKX3S8Nb8Fs+p3XO3t4+Pj4eXxCxsLCwsLB+Fxwnx8LLysq8vb3PnjmrqKhoaGh4+87tU6dPga/fuG5zz+ahw0MA8fv2923tbIHU7e4zDG3wPdt7ZMPMFFvbWFsButtYIwPEM6j9a2TdnIist57azdgaiU3Q3bRlvE6YJbiTo+wEtZNNJLgTZsnfnCB7s4F2AtzJJorJ0BPcOeT1ppCdHmUnCJ5uyiCpTQXgOanRznJ4VHqgneVoqeQK7ix4XZ2jGu2UsVFZUnvDUKnkOu7Hm0pwbwbZKXUem0qPQW8Bix88dHD33t2SuyShoaGhoaure/XqVZcnLmlpaTh9BQsLCwsL6xdHx2tqat6/f+/k5GRtbX327FlJScmDMgeNjI2euD557PzY0ckRQNz+gT2AOOJvCnwjImdvxO6EYYqNLYnXbW2s7zEY3dLaEgwN1CYhuxmRks4q0E72d4Tb6fqOoLuZidlXm5rRIZ5M7UQ6O6WMDNEhtaXIzjnE00u2U4o/UkZc4hDZORlliVgbgexEUjulmAxl6CUOkZ0TiKeAO9EnlTB93CWWyM5JegzrsVFp4XZqGRkarzfG2luQKgNLqR5XVVNXU9dUBzTfvWe3iKjIdtHte6X3wjoByqurq5t6SsfCwvprhS8FWFg/BMeT36eSJxUWFgKI29nZXbh4ATAAXk3vmgKFe3l7Obs4P3J85PDIgWzg8gcPHwCaI6M2YDrFRNSc7GYJno7s9+zuIWoHWEevKLLOoHZSboyF5TeBdnJfUmQE3zSC/+6M9h+TJ9MUstMTY4g2OcpOgDu9nkzr4u4seZ0+yhJLcG82VZ3DgZbYJ7XTQ+xkameTqs45shOwTq7XTsmNaXa0VHqqTLPgTizCOjemsQcqkR5DHy2VhuYMcAc0P65xXOOE+mHZQ1u2bZHeL339xvWnT5/6+PokJSbV19fjOzEW1t+murq6iopPWVmZkZERcXGxpY1dTcrLy+NiY2FidlYWzPA7VG1ieWnC1yusPzI6npKSYm9vf+bMGbhnnzl7xsjYCGj7sfNjlycuTv86AYiDHZ0c6YZ3yYYpiNrRIqiNqJ1sguCREbKz4O/mYu1NLUXOkyGonTAKtH91I743UHujOQ+rm1k0vKJG88jOBtybI3gUX2fJ62Rqp+TJUOq108vIkKmdguCcR9np0XqWUXZyrJ19jjuZv1s6NiqB7ES2DMuq7YDp5M6p9AFTWxFlp0fricQYeqCdUkaGDbU3H2hHiyBqV2+gdnKqDCXQThR/JPBdQ1Pj1JlTB2UOLudfzreET1xc/JrBtddvXsMNGF8xsbD+KpWXl0VGhsFFfPOmjfv3S/v5+qDpwcFBYmKiK1cKXLt2JSz8ffmn3+LiUFtbW1pakpAQHxgYEPbhPb5kYf1hOJ6fUAit0A8h2traK1eu3LR5k7mFecCrADd3N2cX538f/wuEDa+E6fDNoSkL0teDqB0Z2oDsiNEpUXY6fHNoIrudNcHbNYA7ymiH129zY1jAeot4nROab6B2MsG3UZSdDbuT890pSe0s09lbwetNgTtLw2zkvHZU/5FStZ2O7N+ZIUOHeJTIjhr0QDtL+OZ8DNSmTMTdEbUT7A7Uzj7K3qKRmMhRdkq2DFoPILumhuYp0MlT0FZWVlZQVDC9a5qUlIQvmlhYf4+Kigp9fDylpHa2a9du2NChVpbmX+oZY2y/fftOSEho/vz5OjoXQkODy8rLfoe9BRYPfP1SVVWBh2eUkOD6yIgI/A1i/Uk4Hh+U+C787R7pPTvEdwDvvgt65+Xt5frU9emzp8/cnlEME5+4PnF54kKYQPZmabsVZo/syIjaWZJ666i9KXxHQXfE64QZyM6MrNNJvc3B/Rtkv/stspv8qMqPLFNlKD1QmyL1VlM7JwF4SldUAtmbpe1WmCWys+x+yga1v2fcJfpK6Ent5LoxbNyiMu2oBI2yovK+vfsV5RVv3rjp7++flZWF/wSMhfX/p+rq6rKyssLCwoKCAhRaLizMf/HCR0Zmf5cuXcaNG2d7z6ayoryurpa+LFwT6uvra2pqPn+uJLqdQOMTU58/fyYS3tDcaFtFwPuFBcVFRdCurqlhv3uwcpgNZobdgwXLy8tqvu3fkp2d9cTVWUR0Ozw8TJ06FS5WaDpsmnzJgjbsT2lpaQFD+SUlJbDPsPv0T1RXVwf7WVFRUVVVRSxYxtDHT5/Kq6o+w3R4FyY2lSpTW1sL76J5vjkCWFh0HJcRO3zu8llAvcfOj4HC3dzdEHa3yE0hOzRQG1YO1A6vyIjgKcDdOmSnsDuRKkPObicS3IHaidT2NkH2psAdlY6xsflaRoaR1A7/EQnulhaI0X9ErL3J3JgfVq+dXA6Snt1ODrTTR1lqQ3ZvCtmJhBl61XaE19+P7PSikOyz28lV29sE2cnrIXLiiex2ItMdpceQE9wRo7NBdiBywP1jssc2b9wssVPi4sWLvr6+cDvEF1AsrP8PAWDGxcU+fuykp3dJUfHYMbkjFy+e//dfJ1/f5y4uTocOHejatcv48ePhzlZTwwDTnJwce3t7M7O7AQEvc3NzADph4sePpWFhH5ycHD083GFiWlrKv/863rljaGlp9vKFP+Av2lZxcXFEeATcqOESrH5cVUlRXkNd7fLlS0+ePElLSwOIpe8erD8pKfHp0ydwvdbUOK4gf1RFRfHq1StAEwnx8YiGAevd3d00NdV5eWcBjg8fPlxJScnNze3Dhw/wgIH2EAQAHhoaYmdne+HCeXl5uWNysnBZtLGxCg4Oys/PJ0M1oDbwvb+/n5mZ2cOHD1NTkxMT4+7fv3f5ss61q5ftbK0DA1/5+fubmpo+euSQmZnB6m8LRYGBgY8ePYLFX716RRwBLCzWOP7Q2PFN6Bu4v3p5eHm6e3q4eyC7u7kz8PpZi9G8FYYNwZMAirUjI4L/fkbn3ADxBLgT2e3fiektAPr7dvds76Fwe0MxGRtG5ce2ZHQOe6nS2d3k5xmAHmienOYObVS1/Tvj65yPxETJdCdT+482ywR3omT795A650APEE/ulori7gjT4Z/ycvKi28VUlFXgypCXl1fTXEALCwvrd1ZdXV1JSampicnUKZOBYgcN7M87a8aqlcsXLpg3cOCAMWNGbd0qJCDAB29NmzYNboYIl728vEePHt2pE9cR2UMBr15WVFbAxKTE+BvXr/IvXzaOZ/TqVcvnzZ0FM/Tp02f9urWWFubFRUVf/vsSEvJOVVWRm3s4rJB7xNBFC+esXbNi3lzeHj26d+3SadLEsSdOqCUmfjMGwuvXr3bt2jlwYN+uXToPHjRwCd9C2L0Z06f27dMbVsK3eDGwQnp6GiCMsrLCyFEj25E0ZcoUbW3tqKjo+vr60tKSp0+dYVX9+vVlfJypU9auWSW4Ye2smdM6dGjfq1fvdWvXAVtnZmY2wnShn99zeBTp06d3l65dNm0WFN64AdpcXB2nTZ0od/SQg4O9trZW7969Bw8edOnShaSkuMrKSvKeA4KvX79u/HievXt3PXr0ID8/D59vWOxw/IGRw+uQ14Djzz2fN2tvD28Gqbu7k6kdeNr1metPoHZAdiB1wHSC2lHVxab6mLY5r1P6pFJKPf4EakejLAGmW1pbIGqHduvHPW2TuPvP5XWipjsKt5O7pSKY/jnITq//+HN4nSWyU4ZH/aG8rnVWCwAdGleuXIGnaBwjx8L6oxUbG3v27Bm+xQsnADXu2RUaGoqml5d/zMxMvX796vjx4xDazps79+GD+wjHvb29eXh4unbtInv0yKvABhxPS026pHuBh2cszDx61PBDMvueuroUFRYQkOri8njOHN7OXbiWLF2sf1WPGHqssLDgQ1iourpa3759Bw0aCI/+UVERaPq9e1br169u3779qFEj4fKXkBBbUlKMlvL399u2dcu4cWNWreI3MNDPzc2pqKgAHtkhLgbzz5wx08/Pr/GRo7biUzncq8aOHdu9R7edO0UfPbLPyEhH72ZkZLg+cd0ltbtH9x5jxoy+evVyRkYKTP/0qfzlS19Z2UOwS/CJRo4cJisr4+PjXVGBcm/q6utrra0tubm54d3VqwUsLExzcrLJx/axsxPs9uhRI+/ZWFZWlMMi+HzDYofj9nccAoMDfX04wvEGKPf0JrcZ9mCa2W6Isrt5kJHdzc3tmzR0ZtAdIJ5szqGc3KYbpccQyE6AOyXHnYBsNkVjmgV0upsqI0NPj2ldvfaGpewabXuPPuIStYwMMzcGjYdKuDHu3vJSj5yH2E1/bJIMQDm5zXKoVJZV29kPdNo6QG9qtFR6JRl6GnrrqrazKRbJvowM+wow7IEeFof1qCiriIqIamtrp6Sk4MsoFtafK0dHh4kTJ/Tr1/fYsaMvXviXlX3TKTM8PExFRZl7JIM4p0+fZn/fthHHn/PwjAMcPypHxvFkLa0z/fv3mzBxwoMH96uqPtc3FkAsKCh49sxVXFy0fft/pkyZAvd/+p5ERUfu3i05Zgz3nDkzz58/9/FjCWx95QoBro7tJ0zgAViPjY0hz//xY+mbN4FGRobHjyuZmtwBTK+prfHz9929R6pDh/azZ88mHi1SUpJv3jRYsmRh+/bt5s+f6+HpTt86EMriRQs7cbWfMmUifIqcnByYGBj4QkZmf48e3YcMGXzm9MnwsPefvq0hExISfPDgvqFDB3fp0nnzls3vP7wnIuu+vs8VFY9Nnjxh65ZNHxqnY2Gxw/F/zZ3fR70PfBX4wveF33M/wr7evj5ePigiTnYrkd2DhQHcwUQbgTvDTAHBNwB3y5GdTvDsTRA8ObsdTMfuVkfWm2J3oiIkKiZDKf7YamRniFV992/A3dYGGUE8UUwGGY21REH27wrDm3FsAt9JAXhT47ZHdnIhSKJNLwFJp/a2QnaiECTRpldwbytqbwrc6eUg6TnuBLIDvsO7CscUhDYInT51Ojc3F11KcOdOLKw/S9VVnzMzUuHpvE+fPkOGDLl2VT8jPRUYmjxPXl6ui7OTmOi2jh07Tpgwwc7Whg2Op6YkXjh/bsTwocuWLnn//hsAjYmJPnlSfdq0SV26dAGyHzho0JgxY0aNGjUSPHLU6NFjYG2DBw9uD7zMlIDA8qCgt56eHuPHj4OJmzdvsre3z8/PJ68TdZQEPi4oyEdPEUXFRcATu3ZJAo7z8s4OCgpCc75+Hbhx44ZePbuOGjlM/phsQkI8/WjAxPPnz06bOgm2zs8vEB3NQP83bwIOHJAG1B43btw9G+uKT9QINzwSvHv3Rk5OtmvXriNHjjQ2MUF/CoiICBffITpl8kRgcRMT4+zsbHy+YTWP448tnoTFhL198/bVi1cUB/gHgF/6vUSvwOv+Pv6I1JGhzRLZEbV7eyBzQvA+31B7Y8Qd8TphT3dPhOkgBO4skb0NqR11RSU6pKKMdqJbKtEhlQLZreuHypLa6YMuEV1R2wDZSV1RWYI7MU5qw6BLzPqPBKxbWDUUf6SPivpdA6OS2d2cbRF3WgnI1iE7OXO9qUB7U0Mvoc6p3zk8KntwJw+6RHROJWCdDbK3gtqbWg95kFSY4dwZLUV5RfXj6tevX/fz8ytpHBwECwvrj8Hx6qrsrDSdi9q9e/cCFIYrS3Z2Bkwkz1NcXPTyhY/MwX1EZRU2OJ6SknjxgtboUSME+Je9fx9KibLLyR0eNmwwwO7QoUP375OGJ/4TmupqasrH1ZTVVJVVVZROn9LU09O9du3KJd2LDx/eT05OtLa2GsE9gouLS0Jip4uLc2FhIQHiLKuU5Oblenq503E88FXA+nWru3XlAhxXUpRPTk4mkJ5YNik5Ue+KLi/vdEY+Oh9fVFQUGcfhqQBuj58rK1gmnDg7P54yedKA/v3k5Y+9eOFfUlL86JEDPGz07dtXQ0MjNDQUV0DH4jA67vIh+sObN28CXwbS/TrgNWH4JxnTwaiNSB1ekQlqB0ODIHgAd+SWxN19vvW3gXaUGOPhCZjOsIcnaqPs9oZAeyO1N2TLNKqBvzkgeHLFGDqyk0mdqPxIhNjZVJJhGTXncIglem4MpfIjyyGWKEMmcTgwKnkp8iJEZJ0YZQm5oTdq4/Co6JVetZ0+KmprAvBmJGo3a6IEZFsUbmeMu0Sr0c5yoCVKCUj6QEssRzlt3dioLMdaIld+pATaWVaSYRk1Z1MxBlYCGzqheUJMVExYWHjPnj1mZmY49oOF9YfKweEBsObAgQPU1VXfvw8mKpAQ0XGjO4aLFy9kdIucPPm+3T1WOB6AQsKpTBwfNXIE//JlRKIIUmJigp7e5VmzZjKSXqZNc3N7wqTqOqDbmppqtM78/FxgbsObN4yNjfz8fCorPz154jJ2LA+zauEUuAYVFRWS11lVVRUSEmxkdFtJSfH2rVtFRUXV1dWAF1K7JNq3/2fu3Lnh4eFoztiYmJMnNSdPntCxQ/s1q1cFBwfRj0NQ0LuNG4W6du00aFB/WdnDzBov/wEDNeB4Q5HHTyxxPD4+Dp4lgPg3bRKWlT0CV+QjR2S6de86bfpU+Aj4HMPiFMddbZ5FJUQFBwe/DXz75tUbwmT+RmbJ6xRkpy9FEDyCdSLiDtRONlA7wnQi9N5qZGeZHtMQX/f4Su3kMjIEwbuRRE9wbx2yk/NhKOBOriSDKrhTRlxqE2RnSe2UMjIExFMGXeIE2cl1HpuJsjOLPxLgTk5wbzCT5lGeDHn0JTq7t1l6DCdDpbYFsrOkdso4qSzHXaLzN4d1HllmyFConZLdTlRwp4y4RCA7zAAf4cjhIyO5Rw4bNkxCQsLBwYHyR2QsLKw/RSmpyYaG1zdtFIe5RvwAACAASURBVJwxY5qoyHbnx4+LCgs+lZcBHH/4EAq/eb4lfCiBZPZs3gf2ds1Gx1niOIBydnaWvv6VkSO5u3Xrsm37Zmtr85iYyNra6rramoKCvNDQoLNnT0+ePGnKlMknTmqEhgbDUunpadrnz02dyij5Mo6HB3YmNiaqsCCvoqK8ID/Pyspy+fJlI7iHrV69Aq6VAOs1tTXPfbwAx7m4Ok6ZMsXV1Rlt/fPnyszMdAD6ESOGd+/eTVxc7P5927i42Nqa6tqaqqTEBLhriomKdWjfAR5Lzpw5FRvLqMRSWVkByMIJjsMzTFFRvrm56YL58zpxdeTmHj5jxtTFi+ZpnTudlpaKzzEsTnHc28EnJSslPCw8+G0w2UFvgt69fgcGTCdMkDoZvjmkdjYEj9ZDR3YUXCf8HVF2ziD+2/QYoPavpN6Qz04KtJP6pJKpnV0+jBvTtErtBMrT02OIWDvLDqkskb3VQyyxLNlOJnUyr7MJtHNY2JHNgE2A74yIOzNDpqFqe2PEnagnQw63s0T2ViTJfB1oiT2yf0fEnUHtCNxNWI+Nyj43hpwkwz7W3upxUolqj+T0GILXUZq7xE6Jrl27duvWTVRM1NHREeM4Ftafq/ovdc7OTqtWCfTr12fa1CmrVq4UFd2+ZfPGhQvmLZg/d8OGtZMnTwQgHjFihJWlOcJxNzf3/v37w8S90rv9X/hWVDQUOjx1Ur1Xz26zeWcGvXtHrJ/oWFJYmH/f3lZMTGTUaO5Bg/ovW8q3Y4eIlJTEurVreMaOHj58CC/vDDU1ZUCNxjSSLx8/lsC+7d4tNXHi+FGjuGfOmL5580YxUZGVKwQmTBjfq2d3QcF1cNdH6weAjogIU1FRQhnqU6dMUlZWfPTIIS+PUWEQVmVra7N16ybY0MCB/VesENglJbln966VK/gHDOg/ZPDgtWvXGhkZwWND494WeHu779wpCqsaMGCAhfldRnWUOiqOE58uNDRko7AQenQZxzPmuoF+RnoKGj8IC4sjHLe/8zA4PDgkJORDyIf3we9Dg0IJwz/Jhikh70LoyE7mdYLagbDJgXYC3MluFuLZIDs9MYbcCZViguAJk0s3siV4WrYMBdlpuTFuNLEp395s6J3lqKgUZG8qN4YcZWdZwZ0TiGcZeqcjO53XKVH2psq3EwTPnuNZIPu9BmRHZoTVrb72Q/3aG9XCnIiyo3oyZuZfTc+Z+S5kN2XrthgYlc1YS5TcGEqUnYzv7LPVmwJ3WD9sV++Snpys3IL5Czp06NCvXz9xcfFHjx5hHMfC+hNFoCTwdFDQG319vZ07xefNmzebl3fZsqXAzdeuXXn3LtDd/amMjIyiouKrgJcIlCMjI5WUlPbu3WtpZREfH4eG4SzIz3N+7CR/TO78ee3U1BTatv4joNzK2mrv3j2rVq3i5Z0F21q0aNGaNWu0tbWAM1juZ1lZqYfHMxUVZYEVKxYuXDB7Nu/8+fMlJSUMDPSBVAjk/cIY7LPKz89XWVlp8aJF06dPExERsbS0TElJ/vy5oYtqZma6kdHtnTt3AI7PYmjmcsYn3Q5XzNRv60SVl5fHxETBJXjPnj3KSkqvXgXAyr80PbJmTEyMhob69BlTgfXheSYsDFdTwWohjm9dsf30hVM+Pj7JCckRHyIICidzORtTkJ1O7aiNqB2F21GbnBhDD7o3RfAcpsqwzG4nJ8ZQ+qSypHaOKz82E2WnjK9ERNybAneyWjokKj3Kjtr0eu2UxBgyuLd0nNRmo+z04o9NgTvL0VI5HImJZR1JFF8HN1SPsbZiiFIC0tKcbHKO+/eOlso+K6YNs9ubQHYytZPrxjSVG0MPuhOGmU2NTJUVlefPm9+pU6d27doNGTJk586dGMexsP5oIqeXRar6XFlb02RYl8PB3ilD01MeABrj2Z8+lX+sr69tajb6GqqrP1d9ruBkW8w5K5vaNLH1L1/qODkmbB5mkILevZOU2LlsKd/x4yqenh64gztWi3GcMTjW+BHGJsYpiamxUbHREdGRYZHh78PBH0I+oJA5S3PI62RwZw/xKNxOGKi9KUZvEa9zmCoD4E6ndkp6TGt5vfm4O1obAneiWypQO0php5dsbxGvE9TOSaoMJbudJaa3lNfZR9zpoXd6gjtLTKd3M+WQ2tnkzMBEFGsnjHLZ6YzeNrzOMu5O75Bq0paF2xuQ3aTJhBlygjsRfde5oCMnK7d40WL0h2D0x2sJCQmM41hYWH+nAOcTEuKCgt6+e/vmzOlTgwb2X7BgbmBgAD4yWK3B8f4dBvQf3m/JsiWnTpxye+qWEJsQFx0HjomMATQHQwO1o8KjgNQjPkQgA6+HhYY1xessKbwVpqwTYToF2VnGyNvELFNlOOf1tqB2avQdYTpB7QjZyYBOwfQWIXuzHVUpyM5yfKXvIXXOY/AI0ynIzjJGTqfwVhSCZJEqY2NNRnYLSwvWsE7LjfkhY6PebeMhlhC1m981t7KwAha/cvmKyDaR3r0Zo1L36t2rZ8+eqGAZjo5jYWH9tfLx8eHl5UXhiYEDB6xevcLI6DaRfY6F1TIc19W4vP/ovn4D+nbt0nX1qtVw3wXETE5IRpHyVphC7WRwJ/s7Mb0po9wYcpSdAHdyhkzbUjslIb7ZBHeiE+qPMKP+o3tjlL2xgAw9qf37MZ1N+XaWZWTIGTI/CNkpmfGUQDsxPCq9esyPMDFC6tcqkI3pMYQZ6extiOlNDY/aqn6opiam8IRhY2Vz5tQZuDKMGjWKm5t73/59ISEhTk5OY8eO5eLiEhERwTiOhYX1d6q4uOjNm9dwt3nw4IGvny+A+Jcv9fiwYLUSx/PiCj5Wl1rfsxIUFETRL+4R3IdkDgEv5mXnJcQmAF63jstbCvEA7kDtKE8GETwgO+D1j6D2piCekt3+g5C9KY5HA6OSK8nAt8D5SKjfC/GkYjJEdjtRvfEnmDw8KqWSzA8FdwrEo7GWyGnugOytGFyplQRvw0hwRwVkUA2ZtkqG4dDwhGBpaXn79u2LFy/u27tvCd+Snj0YsfBFixa9ffsWXTg8PDzGjx//zz//bN++HeM4FhbWXys0JhFKXseDE2N9F46nhWegf/j7+4uIiHBxcTHK+vQfICEuYW9rHxcdX15anpOZk5qUmhSfFB8TD0bZLODYqFgijwW5zRmdvGaU1A6Yjoyy2xFME25bRqeYXkyGUqC9TaCcZeUZND3AP4AcaEfF2ltb6pEjRv/GzC6qX4vJNFZ+JBdo/xGMTjEqL0MebgnluLeu4COHjE5ercMjB3IxGQLZKbVi2gbQ7e7Ri7gTlR8ZAy1ZW5CR/XvqPJpbmqMyNWbmZoePHObh4UF/hB00aNCRI0d8fX1LS0sxjmNhYWFhYbU9jie/TyUe8uB26+npeVz9+KJFi0aMGDFs2LAF8xccOnjI+I4xMGhmWmZxQXF6SnpiXCKgOdloCryCE2ITELUTJsCdbAptc47ylKVQbgyYaCNkJ0fZ6QnuLIG71ZhO53WyCWpnU6ydc5pnOcQSpZIMSo+hDLFEqSHzPRBPx3TycEtfQ+xuDSYC7Q3dUlmNispR4fbmSJ0oJsOmnkyzoya1gtGbGneJUkyGZcl2Cm1zHkdnMdYSGm6JNOgSCrSTK8k0FH8kbGkONG9nb/fY5V9geg1NDUEhwcmTJ3fr1g1AfMaMGVpaWu/evcvNzSUHfjCOY2FhYWFhtSWOp3xIo0z9+PFjVFSUl5fXwYMHO3bsCHdlLi6uuXPmSu6UtLKwSk1K/a/uv9Ki0qz0LBQyT05IppsgdaJNhngE7mSjLqRA7WAi9P79yE60CV4n8J1ico47QfA/CNlZGjieyG4nQu8sY+ScUzsnBE8MukRUfqQkuLeO2tkje1MmZ7o3hN7dnrEE95YiO9EmeJ0y6BK5jjtKcCeKuLca2dlTO6UWZFNF3DkcG5U9uNvafm0jWIc1w9PI/fv3b92+JSsru2TJkn79+gFh9+7de8GCBWpqas7OzhkZGWj4a4owjmOxFP5jPRYW1v+BOKzm+QNxnHIxzcvL8/PzU1ZWnjhxIvqzdfdu3WfNnCW9V1rvkh4QW3ZmdlVlVXFBcXZGTkZqBtB5ckJKUnwyS0CnOyUxBb2iBj3iDoxONhFoJ/w9UXZK3Rj6eghMZ9Mn9XuQnSg7Q67XTo+1s+mQSkmVaSmyN1uvvak+qc0G2plGJdg5qRvz/Juq7azYHVV+JEzvnEoUfmkFsn8N2xMr+Tbizr5bKjJL+G511XZ6oJ1seofUpkLmxHRUWwZYH9YPH8rL2wtWq39NX1JKcubMme0axc3NfezYMaBtNMxeU8I4jtWU4MxJSkqyt7dXUFAQEhLasGHDunXr1q9fvwELCwvrN9P6RgkKCu7evfvkyZOurq6FhYW/S3ScHvAIDAw0MDBQUlISWCEwZOiQDh069OjeY+aMmZISkro6upbmlj7PfSLCIrIysgryC/Jz89NS0hhx8cTkr05ojRGpE0bIjqLpZGRnmRtDBNoJaqcUbeQQ4snZNZRYOzmsTs6NYVlGhiDvpiLonIyyRB5iqdn0GCLQTu6TSoZvTiCeZY4NJazOsl47vZIMvfgjK4j3bunwqF+TZOhjLZGQnZzmTtSF5DDuzmagJQqyE4kxRGo7EWjnJE+mKYJvailAajKvU3JjYArMDPsGRwL2Gdqmd011dXWPHDmyefPmqdOm9urdq1OnToMGDeLn5wd4sra29vHxycrKajbYiXEcqymVlJTA/eLQoUPoL6tTpkxZu3atgIDAMiwsLKzfTHDvW7FixezZs4cMGQK3wqlTp544cSIpKem3w3HUZZg8JT09/cWLF9euXdu7dy9cZ1G/z/79+/Py8m4Q3CAvL3/lyhUvL6+MjIyqqqrS0tK8vDxop6SkJIOSmEZKYuXE5FYQPEtkZx9lZ0nwBMQDeROZ7vTUFza8znmUnQ3BA3OzCb1zjuzso+zsE9xbGndnOaYSJTeGHGUn8J2oIUMuJkME3QmI5zhhhgWy0/PayQMtNTVaKsJuckXIZoPudGTnMNBOIXj6OKksu5M2ZVgE8fdzn+fQNjI2OnHyxIGDB7Zt3yYkLDRnzpyBAwd269YNXufOnSsuLq6jo2Nvb0+/+rDPOsA4jtWU4LL/7t07OTm5rl27Tpo0ycXFBe4FOTk5aVhYWFi/mbKzswsLCwMDA3V1dcXExNauXXvq1ClA1N80Os7y3lxXVxcUFHTz5s1du3atWrWKm5sb/bG7ffv2cJtXUlIyMTW5a3YXECQsPCwrOysvPy+/MD83PzcrJys9Mz01LTU5NTk5pdGoTReZ0em83oKgewqF2ukmh97JfVKJMjJkXm8KwZtNjKHgO6VjKz2dnSgjQ0F2NvzNfkAl9qOi0nPZKSZXbWfZM7XZ9BiWo6JSEmaardrOcuglCn9/z9io36Sze3iiGjINdncn0mMoQ6VylCfj9tVsxkYl57KTa8iQeZ3opYqC9G7ubp7enjDRzNzsiv6V8xfOS++TXsy3GKiIyEXp0aMHPEXv27fv7t278JDc6sRfjONY7HH86NGjXFxcs2fPDgsLw8cECwvrd1Zubq6VlRXcGTds2HDy5MnfMTrOIZpXVVW9ffv2zp07e/fu5efnHzJkCLr3d+nSZTbvbGlpaX19fQtLCwAIYAs/fz8AdMDxnNwcYHQg9fSMdDAC9KSUpK+MTjFLZGfJ6GRMb22eDMu4O4HsQOoUXqdktLME7laYvhIi0E5Gdpa5MSwHSW31kKjkcjQI1illHykZ7Sxp+zsHRm0K2RG1I1KnUzs5zR0BNz1nhnNqJ5AdxdeJHqj0gZa+IntjPZnWDb1EkDpswcPTw8vbC+zu4f7k6ROnf50cHjlYWlneun1L95Lu2XNn9+zds2jxoiFDh/Ts1bNXr17Dhw+fMWPGsmXLREVFDx8+bGlpSaHw1vW9wziO1SyOd+rUadasWdDGxwQLC+t3VmpqqqmpKRAswvHfOjrOOZpXVlYGBgYaGhoeOXJESkqKj48P6Lxz5869e/ceNHAQwMHy5cvl5eWNTYwBI3x9fd+8fQN0HhEZEZ8QD1CenZOdkZmRlp4GdJ6SmtIkmjeL7EnfIjv7rJjvSnBnnSpDibKzCbQ3he+cE3yzgXaiEyol0I4g+/sJnmWonhJop9RrpwTa2wTimwJ3cpo7kSFDLgFJR3Z6mntLA+1En9SvgXb3b0u2E1XbyYkxJGqHNswC4OvBoH5P7+feMBF+NdY21vBwa2BgcOr0qSOyR4C/4Qoyd+7coUOHwg8NnoHhVzZ//nxhYeHTp08/fvw4Ny+3zS8cGMexMI5jYWFhHP9dcJwTXo+JiTEzM4Or8+LFi0ePHt2tWzfUxQeFz1evXq2ooKipqWliYvLc53lUdFR0THRCYgKwONA5cDnDaQw6R4bphFsM6806uQlwT/ghpufJIGonJ7ijao/fH2XnBOIRtZOz29EoS20Va+e8oyq9kkxbxdqbhXggeKB2etX21jJ6MwRPXufXMjXA3l7PAdxdn7g6OTo9ePDA3t7ewcFB/6r+7j27GZ1Ohg7h4uICGoYfEfyaBg4cOH3adCBj+B09f/68traWkydnjONYGMexsLCw/gocp6u4uNjJyUlKSmrMmDEIJkDt27dHgD5gwICNGzfq6OjY2dkFBgZGR0czWBw4nIHlDDBHIA5cDrCekZnRkOUCZP6DAJ3O68k/j9fp+A7UTvRDRcgeFx3XhozOSUF3SjEZco32n2NKPRkE7kDtbcjo7NkdkJ0SZfd77tciRicnu3u5MwPnbp7uT92fPXn21OUpNOAt87vmcrJyy5YuA/Dt2bMn+o3Aa/t/GI3JkycD8dja2np5ecEPhNLl+keXf8Y4joVxHAsLC+P4H4zjqFoLCBofP35MSkry9PQ0NjZWUVGRlJQUEBDg5eUdOnQoXMqJAbr5+fkB3/ft26ehoXHjxg24/QOCREREZGVllZSUFBQU5DUqNzc3Ozs7MzMTSD2zURkZGZS+tHDofyqy0zNkfiS1I2SnlJEhp7aTKz/+OF7npF77j6Z2ejEZcoI7uf5jm5uS4E4p4g7vwtYBwa0srA2uGuhd0lNSUNq2Zdts3tmjR47u2aMn+S9IY8eOXb9+/eHDh3V1dW/fvu3j44Pwl/xT+skXDozjWBjHsbCwMI7/wThOp/O6urrq6urKyspPjQKkDg8Pf/jwoZaWlri4+MqVK0eNGkVE0DsxxcXUzJkz5eTkLl26pKmpaWFhgQ7i58+fy8rKiouLi4qK4LWwsBBheg5J2TnZyOifqEcpyo1BXUvJ+etJyUk/I+6e9Mvi7gjiiex2ovgjwutfEnoHfKeE3ls0vlJLwZ3cJnLciRKQCK85iZ0DZKOAPTNpPgR2PjIsCt5ydHAE7D6pcXLPrj2CGwSnTZ02oP8Ayp+GQP369du2dRucz+bm5i9fvoRHx/LycnhqhfO5oqKiqqoKfinwe/nlFy8yjjs6OmIcx8I4joWFhXH8D8ZxNgL4ABBBlcsZySrp6U+fPlVWVhYREdm/f//SpUvbfavOnTsPGDBgyJAh/fv3X7RoEcxpYGCgo6Pz6NEjAG6E/jU1NbBaQH+AG+B+oBy4eRQ3qqCgAIE7S2VlZaH0mIaMdqaJio2A7F+d8tVtEGgnlPJtMRmC2hkw3WZQjkwv346y2ykdUsmjLLV6YNSm0JylWfZM/f7hUemATl4JrB9l5jA3jcraNOxMdEQMHBPUZxdmfvbkmYmRycXzFxXkFPbu2buCf8WY0WO6d+/erevXLhNIffv2nTNnjrCwsIKCAvA3QO3bt2/hPIcTHk5LOEV//iC9rcNxHB3HwjiOhYWFcfz/FsdZCogZVW5PTEwEfHF2drawsEDR8UOHDklJSa1atWrKlCnTpk1bs2bN/Pnzu3XrBugzePDgCRMmTJo0CTB948aNBw4cUFFRuXjxoqGhob29vbu7u4+PD7yGhoYCCZE3V1dXB+AOE8uZAoIvKSkBZAc0b2B0BqV/VWYWI08GxAixNwpROyEix/0bgk9uLbsnN1evvU2LP9IZnVJGhjxOKp3a2Y+X1CKUZznWUlP1ZIg0d0rPUeBsmI3ZsbUhhwd2Gz5mWnJaekpGVnpWdkYOTHn14tWTx08cHjg8uP/AycEJgFtTXfPggYMyB2S2bNoym3f2qJGjwEMGD+nVqxfK7e7atSuchCtXrFy9ejUwq4yMjIaGxrlz54yMjeCkDQwMDA4OjomJSUlJQfz9O8M3xnGs/1ccpw1196WqqrK6urK2tobDNcA94udni2Gx+u4a1Ob5e2zW9vO/+i9MtfRTN3WsfvT+/6rtYhz/4WdhU28RcXSE6WFhYe+YAsh2dHS0s7N7+PDhhQsXhIWF+fj4tm7dunjxYiI3HXh9wIABw4cP5+bmBl5fuHChAEnS0tKA7E5OTvfv37eysrp79663t3dxcTFlx2pra6s+VwG4l5MEu8TIk8nLzc75ltkbwf2rMzOJoDsD3NNTv+bJpHyD7C3DdPbITif4pNZXfqRUZ28quE43quBOH3cJ4Jgcem92bFSyYSlYFexDalIqgHVqEjg1JTE1IzUjNyuvILcgP6egMK+opLAU9srX29fW2tb4jsmtm7dNjUwv6VySPSy7aeMmAX6BhQsWLpi/gHcW7+RJkxFt9+/Xv2/fvh3ad0BD6sAj344dO5YvXy4oKKigoGBw3cDC0gIe8GxtbR8/fuzv7w+nYmxsLDySwckJmAKPc/8fd26crIL1/4HjSPDzfPbMVUVVecXKFXPmzN4ovMHgml58XEzAy5dwhxYVFb171wQuYTBnSUmxq6uLqqqysLDQ8ePHExOT8Df+axUdHX361IltWzcd2L/X3PwuMMCP2Ep1dXVebs7DB/a7du06cGD/U9cnRUUFtTU1v+pTA1r4+fpcvqwLn1pX92JaWionSyUlJd26Zah5QuPWrVsvX7yEn+rP2dv3798fOnRIUlISYAzA9/Pnz7/bWYRx/GcLDnFISEhERMTz58+NjY0vXryop6enra2tqqoKUAWkPnXq1OnTpwNnDB06lEgq6NChw6BBg/r379+PqYkTJ65btw7m38YUXKn379+vpqZ27do14HUHBwd7puABALYSExNTUlJSw/zRfmkUPCwCvsPPG07KysrKz5WM1wpG+kzFp4pPYBSPLyouyi/IL2gUtPPy8wDuc/JycnIbzWwD7qdnpienJicmJdKzZVqQM9MUo7Mv2d5cqgwwOjAxoDAz2JzNxlnp4KzMtEzmzNl52flMdM6HRl52HnJuVi44JzMHXuEtoOqi/GJ4LcgthJkL8wqLC4ph8bDQME83z/u2902NTcFmpmZWFtaA2tJ7pQXXCwpuEBQSFNokvGnlipVADIDaAwcO7NO7D4HaSL379IaTAWaAswIe4TZv2QyQcfbsWThtdHR0zMzM/Pz84HQKDQ2Fh0B4APt7boE4Oo71/4TjgYGBghvW9+7VY8J4ng3r18gfO+Lw0Baua9bWFiOGD+3Tu4eqqsKHDyEwZ0ZGho7O+XHjRsP1YeLESW/evMHf+C/+7l4FrF+/qmePThPGjz6uppSYmPAjtgK36IT4WPXjqswQXtdLuhfS01Kqqn4ZVqYBPpoYrVm9oltXrpUrlr1/H8rJUm/fvRUV2z5t+hQxMTELCwuUxPsT5OLi0qdPHzh0ioqKwGCUHASM438XjjcbkiwqKgKugotyUFAQvHp5ednY2Fy6dElDQ0NdXR3OoSNHjkhISMBXtWzZssVMQQPwvVevXt26dRs5cuS8efNWr169efPmLVu2LFmyBKaMGjUKZoN/7ty5c/fu3VJSUvBgDd+3rKwsrBN47saNG0ZGRrdv377F1J07d0xMTO4y5ejoCLsBu/Thw4f3TAHzhYTCmRwSHBL8VSHB8AODOaOioopLimvraquqqwDvEdw3qJJJ+Z8+MbNtGl1eXlZe9rHs41eXc+ayb41UyjS5DS75WFZaVv6xvKigKD0lPTIs8u3rtwH+Aa9eNtMnktEb8s07Lw8vGyubO7fuAEwb3Ta6YXDjmv41g6sG4OvXrl+5fOWC9gU1FbVDBw/tktwlJSElvkNcdLuoyHYRMVExYSHhJXxLpk+bPn7ceHgV4BfYKLxx08ZN8+fNh4sCQDZQAj8/P3xNfEv4li5bCs9XIqIiBw8eVFRSRN84PKrBdwEXkYCAADjMcNMNDw/Pysr6s1JKMI5jYRzn5I7w8sXLUSNHDh480NLybmUlsMIX5jz1aWmpPs/hbuARGxv9+XMlTExJSb56VW/OnFnAFvPnL4CLA+d3GawfoZKS4uDgd15e7i9e+MbFxlRUfPpBnJCRnnru3Jm+ffsOHz7s+vWrmZlpLcLxppJM0ET277LYmYx0ayvLbVs3DR82aPMmocjICE72AfBBet8eviWL9u2TtrO1y83N/UHHiiI3N7cxY8YALJ04cSIsLOw3DF1hHP/DVFVVlZGRERsbm5CQkJKSkp6eDnAMLGJsbAxfJLwCWCOkBpg7cODAFqY2bdq0kSlor1y5cvr06Tw8PJMmTQJ8h38KCgquX78ezgBorFixYs6cOcDxcNYOHTp00aJFMH3NmjWrGgW4v3rVamjARFhKSEhIWFgYXqEtKSmpqal5+fJl2PT58+e1tbW1GoXa586dO/utzpw5c/rM6R9lpmAT586e01DXkD0iKyEuAUy8bs26Des3wOvKFSv5l/MDKNMNb61ZvWbunLmDBw3m4uLqxNVpxPARgM7wYdevWw/oDJ8XDsLSJUunTJkyeDDMNQiOJ8wAh2vr1q2bmEJPQfAtwGG5du2asQnj2wHB1+Ts7AxXBPgq4ScHX2V8fDy0W/S8ju+7OFkF64/GcVBNTU1xcVFSUkJoaPCJE5rwoA7XEi3tswEBfq9fv0pKSvz0qRxQLyI87P370MzMDJRNnpycdPXqZZY4jmF61wAAIABJREFUjlRcUvT+fcjjx05Gd+5cv3791q1b9+7ZvHnzurSkBJ8bP0LwNcFVHI55ZGR4VlYmfE1wfS4tLYmOjoTnqDevX5WVwbEvCnz1ysbGxtDQ8MbNm5aWli9e+Ofns4bRuroaOCuePnWFu7mBgYGpqcmTJy5v3wSGfQjVuXihX79+gOM3AMczqDiek5P18qW/jY01fOnXrhnA7cbFxSUmJqqi4it9FuTnBbx84fbs6ZvXgYAQdXX1FMaIjorwYw4QHRkRBh+tyWeDRhwfMXzw9m2b42JjYeKLFy9gb69fvwF7/vDhw+DgoKKiwm9xPKQRx/fZ2VFxvL6+Dp42vb0ZscibN2/eumUIn8Xd3Q0OL9GVgnLvq6mpTk9PfRUQcN/ODj71jRs3LC3MPT3c4eB//FhKxvHRo0fTcby+vh5+YmFh712cH7s9c02Ih6epsvpfUToM4/jfqKws+MW+fPLkib29/YNGOTg4ODk5mZubA0nD7wTQHAXgFzG1mCQ+Pj7gTqD2cePGAYnCkzqc4r179+7Zs2eXLl1QCcjOnKnLTxFjQ127dOveDfYQ9hP2tnuP7sOGDZs9e/by5cv5lvAtbkLwMYHWYZ6FixbCwwZc2lxdXeHhBx0xuNbAQXN4xHhBSUFwIcNn1y/BcRwdx/oTcRxwISTkrY6OlgA/X88eXf5p1+6ff9r369t3xrQp69etvKqvGxsT6ezsNH/e7MmTx58/fyY6OoJ5Ac80MLjCEserq6teBrw4eVJjCd/C0aO4u3bp1LEDqD1cmBcsmKd+/Li/n99Py9b9exQc/E5KasfECWOWLVlwSfd8bi4jASM09J2mpurkSeNnzZp28cLZK1d0hATXDx82rGvXrigRcdq0KUePHnJzcy0o+ObaFRMbffeu8bZtm7hHDGtIWezda8qUiSIiW05oHt8pvgPuaGPHjrl5wyArMx1gFC0VHx9ja2u9b9/u2bNn9OzZrVMnrnaM0+mfkSNHrF+/+vbtm2mpDbndYWGhyopy8+fOmjOb99gxuZCQIGLTtbW1zs7/CguvnzplgojIZnMz4+zsLPY4LiqydewY7nlzZ5/X1r5w/ryAAH/fvn06duwIJ3P3bl35Fi/U1FSHJwQCf8nRcVtSdLy8vAyeZwyu68PH5OEZ3a9/386dO3Xt2rlPn57Dhg0REdlqZWUB2F1DypX/8qUenn+MjG7t2CEyZ/ZM2C4cGcZAdf+04x4xZNUq/qtX9aKjo4j7BREdj4iIqK5uOG6RkRHa2ufWrVvFxzf/kIy0h/uTjx+L6mp/QUY+xvG/S20bUk1JSfH29nZ0dLx37979+/ft/xDBYzc8dbx69eqPOMhYGMex/l9xvKKiIikp3tnZUeei1sqV/ABq3bt3X7N6lYqywsULWi7OTslJCWZ3TQcNHARvycsfDQmBD/IlOzvbwEAf4fiCBYDjIQ0YFxOtr3+Zn3/pgAH9J06cKC9/zMbG+t9/nczMzNXUVOfNmwvzT5jAY2JyJz8/l8A4rO9XwMsXK1cs5+rYbiT3UDVVpczMTMbEAP9Dhw7069eXOdR339WrBZSVFe7eNWX+NdtIVvbQxInj4K0xY0ZZW1vCc9R/zKQXd3dXSUkA7k7t23cQEhK8dEkXbq92dnb6+ld275aazTuzUydGsdqpU6fevnUjL5fBykVFBY8fO4iJbe3atUvHjlxr1qzW0tKC25yTk6OZmcmePVIDBw6YMGG8tta5qMhINMRKcPBbeXk5YFPgXQkJ0SdPnGAl8fHxFy9emDt3DvxqZs6caWzMYHECW+nKzMi4Z2Mlsn3r8OGMx4buPbouWbJYU0Pdzvbeo0cPb9ww2Ldvz/RpU+BRcNWqlX5+vmip9+9D9+3bi3AcsKGgoIBx0/yv/t4966lTJjGPVT9BoQ0XdS48dHhgb28HrCwktIGHZ8ywYYOlpCSCghp+y4WFBR4ebtLSe4DCubg6CggsO3VKEz61lZWVhubxRYvmowEclZQUPnxgJLX7+/vz8PD06dPn7NmzYWFheXm5aWkpsIajR4+MHjVy7tzZ8LvIys6oqyfi4j/7Po5xHOuvJk6MzhjHsTCO/6rLD/kffn7+3NzcY8eO9n7uTkz8VF5mePP6kCFDevfuBTD3/j0jkAmQRETHFy1aBGwBE4uLiy5d0mH+lbKHpsbxiIgwCkgFBgZs3bqpf//eo0YNP3ZMNj4+Dp8nbaVXrwLWrV3VvVuncTyjNNTVsrIymQf8hYzM/p49e/bv30/+mOzr1wE131RBqbe0NB85khsAWkxM7Nmzp3V1tW/fvl6yZBHzqWncmTOn0XoI5ebmGBreWLiQAZrjxo27ZXgjLw9wvN7FxRmevmDivHlz4DktO/ubpfLy8uxsbeCrByhfv379+w/v0fS4+Ljz57V5eWdxcXEBp544oS6vIAcoPHBgv4MHpb283MvLy9jfJTMzM2zvWQsJru/YscO4cTx37tyihPlBwSFBwsJCU6ZMkpWV8fb2+FJfHxcXe+DgPoTjDg4Onz59Ki0tARbfvHnjoMGD4Fni5csX9G09f+69cOECHp6xp06fREnqHz582LJl0/jxY8VEt9raWpeVfSTPn5GRrqt7cfv2rRISO83NzWpra1+/fj1hwgT4gWhqalhZWZzTOr1mzcounTvBnuvoXoiLj4V5fi0VYBzHwsLCOI6FcfwX6+nTp8OHDx89eqSzixMxsexj6S3Dm0ObxnE+viUxMbEAEI6ODhs3CsHnHTFihNa5M16eAHgu4Keuzh7uT32ee1pZmSkry8+aNZ251GJ6xjlWm+P4gQPSXbp0Hsczzsba+lN5OWUw40ePHo4ZM6Zjx46A446Oj7KzMxwc7LlHcvfo0R3w/dUr/4/fphXBWR0U9E5eXr5Hjx6jR40yumOYlBgXFxejp6cHD2w9uneX3rvLwszksZODpwfj23d79gS+eifHh6Ymt0S2b2bE1KdN9fB4+g0uB7/btnVz4yCGnRYuBKDXy8nJ5gRMGckq1pZbNgsPHNhXUHAdy66csbGxWufOrV2zavlyPi2tMyUlxSkpKTKHDiAcd3R0hIdG4E4FBQUBgeUSEmKmpkbE1smKjo4CjF65kn/N2hX6Vy9XVlYEBgYCnY8cOcLOzrq6quILqcIBy9329vaeNo1x8o8ezQ2GBnw1vLwzgdrT09N/h7MI4zgWFhbGcSyM438kji9ZsjQ+PgHoxNDw+tKli/v06d2OAy1Zwufr9xyfJz8Hx8ePG2d7z6ay4lN9/Tc47uDwYMyY0VxcXDvExR0ePkxKjLe2soSnKfRdv3nzitwTEfS5sjI5KeHcWUZllVEjRxob346OCn/58sXJU6dGjx7Nyfc+c8b0O7dvkuuxxMfH6+hcACqFd0eMGK6pqRoc/JoSaW5K6elplhZmO8XFeGfN2L9vX0xMDH2ehIR4vcuXNqxfM3fOTFVVpYKCgtS0VDKO19TUxMfHHTi4n32tFbQewQ1rF8ybrahwNCEx5onr4+HDh40dO8bliRMne+vj4wOXAnQchgwZtHzZYl7mo+m06dNsbKzLykrr6moxjmMcx8LC+i4cx5VVsP4vcby8rCkc12/E8SVxcXG1tTVWVhYCAvwwZdKkSba2NsXFhaBi9H+FhUVFRfn5eVlZGXFxMSHB72Jjo9lUzMD6LhzXIHD85Vcct2WF448YON6xY0dRUTEXZ2cgQje3pzw8PJ07c+3eLfns2RP41sjzw1cWGRmurq7Wq3evUaNGGhvdio+L/vAh9JzWuf79+w/o3x+eBAIDA9LT08vLy2FZ9NUDAefl5SYnJ8KcsTFRxcUN6wTmBuJXVlKAs45RwH4Cz+RJE+A0W7t2tZOTw6dPHyl7Sxfqyrl1y6ahQwZv2rSJJY5HR0draKhv2LBOQkLMwuIuPDcmJiYclEHwve/RI8eqqmrA0OPHVfn5lwkJbbhyRQ9l3lMxMTJSWVlx+fKlgkLrr9+4VvKx+LmPNxyEYcOGWpjfhadWCkzDEYiJifL29nBydAgJZvxq/P39J0yYwMXVcdcuSVdXl5yc7OfPvYWEBIcOHTJ7Nu+5c2dZbhfjOBYWFlYLcBxHx7H+L3G82eg4M3c8/D9m9brz2lo9evTo3q3bcTWVyIgwyvojIsMlpSRHjx49d87s06d+zc3+r8DxFkbHO3ToICIi4urqWlNTk5AQf/iwDDf38H79+kpISBBVQZCyc7KvGVybO3cOfO/jx4+7fetGbm5WfX2to+MjWA9MnDVz6nWDKwRwN4JpGZxR0tK7pk6ZKLFTPDY2pnHr9vPmzf2HkbwxUlFRPizs/ZMnLry8s2E9ffr0kZE52Gwd8YbccaENXFxcQMaXLl1ITqGOf+Ti/HjGjBmTJ082NrpTzKx4GBERsX+/NIqFP3z4sKysHBjd7dlTCQnx7j26z5o18/FjR3o3SicnR5SaYmh4A60nKDhYeKPw8OFDBQSW3rxpUFLyzTjl74Lebt68acKE8eLijEQg5nf0aty4cb169dLU1AwPD0dl0EpLS27cMACmHzRo4JnTpyIjwisrKzGOYxzHwsLCOI71l+K4s7MzYNCAgf0dnR6ScLzE4Jp+z549AdqOHj0UHPz2P2ahw8uXdSZPngDkNH36dOLTvX//Xk1VddrUKX379J4+faqysqKVlYWdna2hoaGSkuKcOQzSGjx40Lmz56Kjois+VeDzpK304oX/8mV8cHiHDhmgpCSfmZEBE1++9JWS2gkThw0damVpXllRTsFxu/u2gwYNghmEhIQcHBxQAcqkxKSTJ0707NkDpi9evEhd/bixsbGlpeWlS7oArNOnTULpFvBYBSdGbk4WejwzvXtHYMUymN6Jq6OQ4Prz57UA7JjVxw137hTv07f3sGGDZWVlXrzwra2tLSkpsbOzWbGSn1l7ZMCdO7fKyxnZKcXFhY6O9kJCa2E6PNepq6t9+BDKZric9PQ0C/O7mzYKoU/xzz/tZs+eqaKsZGlpYWtrc+GCtrCw8OjRo/r06S0qKvo+tGHMzqDgoJ0S4ryzZ8HzhrW1TX5ew3X7/n3byZMYHVJ79uy2cpXA6TOnrG2sYFUnTmisWrVixIhhAwb0heMZ9uEDmj8nJ9vh4YOtWzZ37tSJi6uDoODaixe1LK0sb9y4vmfPLu4RjJD/wIED9fUvFxczird4enoNHjy4ffv2qqqq8EshPldY2AcZGZmhQ4d06tRx/bq1/o0VYDCOY2FhYbUYx3GyCtafjuNB795JSUnu3bvr7duvNVgrKytcXV0kJXaKiGwzu2uSlJTAxKYiZ2cneXnZ1atWKCrIJ8THo5nr6uoKCwu9vDy1tM6KiYlsFBZau5YxWNu6devWrlsNjHLxwoXn3t74l9Lmio6OOn1ac9u2jQf27wHyLipkhG9jYqJu3jDYvGnj/v3Sfr4+1dVVX758M+BOQMAL6b27hYU26Fy88Cog4OPHj42Ym/7vv06amuoSEjvWrl0NX5+g4IbNmzfC85jBNT2ts6dgEVinq6szADTqwvj5c+X79yFmZqZycrIi27etWb0Kltqwfr3ghvWiItsOHth/965pcnIiWn9ERNi5c6cldorJyR2xtbXOy/uaq/3lS11g4Es1NWURkS1yRw8Dtec1PWpmQUG+t7fnVX09FWVFRYVjFy9qnz51YvcuKSHBDUJCsPG1a9aukpE5YGJsFB4WVlnR8PiXmJhgYHBVRUXxusE1P1/fksahqT5+LH0X9JZZHnEvnLdCgoLCQkJwDgtuWAcHQVb2sI2NVXx8HJH1Xl9f/7myMjg42PCW4YGD+7dv27xu7Wo429fC3KtWiopsV1JUePjQPiOjoZsmY/ihvXu2b9tqbWUJpPv5c8N6gMvDw8NglzZtFN62ddPtWzciIj78klQujONYWFgYx7Ewjv9iARYAWCcmxBMF5hBzFBcXA4XExcUCNiEWqa2tBSJPSUmKiopMSfkKFoQqKj4lJSW+ef3aw8Pdzc3t+XPvN29ep6am1NbU4nPjR6iysjI9PS0uLgael/Lz81DJPJiYk5MdGxMNAAqsSS/3UVb2Eb7umOjozMwMaNfV1n67zgpY26tXAV5MBQYyRmmFiRWfyhMZ4zjHwTnAHP7zG8QvKSmGZwN/f39PT0+4Qvr6+ABrwi6RA/OwIJw5UVERhYX59P6LcMoBZyckxAG1JycnAeg39alrampKS0uys7My0tMKCwsA5eFThIV98Pbygk3DPoSFvc/NzaZsAk5XWATORniFw1JbS92B/IL8iPDwgIAAL08vWBUcgcjICGYJxS+NzwxfyAez/gtjh+FTv3jxArb7/PnzoKCgtLRUClLD7wuOW1xsDByNqs9V9fXfHDd4FoKvCY4VPEQxq63/ghH9MI5jYWH98TiOk1Ww/mgc/85Sx8TieCCFP+67+0GranL9X1p8/nA+sdmtt9Wq2mS7v/a7wDiOhYWFcRwL4zgWFhbWbySM41hYWH88juNkFSyM41hYWBjHMY5jYWH9MhzH0XEsjONYWFgYxzGOY2FhYRzHwjiOhYWFhXEcCwvr78NxnKyChXEcCwsL4zjGcSwsrF+G4zg6joVxHAsLC+M4xnEsLCyM41gYx7GwsLAwjmNhYWEcx8I4jnEcCwsL4zjGcSwsLIzjWBjHsbCwsDCOY2FhYRzHwjiOhYWFhXEc4zgWFtYPw3FcWQUL4zgWFhbGcYzjWFhYvwzHcXQc63fG8S9fvtTW1sJeZWRkZGZmlpWV1dXVwkT8TWH9JvrmbPxSX19X+x/H5ydjZvYrxMI4joWFhXEcC+P4r92f6uqqnOxsO9t7oqKiu3ZJOTv/W1iQX1NTg78prN9HdXV1xcVFXp4ep06euHLlckJCXFOE/flzZVjYh3v3bM6f15aVPXLwwH7ZI4c1NNQtLMyD3r0tLS3+8qUeH0+M41hYWBjHsTCO/0Y4XlVVlZWZYWJixL982bp1a+zv38vPz6mpqcbfFNbvo7TUVMObN3hnzWjXrt3IkSOfubnS56msrIiOidTT0124cEG3bl379+83ciT31KlTxowZ1blzpz59es2bO/viBe2EhAR8PDGOY2FhYRzHwjj+OyWr/Pelrr6urKw0MyMtOyu9oqLsy3/1jMk01dXWlpeXFxcXl5SUVFZWcoz7n8tg7aWl8FrNmvK/fPlSX19fR85AqK6uQktVVHyqq6sjz4pPob9EhYUF70NDPdzdXZxdVFVUxvGMbccUHx+fr99z+vwvX/pv2byxSxeuTlwd+fmXm5ubJicn5OZmJSXF+/h4HjsmO2BAf56xY/UuX46Pj+f8BMbCOP6762++LOJbAhbGcaz/DxwHEK6srEhIiPfydPd57pWallxV/RkmEte6isqKlJTkwFev7tnc07usBzfjM2dO37lz29PTPSUlqaKigr7O2trakpLiyMgId/dnJiZ3dHR0zp49q6ura3PPJvD1q9y83NrahmSYmpoa4Pvw8A9Pnjj7+jwHAsvPz/P19TE2Nrp48aKWlpaBwVVn53+joyPLy8uIvcL6G26zfr7ee3ZLjR49ctiwof369e3TpzfC8cV8iyk4DudbYWGevr5enz59e/Tooa6uEh4eSpxjSBnp6bo6F1cI8M+aNVNO7igQOT7EGMfbWHV1dfCcB1e03NzczB+vjIyMwsLC3ySzkPjsOTk5qB/SD1IWU7/VZ2+MIVUD6qHPDnv4Q796OMFKSko+f/78m9wUyZ/9R6ulnx3jONafguPA4okJcZoaxzt06NCrVy+9y7oZ6anVVVXo3aioiMuXdfj4Fnbv3g1IqEuXLr179wbi4eLqCP9czr/Mzu5eSXER8BBBUUDzbm5PJCV3DBkysHPnTu3a/dO9e/eePXvCsl27dIalpaTE374NRHN//Pjx9es3hw4dgq337NVD88TxU6c1x43ngZV369ata9eu0OjZs8fUqZNOnTqB0wz+WhUU5N+5c3PhwrlwPvDy8no/9yK/CxfnN6/fHDki27lzlylTJnt4PKWvAW6Pdrb3BDesgzXMmzfn3bu3+KhiHG9jAY5YWVlt3LixT58+7X6Kli5dGhoa+lt99r59+/5tnx3p+fPn06ZN+zmffdCgQWJiYg4ODr8JXP7Onx3jONafguOfKyuTkxLOnT0DV9Hhw4ddv341LzeLCcqlnp5ue/ZIAQ336tVz1y6JZ8+elJWVoaVevPDdv196yuQJUyaPlz8mGx8Xi6bHxESfOXNi8uQJ8Kvh4eG5dEknMTEBPcTW1VY9fHB/+fKlPDxjJSV3Ojg8hE3AWyEhIaqqqiNGjEC/NUHBta6uj798qWNGPaujoj6oqyv17dt7/PhxVpYWH0tLSOiP9bcIziJ9/ctz5/IycHw2Fcc/fSqPioxQVz/eq2evMWNGW1qYfiwtokTHYQ3XrurPm4eAfpb3c3d8VDGOt7EyMzNtbGwEBQW5uLi4ubm1tLSePn364MGDe20ke3t74ImbN28ePnx46tSpcCovXLgwODj4d/js6enpFhYW4uLicFdbzLdYUUlR/6q+jq7O+f+xdx7wXG7/A7+XJKQrlKzM7BFKk7IrReUaCQ0j2hpKWioq7UsplZZRNETiiuyVjOytrMjes+7/w3N/379Ldavrm/V5v1z329fzfZ7n7Pc53/OcY3diUH4czjhc+uOSsbExKysr0VQoKCgkJycPn9QPDg4mEoWdnV1PT+/SpUtPnjzx9PQcrNQHAX327Bk0lkxMTLS0tKCkw0cug4KCBAR6Wv3ly5fb29vfvHnTy8vLw8NjOIQddRwZoTr+x6XzNdU92TUuLlZRYTH1+HHCwjMOHrQuLCzo+ylwndLSYju7E4yMjDw8PHfu3G5saujs7PD09IB/TphAvXbtGl/fpzU1NX0/VVNTHRQUaGy8kZmZSVlZOSMjHd5MSUnZuXPnb7/9NmUKs7W1VWLiq8bGhr6fSktLtbLaq6i4aOlSlVOnTrx79xZzEer4wGN8fB7PlJoJBwgLCVrvt0pK+n9Lqa6uvHPHVUVFmWjHZWVnBwT6Yayijn+NH5iUTOj4kiU9X8FIS0vHxPz9JWD7IEEMbBQUFID4qqiowFVmzZqVkJBA1kj4bDwMfPPdu3cgYYaGhvKL5I3WGT16/CgzK/N14uu4+LhB+UlJTcnLz7t85TKhfcNQx1+8eCEsLAw3Ji4ubmdnR3yZC0k2WKlPXAWslI+Pj4KCYgjlcmDqBwYGQsNPT0+/f/9+yJBEw9/Z2Tkcwo46joxEHefgYHdyvPS+vKSjo/Xx44ciIiJQtzAxMshISy5bqqqjvWr1qhWrVi6H3/CzUnO5qEhP5QMavWP7tmd+T+Nio8+eOTN9+nR4U2AGn7LSYo0Vy37X0iSO19LSXLF8iaKCPAd7z+iGmJjokyfelRVl4P2WlrtoaGiFhYX8nz8deIclPcMuN1ev0pjOyaq1WhPsHHMR6vjAYxoaGlJSkg4dsuHj44HDqKnHQx8PcvXEiRMpKCmZmZllZ88WmDGDGFLE7bdQx//dNsClSkqK7927Y2igLyQowMnJKSwktHSJ6qWL56HS/JKOq6mp9c6Imp2YmEiO2ysvL3d3dyekn9w6TlBUVHjkyEETk/WOTpfi4+OgpA08htBxIyOjRYsXbTTe+Mz/WWFRYVp6WsqblEH5yc7JLiktuX7juqCQILl1vKq60s39ztq1epKSkkxMzFOnTF2wYL6l5fbTp+0OHLDy8LhbV1/zWR0XEhKCG4NPOTg4lJSUkEn6ySGXfQ27q6s9MjL04EHrRYvkBAUF2djYeHl5lixRtbGxjoyMIM3Y7jt1OyAggJube9KkSVA7pKWlffaRsqEKO+o4MhJ1nJOT4/LlP4rfFX6oLHe9eYOvdy0LXl5eaF8M1q7dtMnMxNh448YN8AP/NzWFfxmvX7/+wIEDbm5uISHBUFisra2nTZtGSUmxYME8Q8O1GzasN+k5aiPpU2ampvCPtWsN7Ozs4mJj3hYVxsRE79y5k5qaeuZMyYSE+M/q+J3bd37XWs3NxfG71ioo7JiLUMe/dOTHT91FRQXeDx/Y2BzQ09P9/XetnTu2ubpe9/Ly/OPSRV0dHeg9Ll265M2bNxirqONfpLu7u6am5t69u0pKilAPrlihbm6+aceOHVCjqagoSktLSknN3LZta2xs9F9/ffysjpNPlMl3lYFj4c3NjYmJ8Xv2WLKwTJk6dcrWbZtfhobU1dV+SccNjQxBxzds3ODr55tfkJ+alpqUnDQoP5lZme+K37m4uIAgkknHu7o6w8Jebtu6Zd482fnzZi9dqgKtl6Wl5dZtW7W1f5edPYuPl2cGP5+09Ew1NeXTp09mZWX2k0VidFxCQuL06dMQIeRIffLJZVtb69u3BdevX12mvlRQcIa8/EJtbS1o9aF5hqy+cqWmsLDg7NkyW7Zs8vPz6ffFN+g4Dw8P6LiNjQ3UrU1NTcMn7KjjyEjUcQ4Odsc/LoKLw/tPnjwmxrllZGZCzQMS3NbWXv7+PVQyJcXQ8QdJLo6ICL/s5Hjd5VrC61fFJe9ycrPt7E7AeWhpabdssQgK+jM/P7+2thaaDzi4vLz87bt3GZkZz575XTh/1s3tzvvyMii20Jps374dPiIgMOPRowfQEg6s5+3tTixbpqaqqmhre7ioqBBzEep43792dnbW1FRHRERcvHjp+nWX7OzMtraW+rq6ysrK0tKStra2XqEs2r3bcv78ucuWLjlzxoFMbSXq+CjR8bS0VLAQaWkpKSlJc3Ozly9DiIVXoS0vKMg/ffoUGxs7BcWvysoKN25ce/++/O+Rg5KSEa3jBFBTP378cPfunZqaGqJiotAqUFJS9i74z2m5a0dkVHh9fd3o0/Hy8rKHDx+sWrWC4tdf2NimQZuXmZkOUQFNVENjQ2rqG7d7dy9dunjrlit0zCZNomdlnWZjsz8xMYH0QNVI1/GM9PS9e3fzcHOOTnzpAAAgAElEQVRCEGZKikNftPLDh6qqqoaGhsbGhri4OAeH04sXy9PTT1RWVoyJjUQdR1DHyafjxNzx6qqKv3ofyty2bQsnJxs1NdWiRfLe3g/6Lkbe2tb86JH3+vWG0tKS69YZJCf/PU/3+XN/MB4ozqysLBYWm16//sdod1FhwalT9pqaK1asWOZw+mRlZc+FkpKSdu/ePW3aNPgUDw/X/v1W2dkZfaKr5tKl8/z8vNAzv3LFsaTkXXt7G+Yi1PGBx9x/4CkoKACOpKSocOvWzb5PIGRmpO7du4t12lRJSXFPT/fm5sa+i9kjqOP98fR04+TkoKGh2bLFIjo6kujSkcjNzYH3mZl7lhABNQFZ/Dmi/HOuAr2Lpz6PrK336q/Rhc6r1uqVMjJSxBOKOy13RESOTh2Pj49bvXolcealS9UyMjL6t5Ttrd0fezbOePr0CS9vzxfH8vLzr151KisrHR06HhERsXiR3EQ6atnZM8+dO1VdXdXvgKzsrK3btkIAp7FOex7ghzqOoI6TVcfBfd+Xl/ZuJP6ptLT42rXL0B9mYpzMw8MtJ7fQ0NBw2/ZtFhbmqmoqU1mYeXm5160zBC//8KGSOFtdXW1IyAsLC1M2tqlUVL/OnCmupbXK2NjY3NzcyMhowYL5jJMnSUtDZWUPug9K1N7e8fr1696VVXr65OPHU/DzcSkoyBsYrLWwsNDX158zR5abm3P6dHYLC7OcnCzMP2MT8B87O1t+/p5J4Ty8PAGBzwceA9kDjpk5U6x3RU5qZWUlyEJbt27R0FjBycnOzDRZRmqmvd0J0lAm7h+COv4Zmpoa09NT9u3bTU8/kY2N7cKFc8XF/ccASktL3N3uLFnS8zClkJCQr68P8X55ebmbm9tI1/GPHz92dLS3tEBMNDQ01NbXV4F0srGx0tPTb9u+ZbTqeF4e9PjPmpka79q13cP9XmVlZb84KSsrefeuECLk5s0bxOjRypUrvLw8SUeOdB2HXO3ldf/mjWshIUGFhXmg1NA8V1VVQa6GMEZGRjg4nIIey+zZMps3m6enp6KOI6jjg6zjba1FhfnHbI/+reMXz5UUv4U3ib9CtZz6JsXZ+YqZmam8vLyMjIyYmJikpKSSkuL69UZ37t4myU1famqqAwKe2dgc0NHRnjt3bs8XvpKS0HCsXKlpZbU78M/npPPX1dVBDOzcuZOBgYGVleXIURunyxfBxefMmQsfgcvBhXbv3vXw4YO3bws7Ojow/4xNoL8XGPjc9ughg7X6R44cysxM/4JIdCYlvTp79rS29u/QWBMZb968eerq6kePHgkOflFdXY0LZaKOf43y8jKQEk1NDUpKSgGBGXfv3AYr7fdlSlXVhxcv/tyw3mjChAnc3FxXLjsSy1FVfvjg7u4+0nV8IJ733aZP56Sjo9u6bdTq+KdPH7u6OuHnY88iu//oqUMrGBb28oD1fj1dHfD1JWoqzMyMCxfOc3O7W11dRdqKaOTqOLEvdr83qz5UPnn8eNvWrUuWLIHiICs7e/Lk32Rny5w/dzonO4O0NQnqOII6/t8L4P93+0uL7U4c6xXiaZcunS8rK27/Z1n7353XFRUVZWVl5eflgXB/y1VAoKFrnZ+fn5ubW1JS3NLS/KXYoKamFpcQi4wK+6vnMaquDx+q8vLyQAJaW1s+e9vImOLTXz3tRXd3Z1dne3dXZ++3N399PWNAFi0ogIyX09tj/Ii5CHX8myC2syFkV1hY6MF9j/a21n6yUltbExUVZmFhRkdHy8nJefHC+ffvy3p7jaNSxz/ec7vNyclBN3E06/hAmpoac3KyPT3drax2y8nNZ53GQlxXVERo584tYWHBpFGlka7jn225y8pK7t29o6WlBYGCbCYqKjJt2jRJSYkNG9bdv+9eUvwOdRxBHR8swHqhXo2NjXZ0uqSkpAjViIiIkJeXR0dH60Dd+WHd/9fYiIuLMze3gMLCw8v91PcR5hAEQR0fMh2vqKjw9fXR1dWmoho3Ywb/3Tu3Ghvroa7se0x1dVVw8J/r1xtRU1ODhVy/4UI8qVBZWYk6PtJ1vL29vbj4XVxczOnT9qqqiszMPUsTSEpKWlruPH/+7OEjh7y9vVpbW0mjWaNDx6HJBwVv7gVeDGy/q6ohb99TVFTsXfyY8cyZ08Xv3pImcaGOI6jj/4XexSheWlpu5+PjnTBhgqiI8JEjh97+3HVLGhsbU1JSDh8+LCAgoKioEBzyJ+YQBEEdHzIdb2trLSzMP3bsKCMjIwvL1BMnjmVnZ/ZbR7moqNDR8Y958+YSW7wGBQUQ74+OueNjWcfz8nJdXW9oa6/m5eXm5+fV09OFhH75MqTqQ+W/DjiNaB2HDmd6epqrq+vVq1cjIsLLy8s+OzfU09OdeIxVQWGRi8vVsrIy1HEEdfy/09nZWVtbm5OTHR0dlZKS3Nzc9PPvoaurq6GhIScnJywsLC4urmrAw9wIgqCO//WTV1Z55u8rISFKT08HQvboUf8mPDo6csXypZSUv1BRjdPV1SOtwjE6FjocmzpeWVnh7/9UX18X0pSVlfWk/YmC/Nzu73nQZKRPVnny5BEXV8/axpqayx88cK+oqOjX/WhqanR2vsLOzk5NPd7QcM2zZz6k1VdQxxHUcQRBENTxQSY3J/uk/fGFC+dysLOuWaObkfH33mMdHR15eblHjhxiYmKio6MzMd4Y9Oeftf/bEmV0LHQ4NnU8NjZmxfJltDTjWViYLCzMIJW/9wwjXccTEuL19H6no5swbhyluvry0Jehff9aVlbq6uqiqLgIAsjPz3/nNvGIcxfqOII6jiAIgjpOLrq6OoODg4yNN/Dx8bKwsLCzsc2UlBARFmJg+I2Hh2vlSnUXlysFBXkDRZnc29f/nKv01XHXWy6TJzPA5UxNjUPDXn5lV04jI6MRquNeXp68vDy//A9KSkpqamqqzwFi17uzxrSlS1VcXJxJEzZ+vo4/evRoEOWyvb29tLTk/n33DRuMhIUFpk2bysrKIiEuJi0lKSDAB68ZGRnk5Rfa2x8Hce/XJfv5Ov7tYSdfjCGo4wiCDKSmpiY2Nvbp06d+fn5RUVH5+fmNjbjdD+r4f6B3u9eazMzM8PAwb68Ht1yve3jcCwkJzszMKC8va21t6TeBeJSOjv9V31Cfl5eXnZ1dUfG+pbXl48fuL+n4yB0db2hoKCgoSE1NzcjISE9PhxdvvkxKSgocVlhYUFNTPQoWOuwn5dXV1Xl5uQkJr/yf+d27e/v2rRuPHj4ICwuBKCkvL4dadWAGwNFxBHUcQRCC6OhoFZWejVmoqKjk5OTOnz8PLWZzczPGDOr4INDd1dXa0vz1PYFHq45/Cz9fx5WUlKCnRFx9OKxdOpoWOiTFalsb9Dqbu7o6v34k6jiCOo4gCEFwcLCoqCjRUvPy8h4+fDglJYVM7QLq+JjT8W8XZVVVVciCCxYsIJOQdXV1PXv2bOXKnh3dZWRkho+O37hxY926dUrKStu2b4uOiW5qbnpf+b6krGRQfmpqazo6O7y8vEiFXFpa+s6dO/0WvRlCNQ8KChISEiL6SM7Ozp/dvOO/k5iYKCIiAlcZVlMvQMe5uLgYGRmhH/L+/XsyXeXHwo6TVRDUcQT5mbx8+RIKFNFSQ7N47Ngx8g3ToI6jjn+G4uLiW7duEd/RUFBQLF26FCp6ExOTDYOEsbGxmZmZtrb2/PnzJ06cSCjpsNJxDQ0NDg6OKVOnyMvLr169eoXGiuWDhOZKzd+1f58tO3sc1TiikDMxMenq6trb2589e9bHxycvL29od9wFHefj4yPmnUtISID8mZubQ5INVuqbmppu2bJl8eLFxDeA0B+7f/9+ZWXlcEj9wMBAbm5u4inPFStWGBgYwN1u3LhxOIQdR8cR1HEEQR1HHR9DOg5+8Pz5cysrKzU1NfASEBRwU05OzumDB5wNTisgIACGAS8sLCxycnKGSdgDAgL27NmjoKAAN8bLy8vDw8M7iPD0nFBQUFBKSmr27NnQD5GTk9PU1ITfzMzMU6ZMWbBggYODQ35+/lDFwOvXr0FDIY1ERESgAoK7HfSkh+wEcQuRAP2TQ4cOQZVXW1s7HFKfCDvcHmR7SCsuLq7hE3bUcQR1HEFQx1HHx5COt7e3V1RUpKWlRUZGvnjxIiQk5CXZgPMHBgYmJycPkyz+M8MeERERFxfn6em5a9euWbNm0dDQEMX+t99+gzwKPaIhUa66ujpozqFPEhwcTL6wQ8RC9EZHR2dkZEAwSQ+SDi3DOew4WQVBHUcQ1HHU8bGi40P4NOGQP8g4JDfw7t27o0ePiouL09HR/dIHXl7e7du3BwUFkZYg/AnBH7OpP/zDjqPjyNd1fMuWLVRUVDIyMunp6RgnCPLfiY2NhQJFtMgiIiKnTp3Ky8vDaBkUqqqq7t27Z2Jioq6ubmNjU1BQgDqODDGZmZmQF8XExPrpOAE9PT10H/39/UtLSzGuxjKo48hXdDwuLm7z5s3jx49nZ2d3dnbOyMiIiYkJRxDkh4iPj09LS7t48SLUukRbPH369I0bN7q6ugYGBoKmR0REYCz9GNHR0a9evbp//76lpeXSpUsVFBRwdBwZFuTm5p48eXLOnDmTJk365QvMmjXLw8OjqakJNyBAHUcdR/oBNUNqaqqdnR1pJI/gVwRB/hv92mKMkEGMUnjNwcGhrKzs6Og4JAOOqOPIP2hoaEhMTLS2tubi4hoo4vCmqampt7c39NSbm5tRx1HHUceRz1JXVxcZGfno0SM/Pz9/BEH+A8HBwdHR0SdPnuTl5SXaYhBHAwMDJycnqH5fvHjx/PlzjKX/wrNnz3x9faFdI7Y7bW1tRR1Hhv6L5levXllZWU2fPn2gjktISFy+fLmkpIRM638jqOMIgiDIQPBRztEN6jjyD9ra2t69eweCtWfPngsXLlRWVkLPm7RJED09vbi4ONQCxcXFGFeo47iyCoIgyM8hNDRUSkqqn443NzdjzKCOI6OQT58+dXd3t7a21tfXExsAFRQUnDhxQlpamtgjCZg/f763tzcc8/HjR4wx1HEcHUcQBCE3ODqOOo6MaUC78/Pz7ezsODk5iYqAhYVl1apVbm5uFRUVGD+o46jjCIIgqOMI6jhCdkJDQ9XU1PrOI9fT0yspKSH+isPkY1nHcbIKgiAI6jiCOo6Qndra2pCQEBMTk99++42oDnh4ePbv35+QkNDW1kYcM+QbJyGo4wiCIKjjCOo4MpqJiYkxMjJiZGSkoKCAGgF+r169OiIiAmNmLOs4TlZBEARBHUdQx5GfRFdX17t3706fPk1aBpGFhWX9+vX+/v719fUYP6jjCIIgCOo4gjqOkAvSXJSUlJQlS5aQJpFTUlLq6Oi8evUKo2hs6jhOVkEQBEEdR1DHkZ9KYWGho6OjkpISIyMjUTXw8fEdPXo0NTUV10AdgzqOo+MIgiCo4wjqOPJTaW1tLSgoOHnyJBcXF1E1TJgwgZub28rKqqioCOMHdRxBEARBHUdQxxGyExMTs3Dhwr5LH86fPz8yMhJjZqzpOE5WQRAEQR1HUMeRIaCxsTE5OdnGxoabm5uoIOjp6aGyOHHiBI6Rjykdx9FxBEEQ1HEEdRwZMhISEjZs2DBlyhQqKiqimpCRkbl582ZlZWVnZyfGD+o4giAIgjqOoI4jZKSxsRGMfO/evWxsbEQ1MWnSJDDyU6dOkfbsRFDHEQRBENRxBHUcISPh4eEaGhrjxo0jzSNXVlaOiorCmEEdRxAEQVDHEdRxhOy8f//e09NTW1t76tSppKUPbWxsEhISGhsbMX5QxxEEQRDUcQR1HCE7bm5uHBwcpMc6RUREbG1ty8vLib+SdhFCRpmO48oqCIIgqOMI6jgylJA8u6Cg4PDhw2DhpMc6lZSUAgICUMRHt47j6DiCIAjqOII6jgwX2tvb79+/P3/+fKLKoKWllZWVvXjxYlVVVT93R1DHEQRBENRxBHX8a4xlcfyBsJM+Ul5e7uzsrKSkxMDAQFQcgoKC4OhdXV0jKAmGPPWHedhHq45/6gVrPwRBhhuvXr2SkZFBHUcdHzJA4xoaGkpLS/Py8tLT09PS0lLJAJw2vRd4UVxc3NbWNqzCnpOTk0o2IMiZvUDw371799/DDmdwc3OTlpYmzSOH13Z2dgUFBd97qpaWlqKiIrjDjIwMcqd+fn4+9CUaGxu7u7uHQ+oTYYfbI1/Afzjso3t0vLa2Flq+wMDA4ODglwiCIENKTExMSkrK+fPn+fn5UcdRx4cMaOmhXdy/f7+amhp0DZWVlZcvX66urr5skFDvZenSpXBmWVlZyOWbN28G/R0mYQ8ICDhw4MCKFSvmzp2rqqo66GGHE8JpFy5cKCkpKSAgsGXLlv8SdtLIYm5u7r59+wQFBeno6IjqQ0RE5N69e1B3fJfsvn792sjICG5szpw5ioqKS5YsIUcMwJkha8GLI0eOhIaG1tXVDYfUh7AbGhpCHMrJyUHmJ+XV4RD20a3jEDouLq5fEARBhiXQJtra2oKjo46jjv88SkpK7ty5Ax5GQUHBxMS0Y8cOV1dXR0fHC4PEH3/8ceXKFXCRNWvWEG3w7NmzwYSGQ9jfvXt38+ZNHR0dCQkJMGbw8mvXrl26dGmwwn758uUbN25YWFiQFigE80tMTByUkV3Q+uPHj3NzcxNnnjJlCjjf7du3Kyoqvv08L168AB+FjzMyMoJBHjp0iBwxYGJiQktLS01NraWl5e3tPUzkEqSQj48Pwr5o0aI9e/acOnXKycnp4sWLwyHso1vH+87RhDBCzTN+/HiIpYm90CEIggwRxEoJ0tLSJ0+eTEtLa25uRpFFHR80Pn361N3d3dXVBb8/fvzY76+lpaX37t1TU1MjRHlQZHEg5eXl7u7uIP1wlVmzZiUkJJAvmF9iYPDfvn17/fr1DRs2ECYK/yRH2MPCwqSkpAj5UFBQSE5OHqwzh4eHy8rKEmcG4WNgYDA2Nk5PTyf+2tnZSYSa+P3ZObug40JCQvBxSUlJBwcHMu30CVchk1xCgn490b+SAQICAqAzM2nSpIMHD0K129raOnzCPnZ0fMKECezs7FD/7N279/z589AE2iEIggwRtra2IANXr16NjIysrKzs6OhAkUUdHzTepKZYWm5fvVrz0KGDf/4ZWFNT8yUdJ5Mok65CPh2vq6uLj49zcnI0NzdfuXKljo6OXh+0tLSWL1++z8rqRVBgbU1VV2fnQB0HJyssLCS3fAyujoNhg3MTillYWHD7tquZmYm6+lIpKUlhIcGFC+dt3LBu585tpqYbz5w5nZAQ39bW2q9DArIoLCwMNyYhIXH69Ol378iSV8khl58+fWxtbQ4JCd61yxKSD86s9wV0dXXhr5vMN9mfPPEiOKi2toak4zw8PKDjNjY25Jsj+GNhHzs6/ttvv0GFABZOKn3dCIIgQwo0lPjcOer4YFJZWeHl5fG7luakSfSMjIxr1qwZuKXIz9Rx8l2lqKjQ2dlJT09bXn6hoqKiqamplZXVLjC1XrZu3bpp06YzDg7RUZH1dbWkRUhGtI6TaoqystIbN1w0NVfw8HLLzJKysdn30NvT/9nTSxfPr9TUkJAQnztXFn5zcHBs3LghJydr1Og49C5iY2NOnrQ3MTHdtm2b5T/ZtWv3jh07NluYy8vLUVGNZ2GZamq6ITDwWU1NNer4sNLx2bNnOzg4FBcXY4OBIAiCjDYdb2quv3HjmpCQINHsCYsIGxkZeXl5VVZWjj4dT0lJ2rzZTFl5kYWF6e3btzIzMxobm6qqqip6ef/+fXl5eXV1dWtLy8c+0zZG+ug44aUP7nuKiYnR009cvXrlnTu38vPz/tb00pKgoMCHDx8EB/+5e7clMaHl6NHDYOStrS0jXceJDklrayukMiQuJDEprYG6uvquru6kpKRjx44uXrxQUJDXwEA3Kiqy78dRx4ePjpMv7yEIgiDIkOn4y5fBq1ZqSEqKb9hgZGyyfrGCnKKSgqmpqYeHZ0XFKNTx8PCw+fPnCAnxnzxlV1iY/42fGuk6XlZWdv++x3L1ZXBmUVGRwMCALx1ZWfne2+vBzZvXIyLCS8tK29vbR4GOf53a2upbt27Kyy9QVlb0vO9eU1vV75tH1HHUcQRBEAR1fDDpu03MrVs3DA315eUX7tyxPSsrMynptYnpxkWL5U1MTNzdPfqtvDE6dNzv2dMZM/gn0tFuMtt40v74li2btbV1li1T19fXP3TwYNCfgc3NjaNPxxMSXq3V1+VgZxEQ4DU2Xvc8wC845IX1AWsNDc0lS5Zs3Ljh4qUL7u53r11zDg7+s63t7yfEu7r+//uB0arjr1+/MjRcKykptnKlBgS/qupDv2KCOo46jiAIgqCOk4unT5/IysrIyEjdvu3a3NxjGDk52aZmxvMXzDU23ugx6nT806ePLS0NzledWKax9LTuk2iFhWfMnCnZu873DBaWKbQTqPn5ePX0dN3d3crLy0aTjoe+fDlLpmczIAlxEYXFcvPmzoZ0h7CLiAjz8/NxcnKwsrIwMjLQT6SVkpLYutUiKCiwre0f64eMPh0Hq371Ks7MzBgCxczMdOuWa2try6cBCwqhjqOOIwiCIKjjg09KStKJE8d0dbX19fVcXK62t/+9+yPouLmF2aJFchYWFj4+T9va2vt+qqSkZETreHt7e1lZyd27t1evXjV37lwjQ4Nz584+f/48BaIjKdHX1+ek/QkIO1yXiZFxx/atUZHh9fV1o0PHg4ODRUREiTNzTedcoqZ27Jjt06c+EPTk5MSHD73377Nav37dtq1bVJSVKCkpBAVnXLniVF5e2tExaierhIa+VFdfNmkSPQ/PdEvL7Xl5uV86EnUcdRxBEARBHR80PnyoDAjwW7tWF5QLmrfdu3f6+j4J+jMwOioyPj7O+crlJUtURUVFli5ZAn7m4eH25k1KeXkZseZdWVmZm5vbyNVxCAUY+fv35ampqeBeXZ1dA4+Jjo5YtlSVaP61Vq9OS0sbHToeFhY2Z87f646rqiq/ehU/MHL+p3eBkpISvbsbSDictn/37u3o0/GWlubs7Mz9+62oqcczMzNdvHiuvLyks7MDdRx1HEEQBEEdJ3szk5ycZGqynp1tKsNvE5kYfxMU4JUUFxYS5BOYwQO/p3Oy0dNPpKamnkQ/kXHyJCbGSZoayzw87hErvlVWVrq7u4/o0fHKyg/QqaiurmprayO933fR0Jyc7O3bNzMyToKrz507l7Qn6EjXcfBvXZ3VdHTjqcdT6OvrFhTkDww7QULCKzVVJerxv/Jwc+zZvTM/L2/06Th0xk6dOrlw4XxWVhaIjfz8XFJsoI6jjiMIgiCo4+SlrKz0off9I4cPWO7cama6EX5MTTfAbwtz021bLVav0hQQmDGVZaqgoIC83ILVqzRO2h+PCA8lZpa/f/9+RI+OFxcX37lzZ/u2rYYGa0/a22VmZgw8xt//2eJFclTjfmFjnbJt6+bc3JzRoeOFhQWOjhcXLpxHQfGLrOzsFy+C+v4VNLS2tqaurubjx+4HD+7z8nLDDSxTV71779b7ivejT8fj4uK0tFaLiQkbGelDb7OysuLrx6OOo44jCIIgqOODw79uHJWVlWW2yWSh3IJNm8wePXrc3NLS968jfe54ZeV7P78n+vq6tLS0TIyMmzdv8vf3zc7ObmhoqK+vT05KvHH96krN5Qy//cbHz3f48IHExFeNjQ2jQ8fBsxsb62/fdpWWnsnMzKShsfyyk2NS0uvGXmJiYuzsjpuZGe/ebblqlSYLyxQ5uQUPHng0NtTBB0k6LiQkNDp0/P4DD3Z2Nja2aVevXq6qqvjKNBXUcdRxBEEQBHX8p5KcnGRubqaotNjcwvzBgwejchug0tISl2vOS5eoTZky5ZcBiIuLWltbxcVFNTc39/3UqNgG6C/wzrKyt5cvX5wlI9Uv4NTU1OPGUcKLOXNmX79+pbT0LbEBEGlf0tExOt7YAP2uBKu9lszMjAsXLvjGGEYdRx1HEARBUMd/Eo2NDVmZaa8T4jIz0t6Xl3d0dIw+HSdoaKjPzs58/Pihvb39zp07raz2XLniFBkZXln5vu+08lGm4wQdHe3V1ZVhYSFnzpzZunXr9u3bL126GB0dWVICnlMYHh76xx+XDhw4cOzYsaNHj1pbWz9+/Piv3gkeYmJiI13Hu7o66+vrcnOzIiNCkxITmhobUcdRxxEEQRBkGOn4p0+fPgLd3fBr4MwWQpSXLFnyE3Sc3FchAtvV1QXy3doL9D26u7u/dPBo0nECCGx7e3tLSwuEHV6Qwp6UlGRqasrOzk5PT0/ciaKiYlBQ0P379/n5+eGfcIc/R8cfPXpEDrkkMnl3Tybv/uvfpm8NlY5/e9h/QoyhjiMIgiCo48OFvuPWc+bMSU9PJ8dVampqvLy81NXV4SoyMjLk0/HvgqTjy5cvP3bs2Pv378lxlZiYGAjyz9HxLwGCnpWVdejQIdJkHiYmJjk5OVlZWWpqahoaGnhx4cKFqqoqclw9PDxcUFAQLjqsxnpBx7m5uRkYGGxtbXNzcz99m8T/nLDj6DiCIAiCjDkdB1GmoqLi4uI6deoUNJZPnz59OEj4+Pj4+/u7uLhs375dXFy831KDQwsYgKurq4GBAdySpqbm5cuXAwMDnzx5Mlhh9/PzCwkJAdvj4eEZWh0nSE1Ntba2FhMTo6Ojg5uh6AVegI7z8fFBPFy9epUcMXDw4EHoBtDS0uro6AwfuQwKChIQEADlXbVq1fnz593d3X19fR8/fjwcwo46jiDIf2fgordkvRZGOII6/p+UFFxZXl6e9PwfuBr42YTBA842btw40vlBB+Pj44dD2N++fXvt2jVFRUVKSkri3kCbBjfghPj2eahU/NWrV0MY5I6Ojps3b0K/65fPAV2yQU/6vjGwdOlSNze3ioqK4ZD6AQEBrKysxPbjX4MAACAASURBVI1Bt2T8+PHDJ+w4WQVBkEEE2lxvb28/P7/nvcCLJ0+ePOrl8TdDHO/j4/Ps2TN/f384yYsXLxISEsj0tSqCjC0db2pqys7OhqJ148YNBwcHaBdPnjx5arCB0549exbODyeHUj1M9IIIO9QsIOXkCDUApz1z5szFixfPnz8P/xzCsJOGLjIzM01MTJiZmUG+SRNXoD9mYWFx9OhRuE9IpsGNAUh9iARXV1ewzPz8/NbW1uGQ+iUlJZ6ennZ2dg69wE2SI/V/LOw4Oo4go55vGU7u6uqqrKzseR6/sLC4uBhq74iICDBpd3f3m704OztfuHDh4MGDUIEb9qKvr6+np6ejo6Orq7tmzRp4R1VVlY+Pj4GBYcqUKVDzMzIy8vPzL168WFNTU11dfdk3s3z5cviInJwcMc0PGg42NjY41bx58+D9tWvXEtcF4B7Wr1+/YcMGuLqlpSW0gLdv375+/Trc8N27d728vHx9faOioqD9haBBxVhRUUFa7+u/RBeCjFQdH8L8/dnnSjHsP4H6+vr4+Pjdu3eTxoY5OTmNjIwCAgLgxkZ95P/1v+c+h3PGQx1HkDFCZ2dnSUlJWloaeHZQUNC9e/egOFj3sm3bNgMDAzBmRUXFhQsXggdDwYHqmoWFhZeXd9asWWpqavBXBQUFSUlJDg4O+JOUlBS8CVoMKgy1OtgwnAHM2MzMbPPmzaDsmzZtMjEx2bNnz7lz51xcXMDmr3wzcDB8xMHBAQwbTmLeC5x548aN69atgwvB5eBa8CcQdwEBAULZ4QXcv1YvIO7wDiUlJfwJgiAjIyMvL79o0SI4Hj4O4d23b5+Njc3+/fsdHR2Dg4OTk5Ojo6MLCgownyCjXMeRMYu/v//8+fMJJQLtg8pxy5Yt0CrgOMRwACerIMjoo6GhAcwyLi7uxYsXXl5eN2/eJNbkhWK+ePFiUVHR6dOn9509OHnyZCgg06ZNExQUBJFVUVEBbQX/XrNmzY4dO6DUwBnu37/v+T+eP3/+6tWr0tLS9vZ2Uk3eD+J9Yg0uYv2xtm+GOB4+SAxnfPocxPkrKytBpt3c3Ly9vSGk7u7uHh4e8PrChQvg7suWLdPQ0FjZC3QzuLi4IJgQ2AkTJvQNPsTGnDlzoKexYsWKI0eOXL169eLFi9BdiYqKyszMTE1NLSoq6reXCIKgjiMjDDDvK1euKCoqkpY+FBcXh9oTa7fhpuM4Oo4gIwVQ1aamJpDRt2/fZmVlvXnzJjo6Gooz+KiTk9O+ffsMDAwUFBSkpaVBsokn6QnhBvj5+WVkZBYsWADmvXbtWjBXUG1XV1ew2IiICDghafcM0nq+UF03NjY29UK8rqurq6qqqqioKC8vfz9EwKWhyoK+B9xSUx/g9sDm+30zCcf7+vpeu3bt7t270CQdPnx4w4YN0OUATYd4kJCQ4OHhmTp1KiMjIzG7kpmZmRhKV1JSApvfv38/fBYiCno48fHxGRkZ2dnZEFcQA6Q+ST9wsAl1HEGGHf7+/mDkpMcZp0yZYm5unpKSgjGDOo46jiBfAYQY/BLct7i4ODc3NzIy0svL6+LFi8ePHzczMyPmkIA4gmETg74glKKionJycjo6Ops2bTpw4MCJEyeuX78OMhocHAxVcUJCAigs6eQtLS2EasObtbW1Qy7Z5BP3+vp6QtZB36GP0dnZSVL2mpqa2NhYiJyQkBAfHx8w72PHjllZWUEczpo1i4ODA7oxtLS0xPpgEL2LFi2CGNbQ0IAYhrR4/vx5ci/QNQJHJ0UvgjqOIMMLqOWhJYCaizSPnI+Pz9bWNjU1FYfJUcdRxxGkL6DIhBmnpaWBRp87d27Pnj1Llizh5uYmLc9FTP+jpqYGEd+xYwccAwZ5//790tLSv3pnisNJiJFsAEwUTljTy6gU7v8o65WVldXV1UT8QERBdBHx1traCj0WkHjoC4WFhbm6uoKjGxgYzJ8/H9KCjo6u72JukDT8/PyQTFDPxMTEwAnhtHV1dXASHClHHUeQYURUVJSsrCxRc40fP56NjQ1akezsbIwZ1HHUcWQMApbW3d0N6kxMmO7o6IA3MzIyHB0doUhKS0tPnjyZmGpCQlBQcNOmTSdOnNi7d6+Li0tubi58nJg6Av4HRRhUGw170IFYBbcmIhmUHQQdoh1S6urVq6ampqtWrZKUlGRmZobEIvWXQNahp7R169YbN24kJibCx4mEhlSGF91f2L8cQR1HELJTVFTk7OysqqrKyMhIVFhgS9evX4d6imiHENRx1HFkjNDe3l5WVgZlELKlrq7uvHnzpk2bNn78eCLHQiW5YMECQ0PDzZs3Hz58+OzZs76+vjk5OWDeUGGiHw83oPKsra0FQYeK9MyZM8TcdCUlJW5ubtKTo5CmcnJyu3btAokPDg5+9epVSUnJl6aeI6jjCEIuOjs7KyoqLl26xMvLS1qJfPHixU5OTsQXrMgQ6jiurIIg5KapqcnPz8/Y2FhISGjcuHE0NDTEYCpYOBcXF/i3pqamnZ1deHg4iFphYWFBQUFRUdHbt28h30IlCdoHLl7RB/TgIR81J0F0kyCZILEgySD58vLyIAXhn0FBQUeOHFFTUxMVFSWWdoFal4KCAmRdXV395MmTAQEBw2TfOgR1HBkrxMbG6urq0tHRkb6EXbFiRX5+PvFX/PJuqHQcR8cR5D8ysPpqb2/Pysp69uzZrl27ZGRkwL9J499Q7hYuXLhnzx5HR8fnz5/Hx8fDkdnZ2eDfYGbEzJPK/4HyPbIEnZRwxPwWeB/sPLeXp0+fQqIvXrxYTEyMgYGBNO8c+mPwppWV1f3797GaQh1HELLT3Nycmpq6f/9+ZmZmoiZiZ2c3MjLy9fUlPZCOUo46jjqOjAj/HlhZlZSUBAQEXLt2zdjYWFpamo6ODorYuHHjpk6dOmfOnDVr1pw4ccLd3T0iIiIhISEnJwfyJOlRQpz/PVodHZIV0re+vh7+CZ2u169fx8XFBQUFPXjw4NixY3p6esSSi8SuRpycnCoqKmZmZiDut27dSklJ6e7u/te+H4I6jiDfTXJysqWlJT8/PzU1NSFMampq0IZhFTNUOo6TVRDk2y283zupqalOTk6bNm1atGgR5DomJibIdbS0tOBY27ZtO3XqlJubm6+vb2RkJFR9kAnr6upaWlpAztC/xxpE1wsyQEMvtbW1kB9AuCFvhIaG3r9/38HBQVdXV1hYmFi2hZKSkpeXV11dHTLSvXv30tLS+i6pPoQbPyOo48gooamp6erVq6T94ZiZmTU1Nd3d3WtqajByUMdRx5HhX4NBCTpw4ICCggLIE2nxE6jKQJ4sLS3v3r0bFRVVWloKR3Z0dDQ3NxMLDhJLDaKYIsTAOeQHyBWg5o2NjfAbWsD09HQ/Pz8XF5fLly9DH09ERIQ0pwVqbB0dHVtb29jYWCyDqOMIMjhjS5mZmUZGRvT09GCEpHnkERERGEU/X8dxsgqCfKmmImhra8vNzQ0KCnJzcwMLX7VqFR8f3/jx42loaECYoO4yMTE5deqUu7t7SkoKMfUORBzX+Ua+d/gc7Bw6b8QEFcg8UFGfPHnS3NxcUVFRSEiIiYkJGk1RUVFoPc+ePQu9PlBzyGD/moER1HEE+TxQ6URFRe3YsYO0PRAnJyf8Mzw8vK6uDuMHdRx1HBlyQHQCAwMvXbq0YcMGeXl5qKMmTZrEzMwsLi6up6d37NgxLy8vyGwFBQWtra2EtUPNBlKFCo78F8p7qa6ubukFXmRlZYWGht68efPo0aPQ/SO2hRo3bhwvL6+GhsaRI0du3boVHx9fVlaGUo46jiDfja+v75w5cwhtoqCgYGBg2LJlC0mbsCr5OTqOk1UQpC9VVVVRUVFnzpwxMDDg4uIirc26cOFCeOfy5cuvX78mNm5sb2+HF2BLOAqOkPth0IaGhs7OTiJ/gprb2dmtWbMGqnEqKioii8JreMfR0RH6kP28HEEdR5Cv8fbt23Pnzs2fP3/ixImk7YHADvEhlZ+p4zg6joxB+vb229raQHfAp9+8eQMqY2ZmRlqUkJ2dHSzc2tra19e3pKSkubmZ2AsTd+RBhmrgHPIe5EBiQgu0odeuXdPW1paRkSF2ciX2vdbX1/f09MzLyysuLgaPH7g8C4I6jiD98fHxWbBgAdH4QUefg4Njx44d6enpGDOo46jjCFkBvU5KSrp169bmzZtVVVU5OTmhCpo0aRLIjaGh4YEDB8DCwYHgSHAaYiEUHAVHhtuEFsic0FeMiYlxd3fftWuXsrIy1HvECvdycnKHDh3y8PCAJrW2thaLPOo4gnwRaOSgzVu3bt20adMIhRIUFAR/ysnJIWZkImTVcZysgowpSEuGR0ZGbtmyhZubm7QxGVj4iRMnEhISQLvb29vBcvBxTGSkzGkBNa+vr4ccW1RU5OXltWnTJlFRUdJ+Q5DPjx8//ubNGziyq6sLx8tRxxHk84SHh0NbSFQc1NTUnJyc0MvPzc3FmCG3juPoODJ2aGxszMrKOnbsGNQwRA6ho6Pj4+OztLRMTEz8+PFjbW0trkWIjHRAyuvq6oqLi+Pj48+cOaOmpkaMlxObgJqYmPj4+FRWVra1tWGdgDqOIP+goKDg/Pnz8vLyRK0BzJo16+7du9A6Qlce4wd1HHUc+S76zg4HC4dccfTo0QULFkyaNAkyxoQJExYvXgwZIyoqCgSdNMSILo6MmvFygrdv36alpT1+/PjEiRMKCgqQ8yH/QylYuHDh1q1b/f39m5ubsbpAHUeQv2lvby8pKTl79iw3NzchUlOmTIE+vYuLCz4kjjqOOo58u4WTngUvLy+3s7MDBRcQECCezmRjYwMFATWJjo7Ozc0FU3nfu94zbpCJjG4ph+a1sLAQ8nxOTo6bm5uenh47OzsNDQ3RNdXR0em37weubIY6joxpoqKiVq1aRVrWAIB/QpNJ/BVXXEEdRx1H/nUsHAARsbW1FRUVpaWlJXLCxIkTQcSDgoIyMzOrqqqqe0ELR8aOl0O3k5hfDtm+oKAAav4dO3ZAT5UoIERz8Pz584EijmqOOo6MORoaGuLj43ft2kV6rJOTk9Pc3Dw4OJj0hRpWDajjqOPIwLFw4PXr11evXrWxsVFUVJw0aRIVFRUY+fr168+fPw+5Ii8vr6amBlwcLRwZs5SXl0P+BykHO8/OzoYO6vXr142NjSUkJCZPngwtL1Seq1evdnR0TE1NRSlHHUfGNGFhYaqqqr/0Yfny5WDkGDPk0HFcWQUZ6TQ1NXl6eurr64NS0NPT09DQCAsLr1u3zsnJ6enTp1lZWSAfHR0d+JgmgvSVcigRdXV11dXVubm5ERER0JXdsWMHqfLk5+fft29fQkJC37KG31Gjjv/IqAmGfYTeBrSdPj4+0LhOmTKFqBeYmZm1tbVBHBsbGzEJcHQcdRwrN6C7u7ugoAAys6mpKbGVGAMDg5qa2qFDh/z9/TMzM8E2GhoaiF17cLFCBPksUDqgpDQ3N0O3FtQcCpSVlZWoqChRhUIXd+PGjXZ2dtHR0Vj/jGwdhxqztbX151SIcP6ysrKampphshbHWA47QUdHBxRvuLFvn98GakhE140bN0hLHxIz29TV1f38/Iipb3BM34Eu0hdwbW1tw6T7/r1h/+9fPn572FHHkRFn4X1FHOwB8vCRI0cUFBQ4ODjAwvn5+XV1dR0dHZOTk4k9C6FE4Fg4gnx7O0J4OdFsQS165swZTU1NAQEBYmF+ERGR48ePp6SkQMnCoc8RqeOQurGxsVeuXNm9e/eaNWt0dHS0tLRAArQHDzgbVMT6+vpwfvjnuXPniouLh0nY4+LiLl++vH37dgi4bi96gwdxwrVr10Lndf369XCJs2fPDpOwE2RnZx87dgwSyKgXSKB/jQE4wNDQ0NTUdOnSpWysbH2nrEyaNEleXh4SGg6DU5FiAF5AJECHHgw+MTFxmIygQ9ih8lq9ejURLkidQc/2UJTgtBAh+/bt+66wo44jI5ScnJzr16+bmJjw8vISexQsWbLEwcHB19c3Ly+PGOSD/Ixj4Qjyw1IORl7XC5Sp0NBQe3t7dXV1dnb2iRMngpSbmZndu3cP3KbvNp8o5SNAx8EOb968qaSkRNoaSlZWVkpKauYgAaeSkZERFhYmPfwH77x69Wo4hB0MAFoO0EpiZyxWNlZBQUF+fn6+QWKGwAwhIaGpU6eShHXWrFn9ZnoNLaB9PDw8pO02ODk5vzEGoK2FNIXggDVSUVH98k+mc00XFxeHXjv8FWKAYXJP9I4fP15DQ8PT0xNqk+EQ9sDAwOnTp8ON0dDQQJDhhqWlpWcOHnA2KEpsbD09Foii7wo76jgysoB+JvRvz507B3meSFkODg5QBBcXl5KSEjigtbUVHAJ30ESQwQJKEwh3S0sLeDnUn9BSbNmyhWjUAGh5Dx06FBsbixuDDLGOd3Z2NDU11tTUQA0Iv4kvyqGDNPDI0tJS6EipqalB+s2fP7+goIAc9wNXf/r0qaamJrHRMfmU9OPHj73zT2rBYKqqPkA2bW1t+fix+0s6fuPGDaN1RtAb2bJ1S0RkRF19XWlZ6dt3bwflp/JDZUtri+d9T9I0LwUFheTk5O8KTnt7W0tLMxS5jo72r091IIUdAl5dXdXQ0NDR0QFhh9L4pQ++ePFCRFikZ997IcH91vujY6K/PQYqKiuampsePX4kJyfX18Uhfe+53SsrL3tX/K6qugpi4O69u1xcXOPGjdPW1v4xuSSmFTU3N0NG6urq/NeOfnt7O8QDZPvOzs4vHRMQEAB3NXnyZHt7e8IYyEF8fDz0WyBavkusUceRkQLUM2lpafv376enpyfSFKq7bdu2QXcXjAFqHmiAfsKUMAQZy5PLoZSBmsMLNzc3RUVFaDugJDIxMS1atMjBwQFK6F9j/inPIdBxUJC0tFRv7wdnzpzavWvnju1bdlnuOGRz4Jara1xcLFhaR3v7l3ScfGO3P+EqkNXKSksjIsKuOl8+YL1vk5mJhbmZjY31lStOoaEvwbdA6Qbq+M2bNw2NDBctXrRh4wZfP9/8gvzUtNSk5KRB+cnMygQldXFxERQU/DEdLy8ve/z4obOz0/37HgkJrxobG75yZERkuLPzZev9VuabTLZusbC3P+Hl9eDFiyBf36exsTGQ9J/XcZEeHefj59u+Y/vzgOffHgMpb1LS0tNi4mKe+j6Fz3JxcxFhpKam5uDggPj0e+b3vuJ92fsyp8tO7Ozs48eP19HW+TG5LCsrffDA89o158DA5/n5uaDmX+mIvn9f7uPzGLL9ieO22dmZX9FxHh6eSZMm2djYvHnzpqmpiUzfP/yAWKOOI8MZqGxbWlpAsjMyMiDtwL+hdAsJCWlqau7cufPBgweFhYXQc66qqsKxcAT5aVIOJQ5e5Ofnh4eH3759e82aNVDB0tHRLVu2zN7eHgomFNiRstzCyNZx0M262jqXay6iIj2jcZwcrHPnSKuqKMyfP4eDg52YUaCiouzn+7Szo/3Tp4+jScdB17weuGtrr2Jg6NnCXUxUVE1VWX2Z2syZYuPGUU6cSLd4kfxlpz9KSopHgI5/+v+vMXyePpaRkWFmZtZfo+vtdf/D56Y6VFVVBr0IMDXbwMTMBJcQFxNTVFi0cMFcQQG+iRP/3mJDTEzk9OkTWVmpLS3Ng6XjxE96ZnpBUYH3Q28o+aysrKQdguC23dzdKj9Ulr8vv3zlMjvH9+p476NhH/+OiKCggAUL5s2Ywbt//56oqPD6+rqBRxMvcnKyHE7bS80Uh3uQnCkZHBKEOo46jgwuiYmJJiYmUC8RiUhPT79+/fq4uDgohsST8ehGCDKEk1hqamqam5tTU1OvXbumoaFBKqqSkpJ3795taGgYODqJOj6YpKWl7tq1c86c2fPnzbW23p+Tk0O839HRXldXde3a5Rkz+Cgpf1mwYM4ff5wniemo0PFPXl4eIiJCEyfSaGlpenjcAzsn/vC+vPy5v7+RoSEtDS03D9elS+eKi4va29uGp453dnbWVFenp70J+jPA9tiRJUtUGBknw6dYWFgM1q55/OgzWtbd3eXudg/CTkc3QVNT/e5d19LSv+ddQFG0sTmwcqXGunWGysqKzMxMmpoab94kD66O/z1GHhvzxOfJ5i2bianSxD1DLXD16lU4263bt6ZPnw46/o2TVTo6OqCPkZT42ueJz9EjR7R/X8XFxQHn5OKavm/fnri46IaGfzw53lBfm5WZ9vih16mTdsuWLSVVPQsXLggNC0EdRx1HBgto7B88eKCjo0Na5FRUVNTR0TE3Nxcq+aqqKlwsBUGGCVAe6+vrQbcuXLigpKRE7IALTd7mzZvz8/NRx8lIUFCQsLAwPT2dmZlJcHBQvxHExMREI0MDZibGSfR0a/X1MjIyRoeOQ+Xv4/NYW3s1JSWFkJDQw4feA2eK+/v7SUlJUFFRyMvPd3S8RBLW4abj0KONiIg44+Cwfv16NTXVZcuWiYmJwaemMDNDkg3U8dLS4nv3boO190z+FhT09vb6+PH/H9pobGx48yYpLi4qMzPt3Lkz06axMDBM3rlzZ3R0FGkhpP+u43+PkWek5+bl3r5zW0VVZQLNBGLiGrB48eLHTx5fv3Gdk5NzwoQJ0Ip/i1xWVlb4+z87fPiQgYHBErUl6urqEhLiFBQUvLzc+/cP1PFPMTFRu3ZZKisrr1ixQl5enp+ff9y4cXD1efPnhYaijqOOI4NAc3MzZEuomqC7S0NDA627tbX1tWvXwsPD8/LyUMQRZBgOkxNfVZWUlIDygV1AYwctC7TFoBZ6enrwT/DGlpaWfl8yo47/V6KiIlVUFCf9RictLengcKqh4R/zjB898iIeKZOWknBwOPnu3dvRoeP5+Xlnz56GIMOZ58yZA72OgcfExsaoqCj0TmumMDBYk5mZMTx1vKurq7GxEQpPUVFRWVkZtH937/Y8BElFNU5X5/eBOg6BXbfOaDLDJEqKXzQ1lr95k/LP+Rsfu7o6/9ch8QdJ7V3WRgKiq7j43eDqOHwkOyc7OCT4wsULy1csJ41P8/Ly7ti5w8TE5LdeoPx/i1x2dnZCZxJiAOKhtLQM4sTDw0NcTJRrOvu+fbtjYiP7jY6DSRcXFxcWFVVWfggPDzt40FpcXKR3wox0yMsXqOOo48gP093d/fr1awcHB/BvFhaWyZMnQwW+b98+qDqIvRSIVh9dHEGGrZRDC0Ks6pGdnQ3+bW5uDg0fabW3I0eOgJL1rvYxmqX8p+p4a2trQX6e4x8XFy1ayMMzXUlRwcjIYNtWi40bjJSVFcXERQUEeNevNwgO+bOjo+3jaJk7DmZ5+9YNJcXFPdOmxSXAxgYeExERPnv2LCLzKSkpkoR4+D/KCeIiICDw66+/6GhrDdTxsLCwuXPnwGnZWKfsstwGPZMvnSc6OkpJcREcyTj5t02bzKBMDq6OJ6ckw09aehoEGVpu0qKW0HhLSkoSwZ86daq+vv6PyWVkZOQc2dmcnGz79u2Kiemv4/3yw6VL52fPliaW1AwOQR1HHUd+EMh4dnZ24uLi1NTURHopKys/ePCAeGistrZnASsUcQQZKSPlxILl0MF2dnbW1tbm5+cnvspWVVWFBvGfw3mjTcp/ho6TYq29vS09/Y2t7WFhYQFqair4ray8WGu1xhI1ZRFhYSbGyXS0E+CdW7dcystLSEtRlpSUjGgd7+rqrKr64Oh4iZeXm46OZuVKzatXnWNjY8vLy0pKSmNioq9dddb+XYuVlZVoThT7CPHw13HQMn7+GRQUv35Wx0GmhYSE4LQ83ByHDu4vLPziIpVxcTErNdWpKH+hGveLrs7v6elpg6vjpCkrBUUF/s/9d+3aJS7xdxM+btw4Ys8wNja2tWvX/phcvnwZMnuWzPQeHd/9dR2HPsm5cw6zZkn16Lg06jjqOPIjFBQUuLq6Llu2bMKECcR+FFB4//jjj/j4+LKyMigsuJUPgozQkXL4DUqWkZERGRlpa2srJSUF7SC0OFDGr1+/3nda+WiS8p80Ot7d3VVXV+3p6bZs2RJhYUFNzRXHj9v6+j5NTk5KfJ2Q8OpVbGzMxQsXFBUUWaZO5ebiNDc3S0p6TXwW6tZ799xG+soq1dVVL178eeDAPlVVZSEhATExUWjvZWVnKykprFqlqa6+dPbsWexsrBOoqbS0VhFrcI4CHQ8LDZWV7Rn1nzqFacf2rXm5uV8ZXV60aGGP/UyiNTXZkJ2dRQ4dT05JTnkD/yUnJiWeO39ORkam73rk7OzsqOOo46jjw73RSk+3t7eHFppIIGZmZl1d3Rs3bmRnZ9fV1bW3t+PyhQgyCqS8sbGxq6ursrIyOjra0tKS+E6bgYFBW1vbzc0NyjjJxUeHlP8kHa+sqPD19QHRJKTH9eaNttaWfsdA1D96/HDZsqU920+ysrq4ODc390wu71k33t19hOr4wFzy+nXCxYsXLC13rltnZGpqcuHC+fj4uAcPPFVUlMBZhYVn7Nu3h9T5G+k6Dn0tQ8M1YNgUv/6yatXKrKzMAdHz95SkoKAgkd7lLyUkRE+dsiM9OTC4Og4/IOLpGemFRYXBIcHHjx+Xk5cjbQ7CxcVlYmLy/Pnzvjv3oo6jjqOODxOam5sfPXqkqqpKJA3kwK1bt4KIQ5UFObClpQVFHEFGDeW9QB+7u7u7uLjYx8fHyMiIeO6LiYnJzMzs9evXo2n6yk/ScYhTb29vTU2Nnm8VubhAx5ub+q/03tTUGBwcuHat7q+/9mxffO3qlYaGOkLH3Uesjv/VO2O+uPhdWGjo7du3QfUamz6zxL2HhzsrKwsFxS8bN6578SKwtrZmdOg4WDV0q4hhb1FRkYAA/39O4+l6+7YoLy/7Q1XF1avOU6ZMGT+eatMm07Cwl3V1tWTS8b5j5K8TX592OE0sDkMsTiwtLW1nZ/cDSyyhjqOOI+SD7N5tVAAAIABJREFU2FnT1taWn5+fgoJCQEAARByqU/DvxsZGnJqCIKNYysvKyojF1t6+fQsepaGhAdUyAwODpqamk5NTVNT/L8U2oqX8J+l4Z2dHRUX5lStOkpLijJMZ1FRVHE6fCgsLLSkpKe6lqKgIlFRbezUHBysT0+Q1a3QTEuJHx2SVxoaGpMSErVss4MzQ09iyZRP0OrKyMqEhgZ4GaNzhw4cWLZLnms6ppbWq34Oew1/HAwMDeXl5e7ZY11r16KF3Py3r6ur88KHS2fmymJgIMzOTltZqF5driYmJNbU1cGRIcPAB6/2Q1qamxurqS6dP51yxYvmLF3/2Dpl/Ip+OE2PkGZkZRW+Lnvk/27xls7CIMN1EOtKQ27Vr1+D2vrJ9/UBCQkJkpKXY2Vj27rWMjonoWzsM1PGzZ09JSUkQWx7gNkCo48jXa2Y/P7+NGzcSX1VzcHCYm5uHhYU1NzfX1dXV1NRALUqMolVUVEClWtNLNYIgIxxSWSZkCco40bCCMXp4eICUE+sFCwkJ7d+/PzIysv2fG7qjjn9twgbEqbf3/TVrdDg52enpJ4KRgIRpa2traKyYO3fO9OkctHS0srKzT5+yS0tNbv3fSpMj+lFOUj+toCDv2PGjsrKzWFmncnFxwoXWrl2ro/P77NkyNDTUEhJi586dzsvL7ujoGFk6DrosKipCQzNhrb7eU5/HVVUfPpfuHzw93XR0tDg42EDKFRUX6+npQN9j4YJ57Gys4ygpfv3lFxnpmba2R5KSXvfbXp5MOk5sDwTniYuPex74fNeuXZycnKSpqCoqKmDk0C//9niAvmXPrpz83DY2+wZuA9SXwsL8S5fOzZ8vC32zuXNlcd1x1HHks0BlmJeXd+jQIdJ0MkiU8+fPZ2RklJWV9d1ck1iTARrp7OzsVARBRgtpaWlQ3qFcFxYWQqmHkg5STqyRDe/b29vLyMhAM0RBQSErK3vmzBmoMVDHv0PKW1pawiNCDx22WbpEFbx88mQGRkYmfj5+A4O1t27fLCwq+Pjx488Zt/75V8kvyD3jcHrxInl2dvYJE6gnT/5NXn6hjY11VFQESUP7ftUy/HX8zZsUy53b1urr/HHp/OuE+MbGhi+lO/RyPTzu6er+zsvLS0lJSUtLM2/enIM2+12uXTnjcBJUnvTZvjFAPh0nfrJzssvKy1xdXYkVYAjGjx+vr6//XfGQkZF+8KD19u0WDx645+fntA54NIJEZWVFQIDvwYP7tH9fecB6b0ZGKuo46jgykNjYWAsLC25ublpaWgYGBikpqcOHD6ekpHR1dVVXV/edmgL/bG5ujoqKsra21tLSWr9+vampqZmZ2SYEQUYsxsbGhoaG8OLgwYMPHjzIysqqr68nOuEkKU9MTLSysiK+ogetgt57z9fvNTWo4+T6snLU6Pj3Msx1/NsnaX3jkQMPI7eOD4wBAj4+vn379sXFxfXbrOo/xsN3gTqOOj42ycnJcXZ2VlFRoaGhmTx5sp6enoeHR35+fltb22cf1oRG+uPHj9BgE62ygIDAsmXLdHV1161bB825AYIgIwqiR7148WJiMWJwgAMHDhA7AUEN0HdaOVH2oStuYmLCyMgIB0+bNm3Pnj3Qdn9lyijqOOr4aNPxn8BQ6TgBCEFqaupQhR11HHV8rJGRkbFjxw4ODo6eHcEYGVesWAFenpKSAr1iyGNfetiLaJJB2eGDDAwM0HInJSURjTG834UgyIiCqA0CAwOJb62FhYUPHjz4+vXrfjoOEBt+gb9lZmaePHmSi4uLqLfnzZv36NGj9vb2frMtUMcHTZTnzJkDkU6Oq0DdDVaxfPny3q3LZYaRjt+4aWRkpKCosMl8U3BIcEVlRUFhQU5uzqD8FJcU19TV3L13F7L7MNdxAUGBPXv3hIaHkiMGbt+5zc/PD1cRExOTkJCgoaEhLX1oYWEB91BXVzckOs7NzQ16cezYsR9Y7OUbiYyMJLoiINZQf/2Ajn/7p1DHkS8BWcjX1xfquqlTp0K0Qy/U0NAwJCSkubkZmtuv76xJ6Li7uzvo+OTJk6Hlhl40fBBjFUFGLsHBwYSZfEXHSVJeXV2dk5MDjbW5uTnxtAn05/fs2VNWVoY6PphKev36ddBEonWkpqZmYWFhYmJiHCTgVMzMzFD7E0/p9i59LfHq1athEnYXFxcVFRXiKxtKSkrIZ3TfBi0dLUA3kQ6CNmXKlOnTp/Px8fHy8sKLadOmMTEzTWacDKoHtkHsSUl6WGqYhJ3UP4YbJt0exAMRA7S9QNAg7aD9hnSE1xMnTuwJ8vcAH4EPEieHz+rp6UFhho41nJaUH9TV1aOiooZEx4lhQgBuFTwD7moQcz4RdZCpiKwFfVEQGvAeHB1HHf8J9JviBS4+d+5cIs7l5OQ8PDxIrey/7nLfV8ehToOWm3zfJiEI8tMG475Rx0nPcwMZGRmgDTt37uTh4aGhoZGSkoLPgtUM/2HyEaDj7e3tENFpaWmgRBDL/v7+fn5+zwYVOCGcNrAXcKDk5ORhUpUTYU9NTY2IiHjeC9zn828DwgK5+fHjx87Ozjo6OuCaRFMHHrZs2bIDBw6cO3cORCoyMhKarqSkpOjoaDg+MTGxsbFx+KR+XV1dQkICJArcW1BQELwgYgBeh4aGQj9t48aNBgYG9vb23t7eYFGQScAUe4751njqiVI4LXwKLlRSUgI5Ddr1tWvXEgurEftv79u3Lz4+/lvmkQ962OEO4fbg9zMyQOR8CHtMTExmZua3L++IOo78dwX/q3fzAciH0A0GjSaGQi5evJiVlQXNKlRE37iaOOr4GM9F33sAMvp0nGTkNTU10FJD03np0iUlJSUqKqrx48fDi1u3bpFa8OGZQ4a7jg9hrA15gg3iDQQHBxOzfYAJEybw8/PPmzdv0aJFoOmWlpZOTk5PnjwZht/p/GsMVFdX37lzZ/369crKykZGRvAaSuOgXJqYh0oamRYQEDh06BApin5C3hjmOR8nqyA/Rnd3d1FRUWxsbEhIyIULF3R1dYkHsCgpKTds2BAYGFhaWtrR0dFv7ZRv0XHS3HHU8dEr4v//urj4nZ/f0wvnzx44sO/IkYOXLzv6+foWFRahlI9ZHSdJORxDrFZ+9+5d0ndu4uLiZ8+ezc/P/64dRVDHkUGmtrYW/Gnjxo1MTEwDH1icOHEiNzf3ggULtLS0Tp06FR4eDseTHqcYzoB8+/n56evrE5N5pkyZoqqqumPHDuhdQFv+A3ZLOqywsPD48eOSkpLQsSZiSVFR8dmzZyATWMv/haPjyDfT2NgITSA0pREREdHR0fAiKysrKCjI3t4eIpaIZBEREVtb2/j4eGJE/F9np+Do+JilrKz04UOvrVs3KykpyMhIKSspaKxYqqmhrqKiKDt71kpNjePHbaOiIkhPDmB1PdZ0nFhxBXQcaoC3b98GBwdbWVkRTTlU5uvXr09LS/sBN0AdRwYT8GwNDQ0qKiqwqF++AOhsQEDASKnC4D6h2nV1dSU9ikrAysq6bNmykydPgqz33c3nu2aPgXk/evRITk6ONG1dTEwMHIKknmO5okcdR77SnrW3t+fl5YWEhDx9+hTa1KioqFevXoEiZ2RkpKamwuszZ87MmTNn2rRpc+fO3bt3r7+/f3Fx8TfOFEcdH5t0dXVWVX3444+LXFyc4yh/VVFWsrc74fPkcXx8XEx0lK+vzxVnJ319XQ4ONjU11bCwUIyxMavjhJEDxMAiVCwgPxYWFsRzYgoKCk5OTllZWcMtvKjjYwjInbdu3VJXV588efJAEaekpISWbNOmTTk5OSNLAiIjI4nVVwYCymhsbOzs7AwS0G+/z285M5Tq69evq6mpEd+nE0saQ6s/0jfjHVwdx8kqCBQZaPmg6gDVDg0NJUTczc0N8kZsbGzfKWSJiYmbN29mY2ODuJ0/f763t3d9L8Qum98+QQUnq4w1QLEeP/bW1f2dnn7iwgULYmKiBx4Dai4nt1BAgP/4cduUlCTMA2NWx/tKOTFlPDs7++zZsxISEqRF5KCCIj0pNxwG11DHxxCdnZ0VFRXQL/ySvBJL++3Zsyc6Ohoa15ESrvj4+NWrV/cd9f+1l76zcTZs2PBji1d2dHRAoRUXFyedCsqzra0t+VYeHHE6jqPjY8e5+5aLmpqasrKy4uJiaPByc3NBu0G+r1275uLi8vjx44Er0paWloIxL1++nIKCYvz48VBmoWTl5eV9aXMfHB1H+pKfn3f+3JmlS1TExYQszE2LCgsHZsuUlGRj4w3/x96ZwOWU/X98JkpRllSi0T4yCRNGlshetJCmJEKWsUZExGRJZJIlWVJamahUWjWpKaVdy7TvpY1oV2lj/p+6v7n/ZxITiqecz6uX1+N57nPvPeee8z3v73m+53t++kn6559XWFldKS0tIfX2NeM4Y0B5RUUFfH74/4sXL6Zsu4CAgL29fffn6QiOE/XwUAqOPHjw4Lhx4zg4OPj4+BQUFJYsWTJ69GhGKEfrP3LkSGRkZJ/ALAzk6GOrV68eNWrU2w6GoKDgxo0bMVSD2tEhu7+Mg66x5OTk9evXY5gH8VPnlJCQsLOzQ9/uExH2BMcJjveU0OAxtgG1ExISwsLCAgICvLy87t27hxpLSUl5V3p+DKJZWVkwO1TyUGFhYQMDg0ePHlGb+3xEdArB8a9QTwoLb9hcV12hLCYqtEpDLTEx4e1joiIjVVSUeXm5J0+aYGRkmJ+fR+qN4DglfLGurg7+v6+vr66urqSk5KBBg3h5ebds2QJzQXCc6AuoqakJ/Ori4qKjo3P69Om2trbm5mZzc3MwBx2SQYmfnx8jaGxsLJNvNovh3NvbG8RMbSDSSXPnzo2IiOiSs7up8vJydGBUF536EBdSVFQEkTMGphMcJzje/wT70NjYWN0hvEhKSrK0tERtgMLh2HfTHQ0JCZk3bx5Vn3JycjY2NhgUYYUqKys/ncUJjn8lwgNNTf3r4MEDnJycPDwjjx83Skx8XFZW2tDYiI9gpXOys347YyokJNjxM6+A4aEDeXm5pN4IjjPGrsDmAIHy8vIwbGloaLCysvLw8Bw4cCAuLu6LbxxGcJzof8rOzkajlJCQoBIA05owYcKNGzfAWw0NDcx8/48ePZKRkcENo4MNGTKEzoiC/wKjd+3alZaW9nFnphaM2tvbS0lJ0dUyePBgOACd1mgTHCc43qeFpk7tKg8Kx3/R7FFqPOsLFy7o6+vv27fPyckJw2H3TwhQTk5OPnTo0IgRI8DKZ8+eTU9PLy0traqqAj897SERHP96FBLyp7KyEivrQNaBA8TFRTVXrzpkaHDwkIG6upqIiNDAgSyDBw8SFBwza9b0M2dOPXlSSGqM4HiXFgMmDnZ+1apV1EZ4U6dODQ8PJzhOxERCM42NjTUwMGDcC5OKslqzZg0zgxccX29vb3QwdLPCwsJjx45NmjSJk5Ozp+4/IyPDyMiI8Zzjx483Njb+Ogd+guP9Ty0tLZWVlWjPvr6+N2/edHZ29vT0xIiIlv8RrjhlSQDxVAgZXNmeHVAJjn+dwoNubGxITU2+c8f58OFD69ev+/lntQ3r1504cczF5c61a1c0NdWXLFm4aZPOzZuOX+2vlwTH3y8qiRNMekJCAlBh7Nix1MKwtWvXBgcHf6l0xgTHiboQRuX4+PiDBw92Cv/g5eWdMmXK6dOn6azezJPsD3cCnqBm9WioUlZWpve6pwJXvLy8cNhH3zaIHxTOWCe4BJ0y6etJfUgyq/Rp0Q21ubkZrdfNzQ0FhG95/fr1sLAw6mmim+DTTn2qmydvbGy8devWtGnT6ARH586dS09PLy4u/rhUhiSzClFdXV1aaqqPt5ftDWsf73toRHgTLQ3v08/6wYM/fvxx8rhx465evVxSUkRSYBEcf380eW1tbVRUFJBmxowZLCwsPDw8W7ZsCQgIAAIRHCdiImFUxti8c+dOEAkjgIJH9fX1IyIimNzYFRYWXrp0SU5Ojso2Sq0h09XVDQkJ+ejt7vPz883NzWfPns3FxUWdU0REZN++feHh4UweYd97OE5mx/sKfDMKZAz4NjExuX37dlxcXElJCZgGZIMB7xO9Soxk9+/fX7NmDRUwJiMjc+bMGQyl1BY/T3tBZHb8a9CLF88DA//YuFFn2LChgKfwsDDGT1tbW6OiInft2jFqFK+c3JyYmBhSYwTH/zPdSnl5OU4Ik4VRTFFRkQpcUVZWLigooO7hg/YqIThO1LsqKiry9fXdtm0b8Ism8oEDB86ZM8fU1BRWD82amWeF0c3ozf8oqampfaKxdnd3nz59OuM5NTU1c3Jy3kM/BMcJjn9BNTQ0wH/Gk/L29vbx8fHy8kIZ09LS0HkxFGGQ68Fr4RIzZ87k4OCQlpbev38/0Bysjwv1SBIVguNfrfCIa2trb950kpWdyc7OJiAwRk5Obvv2bYaGhjt27Jw/b/7wYcOEhcZu2aLj5+ddVVVJaozgePfnyPPz84ODg3fv3j1mzBg2NjZYMEtLSzrd8+cZ0wmOE3VLaJcZGRnnz5+fMWMGzaB8fHzjx4+fOHHivn37kpOTmeqG6f7T1taGnnb8+HF68yNWVlYREZFjx47Redm66QHT58QJT5w4AWKj58hRCY6OjsCCryT1IQlWYUIxjhng78TExDt37lhYWGBcAYijh5aVlaEUaL1wHRm35ump62Jgs7a2XrBgAVh88uTJdnZ2paWlFRUV6BcfvcUPCVYhYlRdXV16etq9ex6Wlhf379+7aZPO2jVamzbqGBgcOH/BPCDAv6Agr6Wl+WveMpng+MdlJQeUw/Lv2bNHVFSUCrEzMzPLzc3tfnJkguNEn1VZWVknT57sFD89ePBgeXl5DIefreF+BChcu3Zt3rx5uFU6Dn7r1q2hoaH0LgDdt+D19fVpaWlGRkZ0vna41Orq6i4uLl8k5ozg+FeI4102V7jN/v7+N27cQFPECzTvR48ehYSEoLk2Nzf33s3AC8W4ZWpqilYxYMCACRMmYPiEA4CbRI/oPRAnOP41q7qqMiszIykpKSsrs7KyglQIwfFPWdxJ5V2FHTM2NqYSNrCysm7cuBHXJThOxFxjPz2FDBj18PDQ1NSkdrqmJSkpuX//fhAAHM3/5IYvosDAwKVLl7KwsND3vGjRIj8/v4+LD8PZlixZQp+KnZ197dq1CQkJXxuOk2CVL4XggGC4x1FRUXFxcWh4iYmJERER/h3Ci6Kiou4QfE/VGBo/NYaJiYmdPXs2JSUFN9AbCzdJsAoREcHxHldZWRllSWA9TExMqDnHAQMGbN++PTIyks4u1XtWlOA40UeK2vJ6796969atmzx5MuMumKtWrbp69SpGaIzEn3MlxH9CTFVVFeBbW1ubzq3Ozc29bNkyJycnOnCl+50N4310dLSenh4vLy+dTlFXV/fhw4f9HgUIjn8pNTY2xsfH379/PygoCC0N2A0cx2gRHh4OTzgzM/OzITgldByMmlpaWlR1qaqqurq6oq7gKoDFe3tenOA4ERHB8Z4VDBesBwzs1q1bxcXFR4wYAbP26NGj3i4vwXGiHpC3tzegljGlIDRu3LijR49+9OY7vdrJlZSUqDXU9By5j49P98O+GX8ryMjIUFNTo09FESow/evBcRKs0nsO5N8dU+Bwa9GPQOEpKSlhYWHgzkuXLl28eBFQ3iV0fs7fo1BXK1eu5OTkZGdn19DQoDbGqq2tLS0tffq5RIJViIgIjvds4EpVVRXGtcuXL48ePXrIkCG//PJLSEhIr86RExwn6gFoQBuNiYkxMDBgzL5CrfWEfxkQEEDnKWcGUbPaBw8ehMNAx75Pnz79zJkzWVlZH3o2oADKvn//fgEBAepsQkJCqApcoh8DAZkd7221tLSAwtPT00Hh8BWtrKxMTEyMjY09PT07beb8pYLBqqurQ0NDt2zZgrFqxIgRe/bsCQoKys3Nxfs9uOMmmR0nIiI4/jlxnA5caWtrg4lbu3YtPz8/DMvKlStB5L1XXoLjRD0G5SUlJWfPnp07dy54lHGmHFBOZeZmhj3S6LstKio6derU1KlT6cAVjOWGhoZxcXHdzyBOnw2WYv78+fQE+dChQzdu3Mhs2WYIjjMtjoMmgY9VVVVgWdB2c3NzamoqEBxN1NHRMSEhodNPN8ywHgMD1fLlywHi6DjwuhMTE//uiAf7PAEqBMeJiAiO955wIRgW2GFnZ+dVq1ZxcnIOGDBg9uzZFhYWvTQWEBwn6mHMra2t9fHx2bRpEz33TMdVA8oxhIPamWRxJ/q2h4fHsmXLBg0aRN0kXqxYscLX17exsfGDot6Li4udnJxUVVXpOHJJSUn028LCwp5N6syEOE6CVT4awV91qK2tDc5hYGDgrVu3XF1d79y5c/PmTbivH7E1/edReXk5RkodHR0ODg4uLq7Nmzd7e3tnZ2dj9OqljX5IsAoREcHxz4nj1CZB1A99bm5u6urqVFq2CRMmwEp/yt7eBMeJPrcAE/b29lJSUoxQPnDgQAyZe/fupTeW/7IqKysD/WhoaPDx8VF3OHr0aPwXb35QYmZqdtPW1pYyHxAwRVpa+tSpUyDy/o3jZHa8+y4r2gm953xubu61a9d0dXX19PQcHBxg/Zm/ZnDzVVVVV69eFRMTo+pHTk4O1fV3x2acT7+QyOw4ERHB8d6LI4fxx9UPHz4MTuDg4FBTU3NxcenBrRsIjhP1uurq6lJSUtCR6PzclIYOHQpMP3HiRElJSSde+SL3ef/+/U6Z1BUUFGiHoft3FR8fr6Ojw8PDw8rKSp1nyZIl9GLW/rQzBcHxD1VrayuMe1BQ0IULF/Q7BGeVykWIj3pjrqWX3FdXV1dVVVX41RiZDA0NIyIiCgoKwOifOV6c4Hg/U5ftn+zmQ3D8y+I4Jdi3xsZGcAJAHHZv1KhRv/zyS15eXs+2UoLjRL0uNOXk5OSTJ09KSkoyIq+oqKi2traBgQFatrW1dW1t7ZcyxOhp6enpR44cGTlyJHVvQ4YMgQnAPdM51LsTuwJjgS5qYmJCZ2RHv1VRUbl58yZ9nv4xwBAc7w5SwB0NDQ2lQlC8vb0xuiQmJpaWlgIf0R7wKTOkAf0gVALmYkAC8goJCW3evPnhw4cNDQ0YID9DcnGC4/1eZWWljo4O+vp6u3W32VhfKy0teVc7hAObkZHq6GC3b6/esqUKsrNnzZGdrayidPSYUUCAX3l5GQ4g9UlwvKeEAa6ysrKwsDA6OvrAgQMwMhj7li5d2rMjO8Fxos8H5bGxsUDVuXPnsrOz07HagwcPHjBgAEZ3ZWXlCxcuREZGfqlxFEgB93fTpk104ApgWkFBwcbG5oN+lkpLSzM2Np46dSq1Kwr1g767u/uHxqMTHO8TON7JCqMqwN9w7Y4dO4YX2dnZeO7V1dVo/3A4m5qa+m7/ffTo0datW9nY2AQFBW1tbanYyi/O4gTH+6LeZpeWliZHJ3vpKdIs334jLiZkeOhAXl7u219EV4qICD9wYP/48eP5+fmXLV1qeOjg1SuXLC0v6OvvWbBQjp+fT3XF8sePY0klExzv8XzksOEPHz48ePCglJQUuGX69Olubm49NbITHCf6rGpoaCgpKbG2tp4zZ843/xbYDugjICCwfft2KkvDlzIBcBgYb2zx4sUfugVAW1ubg4MDfAx6syGcBFhPY2tfnyMnOM4ojBCoBBxz/vx5Z2fn6OjozMxMEGFhYWFLSx+epWPMr5+amqqkpIQnDt5dt24dXOu/v1AeFYLj/UN4ao8fx9nYXN+vv3epwpLJkycNGz6sYyD4Rljou0MH9+fldoHjkZERK1aoDBrEOngwm7Kyop+fb2NDw6vGxqamV/Uv6+zt7YDpo0fz6+ntfvgwhN7cjYjgeI/MkcPiYSCAhd+3bx+1shO0gJEdd/XpIzuz4/gXpBbY9y/LTP247Dh5eno68AVQzsvLKyYmNmrUKBp/0crnz59/5cqV/Pz8z192eMDoXQsXLqTntvn4+NTU1OAE0/me31M59EcZGRlbt27Fd+mcjwoKCsHBwR+KQczZ8L6ezCpDhw6dNm2aubk5bXCbm5tBe9SmmOH/CA4b/osvpqWlMWFSwk9RXV0dSrd582YWFpYBAwbo6Oh82TwqJLNK/xBYOS4u9vp1K339vVpaq9es0ZoxcyYHBwdwXFRk7Nuz4x2Z+J+eOWPKxcU5eDDHoUMG2dld7EH74EHgjRvWbm4ujx/HoumSeiY43oO5ViBqjvzu3buLFy+mtxHEcPDp5e0Ds+MwtQkJCTdv3jx58qSuru7OnTu3b9++Y8eOnT2kHR3atWvXnj17cH6c3NraurS0lHnK7ujoeOzYMarUlHq27Lt3796/fz+8Pby+fv16r5b9TYdo8wov08/PD4P9+fPnp0yZwjgnDUBXVFTEQzlw4MChQ4fwr56eHh5Tb9QAXqASTE1NXV1dU1NTUe1eXl6zZs1ivJ/Zs2fb2dmVl5fT9/9+zEKPhfkwMDCg48gFBAR++eUXgGxlZWV36iovL8/CwgJMr9sh6m539pwYy3769Onbt2+npKR02mKGzI6PHDly3rx5aIHohv7+/h4eHvfv34+NjUU7AfOhe8bFxRUUFDCPL93jCggIWLBgAT3w3Lt3j9ro5wuu3SSz4/1AbW1tsDYwHcXFJfgXw4GLiwuVHldw7Oi3cRws7uXluU577Sg+viWLF8XHx1VXV7q43DE0PAQjBgt5/PhRD3e3wsJ8akKD1DDB8d7LR15YWAhuwQDKwsKCcXDDhg2BgYHdHNn7MI4/efIEfCwnJ0eNB+zs7KNHj+bl5eXpIeFUfHx8w4YNo2cxpaSkYmJimKHseOTg44ULF1KJsYcMGQJI7cGyo+D8/PwcHBw0dE6aNIn6Gbq35187zf6im4Hw4BKgsPR6yk5CJeDRCwkJoRJwTA/WwIABA6hLLF261M09lh7aAAAgAElEQVTNrbm5+e+OXU50dHToOXI2NjYRERH4A2FhYd3PgwF06xSWo6mp2c0kj/gujfK4DW5ubtwtT8+JsewwKMuWLbt161Y30+31Mxzv9DTDw8Np5xA1j8EALeHatWsg0Zs3b1LrFz/uV4W+JRAtPDR4wpSJAIvDHKH1NjU1YUxihjAVguP9STCtVGLcsd/xv43jBfn5Vy5fWq6iJDVBctrUKRs3rt+wYe1PP00dM2Y0H98oziGDv23/4ugVK5Y7Ojm+ePGc1CfB8V7asBOizAuIXE1NDWMEFxfXunXrcnJyPmUs6A0cpxzTN90Z9jre6eJgxsNKSkowBIIVwA2ioqKWlpbx8fEhISGBPaQ///wTVsDZ2fngwYPS0tJ49jIyMnjwH1n21+8s+9uHtrW1dvkJoytia2u7du3a2bNnr1q1ysHBITIyMjg4uKfKDrCIi4s7e/YsnUV4/vz5Hx233c0m2OmwN2/aXr9uo/+Lwf7SpUuAPMbciPCU4C/NnTv38OHD7u7uAOXo6GjUwx8d+vQaOHXqFBAfnp6GhgbgkkbS0tJStAphYWGa11FRFhYWxcXFXa3Je/N2DRQVFQHj0FGVlZVnzJgxceJEXV3d9+A44xko5MWlQfBWVlZeXl4oOCxUzz79TmXvJlj3Axzv9LDa2tpgauAAV1dXwy2hswCxsrKifvbu3dvpV6N+nIKNLlpeXp6RkRGqAs1j1qxZMJJ0DOUXX75JcLwf4ldQkKTkhA4c72J2PDc355y52Ty5ufz8/GxsbDw8IxcvXnjypLG3tzcG8XuenubmZkqKS7m44D+PNz93Njsnq7GxgdQqwfHeiyPPzs729/cHoeEmwQl4zSyz4zDiBQV5Pt73HgQGVL170r61taWkpDgyKsLznqeNjbXlJYtrV6/8/vutP/8MTk9Pq6npvPaCwnF5eXkKlNPT03vjwWMMdnNzU1JSwlWmTp0KTOn+d5tbmsueliYkPn7w4I/Y2JhOCfs6zTZlZmYGBNx3dHKwsLhw8cI5G+vrHh7ujx/Hwel6OzcT4MDGxkZHRwc3dvLkyR5PO08JaIsifxyO19XV4eZR8IiIcJjLxsbG7lZac1NmVoa7u5ul5cXLly3u3/erqHhBf1pRUYGHvmLFCm5ubjqHN4h83rx5pqam4eHhPZuhAieUkJDAJbqES9h6BQUF6h5++uknHx8fxk9fvHju5+ft5nYnIeExLMXbS/daWlrRaEF4pqanzczMzM3NL1y4YG9vj1EkKCgoICAg6MGD8PCw7OzOg8f9+/fRw4EXxsbGuV2tavoMZe/fs+PNzc3wePF0cnJyAHB40BgAoqKizpw5QzuoqP+ZM2eeO3eOyhH+9ai1tdXJyQltg5OTE64aYBe1RA2HzDMvTnD868HxgoL22XHZ2TNxgLi4OOChrq7zUIth9OjRX6dNmzJe4vvt27ZmZWWSWiU43qt7duKFtbX1hAkTRowYAWKBFfro1Ic9huPV1VWRkY/27dMTFvpOQX5JUlLSO8a/VwEBfhs2rP3uu9GDB3NgOMe/AwcO6NjFcMjs2TK//XY6JSX5XTg+bdq0DwLl7utTrpKennr6tPHSpUtmzZq5f/+BLskJnJqbk33hvLmMzLQBA74ZNIiNnZ19yJAh1LSrsLDQtm2b/f19yp897RLHly1bhubYS0sbGSNlPxTHHzwIXLpU4Xtx0VUaPzs5OqCZdudbpaUlrm7OK9WWox6o63bpAqHv2dnZddqghwpYgj8aGRnZUzXwfriEExwYGKilpYVLS0tL/7ttv7G1tR4+fCgr68D9+/Xj4+O7XDwEV1NS8odv3iFW1gHCQgIGBvvgz3TCcRERkaFDhx45cqT38OLjwLrv4jj8pcrKSphRMBweJSypoaHh4cOH79y5gwdNHfPo0SM6WKUHd+XsQyooKLCwsJCRkaFc0IiIiL87lrIwG4gTHP96cLysrNTV5Y6ysiIOmD59ekpKyj/Q86+Rxfn3W+o/q47m51FWWpr811+kVgmO954wlOCWgC70tioYFjE4foHZcQxsGMDQAYqLnzg42C1YMG/IEA7uEcM2bdzQ5c/xf/2VBF4fP34cz0ju+fPkbGyupacn5+ZkPgoPvXLFQlFRYdCgQezsg5YqyNvb28LuMyeOw+Npa2ujcgnDXsTGRhkZGQoKCrCwfDtlivSZM2e6HLaB2tOnT+sg77Fbtmz08vIselLwpDA/6EHA8eNHf/xxcocN+u7a1SvPn5e3tDQzJ45jzEPjA3HW1tbiad763UHt5xVA6sGDB2uu0vD0uPviv7CsubnpaVnp1SuWP/44iRFJ33XdsLAwKoKIChug4/vhiS5duvTKlSswym0d6lUkRaltbW1FRUXRNkJDQvBOU9Or4OAHu3fvEBERpH6oOn78+Dsg4M3vzk5CQoJo3uvXaVtYXLxsaXn12jXcvKWl5aVLl6ysrG7edIqKiqitrSE43rNCb21qamroEPXDRVZW1vXr1/ft27d//34AHI3g7+oRXyeOw9eF/8nPzy8gILB+/Xr4J6i9ioqKp0wpguNfA47X1NbExsXq7tbl4OCQkBjnec8dI1Kn0NDU1NTjx44umD/vp2lT9+3dS8fyEhEc773tgfLy8gAq+vr6o0aNwii/aNEia2trmmA/E47HxESrqi5nZR0AEv0nxnfA8GFDf9myKTMzo9Og2NBQb2V1dRT/KC4urv36++JiYzqZy6SkhM2bNw4fxoXzzJObi5MzJ463A+XTEtsb13GTrANRdhb6R+0uh+2amuq4uKg9e3ah4OA5G5vrFRUvOqVCA9BQP44vXrzA1s6GfpDMhuPl5eV+fr47d+6YNFEKZacjqr8TENBeq+Xh/t9Y5uPjvWjRAjEx4dWr1VVUFHl4Rr7/ukFBQRMmTKA6pJyc3IwZM1BRVL5PSqjVlStXurm5gRWoJZi9hKTwvsAoVteuGh7Sl5dfICj43YAB/18D48ePNzY2fhsCXr6sS0lOPLB/3+DBHCgICL77d0Vw/KMRnF4oDIsZGBjo5OR0586d27dv40VoaOh7wskIjndssxKxa9cuFJyTk1NbWxudKzMzE5XGJGkNCY5/HTi+v8ttgLy9vWfOnMnKOvCHHyT27t0dGvrnq1cNePoAjPz8nLNnz4DUJSXHm5mdTk9PwZukVgmO97ZgM1taWjDQqKqqUqPGrFmzPoJUPwnHMewBK6n4mNzcXBubG2orV4qLiWqtXpWWlsp4ZGVlxcOHwZs2bQCvC44VtL1xo6a6uhOSZmdnnTY1lprYXvvTpk4NCwuh3i8tLb158xZTBatQ433rP1HC8Bw26mhLTRgvKzvb2Phkp6xnGMaSkpIcHBwMDQ0tLlnk5GS/fUJ397sArwEDWDQ0Vnp4uD5/Xs6cOE4VvK2tlY6Q9vXzExMTh0+ioa72fhwvKMi/etVyzRqNJUvmHz58ICc3I+APv8mTJ73/unSHnDRp0oULF9Du0dK2bdsGN5SOKac7gLu7e1NT00dk7O4mXP5T/DbqErW1NdlZ6ceP/crNzc3Ly2tkZPQ2BLT/wOrq8vPPK7m4Bs+fL/fXX0kEx3tb4GYrKytdXV09PT17e3t6CebrDnUnnu9rxnG4KzCAVNnBPXjQqLTKysqnTCyC4/1DgYEPJCTaQxPHjOY9+FbwHiVY+NLS4mvXrlCRVN92iJ4W4eXlUVBYbG19raSkmNQnwfHPtltnXV1dfHz8xYsX5eTkgEOCgoLGxsapqandTBzcAzjeCWcdHR3V1X/+Xlx0teaqtNR/4ThsJXoRWKqsrKy8vLyxsZEx/zSl2LgYRSVFqlMpKynS4ML8seNJSYlbNutMlPphjqzs2ziOYgJeUWQMD2hMeKfxVcOTJ/kZGSm5OZkBAX7GxsfmzZszknv4ooXz/f19wPl0zfSF2PEHwDKWb7/9Txy/5+kh/ePkn36a5unp3tKCemj18HSTmjjhP3Gcih0HjpuZmdFo5e/vv2jRIkYcp/buhs/TKVXfh25q0324bG5uelKYZ3LyBE9H1sUucbzdCblmqaKyTGKc6ESp8dprtX5WWykoOHbQIHZeXr4FCxYcPmwYHv6QntdnvFuC490XnN7w8PBr164dO3YMXSYnJwfePkxkQ0PDR7hnXy2Ow1LBjIuLi1O7ca1fvz4iIgI1ybRhKgTH+5OePXt6/77v77cc/P3upaYm1de/fLftba6trYmJibp29bLeHt0tmzfr7dlzzvxs4B8BRUVPXpOk4wTHP/vKzsrKStgcW1tbKj3xjBkzLC0tAZZfAMeLiors7e0xNv8Px/89O/5+pgl9GHLs2NHp03/i4GAXFxc1NDSIjo6gf1AuLi5mchxPSIjfvGlDB453MTv+tlJSkvX1d8+QmTJzxjQhwe861iYOmjZt6unTpzIy/pU3hvlxHFgmLv49C8v7cPxxXNyOHdvk5GRXa2pYW1vRyz1dXJ0nTJDs/uw4kAgVQs+RZGZmXr16FU0OKExDOR8fn6ys7OHDh+/du8e4rvT9UP5xcPnqVWNBfs5J42MjR3Lz8HQ9O56Q8HjDhrWcnOy4N+4Rw1auXHHksCEeJQj7wIH9amqqEhLfT5jwg9ZqTefff6+srCCz412q0+MDe6EvhIWFUfvyQIGBgeizWVlZeB9m8RP3NP06cRz9xd3dnfq9FVALzzYqKgrWrKqqinl2/CE43o+FhwjObmp61dLc3NbW2p2ZlIb6eviKaJ/4F0+800/uRATHP5tgJ4ElERER+vr6kydPBopoa2vTxNKdxvzFcLywoMDa+qqa2gopqQmjRvEJiwiC1W7dciooyKupqWbcUov5Z8c/FMfr6mrT09MiIh5FRUWGhPzp4+NlYLB//HgJPj6ehQvlLC0vlpaW9A8cz8vLPXfObPHiBePGia5fvzY5+V/r3P3ve0+aPJG67pIlS/LzC/4TxzshEVp/WVkZOsCtW7dWr15Nx5Szs7Pz8vKi0szNzTEwdzn3/HlwHP/NysoMDPzD+fdb9+55pqakvKho39OrvkN//ZVkZ3dDVXX58GHDJk6Uunb1SnFxEZ3D8WvG8bd/PQNku7q6mpiYmJmZwdQEBwdnZGTA7Dx79qy0tBQ2utPWPJ+SF/zrxPH4+PgNGzaMHz9+5syZBw8eBIujyTFtvDjBcSIiguNMNUFOpT4Ek1y8eJGHhwdjx6FDhxISErppi74AjpeWlZw7Zz5jhgwn55DBgwdNnfqjnp7u7dvOT54U9jgoMwOOt7a01NZUVVaUV1dXNDS87DIHSHx83IYN2kM65lDl5OZER/8vhR8IoO/ieFtry00nB3Hx9iWqI4ZzLlood+DAvvPnz5qcPHHs2K9Hjx5RU1MFNFPXFRYS2rJlk7n5mdOnjT093eg91d6P44yKjo7W1dUdO3YsYwQLAH3NmjVhYWHvB7Xew/H/VG1N9SWLi/Ckqe1+vLzuwdx8hTjeJT0DwX18fCwtLa9fvw4Wf/jwISwyMDElJQXm76NX7hIcZ6x2+peEmJiYiRMnorx79uyBtwNrw8zLNwmOExERHGcqAcSpsA7cuZKS0pgxY2RkZExNTekA2vdPEn1WHMfdurnd2bR5g7T0pBkzpuvr7/Pw8EhOTmpufvWeM/f1YJWSkuLbt2/p6e1apaFmetqk7GnZ2/N/OMbE5LiYmFA7d06cGPYwhAHHb/RFHH/9uu1lXa27u5uq6ooffpBYOF9OWVFhmcLipQqLlrb/u1h+ySKUFC7ZP4kLh8+U+WnF8mUrVigCyouKnnwojmM8RmfAkKylpQW6ZYwpnz59OpxUUCPjxoqM8Qy9gePgnKamV5mZmfcgr3sZGeldLfN/U1NTecniAtwS3OemTTp//hlEz/JS2wD1YxzvZJtaW9v3SwoPD4dnFRsbiz4YERERFBTk6+vr5eWVkJDw9hZLBMd7RBhCUNt6enqcnJzi4uKwhBjzqMkeptp9k+A4ERHBcWa2RVTQFMavM2fOyMnJcXNzz5s3D+NXd5JMfCYcx60UFxedNfvtu+8Ehg8bumnj+oD7fjXVVKTsm6amxvqXtbU11XW1NbW11bU1VYyzyH19dhwjmreP1/LlyjgzBwf7md9Olz//1145L1/W2tvbzpo1c9CggaNH8+3csY2OIO/TwSp4gs+flyclJYY9DA0PDwsPe4gXYQ8ftr8OfxgW9ufx40bATeq60tLSN2xs0tJSoqMjMzMzaCTtJo4zgh1qCQPznj17QFGMYeWCgoJr1669fv3628loe2923NfXW05uLg8Pt5yc7NmzZ7Kz/7VLXGFhwbVrl+fNn8PGNnDatCn37nlUVbUnMa2qqqbKLioq2s9w/O0ocDzTqKioBx2KjIxE14Mtwzvg8uzs7E7Hf56t6b8SHKcrMz4+HqaPnZ0dz3Tv3r34LzpvZWUlc276Q3CciIjgOHMKQ2FVVVVubm5wcPC2bdtgVHH/SkpKzs7OnZJM9CKOAxytra2VFBVH849SXaGSkvyvnTULCvIvW16cMWM6NcIpyMvr7dm9c8f2Hdu3bt/2yzaGv00bN6xZo2lubkaDS0lJKZPj+OO42LVrVomKCE6dMuVd0Bwc9EBd42f+0XyCggLy8otNTEzu3LmD8ePUKRONVerjxolzcHBMnTrl3DmzzMw0erN05sdxPz//0aPHUMlwXF1ul5eXd/+77h6uomIi/6QpnN3l1lHdnx3vFG0MngDVnT17du7cuWxsbIx5ylVUVFCrjHuefySONzbk5Wb9esSwY49VDgMDg4SEhE67cubn550+dVJqwg/Ugt2ff1Y1MztjZXXths0Ni4sX12m3b0/Lz8+7YoUSau/167bm5hZn59twpv/u2IpFXFwcN9zPZsfha6WlpUVEROABgbl9fX3R9aysrHDOLtNCfR4E/zpnx1G3aFeXL18eOXIknuaaNWvc3d2ZPMs4wXEiIoLjzBxB/rxDDg4O9O7OWlpaWVlZ7x/RegzH2zeI8ff79dcjmqvUjx8/WvBvcHzypPCG7fUNOtpLliyWlv5x4kSpH8ZDEuMlJNr/ZfgTFhbi5eXV0lodE/u/bYBKS0tv3brFzDgOz+G3M6fWrdPasWObvb19lxvFt7a2FBcXOjnZaWpqiIqK8PHxcXENxUiPFyLCIksVFA4fNgwN/bOpqbGTk8PkOB4TE6O5atWcObJHjY48fBhSXV3d7a++Dv4zUFt7DWrj++/FdXV1s7OzPwXH30Vvjx492rRpk4CAABweGspZWFiWLFliZ2dHbcoYEhIybty4j0h0+LSsxMHBVnHZUkVFRTypvLxcaiEmToteWV1VDVCorKwICfnz6NGjixYtkpSUxBPn5h7Jzc3Nx8c7YYIkfLOLF88/odZfv3kDPD1w4AAVbQY8FRERAV70aRwHJ8E4FBQUwP8pKyvDkWhgICdzc/Nz5865uLgkJydTCUC/FHx/zTiek5NjYmJCbe8sKChoZmaWmpqKJ1VRUdEnwlQIjhMRERxnziwrsbGxuG0JCQkUQUpKKiAg4DPNjsMatrQ0NzY21NfXvWpseP36XwsWO3aVr6+rq66r/Y+/2pqq9mCV+pdtba2fDsqfB8dRWGB0Q8NL/DU1vXo7QqgTYbx8WYsxLyw8HKSYlpZW9e/0dowHMz+Ot7a21r+sxYPDo6f3hOr2d1vqX9bVVFfir+OJt/UIjncpdAxALVxV0BXjWs/Fixd7eHhYW1uPHTuWnZ1dQ0Pjw0Iv/n7T3NKEQuAPj556E9Dp7u5++vRpY2NjXPTw4cPOzs7l5e0/VFVUvMjMzHjcrrisrIzqmkr6VOjDrq6ueNYo6cyZM/EteBFDhgyBIwGU73M4DrsJ3wzvo4XjIaJCvLy8PD09UUa4cJ8tCpzg+PsFRxRdgCopXMqIiAjKmewrYSoEx4k6liODF9qFQYQZ/HmirxzHqcybGDLi4+MPHToEo8TJyblt2zaMLNQMYO/ieO+pEyijeL1xFWoOXkFBoVeh/0PFiONGRkb/mULxo4dkaWnpj8Pxz9AhqW2AJk+ebGZmxhhh8hFCBerp6QkLC3NxcVHlZWVl5ePjGzFiBF6PHj16zZo1oHM6t8nHicrfrKmpiU5IXQVdccmSJTdu3ADlvOtbycnJu3fvFhIS6rTbKCzRyZMn8WmnRH49pcDAwE/BcXV1dRQWpucfr7sRFhO9Cczt6Oh4/Phxe3v7LuuTmUfNrwHHwS54LufPn6c2uEVzvX37dkZGRt8KUyE4TlRVVRkVFR74h19sTNSTJ4WMP7URERz/gqKyrHh5eVGjCUgGA+J7KK4P4DiVWYUC5SlTplDzNzC+r3pI1KRsbm6unZ0dNVHEbDi+YcMGFP/gwYPp6enUONpTZaeuEhAQANhlWhynOqSUlJSJiQkV0PJxNQBSpM6ZkpKiq6srKChILbOgNWbMGA0NDWdnZ8YELB8tAMG6desABwMHDqTOP2nSJAcHh+rq6i73qmhubobneeHChXHjxjHelYSExNGjR2NjYynkxWE9+/R9fHzExMRYWFg+DsfV1NSA4/D46+vrQ0NDL1++DIsDxwleDR4WPQvet6asvgYcxyODLd25c+fQoUNBsaampmixfS5MheD41zkdzpig08vLU0xM5Ntvv1FVVXVxcf2g9UtEBMd7T7hVEDmA6tq1aytXrhQWFsYgm/zvdZV9D8ednJyUlJQGDx48aNCghQsX6ujoaGlpafaQcKq1a9eqqKjIyMhQ05mzZs3qpTn4DxWVr0ZdXR3oIyIismzZMhBeD5YdBQfrA8HpEA45ObmEhATmefpBQUEA8Y6kNBzAWWVl5U+sgdWrV+Pr2trac+bMAYh885ZwOaAJPB8a3z9OwO7IyMh9+/YBEagzo3XNnDnz3LlzaNLv+hYszvr160eOHEnPkeMmJ06cCH8MPXnNmjW4/559+rKysgMGDMC9rVq1qvs4HhwcTBnK6dOn7927F+YmJCQkLS2tsrKSip5/ex8fguNMpYyMDIxwU6ZMGTVq1IoVK/D44DuBxZ/2QREc/3rU0tJcVfWioCA3NSXZw/3uiRPH5s6VhbUcMWIEbNpn2CGYiOB490NWcLclJSUwtidOnIBpEhMTg5lCKbpMetgHcBymNi4uztbW9vDhw9u3b8fYf+DAgf29IJDTzp07N27caGlpiRpknrLb2dmhLe7YsQN32ONlxwn19fX19PRQt/BzLl++zCRlp5SdnW1mZoYb27VrF4pP3fCnF9nAwIA6z9atW4G5kydPZlzoCQHW0W2A1J/IlNHR0WBoIB2QlzozvL5bt269a44cOAswQjsUEBCgdxjF6wULFuBW0Qxw5z379KlHf/ToUTi974eY0tJSGxsbQ0NDPBGgPFeH4CveuXOHbjP9I3Dza8BxtExVVVVxcXEVFZWLFy/i0dfX1/e5MBVGHHd2diY43u+VnPyXru52ISEBdvZBjBYbj57KC0RwnOA4s1knjPUY9DGOAwO0tbX9/Pyo37r7Ho7DzjY3N8O2gmAqOvSiQxU9pE5nw+u6uroulxV+wbJXVVW9YFCPl72yQ3jBPGWnhHZcW1vb6QF9Yg3QZ0Ctom5Rw/7+/oASFhYWRvvOysqKN729vRm5+SNwE19xcHAYM2YMfeZvv/12/fr1dBz5247yvXv3RERE6NsYOXLk5s2bqSAiPKCeagOM50HnQlW8vcISlZOVlYVBDghubW2dmppK1QYQXFhYeODAgcBxDw+PLo0LwXEmFN2Aw8LCJCQkhg4dCpcMr/Pz89EdysvLyew4ETOrY2lKSVZWZkZGRlJSUkx05K+/Hubl5eXg4PjQhfhEBMc/W5aVoKAguIvjx4+fNm2akZFRl6NJH8DxLz5ukbL3ewExCwsLw8PDvby8du/eLSgoSHMzPNrFixfv2rULyE5zM150p4roY8DQIDwgNR0UBAyaN2+ejY0NSII+mGGX1pIbN24oKChwcnJSx8+dOxcjzSfGz3RHsB3Jycm4W/ghvr6+MIioFthBvAn/gXbVgoODPyI1JMFxZhBcr4iICF1dXbh5KCa8KZArnmCfCxknOE4GptbWZtsb7XmxWFlZ1dXVCY4THGfCfToBAAkJCZaWlmAJ+I2zZs36448/CI4TEf2HiacSfm/YsKFTnnIpKSkdHR0QKiOUf9CFUlJSDAwM4B8PHjyYjlMH52VkZHSZNSUgIIBKKEQJ8KSnp0fPqfeUywRXBDfm6elpa2trZ2cHCo+JicnKyioqKsrPzy8uLq6srHx71pwx0WH/+4G4f+N4amoq2uG0adMkJSXhIkZHR6MN9NGocRKs8jXr9eu2utrqq1cvf/edACsbG5XlieA4wXFmW9AJA5Wenu7m5qapqcnGxoahXF9fH4aXSr1CcJyI6H0Cj54/f37GjBmdFnpOmjRp3759VHqfDxVMCfrk4cOHubm5qbOBy0HnJiYmQF4a8WnORje+e/fuqlWr0Hup40HAV65cQQ/vMu78Q4ax18D6qKioe/fu3blzx8fHB3gdGBiIdzIzM7uzl9On7MpJcPzLup0YBubMmcPJyblgwQJzc/OkpKS+GzVOZscJjl+98v84TmbHCY4z4T6dlHXFCAJ7y8fHhxJNnToVgNEpcTPBcSKidyohIcHU1FReXl5SUpJxshx9ycjIKDIyslNK/+7MWMfExOzfvx8sS59t+vTpZ8+epXfQ7SRvb29ZWVnqyIEDB/Lz8+/cuTMtLa074EULvAVbkJycHBcXFx8fHxsb++jRIyA1cDw0NLSgoOBtvn9/WQiO91EiR0u4evXqqFGjBgwYoKWl5erqCgesL+YaJzhORHCc4HifUFlZGTURjhIpKipSeR3QXDvtRE5wnIjoPwTvNiQkZN++fdSGRLTwX21tbUDAh+6W2tDQ4O7urqKiQketgPVXrlwJOH6bIUCB586dmz17Nr2pkJiYmIWFRXFxMZVSsEt6pua/ASVRUVFhYWHh//0ShP0AACAASURBVAivwd+A8ry8PJDZR9cJCVbpi8JIhvGACsQSEhK6ePEixoOSkhK833cDx0mwyteO4yRYheA406uyshIDbkxMzMmTJ6ltXsAPaK6MIa8Ex4mIuiV4t7du3VJVVR07diwjlAOpV69e7enpiS7XnelJ6kVLS0tKSsrhw4fpjCtsbGwTJ048ceJEJ4+Ziuu1tLQEP1FHcnNzz5kz59KlS0AoxiNhqgDZAJGMjAwAt5+fn4ODw+XLlx0dHeFOvCfZ+SfiOJkd7yvKyso6duyYuLg4yoUColX83bGyE57b074sMjv+NeP4lSuWY8aMHjBwYL+0RQTH+weOUxHkGPRBEWpqaoMGDRo9ejQAID4+vq6ujuA4EVG3xLgDHNjFyspKXl6ezr5CiZ+fH/YiKSmJzpTSib8Z36HfBDQoKSkxnkdERMTMzAxUzTjzDeHMK1euBP7SRy5fvjw0NLStra2qqgqeN7p0cnIy+NvY2PjUqVNOTk4JCQlvrxDtqQWgBMf7ovz9/UVFRalyrVix4uHDh2g/fXoRJ8FxguNW164ICo5lZ2dftWoVmR0nOM7MWwKVlpZmZWWZmJhwc3NzcnLu3LkTRpherEVwnIiou1DOuMgSUA6SlpCQgJtLIzK4zcLCAlhcWFgIGvjP1CvUzp0HDhwQExOjN/3BawMDg8zMTMYjm5ubgYPnz5+XlJSkE60sW7bs5MmToBBfX987d+5ERER0gvjeE8HxPtd66+vr0WgBrGixa9ascXFxycjI6OtR4wTHv26b/Lqxsd7fz2ed9hoVFSVT01MREY86TYgQERxnHlER5F5eXlOnTmVhYZk4cSJG8IKCAoLjREQfSTb0a3QwS0tLdKpOCVhGjRqlq6v7/gWXtEBF+/btExUVpVeLjh8/3szMLDs7m0o0Tl8xKSkJpxUWFga1U0fKysrGxcV9/kogON63BEaJjo5G4+Hi4hozZoypqSmcxqKiooqKij4dNU5wnIiI4HgfClkBkaMgFy9eXLNmzeLFiw0NDfPy8giOExH1gEDM6E5nzpyhZ7gpCQgIoL91B1XfdYZFixalp6fjgIiIiKtXr546der48ePA9PXr1/Pz83/oVQiOf+U4HhsbCxyHy4ex7f79+/DxKisrn/YLERwnIiI43oe2BLp8+fK8efOoX9RRLoLjREQ9pvLyctiOLVu2jBgxghGpJSQkdu7cGRQUBDtCHfmu6O2qqqpHjx7t3bu301LRZcuWgQ4Zv4jeu27dOlyIypcELViwIDg4+EvhOMmswvzKzMyELzd16lQeHh4lJSVq1UE/iBonmVWIiAiO96005BjrGxoarK2tMYhLSUklJiZS5U0JSSM4TkTUM0JnCwsL27Fjx5AhQ2ieHjhwIAh77ty5lpaWnXbhYvzi7du3N23aRKdPYczcgh6roaGxf/9+U1PTU6dO6evra2pqTp48mZOTkzpGWFh49+7duDQN/e9H/57FcTI7zvxKS0s7dOiQgoLCqlWrzp492w+2/iGz40REBMf7aAQ5hmaM+LBXbGxsGPfDIh6+/rutIPYJwXEioh4Tuhk6W2Fh4eXLl6dMmdIp+4qsrKyNjQ115P3792FidHV1t2zZsmvXLnNzcz8/v9DQUDc3N7xDZxkfMGAAsBs4HhAQUFZWBpCCM52Tk3Px4kU6ZAXHcHBwzJo1Cyf08vJ6+PBhp+2+CI5/5TgeEhIiIyPDxcWlqKh49erV5ORk0CrBcSIiIoLjn1nV1dUtLS2enp6wyaNHj9bS0vLyvdf8d/OTx8UEx4mIel6tra1xcXEwIp2gnIeHB9x84MABOMeAb19fX29vb39/f9iaZ8+eNTc3NzU1BQcHb926VVBQkIWFhfrWhAkTdu7cicPKy8up8yckJJiYmOBU4EV6jtzQ0NDHxwegHxgYCLjHyfE6MjIS+M6Y9PDTZ81JsErfUlBQkJCQEDs7u4GBAdpDQUFBVVUV2hIJViEiIiI4/jkF24uCYIwGiE+dOlVVVdXW4UZDW31xQinBcSKi3hIVDj558mQBAYGBAwfSUA6QxZvHjx+Pj49va2sDgtfV1QFqQeTUArvs7GwLCwv0VcavAL7NzMzwldLS0vr6evRqKysrOtZ88ODBYmJienp6MTExFRUVOCwsLCw6Ohr3AHp2cXG5ceMGQB/E/+lQTnC8D6mlpcXa2pqXl1dEROTu3buNjY19fRtOguNERATH++6CTlgnDM3GxsazZ88eOXKk5ppVxc+LXqRXEhwnIuphwWQkJCTcv38fqOrr6+vl5QVW2L9/P/CaEco5OTlXrFhx/fr1qKgoEC2oora2try8HN0VgA7+8/f337RpEx24AvwFVOno6AQFBbW2tuJCDx8+XL16NQ6gl3WKiopeuHAhNzcX9wDwAuWXlJSATigid3R0xJ2A1ztlKP9QNCfBKn1FaEtoLdra2ijLuHHj8OD+7lg3/LQfiQSr9AN1aYJ6b/ULEcHxL7tDZ1paGkZkVVVVFHD6zJ8KnxU0FL4iOE5E1AMCEIBywMFga9gRILinp2dERERZWRk1qACLfXx89PX1582bR0eYUMkKFy1aZGRkhM6JLgq0BUM/e/aM2jsX6KylpTV06FB6S05+fv6dO3cGBgbihIAtcP/Ro0fpJImDBg0ClGzbti08PLyhoQFno/YDw9mam5uzs7OB43Z2duD4lJSUpKSkoqIierui7g9+BMf7ioqLi2/evKmuri4oKLh06dKQkBA4cv0mpwrB8f6k1taW6uqq4uKivLzcsrLS5uam99P5y5d1+fl5HatpEjIzM58+e0r/9EdQnuA40wrDJVABY3FAQMCmTZswZE+eMin4UVBycCrBcSKiT53RgZlITU1F7/Lw8ABzA4WzsrLQ66hdD0HkpaWl6IFtbW3gbCCRsbGxiorKmDFjGMPKAbjgbHd39/z8fBxWjaGpqqqgoCA6Ovr48eMTJkygDmNhYQEjgtFB5BRJwwFYt24dDw8PGxsbdYyIiMiZM2eorV4qKyupKGHcBl7jVql5d0dHR1dX1+DgYPgAuNAHjV4kWKWvCM3SwMBg7ty58+fPP3ToUFxcHBWs0v9wnASr9HUVFRddvmz5yy+bdmzfcsPGClazS5Pb0FiflJTg4Ginr79Xu2M/zhUrlDU0ft6wYcNZ87Ph4Q+rqyuoHw+JCI4zJ45jIM7LywsNDd29ezdMFr/AKMMThyyPXiE4TkT08QJho3fFxMQAbX19fUHPVFQ3FQjeqR8CiGFNcAAwvaSkxNraetasWYxEPnDgwMmTJ8P0RERE4Bh0WmoJZmJiopGRERiR3o9z1KhR2traoP/SDuEFiJyPj4/6dMSIEbKysiBycEknE4Z7AJ3jzHV1dTh5RkaGi4sL5QPQ0+QfhONkdpyZdf/+fWp1AbUhc0JCQn/FcTI73ufmMtraWpuamhob6qurq54+K7ty5bK4+Pftxo2PW2/Prpzs7Le/VVCQd9366vwFc6nuOf2nn7RWa67T1po/by4394jhI4bNnPmTufmZkpJiUsMEx5k29TiGYPyLgdvCwkJAQIBrOOemnRuP7ThBcJyI6CMFsomMjAT1olOlp6dTxgK8253FHIDy7OxssOy2bduASmxsbHRYOT8///bt2/ERoByUTDF0ZmbmpUuXZsyYwYjv48aNs7e3pzq2ra0tDZHUJLqysjJojEpp97ZvgHfwfmFhYVJSUkhIiL+/Py4HJ6GlpYXgeL/BcepJoTHgSd26dQutlFo0THCc6IsbzyeFhY/CHrq53v71yCFlZUU8vg7D9a2oyFjDQwfy8nI7faW5uenGDWsBgdE47McfpSwszldXV9KfpqYm7d+/F1AuLS39xx8BpIYJjjN59nGU0dXVVUREhIOTXWfbBqNtxwiOExF9jFJSUk6dOgVQS01N/Tgzga8AGsB5oaGhp0+fXr58uaCg4ODBg+ls4gCpLVu2gDMA7pWVlWBuEPOhQ4foSHFqfae6unpcXByOMTExkZGRGTp0KPWRkJDQzp07fX19c3JygCzlz7tIbEetHMU9xMfH+/j42NnZ+fn5/Sdek2CVPoTjoqKiQ4YM2bt3L5yuvLy86urqfpPikASr9F2170McEXHx4sXt27draWlt27ZNXl6ei4urPdZOuAscf/Hi+R9/3F+3bg0bG6uUlJS/v9/b54QZXL5cafz473V01ru5ufYzu0RwvD/hOGW1XFxcxMXFUcYZcjKrFqwmOE5E9GECFnt6et69excE3I65nww3z549g6/8uu11UFCQmpoaJycnnSkF4uDg0NDQAEu9efOmtbU1MjLSwMBg4sSJ9N6f4C3A1qNHj+rr6wMCAqSlpan32djYBAQEMM7hK01NTe8xZFT4SmZmpr+//7179wD9oM9Oe3y+C8fJ7DgzC86ViIgIfLw9e/YEBwfn5ub2TxxvI7Pj/aHfUStkxn43+m0chydpYWGxaOF8fn4etZXLU1NT3j4Dtfvs7NmzZGSmHjyon5ubQ2qV4DjTWq22tjZ3d/dJkyZRYw3vt6MIjhMRfZjKSst+v/m7o71jWkpadWV1+dPyp6VPP/EPJ6l4XlH8pDg5Kdn4uDEwmjEoBYAuISFx6OAhXLG1qTUnK+eUySlBQUE64nzkyJFbt27Fp0WFRRYXLebPm08nb0FvP3/+fGpKatGTIlziWdmzzlcv+38oh7FLTEx0dnb29fUFtxEc77s4DqeRSqTFzs7Ox8enp6cHZ6/HcLzs6ae3+Z76q6mqed36+vdbHTg+guB4XxXap6TkO3E8PT3dyOhXWdlZkydP2K27Izs76+0z5ObkmJ81WzBfTkhwrJbWatA5qVWC40ybfbyurg6FunDhwoLF8weP4OD8hovgOBFRd1VUVGRlZWVxwSI6IuZpybOy4qfUvz3196y0/PnTF5lpmYEBgSbGp1aorBAY8/9cPmL4CElJSd2duv6+/kF/BB03Oi47W5aeIxcTE9uxbYe/j3/Jk1Kfez6zZv5vkSgrK+vY78bu3rU78XHS321/Vz6vKi0qo6/4tOT/iZzC8YKCAtgImEIQeWxsLBXiRnC8z+F4cXGxo6OjgoICCwuLuLj49evXUQRqMfGn7gFU1t5serDZf+JfdUVNW9NreMjfCRAc78v49V4cp3IEycj8JC09cd/e3Tk5XSz0xFcuXjg3f94cXp7hK5YrJyf/RWqV4Dgz43hiYuKVK1cUFOU5Rw5hdhz/gqlDv3jW0q+57ExYA42NjQWFBUEPgmxtbF2cXTLTsgABoOceZwvwPYX4gOaSwtLA+4FGh41mzphJRVVSeD1s6DAVZRVHeydbG7tlS5cNHzac5VsW6lOFJQrent7REdGmp84smL+A3kLoe/Hv9Xbr4WzFhSUtr1pf1tTXVta1/1XV1dXU1VbXVlVVUaBGZUUNCQk5dOjQuXPnYDXerhOC48yvkpKSmzdvLl26lEqr4ufn12MZx5kTx50IjvdnHM/Kyjp9ykRujqyYqPCG9esyMjLePkNmZuaJEyfmyM4aLyH2yxadzMwMUqsEx5kZxxMSEi5fviy/bMmQkYP7wOw4HkBxcXFcXFxAQICbm5urq6uLi4trTwtndnd3B1jg5BERETU1NcxT9tjYWH9//zu9o9u3b6Psnh1CPTBP2Smh74WGhlKZ+Kin0xs1gNPi5IGBgfHx8WVlZV3uJQEaQ7c5+9vZ8NBHJU9Ky4p6eF6c8a+87HnV8+qs9OwAvwCb6zcsLlhoamjSYE0HlC9auEh3p67+Xn1lRWUa1qkciHNk56zVWiu/WJ4TLjfDos8ZMjOOGR0DuNhY2Vy7fA1/VletbKxtXO64oPhJSUkoZkWHCgsLURu+vr6Ojo6A78rKSjI73rdKUVpairatpKREBSxR+3HiORIcJ+qLOF5cVOToYKeoqDBkCMfixQszMtJpE01b6bS0ND29PbNmzZBfsujMmdNPnhSSWiU4zsw4jkH24sWLC+UXDObuC8Eqz5498/b21tXVnTFjBghgzpw58gryi5cs7jEtWbxEfsmCBQtmz56Npw6UWbduXXp6OpOU3cvLS09PD7cnLS2Nm1VRUVHqOSkrKy9fvnzhwoWAj7Fjx/Lw8GzYsIFJyk4pOjpaVVWVl5d3woQJsrKyCgoKvVEDcnJy48aNw/kPHDgAKq2qqmK8h5aWFvQc3ImDvYOLs0t2Rk5tVR2IuffwoupFdVNDs6+Xn/wSeYExArKzZefOnSspKSkkJCTaIREREfQF1Am6w0rVlYrLFCdOnCgoKIiP8C8vHy8OmDljJtWkhYWFxcTE8F1+fn58C4VFwZcqLIXwRRwjJio2ffr0HTt2wDnJyMiora0tLy+vrq5GwaOiovbu3WtsbAwv5V04TjKrMKcKCgrgQFKJ7VGcgICA/o3jzjedCY73ab0/dryurjYxMV5PbzcbGytGhAsXzj1//qzTGQIDA2RkpouLix49BnqLpTY2JiI4zoRCQWpqalJSUpycnH7WVBvGN3TwN0N6C8ffvHndI+cpKiqyt7cHieKpDB06FNBgdd3q3Plzv5n91iN/5ufML1pcNDxsCLCg4nSnTJkSFxfX7WK+ec+bnxhuUVhYaG1tra6uDhZftmwZBldg0L1799x7SL6+viCPo0ePAtQo+Jg5cybctR4p+3++2Z3DqDRt7YuOeXk1NTWvXbvWGzVgaGjIydk+iww0d3FxAYwy3gP+G/QgyMfbJ/Fx4pP8otKiMjqYBH/Pn76oq375sqYeDA1Gx0eMkdmMfzgS3FBf29D48hX+GuoagfUV5VXPSss7TbTXVNS2NbfP9o3mb8+wq6SsdOHCBdwtbhXFv98hf39/3DyqwsPDA//6+fmBt6iP8AL/hSMHPxaHdXrf855ne8k93PE6JCTk8OHDVGJEeXn569evwzpQecqpBIiZmZm4oo+PT2RkJGOuFTI7zvyKiYmBK0uVQkZGBn4m+tfnxHF0BLTtivJKNPuaytrK5+1NvcveQR+JHoF+8aq+qfFlE/oUvohe854+RWbH+5PQRL//flz7xgujRh44sLfLvCgwe/Lyizg4BvHx8SopKWFEiIqKjI6OcnV1OXz44Pz5c8eM4V+xYnlERDipT4LjTL4ZELX/Q0FBwXmLc2O//471G7aexPGqqoqoqEexsdF1XS3/YlRT0yuM9A8e/HHXDf3oNvpYenpaa2sX+48wRkBOmDDBw9Oj7mXdk6InObk5PfJX+KSw7GnZo4hH586dk5WVbd/oa/p0PPgPcjxevqwrLMyPj49DKRrq6xk/bd/s4EkhhgdgbmxsbFxXwkdJHXr8OD4nJwdno3HcxsZGR0dHWVn51KlTdBRvzwp3NW3aNGrYnj9/fmJiYve/29zcVFCQl/xXYlpqSklJcVNT03sIG4wXGxPt5eXp5ORw86ZjwH1/VBe+lZ+fV1HxosuvoEOOHz+e8pEuXbr0nlwfn6KIiAjqKl3CJVqg+113Nxe37IwcUAWYmwLxF88qAOK5WXn+Pv4ebh4RYRGZaVnFhcWMeI0X5aXPQeqg8KKC4rCQMOdbztZW1teuXLO3tb/vdz/1r5Rnpc9wqopnlTR20HgB/3DkyJEmJib5+fm9ZPLA2ZTJU1RUvHHjRmpqKoXj1N5DoDdYwOzs7Nu3bwP6YQoJjvepuUZJqhTo4J85WKUdr59VFheWpP6VGhH2KDgwKDoiKj+ngMJrRhB/8awSvQNdID0lPcA/wN7W4dLFS1cvX3W57RIeGp6XnQ+OR0ej+h3B8X6skJCQ6dPbR6IJP3x/4vivBQVdGD081piYyGPHfp05S2bkSO6x3wmIiYqMGycuIMDPzs46adKEgwcPUClfe2RGjIjgeO8JIyz1A46nj8e4id9/+823H4fjbzq18paW5rS0VHPz3xYtnLt50wY6ruttlZeX37/vf+LE8fUbtBctmj93zkzZ2TLz589Zu3b18WNGPj7egLPW1lb6/DSOs3zLAma6detWcUlxSmpKQmJCj/wlpyRnZmUG/BEA6KG2PPxQHH/ypMDBwXbnzq2rNTXOnDHtFK+G/9rb39i1a4e2tjbYZdWqVZoM0tJas27dutWrVwO458yZIy0traur+9dfif989wkICTi+bNkyNMdeYjJG+HgPjndp1yIjI3R1dyxXWbZff889T/cXL7rAsvad2NPTbzo57dunp6S4dP68OTNkpspMn7Jo4fzVq1dt2LBOU1Pj4EED97t3CwsKOm0JSXfISZMm9R4SvR8uS4pLXO+43r51Oy05HQM/2Jqaw8NrELbVVSsZGZkfJ/949MjRPx+EgM6pWcB/FmUCOErjouOcb9422G+gukIVrWva1Gk/Tftp9qzZSoqK69etO3/u3MOQhwCXsuIyCuU/J14EBgaOG9c+I6WkpNQJxyG8AMAlJye7uLj4+fnRDiHB8T6B4xMnTqSWGcDIgFGosKvew3E0XTRgip7raxrgu4b+GXLkiKG6utratWvMz5onPk6qq66nA73wAgcDuOGmWlpYbv3ll4ULFsyQmTFFWvqnn6bNmyenoqKCXuPk4BQfG48Ogq7X5eJpguP9Q08K28fKUyYnbKyvPgp/WFNT3WkAev36/39yT0tPsbO12bdXb+VKVRUV5U2bdExNTUJCgjp9i4jgeB/YDOjuHXEpMZZvWD5+dhxcn56e9vBhaFDQA3Nzcwzn330nwD1i2No1Wl3m+3zV+CovN8/st99+GC/Bz88LFDt3zvzWLac7t50vW1qqrVQdwPItB8cgfB1QTk+XMhuOwyjA9yh/9jQ5+S8U3NPTXV9/7w8/SAwfPnzKlCknT54sKChgPP7Z06e+Pl5nz/52/PgxQ0PDI0eO/Noho3905MhhJcVlHOyD2hfh8fHs1t2ZkvIXjePU7Dgz4HiH09VSVVWZl5eLmvP19bG2tlLX+HnIkCFcXFwa6j+7ubo8f17e+WeQ5ldubi7z58nx8fLMkJm+fftWq2tX8Xw9PT3PmJrCjEpLT541a8bkyZO+ExizWnNVWFgos+F4aWnpTcdbDraOGamZoBAgxZ8P/rzvG3D18lXdXboU8fDw8Ojt1gv6IygnM5eChudlL6pe1GSkZtzz8Fi/TpuLi5OVlU1eXv7Xw79aXLCwsbKxuHBpk84mcXFxIWEhjChW166lJKW87IAVpsLxqqoqXP3333/39vb+oNnxvjsv1T9wnHpGLCwsGhoazs7OGRkZsNj0k+1ZHG8H8ZJyEHNedi7QOTgw2PmW8+VLl7W0tEbx83EN5ZwjK3vm9JmEuMT62gZqgpyC8oLcQmsr69mzZw8bPkxinMTPaj+fOnnayeGm3Q27w4aHFeTlxcXFhIQEV2loeHl4UdPqbwd3ERzv6+qE2u+xIYwLN4kIjhMc/58eP45bo7WKi5ODTt0wcMCA4cOG/rJlc5cJhuLi4rS114wbJw78+u2MaXV1VadZZEPDA5MmSYoIC27etCnznzRGzIbjYPHn5WVOjrYK8ovA0CCS9wzb/2k4WltbYmIi9+7dLSwsOHfubH9/n7//bqM/pYNVmATHX7x4Hhj4x969e6ZMmTyIjXUAy/+S640ZM2btWi0P97sv/o1l5eXlfr4+GurqOAbM12lb47a2tpzsrJS/EoufFFyyuDhixIghQwYfOrQ/KfExHa7zZXEc/aShoSEtNc3d1d3Xy6/0SVlCXMLJEyfnzpkrMEYADZJ++uJi4gb6BqCQ3Kz/4XjV8+pX9U2+Xj7y8ovZBg0czDlYc5VmXHR7u2qsewUoaW1qy8vOd7vjBgQZMHAAinnX7W59bf3zp89rKuuYCseTkpKcnJw8PDzomkGNwZEA6qmrq9+7d4/KxoPWjgMyMzPRUN+zoyfB8c+j9z/ZnsXx8tLnFeWVuVk5fwYH/Wp0ZLrM9EGDBrH8Yx+4uUfCsJibtc+O19c0wFMFkddU1uK/169dX7J4SUcPErOztX3xrLy6orqh7lXHr0/VpUXFZ3/7jZube+DAgeu0tT3uemSmZdZU1OJyBMeJiAiOExz/n4qLi3//3fm338ysrKxOnjy5Zs2aKVOkvxMYvX7d2vT0LmbHb/1+cxT/qCGDhxw6dDAuLrb82bPmpmbcTVV1dV1dXU1NdcWL8sKC3OS/EnJyshobG5gTx1tbW2trqh/HxTk4OJw/fwHj3EEDA5np04SFxs6cOfPUqVNg6O7XYUjInyoqSjIyPxkZHYl4FN5pCGE2HMftZWRk+Pr64q4sLS1RAzt27Bg+fDgXJ+dqTQ3g+Nvzynfu3FFRUcHALCn5g7u7W1tb8+vX//M32jkvMTE6Kio9Le2cufmoDp04cTwtLYWO/PuyOA6yPHX6lOlp0+TElOaGltqqupSkVLc7dy+YXzA7Y3bU6Kj+Pn3UGFhhzOgx+nv1aRwvL2unk5c19bY2dkCE9oWSi+WvXbHCeaj5byqyNj8nP+IRnLF9Q4cO5ePjO3rUKDY6uiC3ALz+uuUN8+A4moS9vT1qhp4dx3OhvrV8+XKQek5OTlFRkZ+fn4aGRjtaiYvHxMT03WEgNDRUWlqa4Hj3cfxZSfvPQQW5hfBX3d3cz5ufh9d64dyFLZu3CAkLjeRpx3F0mcTHiRSOV5ZXAbhDgkK3/bJNcKwgHNsFCxaEBoe+af0bHYeG7Nam1y7OLvB1O5LDTIJxiI+NxxdB8wTHiYgIjhMc70KAZkdHR3X1n78XF12tuSotNZXx05rq6pjoiN26O7m4uAQFx1pcPHffz/us2W9bf9mqrq6+cuXKDRvWm5qe9vf3LSp60mlejfljx5OSErds1pko9cMcWVlj487BKu9SaWnJ3bt3tmzRmTr1x02bdLKyutjyl9lwvMsO0/6D+LffaqirvY3jcF0qKytsbW2m/zSNZyT3ggXzjI2PBwcFFuTnZWdlurm6bNu6ZcmShaqqKnJyssLCY7W0NOGnddkhvwiOZ2dnnz9/3vyseVJ8Uvsizo45Fc8aYwAAIABJREFUuaclz0ADYO4n+UWxUbEG+w1GjBjBzc29d8/eTjgOfLe7YSciLIL7X7RwkaXF5b8Skikcp6JmczJzggKDdm7fOWL4CE5OTq3VWrd/v52ektHS2AouYTYcd3Nze/bsf5nFAgICpKSk2lOSjR0rLCwMh4QxJ/q8efNiY//3HJv7lOg6mTx5MsHxj1jKSW1iBW+ztuMXHu973nPmzhnJ247jv5n+RuM4egeoGvy9fev29vbDOnDhwoVBfwS1vmp78ayCOklFeUVtVY2DnT36JkoxmHNwewT8w0fNjS04huA4ERHBcYLjXYhKRwia+R+Op6V2QmpgNLB75MiR7YaVg13yB4lly5bs3LnNyOhXPT09ZWVFISHBjpCG741PHvsrOaG+/mVfwfGEhPjNmzZ04Pjs7uD4mzdvGhoabW/cEBcXHTWKV19fLyIivMvNd5gfx9uDFtrjU7vGcUp4lGlpSSdPHh03TpwR2gYOGICWwDpwQHsitulTr127VFSU19T0ijlxHHhBL0EDbQAI8nMKoiOiD+gfAI6P5B7JiOPUgrZXL5sC7/+hofHzcO5hbINYlyosDbwfiDfBIjimobYxIS7+nPnZuXJz2AaxDeUaukJlhc31GylJqa1NbUyF42lpaWDxS5cuWVpabty4UVBQkHFrITpih/FNVlZWtj4reBfvD0IjOP6fmVXQwpsbWrw8vGTnyL6N41TSTzT132/+rrZSDY1FSEjo/DnzzPSMkielcH3xl5+T//DPh/v27hszZkz7k2D5Rk1NDe9QyE5wnIiI4DjB8Q/G8eLiYkdHJyUl5SFDONnYWOfMmXX+3FkcAzBF/TY1Nb1+3ebj471o0YKOPcBZNDU1UlNT+iuOFxcX2dnZLFgg10GZUvcD/N91ZN/AcfF34nhz86uSkgJLy/OTJ08C5UhIfK+trXXlssV9fx9/X6/fzpxevHiRmJjoxIlSoqIiXEOHKCxd7OXl0dj4kg5o6bs4/s/8d27wg+Ad27dTec0lJSXXrll7+NDhkydOgjMUl8ELFaLj79dorbl18/f0lPSWV8wyO07tHIYmceXKFTRCsGkn7H4bxN9+s08LaC4lJQXj8EFBaATH34/jT4vb579fPHtR9aLK+ZbzrFkzv2X5ZvjwYbNmztqze8958/O/mZrprNeRGCfBzs4+fPjwEdwj8Ld69erw0PCWxlaC40REBMcJjn8MjsN+e3jcVVdXGzRoELDj+PGjoO1O86DPnj29c8dZSWnZ/7F3HnA5rv8fP3+UFg6pJGXLIbLKFhlldEiiIZEQMorMQ1aIg8gqoyJN7Xk67T00tHeainpSKi38P3Wf8/yeU0moPHF9XvfreT3d3eua3/f3eq77e1G5j+P/PfclEPxHwnEnJ8dZs8TZ2FinTRM9r3f2xaeP7+k4Hhcbu2P71iF8g/v0/r9FCyWcnBxq3lWj3EHb2MrKSoEIuF1WVtbtW7dGjWya1DFr1oxrBn/CY+npOE5f+udNWUV6Soabi9vZM2dVNm6UlJRcJLFo6ZKlq39fvW3bthN//LFeXh7MMYSPT+fgQX9fv6z0rHdva9/XM8voeHl5OcoI/zI2Ng4JCQkODn7w4IGSkhJ96ajWGjly5M6dO69du6anp3emx+oU+qmTJ1HrkHYkvM3frwiOfx2OUxHHqdaBZpWalGppbrl3z16pZVKLFy2WXCgpLSW9VU1N7+w5uLKjx4zm6sc1ccLEQwcORYRG1rx9R+aOExERHCc4/jU4/u5ddU52+indP7i4uPj4+AwMrhW2WjKm9PWrv/5yU1ZW+OX/fgEbOTj8gDheWVkZFxejpbWflRVuCb+R0a2yspI2Fz/6MXC8OfJx06LHvIO5Dx7Qzs/L+9R1wsPDFi9eiCO5OPuqbVGlx63v6aPj8bHxFo8t7hndc3FyCQ4IjggNDwsO8/P2D/ANjAyLCvD1t7a0Vt20CTiOum35xLK8tClmeQWtklqVk3nmjpuamjo5OVVX//OCtZ2d3ZgxTVOPpKWlNTQ0VFRUJCQk+Pn5qVo0depUf3//5ob/7k0PV0VFBTKk+Re89z3LmDEzjje1oJelGakZAb4BNpY2JvdN7Gzs0CLQXoL8g3y8fNFAosIjE5/HX750CfWKnZ1dcYMikD05IYWxJRIc79H60tWavyzEIQmHSHCc4HhrHKfk6uI0ZcqkgQMHbNyo5O7u1tjYyPjf9Iy0HRrbB/Tv1/QqmMT8iPAwan/3T1bBZ3x8fMfT/uxZlPpW1Y7gOPDa6O6dpUskOTn6gj5joj8D/T0dx0NDQ5cvl6auDG6D3/JpdPjrt9+a1sUUFh595owufT2274vjKakp9MgqNZVNY3LUuoAdwXHaq/Laqjo3ZzdU3SH8Q6ZOm3ryhC5OYbxv4vPEPZp7JopMHD9BePv2beEhYdRras0xJRqZ8FXOkpJ/4sr7+Pggx1hYWFRVVbE/Li4uKysrIiLiypUrUlJSu3btwp/EnBAcb2fuOD3Q4ZrVa/j4+JYsXvK3599NCPWv11NSVOLk6CAvL9erd6+RI0c+uPeAvngQiTve0yn8/fv/wTKtvMzT011XV3ed3Lrly1esXLlCWVnxkv75gACfN29orYa0KhISntvZ2dy4flX35HHdk3+cbPps+oLt2LHDBw9o3b9vlJmVRvKZ4PhPiuMAx7tGRkAunsHcv8usjI9/3vqYkpJiW1srNTWVyZMniIlNP3BAG0bi0aNHDx8+uHr1yvr18tzcg/j5eTerKjs72ZeV/bP+X35+frfh+OzZs6mxPfAZSt3b29vCwsLGxuZpK1laWpqZmQE38YQJCfHKShuEBIeKik4+euxYOyACXpGXXzds2NDp00R1df/47GxU5sdxV1dXHh5enLhiuZSVpQWKmPG/sP2enh67d+0UFh47ZAjvkiWLDhzQunXrJrLUysrq2rVru3btVFJSUFPbLC0tJSQkKCEx/9Ytw8zM9JqaGmbA8eLiYnd3dytLq0C/wJTE1LycfAoFmsIUlpSBrUMCQ/fs3tOrV68+ffrs3LHTy8OLvgwQqLqy/G1kWCRofu7cuX3Z+vLy8qps3HhZ//L1azeu/Xnt1MnTcmvlBIUExcRm6F+8GBkekZP5ApfFucy2DBBo29TUlDFn6DkmJyfn4OBArfRLGdrk5GRchB6qkujnxPHy12/q3zXY2dpNmTaFpW8fMXHxs6fPNoUprGgKU0gF+sxKzw4JDD5+7BieEz7tQomFaE365/Xv3LpreN1w186d6FHHCY9bvXq14Q3DpPik1tNUCI73XJWX0wIC/M6ePbV27ZqZM8UWSiyQXLQQmjdv7qyZM8RmTBGbMXX3bo2///Z8+7aCPniXkZF+6dLFpUsXjR8/dtzYUQsl5q5aKb1CeulyqSXYJBfNnz1rhrb23piYCJLDBMd/UhxHHvn5+l65cnnvnl3XDa7S5/62VkZG2r37Rjt2qK9bt3b5cmkZGRlYixXLpTepKJ84cdzV1bm4uIjx+O4cHZeQkOBo1rx585YuXYrb8fPzCwoKCjEIfw4bNkxAQACfOjo6VFjGp7aWfxw/fObMKTs7u3YWDAepnDp1UlNz5/37xrFxMZ81GMyP4wC1PZq718vLXbt6OTIirKKiovUxr16VoNu9evVPDY3tq1fL/P777zLNWrNmjfy6dXJya/E3uPzu3duxsTF0EGcGHG9egbU+NSXVxsrG1uopiLzsVdNkkqZFN1++zs3Oi49NuHf33ob1GxTWK9y5dScyLApITY/URo3hFeQWBvoFAcHV1dRlVsnA4ixbsnSx5OIF8xfIrpE9oK2Ni2emZTVhSvOcWlwc33F3Oxs7IUGhAb8OOP7H8e++KifanaOj40+yKifB8W/HcbSCt+VVQf5B6CSVlBWPHjlsbWGVnJACdGZ4s+JVeWl5alKqk73TqZOnlJWUlyxesmzJsmVLl0lLSaGjUNigoH/hYlhwGK7WejFOguM9Ws7OjvPmzenTp5fgMAHVTZscHOyBDTD36OSTk5MMDW/MnTMXxnaxpITBtf+9TRQRES4ru3rYMP45c2ZraWnZ2T2NfhYVHBwUEOCPzc/P19v7b9gRGq2M5DDB8Z8Ux983Nr57V1NZ8aa8vLTZl2347CmZmRk+Pt5OTk4eHu7R0VHl5W23n+7EcclFklTsiIEDB/bv37/9kAu9e/cGtZ8/f/7vv71CQgJTU5JeFhW0MxH8Y3MMZlrZa2x1de86MrWN+XGcStHr18Vv376pr6/98OEz82uLi1/6+flZWlpaW1sHBgaiOtbX1b2trGxsaGi/QX4XHKdUVFhkYW5h9vBR4vMkxtc0KdTOSs/GfmxA6vwX+YV5RYzQQC0GXln+9kP9R6D8s4hn9rb2Zg/NzB+Ze7p5AkRq3tZ+fP8RB5S/flNVUY0vAP28nHxcTf+8Ps9gnsGDB584ceI74nhZWVl8fDyKzMXFpbS0tOM4TvR9RS+jtWvXPnr0KDk5ubKysttwvNkdLUFNTk9JS0lMxmdOZg7aS2ukLiuh1bx9V0GrzM3ODQ4Itnpi9cD4AT5DAkNwl3dV76hA/p9icYLjPU41NTVZWRlHjx5Bt9O3b9+zZ07lvmhp2tDVmJmZLVncFGxt9qyZ0f++zeXl9ZeIyG+//tp/506N4OBgkpkExwmOf15fNzbW+iw6jsOujP9tvIWlRVFxUUpqyvP4552yJSUnZWRm/O39N8AaeI27oOzBJUZGRnRI/WwoNzEx8T179l66dOnJkycODg4+Pj4hISFxcXGpqamgma/OQzqOr1y58uTJk10EowEBAfQ1CL8Ixzt/+LPVBdEg4YPhwURFRS9fvozK0BU54O3t3Q5cFuQX2Frbgg+SE1Ko0fEWtF1aXIaNkRioCS3YA7amPktLygANVW+q66rrG+vef2j4CEDHzoS4xLDg8OjI6EC/QIenDvfu3rt25dpB7YMb1m8QHifcFKVk1MgzZ86Akrto2XmkvR0cR99XUVGRlJQEHHd2dv6i0XEiJjFmcGVPnToVHR0NDOocY9YBHKc3BFT+18Wl1ASVTyN10T+ra70qB5fDKcUn2lqLVzYJjv8YQtEkJSVevnxp3ry5cnKyvj5eH97XtxifKi5++eiRqdSyxdTbXNHRMdR+G1trAQGBgQMH6umdffYsIu55LOxsaGhIZGREampK83gB+VGO4DjB8a4RheMrVqzo1asXCOD+g/up6amRUZEhoSGdsoVHhsfExjg4OoB3Z4jNoNYULCwsxK2pWMvTp0/n4+NjZWVtMTQ+YMAAbm7uX3/9tcWShPTVQ0Dzy5Ytw2W9vLzS09PRayQkJGRlZeXl5YGzi4qKUBJVVVWVlZUtgszQlZ+f//DhQ+C4lJSUjo4OTsdOHPy2k0QFi3Bzc4PB/rrR8W5rkCIiIqDSlJSUrsgBR0fHUaNGoYLJy8u3geMFBXZP7WytbNOS09+UVlA4TgduantV1MQcwGswBDW9NTc7Lys9OyM1E58piakxUbGRYVHPIqIB375/wwD5BgcEmz403a6+fdXKVUoKSjPFZ7b5Iwy8EfREYWFhxcXFjY2N1dXVnZt2Jyen0aNHt8bx4mahIeTk5KAfdHV1DQ4Opgf7IzjO/PLz86O72dOmTUORYWdZWVl34nj3bATHe5bQ89TWvit9/SonJ7OwIK+2tqbFAY2NDd4+f29V3zJlyqRZM2ecPHGcGoqqr393986tIUOGcHJy7N6toa+vp751y9KlkuJiU+fNnSknt+bMmVMuLk65uS9aTHokIjjOnKqoqPjw4YONvfVYkTE9AMeBpI8ePVq5cmXfvn3BuErKSqdOnzp85PBBnYOdsh0+fPjY8WM7NHYsX7Gcfyh/809js6Oiohifwd3dff369SBvEBsdkrS0tAwMDFBLQCSoLvjv4MGDBw0a1L9/fzY2NvB6m/NbYCDB6PPmzcMFz507d/fu3atXr1pZWSUnJ9NotCZLV1QEDAKjo89KTU29c+cOjoQ1lZSU1NXVffDgwe3btw0NDW+00vUvFy5uYmKye/dueog6CQmJmJgY5il9b2/vCRMm4MF4eHjAi8iBe/fuIfnXO0lUDmzfvh2lxsHB0SaOvy597efv5+HuER8bn/+igJo7npeTn52Rk5mWlZmWic/0lIyk+OSEuMTm0e4wN2e3B8YPLutfPndGD58H9h9YLrVcXEx84YKF1Jh3m4LL169fv/79+qMWweTgC3biu7S09KFDhy5duoSib13Q1GKZjLp582ZTFt3oUNp37NiBZoUaKyMjg7yl4zh6PcA3KoORkRFqHTU8Tw/2R3Cc+eXr6ysqKkpVrblz58K2od8nOE7ErIzeSKOVpaen29nZnjhxdOHC+Tw8gxcsmG9u/ohGK21m9Ma8vBfXrl2ZNEmkd+9eI0YOX7VqxaFDB68bXL129crhQzpr16757TfhAQO4li1dbG9nhwrQInobEcFxZlN5eXltbe0TK/PRE0f1+qU3s+N4YWEhaFVJSWnEiBHNa3Y2Lb7dtwvEzs5OzUJZsWIFevMWj4EsMzMzo9BwzJgxJ0+ezGsVRRs8HRYWBsQ5ePAgHnjGjBl8fHx9+vRhaRa1+HZHFgIE2YPXQcn79+8Hg4J7QEvtn0ItS45UfNFi4NSD4SxOTk7Kf2gz7d9RAQEBc+bMoRZHRAHRn7lzF0Wn0i4sLKyuru7o6Ah3iBrCqWsW9STIlmNHjx0/cjwiNBLkDdt/8o+TezX3amzX2Ldn34b1G0QniSIbO7jQI5UQ5Dx8AHxi57hx49TV1K9duXbn1t0g/+B3b2t9vHzhGTatDv5/vVhZWFn6sPRhUFMmsLC26fVRguvY+qzWwsVx8OjRo1FjTU1Nk5KSqBnG6PXQUwQHB585cwbE32KaEMFx5pe/v7+4uDhVGdCICI4TMa3A2Q4Otioqitzcg6gau3TpYktLcxrtNX2FZnTINTU1KclJDvZ2f3v9VVFR3vo6sbEx8vJyw4bxz5o1/ezZUy9e5JC8JTjOnKLey8rOzoaRPXj4AJ8Qb99f2Jgdx5tjlL5vaGior6+v6xbhXm3Oii4tLQ0NDQWuOTs7o2bQg7sxPir1tHDKG/59NzEtLQ00A7AGwW/fvn327NkDBw7sCLQBpwBb+Gw9VR2eyY4dOy5fvgxUOnr06IEDB+ADFBUVMT4G9SSU8DyM36nHay3kMLMNJ1CxTdoprPpmNbQrxuS3yJAPDKL7VEFBQffv36ey98KFCydOnIBrtHDhwkGDBlE/cQCFAbK9GUT/2aT9AuUexD175uzNqpu19mlt27rtsv7lqPBnpSVlBbkFudl5+S8KCnILsVHRzfGZl5P/IisX/2q9lRS9qqqo9v7LW1VFlX8If4vJVOJi4u4u7rXVdS8Lits8/T9bTm5ebl5BfgFcX3QTJSUlqOqpqalgbhsbG9T2mJiWUYAIjjO/8vPzzczMli1bRk0f9/T0JDhOxGzKzEz/80/9mTPF0aNycXGuXCl1+/aNmBiAV81XGKP09LQLF87Nnz9HcNhQJUXFpKQkksMEx5lTMLJgSNjWW7duSa+U4uLm5PqlH7PjOFOhIR1k8aXjK4rV1tbCrUdNqq6urqiooJb6g7FESbi5uZmbm//555/Hjh3bvHnzqlWrli5dis8pU6a0T3hAQDY2NnZ2dg4ODnz269cPsMjDw0NNmBkwYMDIkSMXLFigoKCwdevWXbt2aWhowBlQV1eHY6Cnp2dqaurq6urn5+ft7f13s7y8vGCwsScqKopO9swvZCb63MDAQA8PDyThbwb5+voCrC0sLA4fPqyqqrpt27Ydzdq5cyfwetOmTcuXLwemCAgI/Prrr9zc3IObRU03onKVEki3tUfUep7JFNEpSxcvXTBvgdRSKSUFpf179586efr2zdsW5hY+Xj6xz+LSUzJSk9LwmZWenZOZk52RAxSmIhtSb7kxhkdkCE/xv43+eig2RzsnZUXloUOHcnL8b0gefsLCBQuv/XktOjIGF6dehmtxkVbXLC4uKi5+2TRT/GVxUzcBYkNFjYiIOH369JUrV9qM58OI4+0H9yT6XiooKKDWM6bj+Mcfeu64xWMLguM9SDGx0fv27R43btTAgb/Onz/v5s2bVOSDZsPahm2l0crCw0Kf2lpbWDwODAxos3zT0tJO6p6YO3fWhAnCO3duT0tLJflMcJzJcRw1X2rFMk5uDoLj31n19fWoYSiV8vJyqp4BhfGZl5eHniUlJYV6BxRkeefOnb179yoqKqqpqQGyly1bJiQk1MFRdmoqDhVSnYuLC7AO7hwyZAhgjv+/wp5hw4YB5YWFhSdMmIBmML7DGjdu3OjRo8XExNauXXvkyBH4fKABcP/DVnr8+LG1tfWpU6ckJCRwO4Dd+C/Ub83CQ+KOyIfWCaHSAtSGiwJfhZ58Tk5OfEeGfJawGVFbSkoKBA/HRkVFRVFJcf++/bcMb7k4uvj+7RscEBLgGxgSGBodGR0X/RzY/TwmPvF5Esg7IzUzJ/NFXk5+c4jlf+JLUK9+UgjOGKSl/a0wrwhbBa3pB5lnEdGaOzVHjhiJ5DA+p+Qiycdm5rhd/ouCdqLCtRX+ohmwXr4seVUCcwj3xsHBwdnZGTUQbmSbbicZHe8ROI6GJi3dtCwu3Hv0IR+b1l4pp3oYMjpO9L1UXV0F43by5B/cg7lHjhxx987t8g6ECS8sLLC3e6qsrMTLyysuPuPJE9Pq6hbLXHx4bG4qLDyWl3ewlpZmUJDfmzflJLcJjhMcJ+r0Lqy6uLg4NzeXWighMzMTmB4UFOTj4xMQEODp6WlpaXnu3LlNmzatWLFizZo1cnJy8vLyixcvBryysLD80r0CwlLQz92WsB9dKrD4l+8k3FpERASQvX79emQUsktGRgaoffTo0Xv37rm5uQUHB/v7+yNv0SOEh4cjt9F+CgsLgTIlJSXxz+Ptn9p7uHoU5BbW1zRUlr+lvS4ve0UrLSmjthbk/UVw3ILCqQU+31U1xd7JSM0wuGqweNFiZGCLlw327N7j5+0HFq+urKHWIfoyHC9s8gNpNFpdXV1qaqqJiYmtrS3+pP/CQ3C8xwkuPcoRlbxPnz6CgoLoHND1o+uAx4U6THCc6HsJXc3TpzZr1qymhkQEBARmzJg+rVnwG0VFRaf8K2Fh4WHDhm3fvj0jI/Nj0xtc74yN7o4aOaI5YDmrqKjIunWymrs1du/auVZWVkRk4q+/DuDkYF+3Ti4sLJTkM8FxZhYVRBgUB+T4XVam32Auzl+4CI7/OIIFoobVgY/Z2dk5OTlAq6ioKG/vpuWWbGxsQE52zXJwcMCeR48eXb58+dChQ3v27NHQ0Nj1X+3evRv70RVu3Lhx2bJl6BzHjBmD/rH9cWscQA2Tjxo1auSnNWLECByDgzs+AA/+wzVnz54Nl0NLS0tTU3PXJ4S0qKurHz9+nJqTg8RSqUbyQZnOzs6+vr7R0dHIKGRRVlYWsis9PR1ZBwClBw9pR+Xl5X5+fg52DoF+gSmJqWBf2qvm5YHyOokw8po2oHz56zf4khCXaGtle1r3tPQyaYGhAnQKn/DbhE0bN50/dwGOQUpCKhyApvkn+cVfdqPmqM+0Mlp9XX1ySrKRkdHdu3eROe3HJSCTVZhfKBR3d3c4mZycnPDf9u7d6+XlhaqO2vtNOF78L47nMRuOk8kqPUM0WllISPDt27dgerZs2bJ582aVZsHQqPxX69evl5GROX/+/IsXL/7te2nh4aF3je4cPqSjslFZcYP8evm1ioryysqKuMDJE3/Y2tpkZmbU19eTfCY4zswCbNTU1Pj7+wNXhEYK/h/b//36f4MIjv/UAnJR5rn1T9jFxcXYX1hYCLKHDxcYGAhzDrL3+U5C4wQFhoWFgaFLS0vbQQqkJT8/v/W7tp2YaZVvK0Hwvj6+Ls4uPn/7xMbEFuQV0EppJS9LXha+/JatqLCopLgEl2q6WnGJg73DJpVNQoJCHOz/m5oiKCgIWwVnIyM9o/JNZUNdA3i6uKj4K+5V+rq06m0V3DYrKyuAONg6ISGBHk/mUy9IkNHxHiGU4/379wUEBPr3779//340ok7AcfoAeSGzbG9ob943vH9i/mTYMILjPUANDQ1v31Y2LeZcXPyZWlZUBANUVlbWGq+rq6vz8/JSkpNjY2OeP49LT08tKix49+5/4cY7f5U6IoLjnboAEEDC0dGRHv+KTFYh+sHVdZ3y+/fv0TU8i37m6OTo4OgQHh6elZ31srhpTlhxSfFXEU4RuJZWTgMw4YvnX54HDx4UERFpMc199uzZN27cSGlegq6quurV61dfMRsY96J+LMvLy4OH4+TsZGtriyTQIwK1n28Ex3tKtff19R09ejQnJ6eOjk5QUBBcaxqN1gk4zlSGraJpZbsnFs04/ivBcdKTExEc7wELACGNMLvUMnwTp01YNfN3guNERF8vOLigYfQU6Dt8fHxiY2Nzc3Mp0oX7S83T/Swu4wAQLXV8fn4+YPfs2bNz5sxhBHFubu4FCxZoaGjY2NjgFuBm4PiXgjj1iwfuUllZWVhYGBMT4+HhgQuGhobSp6Z0xOyRySo9RShfQUFB1J+1a9c+efIkOTmZiiv/4y00bWFhQXCciIjgOPMLhphGoyE5ZmZm6J8HDOqvdWT/n4evEhwnIvrWARvAMRA5PDzc29vb09PT19c3MDAwKCgIWABiBi6gE2lzSBL/pdgdnxkZGc7OzgDx+fPn00G8T58+I0aMkJOT09PTwzVB0iAPfFIxwr+o/QPC8JmXl5eUlBQWFobndHBw8Pf3Lygo+FSs/Y7gOBkdZ2bB0Vq5ciUgdcKECdra2hERET/eynYUjsPZIDhORERwnMkFEkAq8vPzYYjPnDnDx8fXf2A/9d1bdXedJjhORNQ5UF5fX5+dnQ1UvXfv3sGDBzds2KClpeXi4pLeLPA6tcIO4JVCc3ztIN6SAAAgAElEQVQpLy/HFzRLc3NzTU1NatlXuri4uHARcHNVs6hxzQ6OiBc3CzeiltjEWTk5ObGxsXAV4JFfuHDBysoKHPN1SSY43lMEX8vS0nLXrl0rVqzYv38/cLympobgOBEREcHx77UeJ+x+amoq2EBNTa1fv358Q3m1j2mR0XEioi7Rixcvzp49Ky8vv23btuPHj9+4ccPZ2TkqKiqzWfCMqTVygcugpeXLlzMuqwnM7dOnz5IlS0xMTLKysqileToy35eO4PgEf+fl5eF0eAjwBAAo7u7uT5oVFhb22Zc1CY7/MPUQzqGysvLcuXN37NgRGhpaW1tLcJyIiIjg+PfCcRqNlpaW5ubmtmXLFjY2tgmTfrNzfRpkH0JwnIiok0VnXDBBSEjI/fv39fX1tbW1geZ79uzR09MDmoOS/fz8du7cOWrUqL59+9LXbOLi4lq9ejUYHTANqm56MbS4uCMgTkVGL2gWKDw+Pt7Hx8fCwgJ3NzMzgyMOZwDHfMXS0wTHe65QJaytrWVkZJreFpo40cPD42Nnrc1JcJyIiIjg+FdFHEcfBdNMLdM2T2JudmHWm4xKguNERN2h2tpasBEQ+ebNm7Kysjw8PK3XJxIVFb179y5gGkd2JBAYfS4aqD0jIwMXv3379uHDh48cOYIv8AS+ejoKwfEfSW5ubgICAiNHjnR1dYWvSHCciIiI4Ph3Ebrf6urqoKAgLS2tESOa1rRauFgiqyCTlvaG4DgRUfcJ0KytrQ0wYmNja8HigAlJScnNmzfDaU5LSwO+02i0VwzCn5WVlampqfb29pcuXTp27Nj+/ftxNR0dHfD3lStXbGxsYmNjcWRDQ0NdXd2XvqD5dThOIqswvzw8PISEhAYOHHj+/PnExMS8vLwO/upCIqsQMbPa7N9ISESC48yP49Rv40uWLNm0aZO55eOaD9V50QUEx4mIukM+Pj5btmwRFBTs378/PWoKuHzfvn3h4eGZmZmWlpbXr183Nja+devWhQsX8B2k6+np6eTkRC0pam1tjWPc3NyioqJycnKAU2jY4Cr0UPgsLy+vqqqiBw7vUpHR8Z4ldP0zZ87k5uZWUlIyNzf/wcIdktHxn1kRkRGrV68WnSy6Z88ed3d39IQkTwiOM7Ngqevq6mDWJSQkhg8frqioaO9kV/uxNvdZPsFxIqIuFHoQNDw5OTmAAvibPhbOwsIiKysLtqYDdE1NDcACSE2FZwGOHz16VF9fH0T+4sUL8BMuBWMDBMeX75soguM9S8BTTU3NqVOniouL/3jhDgmO/wz68OEDSplxT35ero2NtZzc2r59+7Kzs6OPtba2LikpIXlFcJxpVVRURK0XbmtrO3LkSG5u7hMnTqRmpGBPZng2wXEioq5SWFiYuro6Ly9vi3kpS5YsefjwYXFx8adOrK6uRrvNyMgAOYF9gRp379718vKqra1tYaK+O46TySrMr6SkpMOHD48ZM6ZXr16LFi3y9/fHThqNRiarEPUsZWVlGly7slZ29fx5c4cPH87JyUn1qEOHDlVWViZ9EcFxJl/9h/pNMicnR09PD7UXfTKMKZXe5IBUguNERJ0/cpOcnHz58uVZs2axsLAwzg6HzTAyMgJndxCp8V9wOfACZB8QEBAUFASW8vb2xvVbnNidaE5wvGcJBuDp06dr1qxBJUTBWVlZVVRUUPHvf4AZ5ATHfx4VFhbY2lqe0j1+8ICW5u5de/bsWrx4Ud++rAMHDlRQUCB9EcFxJo+pUl5enpKSYm9vr6KiAhyfP38+OisqvQl+SQTHiYi+lcWpL1VVVb6+vteuXTt69OiyZctgIejzUubNm4cOhVrfnn5iC4Jv58qUGhoa0tLSwsPDY2JiQOdgYrRqW1vbyMjI+vr67kRzMlmlZwnAikqyf/9+0Co3N7e2tjYqalZWFmxDR+LZk8kqREzV4zZvHxvqa9+Uv75187qAwFBWVlZ5eXnSFxEcZ2bRaLTa2lpYz/Xr1wsICAwfPnzXrl2w6VR6E/2SCY4TEX0riH9s/un/wYMHs2bNYpyU0qtXr0mTJp08eRIA/Y243OIUgBR6KxMTE1CInZ2dh4cHMB0NG/vbP5Hg+E8oOHIwY9evA1wEUC2nT5+up6eHOvljrNBJcLwHdZjf2B21OL2m+q3R3dsodxYWFoLjBMd7xKxxGxsbfn5+pEtCQuLevXvYT3CciKhzrAIMv7u7++7du8eNG8c4NYWXl3fbtm3BwcGdDsctLgJPAER+584dR0fHiIgIQHlubm5mZmbrt5o6C83JZJWeWFfDwsJmzpyJmtm7d+/169ejZoJif4AY5GSySs8SjVYWHhbq5OTg7OyEzcXZ2cXlE5uzc9MBLs5ubi6xsdFv31YyXuf9+8bKivLbt28OGybA0jw6TvoiguNMO2sc5hiVE18MDQ2HDh3Kycmprq7u5eUF801wnIjoW1EYXYObm9vhw4dFRUXBpnQQBxPANsAJBut0Ogq3M9pUWloaFxfn7e1tb2/v4ODg5+eXnJxMoTl6gU5Zj7M1jpMRqZ4iQOquXbuoOVSTJk0C6dTV1f0AAcjJ6HhPq4dxezR3Tp0iIjZj6ozpU8XFpomLTW9zE5sxbca0KThg3ryZp079kZOT3QaO3/ofjpO+iOA4M88ahzlGFVVUVGRjYxMUFNTX18/IyKipqSE4TkT09YL5d3FxkZGRYYxd2LdvX+qNIjA6YyzC7xX/pKioyNTU9MiRI+jL8CUxMREtHw/27VxOcLwnCtgNBEf9REUVEhK6cuVKSkpKfn5+TydyguM9S+iFCvJzU1MSsaUkJ1Jf2txSqANSk9LTU4qLC+vqagmOExzvoUv/VFVVhYeHnz59evLkyUiUiIiIvb09IxsQHCci+mKFhoZqamqOGjWKPjUFzq6AgICOjg4aHpM8ZAsfIDc319DQ8MKFC15eXiAwwAqgvK6urr6+/iu8BTJZpScKxV1QUKCvr8/Ly9uvX7+dO3d6eHhkZGQAZ3v0C51kssrPOiZCJqsQHO8xfRQMrrW1NewmxQwrVqxISEhgTC/BcSKijqIMGpWpqamUlBQHBwd9agorKyvgRk1NLSgoiPlTAQc9KSkJRA6/3Nzc/NGjR35+fvR17DrO5WR0vOfKx8dHREQEVXf8+PHHjh2Liorq6fEKyOj4T43jt24OExBgYSGj4wTHmTfWOD4LCgoMDAyGDh3KxsamqKjo6OiItBAcJyL6MqEXALxOmzaNMWpKnz59hgwZsnv3bnrc0B5iw97DTacvBZqWlnb9+vUzZ87AkqWnp8PrIDj+Y+vFixfGxsarV68ePXq0rKxsQEBAfX09XDKC40Q9Dscr3tBuXDfg5h6EDhlVmqzKSXCc2QTjSKPRMjIyvL29NTQ0ODk50U39+eef2dnZLVbXZnYc/16Tbilq+Y53/8nT/rGthXW+l3Jycvbv30/F0mLE8d9//93X1/fHSHtFRUViYqKNjc3FixcNDQ1DQkLor3u3WSEJjvdc5ebm3rt3b/HixSi+GTNmUHUYxV1UVERwnKinEfn7yoqKvLw89NIA8aqqqk58YZ2I4HhnzRoPDQ1FEoSFhZGcKVOmtIi31jNwHEIbc3NzO3jwIOzHiBEjhg4dysvLO2TIEP5O0pBmCQgIjGwWvmzfvj01NZV50q6lpTVv3jzqafn4+Do37cjM4cOHi4iITJw4UUhIaNu2bUySdkpRUVEKCgoo9HHjxo0ZMwal0xU5gMuOGjVKWlr62LFjgYGBFHcWFBRYW1tra2uLi4sPGjSIPiI+f/58tCtLS8v09HT64jtd4b0g7YqKinhCFJCgoCAygaqrnZt2EAz6iOXLlx84cABgjdJHwtHxoSt0dXW1s7MDo0dERNBH0yl5enqiOAiO91yZmppyc3NzcXGdPXs2Pj4eQNNzX+gkOE5ERHCcaZf+wWMjLcrKyiBM2M09e/YwLsvdk3AcdsLExERSUhKlwsPDA+NBxXGz7iQBOJydnW/fvq2hoTF69GjcRVRUNDIykhnS/uLFCyMjIxAPHgmweP36dXd3dzxwZ6XdycnJy8vr+PHjYFwKN2fNmoVK33UD3h3cyTgKixqMBwM6yMvL37x5syty4NChQ+zs7L179964cSMwBayJ+rBy5UrUNzY2NnrsQhUVFVB4bGxsRUVFCzz9xoxpcy9SSi3aAlbW19c3MzNzdHS0tbXt9LRzcHDgLrKysmhWSNrH5sk5cAULmoUv0dHRyJb79+/7+flRBwDQqY6S4HjPEr25xcXFobaPHTtWQkJCV1cXRdxzlwQiOE5ERHCcOZf+oToiV1dXERERgNaBAwdCQkLQZXUtjpfTSkuKi969q27HBrRgr9p3NSUlL8vLy9pBNADB48ePpaSkKFikLyjauUKWgUVkZGSoJeuioqI6fu77942vX5eUloJIvnCCwYf3jQ11dbXv6uvr2qRS4Pi9e/fU1NTwYHp6eoxBrDt3FHbGjBkUdC5atAi42XFqfPu2ovhl4Zty2qetf8uzKirK8/JyCvJzq6vffpba0SDHjx+PB5s2bdqNGzfarMTfrrCwsIkTJ1IvO4O5586dy8vLyzgvZcSIETo6OiCYFifW1tYUFxcWFuRV/Xd9ivbdDFpZ6cuXBRVvPlOaHh4euO/AgQPPnTuXk5PTRV1eaGgolcPtgHV1dXV8fDzYHY/k5uYGP+HgwYPU2KqSkhKwvvVSoERMruzsbDSoBQsWwBFduHAhqsHH5qVee+KUFRJZhYiI4DgTzhoHs6GnBX/v2rWLAgnY0E+l92twnM4ZFRUVgYEB165d3b9vr5LiBkUFefl1snJr16ipbT5+/Ji1tWViYnxNTXULjKusrPDx9T5/Xk9969Y1q3/HKYoK61VUNp46pevg8PRFbvaHD/+BWkYcBzV+ESh3XF96l4KC/KdPbf7449hOjR1Nad8gv15+7bp1crt27rx8+ZKfr0/p61efM4eZF86f09ba9/ixaWJSQlVV1adwfMuWLcBEVEeUa1ek3dfXd8qUKR3A8SY1NjbExz83MjLat3fvNvUtyorrFTas27B+nZKiwiEdnQcP7j9/HtciOiwqTF7eC1dXZ/1LF3fs2KayUXGt7O+rZVYoKyns37//yJEj+Lx69WpAgH9ZWemnGuTkyZP19fVzczvzlxzG1QqnTp1KDYFTi6TQBQO/detWOzs7uifwsqjQ1dXlwoXz27dv27JZBclHnd+wXl5NbQt2urk5FxbmtbjRmzflkZERRkZ3D+ocVFZWRIVHtV8nt1pVdeOBA9pPnjzJzs5qE8dHjhzZv3//48ePdx1efHYWOKNfgc4lPT0dD3PmzBl+fn6cBZK7du1aC0flu794QPRZ0Wi04OBgDQ0NNjY2Pj6+CxcuJCQk9NApK2R0nIiI4DizjYuXl5c3NDQEBQVt37599OjRvLy8qqqqMKCfspJfOToOpH7+PPby5YuSkgsnTvxt1crlO7ZvO6Rz8MiRQ5qau5dJLeHn5xsyhGehxPwrVy5nZf0zS+bdu5qMjFQDgz/nzp01evTI1at/37dv77FjRzV371qxQnrKlMkTJghv3qzi4e6K69NfyGA2HEdGWzx5orpJZdpUUdHJIgArbS2tY0ePaGnt36isPHOmOC8Pt7DwmC1bVO3t7RhDyAFkq6veAtNjY2PAPcrKyqwsLFxcnNt3qPv4/t36zTkmxPGEhOcXLuhJSS9DYc2ePXOz6qajR4+c+OM4SlBm1YrJkyYOGyawdOkSQ0OD1NTk2tomKH9T/sbBwQG5MWXKJOSYtPQy1BBd3ZModxUVZXGx6SOGDxs9ariIyG+zZ886euRwRETY+/cNdBeuK3C8xUqW8Crv3LlDvWNB1+DBg8XExPbt22dpaZmfn/9Pta+odLB3AHZPnSI6RXTysqVLdu/aeUr35Ik/TmxWVRUXnzFq1IhJkybs3LnD09OzqqrpZ6Kampr4+LiLF/XmzJklKDRs/vw5GzcqaWvt/+OP4zo6B+XkZMeOHfPbb+OVlBSfPDFvgcJMguNt9h0guQkTJiCjgON6enouLi7h4eEoLDwnfT49QXPmFzo9QUFBajLY7t27IyMjYT96XJQVguNERATHmSq4YUlJCYwpPoFwsJVcXFzAS3wHpnfm6PjHppmj4WvWyHBzDwB3njhxnEb7z8/uL4uLLl26MG5c0zxsAQEBU9OH7xubJtrGxcVsUlESEho6XngsMK6s7D8xFx8+fCAkNAynzBQXu3H9OviY2g8YYioct7Sy4Ofnx2GgMRtrqxZziCMjwzdskKeQTlxcPCgo8N9hxVI/v7/1L57bsmXTeOFxdOyDz6R9QCsoOODNm3JmxvGa6qr0tGSdg9rUYQcO7E9JSWxxjK2t9cSJTYg2YADX/v17UO2qq6sf3L8/a9bM5powFEXcUF/HONAeFOhn99TS1/evI4d1WFj69OnTe/dujZCQQHpudN3oODAxLS3N2Nh48+bNYHFOTk4qaQMGDEA1MDQ0bBG+MCc7+87t21Rahg4datKUlvr/+mkFp0/rotU1TXpZLm1n9xR1IyMjfetWVQ4OVuycP39+SMh/YpNXVVWBwhctWkgtWh4Q4M+0ON76rDFjxqDANm7cCI8lullWVlZAIn9/fzSfkJCQ1NTUDoZNJOpm0X0kNPYNGzZQNR82w97enjJ4PWuAnOA4ERHBcWYLbpieng4jvnXrVjY2Ng4ODnyB3WxnyvFX4riHh7uIyEQensHa2lohIcHU213/Q7ea6rS0pBN/HB048Fc+Pr6zZ8+kJCdVVVVYWVsICPCzs7Pt3bsnNDSkxVkpKcm7d+3gHjSgCVwWLIiIjGC20XGkKysrTU/v9LBhAgA4I6M7xS8LWwBH87LkDyUlmwALx9jb2/67v/DRI5PNmzfNmz8P4DVnzuwxY8fgGEFBQS3tfYFBzI7j+fl5jx6ZrpJZCdycO3eun18bAf4SExNUNiqyNK8Zv1xaGg//+tWrAwf2jR49fPDggSoqG8GmjMfX19fBkaOqgY2NDfUeLbLu3j2jwsLCrsNxFBmuDxCXkJBgHBEHkvbt21dBQSE8PLz1Wc+fx2lq7mydFsbRX2/vv6kx47FjR+rr61VWVuAwBYX1Y8eOklm14u7dOy1i4tbU1ERGRuzatZOVlXX8+HHuHs49CMfpZ4Hh6HPH0QehKM+ePXvx4kXQeXJyMvage0LCUdAtBs6JvrtgGwICArZv387Ozj5kyBAUXExMDFoZ9vegdToJjhMRERxnqmgqtbW1oaGhBw8eHDduHAUwRkZG4MN2hqi+Bsfff2iMehapp3fu1KlTXl5/vXzZ8gaAME8PN5WNSqwsLOAJY2Oj5OSk4OBAHZ0D/fr1ExQcduOGQUFBPjWZgS4QkpWVpYzMqubl4oTt7Gz/HXR8aW5uzgw4Xl1VlZGeZmNtdfz4scuXL8fGxNbX1X14/6GFU6Gnd2ayaNOid2JiM7y8PD91Rydn+xEjR7BzsGvu2cX8OF5a+trf39fA4Kq2tvatW7cKCwtaH+Pn67ty5XJWlt7sbKyqqpvw8DXV1XBOjh09on/xgpurG33qDoPblpqQEJeXl3PzpiFogJWVRUVF0dXVCbfrChwHDuKpDAwMpk+fzkjh1BchISF1dXVAcJsvjObk5Bgb3/1UWigyf/zYbPjw4biUhMTce/fuvHpVAlYHGQQHB6Ni4E/wN2oR2mReXm5x8cuAAP9z507//vvKWbPEtLT2pqen9UQc/9RZeGCgnoWFha2trbu7e1BQUEpKCiCPDJkzlRobG9HBCgsLg8hXr159//79xMRElB3KlOA4UY+owFVVVfD28Ym+hUlWqyD6aXG8uLi4rKwM/c+DBw+o2Gjc3Nzg8ry8vNZDeJ0wOt4O7pSX00xMHoqL/xOpY8MGeYBIdfVbW1troHavXr2A2laWT2rfVbdoNjRaWXCwv4bGNg4ODiGh4YaGNygbj0/0s8z2KmdrgafT05P1zp0WFBRonoUy/MSJY58OiPH+sbkpPBNOLk7NPbuZHMc/O/0398ULVxenzaoqAwb0//XXAaqqys4uDq8/9zJrWFjYoUMHAaObNilLSMzn4GCfO2eOs5NjY0M9/Y6di+OAwiVLljCOiMN4z5w5U1RUFDWTh4dHUVHxs68ztqn4+DiDa5cXLZzHzs4mIjLx9u0b+fk5797VMB7T0NBQVFTw6JHJWlkZoWFDBIbycnE1RVFcsnSxh7vbxw8trUiPxvEWOVZdXZ2QkODi4oK2jHShY0JfAYe8U+NFEn2lUDSampqTJk1CQ8CX8PBwYE0PmkFOcPxnVlZW1q2bt3RP6pqamj6LflZZWUnyhOD4d5ymUl5enpKS4ujouGnTJk5OzoEDB2poaHh7e7f5fmBn4jjd6NZUVxcVFpiZmqxcKc3JydYMtVNv3jQoKGi6OHIQfeXy5cthv4HjFk8e11S/ff/+P6tnlZWVBgT4bN+uBiwTEhK6cf1aSXERM+M4Pe1lZa8jI0NPnjw6edLEXv/3S/9+nPLr5Dzc3Wvf1X7aU+9JON5O2rOzM+FcKSkqDOUf0pe1z4Tfxp48cTQrK/1TJwK/amqq/P39Dh06NGXKVLAmdV/h8eP+OHE06ln42/9GDPxGHKc/JwpUXV2dj4+vxcqaoPOQkBBnZ+fRo0fjX/Ly8h1H0oaGeviZISGB5/VOz54tzsLSZ9CgQQob1j99aosK3/p4IE5xcZGtjdWWzSriYlPnzBYfPXpk7969B/76q+Sihbdu3sjLy/2RRsfbzIGioiKci6I8d+6cjY1NUlISla4W79cSdacKCwstLS1XrWr6ZXLixIlubm6NjY1lZWUEx4mYUB/+FfWntbUVgAFVV05OjqyBQHD8+6q0tBQOYXR09PXr1xcsWECF546JielIer8Jx+vrgRcvnZwc9u3bIyIyoW9f1l9/7S8pKXFJ/0JYaGjV2yr60NerVyVubi7KygqsrKzgngf379HKSlu8CVdSUuzq4qSosJ6VhaXpmAf3qqoqmveXmJszHY5XVVUlJSXevHljzZrfhw4dws7ODnJSVNjwyMw0MzO9AzfswThOo5X5+v59UEd7htj0fv25Bg0aMGuWuJbWfg8P9xZzoxmV8yLbzMxETk4W4M7Wl3XMmNFqaluePHkcFhbs5eURHR3V5hSRb8HxiooKlCPOQu4BxPv27UulEd/Xr19vYWFBf134S+GysLDA4on5evl1wwSGsrL0GT5cSF5ezsDganT0szbL8T8F//492gVlS1Dn/f29NTS2DRjQH091+PDByMiwysqKHxXHGR0kJAf1OTg42MnJCU3PzMzM39+/xfskRN0pd3d36v2NNWvWoDjgKcGu9IgpKwTHfx6hi4h//tzdzdXK0uL0mdMKChuoSjt48OBP/bZJRHC820QFN3R2dp4/f36/fv2mTp169uzZDi4b8k047ufns3LF8oEDm+KrqG3ZZG1lkZ2VhcZQW9tyVLi+vrb4ZcHlSxe4uQeh2Zw7dyY1NaW6+j8LBuXkZN++fWPOnJnUuph+/r70kRvzx+bMg+ONjQ3l5aXGxncmTpzQvx+XtPTSK1f1g4MDXr0uAYrV1dV9+NiRQb4eiePl5bQAf589mjsFhwkIDOXfulXV1tayeTJSk1pFuPvnS0pKkpbWPmHhsXx8PIsXL7p753ZyUiKItqq6GtnViAxtqKfHtewsHKfRaPfv3xcTE2McCx84cKC0tPSdO3daLFHb8akXL15k6188O2f2DF7ewWJi0y9cOBsREZKb+wLJR0/RIhWNjfV+fn/v2rlNfauqtfWT3Nzs2tp3rR/VytqCWnl00aL5xsa36fPyf0gc/2/+NKICIN+ompOSknLr1i1dXV0UHBpgi3dLiLpaiYmJ+/fvpyY7SkhIBAUFUe2I+RcGIjj+8ygrK/PG9Ssb1ssuXSIxY/qUqVNE+Pl5qUEWJSUlguMEx7+XSkpK8Gz5+flJSUmwYoANXl5esDjsWgvW7WQcz8vLMzK6s3q1jPDY0evk1vr7+3XkLCcnh3HjxnFwsKuqbvT0dG/xiPHx8XJycr179+rV65d162QTEuK/bty6q3E8Li52k4rKmLGjZ8+ZeeLkcfpzfqF6II5/eP/U1kZcbAYPD/faNatNTR62mFzRWq9elXh6uqmqKjdPQBK8fPlCTk5mi0lKHWyQ7eM44zwHtFhbW9vly5ezsrIysjgLC4uCggIFGV8Bl28rK58/jzt29MiQIXxDh/IfPnoo8llEdXVV+8//1M6GiussLy/n4uLUVrN8b2LyYOjQoU0/tq5d89TWGpn2k+B4C1ERr+EpxcXFOTk5GRgYGBoauru75+TkkNezukGwJShWVVVVDg6OAQMGaGhouLm5paenA3aZPMoKwfGfR/DSS0qKc3KyweUpyUmxMVGnTp3k5eVhZ2dfv349wXGC4983mkpYWJiOjo6IiEi/fv1WrVoVGRn5BQMiX4fj9vZPJ02a1AxJk3bv0nj44L6Hh5vdU1srSwtslpZPsD0xf/zIzNTN1SUx4Z8lJ1++LDI3fywnJ8vPzzd9+rTrN66D/OA6hIaGPHpkIrdube/evbm5Bx06pB0VFU7/yZ554o6DvVJSko4fP/Zr88KNy5dLXTh/1vyxmbOzk62NNZXqf9OOpD/0+ssTwNrY2NjWpNhGU7MH1FRmjZ07AgL92lxmnJkCHeY/emQmJbUMx8Bab9u21dT0gbWVpb3dU3xaWvwv7Sh2U5MHoaHBOOvZsyhp6aZT/u+XXjPFZ164oOfq4gimt7a2pNcTarN4gqrxyMH+qb+/T2Zmek1NTUdwvMWEY8Ccubn5mjVrYJIZQXzatGnHjh0D2KEl049nPLEjcBkbE6O2RXVAf67mOIajT5447uhoj7QgNU1poXLAAkjwGHvcXJ1TU5NxFmjmyJHDY8eOgZ85frzw2bOnAwMDYmJikpOTQQwWFoBqv4UAACAASURBVE80NHZMnPgbJyfbwoXz0axqav73ivPPhuOMXI6uDZU/ISEBXbC/vz/KDrU0KSmJzGbpOqHiIXtv3rzJy9s03MjDw7N3716qNygrK2PmMXKC4z1InfuKSF1tzT3ju4KCw770zR8iguOdGEoFwoPBbJmYmOBpe/XqNX369EuXLtHXEOwSHK+tfZeX9+L69auioiJsffsIC4+ePUts3tyZC+bPXjBv9vx5s+jbrJnTp04R2ai0AXCWlZlJ/fT84cP7yMiIs2fPgNKmT5syYriQIFrSMIGRI4WWLll0SOegm5triyB6zDM6XlRU+PSp5WZVpbFjR3IPGiA6eUJzqmfhc/5/0z5TfNrkSb9t37bFz8+7rq72w4fWY3vvn9pZTZ06adRIoePHD0dEhLbJGcyD44mJCQcP7BeZKMw/hGeYwJCZ4tOXLJaQWDCHMdXUJi42dZLIeG3tvTk5maGhQYsWzu/1yy9Dh/BOFpkwb85MyUXzJea3cdac2WI4UWaV9MEDe52d7UtLX7WP4+jTGUdM4dTduHEDaEgNM9MX9FFVVbW0tAwPD2f0dlrbg47AZUCA37Klkn16/zKYe4DwuFFz54i3zgHsnD1zxtIlEkqK6x7cv/uqpPhj88/93t5e58+flZNbM3fuLKC8kBCqvdCYMWMmTRIRF5+hrq5mYvIwLS2F7oT85DjOKPS/uHheXh7QPCQkxNHR8eHDh3Z2dvBnGAMmktdAO0uweZqamuBaqtGhWaFxwajA12XatYEIjvcsNTTUV1SUv35d/PpVx7bXxWVlr95WVbaYDfj+fWNlRfntWzeBECysrATHCY5/F5WVlcF2x8XFGRgYzJkzBw/8pdNUvhLHYQKRHc/jYt3dXS2ePLa0MH9i/ujxI9NHZiaP8MmwgcLv3zd2crR//jyORitjnFhcVfU2OvqZmamJru7JI0eOnDp16tZNw4AA/4qKN18Hyt2D43jsjIzUgABfF2fH5gHdpjfQHrWVdpOH9+Gyu7u55L7IaWxsaJMV4NW4u7s4OtrHxcWUlr5uc4UU5sFxVLjQ0GB7O1ts1tYWKPTWqWZMu9dfHq9fl4BHvf/+y9z8EU6xaho4NzPDWW2daGb6ECfaWFt6e/+Vnp5aU1PdkdFx+Hh4+KNHj0pLS/Pw8NBBvHfv3vPmzTM0NGw9mv7VcPmyqPCvvzzwqHhIa2vLNtOCPaj2qBiOjnaxMc/ov/B8bJ5HnpKS9PSprb7+xRMnTuCZUe3v3Lnj6ury4kVOm09IcLxF2aHniY+P9/f3d0WuubgAyuFrgdFbuDFE3zhGDvL+888/4c2iKamoqNjb26elpVVUVDDta50Ex3uWEhMSDh7Qmjd3loTEfGwLFy5YtFCizW2hxIIFC+YvWrhg2dJFF86fZewqCY4THGeqcXHgINCRIpA1a9ZERER8cbv4Ihz/xiGor4tlxgjKM2fOTExM7IqCB27a2NisXLkSd5k+fXprHO+G4bfWt6Dj+KpVq86cOYPi74r7hoaGTps27VM4/n0j0KFBjh8/Hg8Gh+Hq1auMXS1cTz09PbojQUlQUBCuCzD3i1yXgIAAYWFhnN4mXH5LDoASOnhu68OA4yNGjABeANzBQ100f7r9tDMJjrfIHGRFZmYmPDFHR0egOTq+hIQEauZbYWEhumxiyb4xn6OjoxcvXszKygpDeOTIEXhBH5l4ygrB8Z6llOTkkyeOL1++TGbVSmy/y8j8/nvbm4wMTB8OWLV27eprV/+kL6RCcJzgOJNEGUevCNgICgrau3cvBwcHnnbZsmWPHj1qM9hxJ4+Od78oHKdilk+YMAHtrby8PCcnJ62TlJWVlZ+fHxgYePny5blz5yI3xcXFUfDMkPbc3Nz79+9v2rRJUlJyx44d3t7ecMXwwJ2VdvRuqEyoOlSl73jc8e5skNSy8+PGjdPR0UExoQ0kJSXdvn0blZ6q/ZTY2dmHDx++bds2d3f35mUv81BJMjIyUlNTP5sDDx48AMcz2+xDT0/P0aNHs7GxaWhoODs7o1zgniFFnVv6X5f27h8d/xSa19XVxcTEIK98fHzgWqBbDA4ODgkJAaCXlJQw/rpNJrR0XKWlpeht1NTU0MRGjRp19+5d9EVoVihoJpyyQnC8x3l9TfG0Guoa6ms/u9U3fdY1NNQDvlu55QTHCY5/59c38UiRkZEnT56cNm1a3759Z86caWVlVVlZ+algcT0bx8HKpqam9EAZ06dPh8ssJSW1tJOES+Hi8+fPR5FTt0CGMgmOA5gePnwoKysLYBo8ePDs2bNXrFgBDO2stEtLS69atYqqRhTUwiGJjo5mwgYJKhUREUFJobzGjx/PCOKUqAOQKBzT8VyicgAn4gpcXFyASxsbm3aip3envLy8gLx4MH5+ftRJuGR42k4v/a9L+3fE8XbQHD0gfDDkG5xYY2NjV1fXsLAw1Ge0I7L8Z8ezlP47TFxcHLWSBZzhQ4cO4U/8iwnHyAmO/5yicPzWzRtDhgzp1auXnJycra0twXGC4902UwWdIcjb3Nx88uTJYBLYaNid0tLSrxsA6gE4jmTb29vv2LFj6tSp6GoHDRo0cODAQZ0tbm5uXl5eXBlUp6Cg0EVTYr4u7du2bUNhA5gGNqtzE44L8vDwwIwh+ezs7Bs2bGCStFMKDw8HW//SluA74fkFBARGjBgxfPhwJAGdMpwWFOWX5gAlIO++ffvc3d3pzen7KjQ0FGlnYWHBQ35Furo07UyC4+2geW1tbWRkpImJycWLF+HPp6Wl1dTUUL0nGSbvoLKzs2/cuEEF70cTe/DgAbw1aq4kU42RExz/iXH8zT1jo3HjxqITU1FRcXR0/IpJAkQEx79UeAyYEpgVOzs7JSUlcOOECROsrKzwhF89rbQH4DjMKhIfHx8fFBSE4vHx8fHtMuH6np6eMTExTNKV/8xppwPBw4cPV69eDR5lZHHYXVlZ2cuXLzs5OQFb/f39vyXtyFgkPyQkJCkpCWTZ5mu13S8ajQag9PDw8Pb27rpy/7q0MyGOt4PmFRUVSKmZmZm5uTm+FBQUoNPEzurqahLRvB1VVVWlpKTo6upSAYvg+mpqalLvzjLVT8YEx39Offjw/t276sDAgD/+OL5v3z64i3FxcaTcCY53w7h4aWkpLAj4e86cOezs7MLCwsePH/+iVcN7JI4T/ZyC65mQkHDixAkq5hpd/fv3nzhx4pkzZ+hL3BN1v5gcx9sRekwjI6O9e/dqaWmZmJhQHWiLuJlEjAoKCpo5cybV+tD0DA0N09PT0fqYZ4yc4DgREcHx7hFAHH1LVFTU5cuXqbCGQkJC58+fT01N/aKwhgTHiXqGqqqqgErUtGbGZTVhbkFRKSkpJIsIjn+dGMkbWHn9+vXTp0/b2NigUpGAiW2KeoNFWlqajY2tX79+a9euRdtMSkqCw8wkoQ8JjhMRERzvHlVUVMCIODg4iIqKUmQyf/78TnnbkOA4EVMQEv17Q0ODs7OzrKwsDH/v3r2p6s7BwSEhIWFgYEBAnAlx3M7Orue+PoX6VlpaCi4PCgpCxTM3N3/06BG+txjnINPN/fz8pKSkUOJ9+/aVl5cPCwv72Dyfihle66Rw3MLCguA4ERHB8a6bL46uJjk52dbWVkFBgZWVdeDAgXv37oW9wH6C40Q/AoJ/bB6B09fXl5SUFBER4ebmpkd64eXlPXDggL+/f3Z2NuMqjETMg+M/QHAxQDn4u6KiAgyHapaUlHT//v2jzbKxsamsrCRQDnsTHBysoaEB35iLi2vHjh1ubm5wY7C/pKSEjI4TERH92DiOfqaxsdHPz09RUZGKG7Fx48ZOjERHcJyouymczjQAINRsa2trsN3Zs2fpsc/pS9xv3rzZxcWlxRxxMk5JcLyrVVtbm5ubm5qampOTExQUdOvWLdTSNsc/frbaiNxQUlIC8vbp02f16tWUKULOFBYWEhwnIiL6IXG8pKSkrKwMt87Pz79y5QofHx/4ZO/evSEhIZ3YzxAcJ+o+EGd8Wy45OfnChQvz5s3j4eEZNWoUPz8/CwsLfY740qVLjY2Ns7KySL4xP4736MkqnyXsurq6jIwMdLtwHb2aFRAQAAwtLi7+CdG8oqICRK6urg4c7927t4qKioODQ2ZmZlVV1fcdtSKTVYiICI53RRAVCDgOGwerp6WlNWnSJE5OzuXLl8ModG56CY4TdSuIozl5enpqa2svXryYm5u7RSjxXr16Yf/Nmzfj4uK+YlErou+C4z/wSnh0wkZtzM7Ojo2NTUxMjI+Pj4qKgqmwsbFxcnKCkWAM1v4zQLmHh8fChQupNislJeXm5gb2/Y4LdpLRcSIiguNdobKysurqavT5d+7cQV/HxsbGxcW1evVqOP+dvj4JwXGi7lNCQoKuru7kyZNbIDg+R4wYsWnTJisrq4yMjDZ5iIjg+HeHcrrQQaenp/v6+trb2zs7OwPKkQkRERGwFh05vacL2A1rtGzZMrTc3r17q6qqIhMyMzMpKCc4TtQFbfAHb1NETIjj9HU3ra2tZ82aRRGLpKSkq6trY2Njp1dCguNEXS5qORs9PT0JCQk4l3QQB4LDkB87dkxDQ8PExKTFMuakw+0pOP6DTVb5UqHXDg4OhicJIo+OjgaVpqamwqvMy8ujvwP649VnWCMXFxcZGRkuLi5OTk5ZWVk/P7+6urrS0lIyWYWoK/S26m1sbMzz52ShH4Lj3RRfHB04+nPAt7KyMgUta9ascXBw6KKX+wmOE3WhCgsLYbO3bds2cuRIxhFxISGhVatW3bt3j/6aJoHvnovjP/zo+KfUotLW1tbC7XRycvLw8IAhAZ6GhobChIDLf6SZV/RUI73x8fGHDh3i5uYGlKuoqMAxy8rKotbs7M4AiGR0/MduWU1jOuVl5uZmy5cv27JFNSUlmWQRwfGuHhfHjcrLy9GnrVixYtCgQehb1NXVo6Kiui69BMeJukRoNrGxsVpaWrDTjCA+dOhQgDgMJ4laSHD8BwcIGi0oKOj27dvGxsYwJCUlJejiqSUkfoDE0lORmZmpqanJwcGB1i0oKGhmZoaEoz5055qdBMd/PMFAoArl5uZmZ2c52Nvv0dQcLzzu/375ZekSybjYWJI/BMe7dFy8qqoqIyPDwcFBQUGhV69ewsLC9vb2XZ1eguNEnan6+np0o/hEPaa/7EUFS+Hl5R0/fvzJkyfp6EaWJSc4/jMI/fu9e/d0dXWNjIz8/f2LiorQQNDdV1dX40tPp3MUvaenp5qaGjc3d58+febMmXP+/PmoqCg4Ht02j5zg+I8ngPiDB/c2blScM1uMl2dQn3+XhFsnJ5uQkEDyh+B4Fw2Kv2oW/fWYwYMHjxw5UltbOycn51MjLwTHiZgRO7y9vQ8fPjx79mxqtIwSPMudO3cC0NPT0wHrZF4KwfGfUyBUkISbm9vjx4/Nzc09PDzi4+ORdUDznu6aIiEgck5OTrT34cOHnzlzBrbzxYsXZWVl3bBIEMHxH0/5BfmWlk8unD935cpl3ZN/7NiuNnvWDE4OtpUrlj9/Hkfyh+B4F8VRQb/h4+OjoaEhICCAW48ZM+bixYupqakt1mkmOE7EpCooKABhrF27loeHh3FqyuTJk2/dupWfn19bW0tyieA4EaNgV3x9fa9fv3706NF79+4VFRX19BTBjE2aNAkNn5WVVVlZOSgoqKGhoRte7iQ4/mOrtPS1n5/3rl3bh/ANXiy5KJZMViE43tmCCaPRaOnp6R4eHmBximQEBQUPHTqUmZnZPeklOE70NWIc4UbzuHPnTovwhQMHDly5cuXDhw/B4iS7fmwc/8kjq3xLI6qvr6fe8kxOTjY0NDxx4oSxsXF4eHhVVVVPTNGLFy/gfs+bNw89wKhRowwMDGDe4GZ09Rg5iazyY6usrNTfn+A4wfEuxHH0IeiQ/f39lZSU+vbtS7H4+fPn09LSampqCI4TMTWIw9qhtezdu3fKlCl9+vShgzgbG9uiRYvAFikpKSS7fgYcJ6Pj3y7QZGVlJaxCTk5OVFSUu7u7paXlkydPQkNDW/yyxPxzvby9vVetWoU+AdVjyZIl9vb2paWl1Mp2XfRyJxkdZzah0hYVFQYHBz4yM7l29cpNwxu3b91sZzM0vG5w7YrFk8fh4WGoJi1e9Cej4wTHuw7HqRc3gd22trYbNmwAwAwYMEBdXd3Dw6P10ssEx4mYgsIZp7dGRkYeO3Zs+vTpsLh0EBcVFd23b5+joyNAvM31UIgIjhN9tqFVV1fDQsDqVFRUxMXFGRsbw7lFhtOjgjK5ampq8Ng6OjogY8o/V1NToxCKRqN1RQBEguPMpsrKiufPYwwM/lz9+wqRicLiYlNnz5rRzjZjuugkkfEb1q81MrqZkpJYXV1FcJyoq3GcenETX3Jzc42MjMTExPr06TNkyJAdO3ZER0d3f3oJjhN9geBEWllZbdq0CRW3f//+dBAfPHiwlpZWUFAQanYLtiCZ9sPjOJms0nWC+cnIyAgODoZlsra2vnv3ro2NTWJiIuOQOXO2soCAgKVLl1L9Aw8Pz+HDh5GK7OxsEHmnT1whk1WYTQ0NDW/elGdkpIeGBv/t9Zevj7efr087m48PKvhf4eFh2dmZQPkWcfpLywiOExzvZBwvKiqiVvMJCwvbvHkzNUFl0KBBJ06cSEpK+i5vuxEcJ2pD6A1B3hERETdv3nRwcKB2enl5qampjRkzhnGOOAsLi5SU1MOHD/Py8ki+ERwn6kQxcjaIE1wOg+Tt7e3i4gL0fPDgASimG973/zrV1NTAqp0/f37KlCns7OwjRozQ1tZOS0uj0lJYWEhwnKiDIjhOcLxzcRwXQaeRn58fGRmppaVFsfjQoUMPHz6cnPzdFpkiOE7UhvmH43j37t2lS5fCWZw4ceLp06fhMlIxE+ji5uZetmwZmSNOcJxMVuk2KP/YPMs8JycnKCjIzc3Nw8MjPDw8JiYmKioqMTER1oUZJokxTmyDt+Do6KikpARTByLfvn27s7MzuhccUFZW1llQTiar/OA4XvrK2/uvrVtV+/fjmDtndnT0M5InBMe/RTQaraamxt3dfc2aNf379+fg4FiyZMnjx49hyL5jzFmC40Qt1dDQYGVlNX369F8+ITC6tLS0sbFxbm5uO9xARHCcqEvRvL6+PiEhwc/PL6RZYHR8hw2LjIwsKCjAf5nkscPCwtTV1eHAo/cQEhI6evQonhbOA4gZNefbZ5MTHP+x9eZNeWRk2LlzpxcuXKCuvjWVDAARHP+q2SkQFUElJSXl2rVrc+bMwcX5+fmPHTuGHoPeu34vkiE4TvQflZSU2NvbKykpUbazTcnJyX2XFx2ImBPHyWQVZkDzxsZGuMc+Pj5mZmYPHjxwcnKKiorKyclhhpiJNTU18fHxurq648aNo/qQJUuWODg40Gi01836xogrZLLKj636+rrS0teJiQne3t4REREVFRUkTwiOfymL48TKykp0NegcDhw4QF+jEFxOr1Hfdzk2guNE/xFMuLq6Oh8fHysra2sQB34B07dv3x4XR9ZFIzhORseZFM1htMLDw8G7bm5u+AJMLysrgx2iRoa6+cHod4RRhOUTExNDteHi4pKVlYXbANNYXl7+jS93ktHxn7zCExEcb0foXnAWPgsKCtDnzJ07F9fs3bv34sWLHz9+jP1M8kMiwXGif1RTU5OWlnb69GlqbdgWAp3369dvYLNkZGQsLCxQiVtEhyUiOE7EPKSCL2ik0dHRHh4e1tbWNjY2vr6+WVlZQHOYKEBw9w8FwewFBARoa2vDvrKzs0+aNOns2bMRERF5eXlA6q+GcoLjREQEx9sMZYheBT1eRUWFj4/Pnj17Ro0aRU2Z09HRQc9Df9mGGRw8guNE/ygyMlJFRQW0Da+RHjWFjY2Nj49PREREVlYW1dfT05Msd0/0kUxW6ZnKz883Njbev3//gQMHTExMcnJyPjbPcmkRV647DE9iopKS0qBBg4YMGaKgoICOBUiNWvR1SwWRySpERATH22RxHJ+amurl5bVr1y50OLjaxIkTL1y4UFRUxDwg3pNwHPkFg9HQXcK9mKeEujTtVDIrKytRX8+dOzdixAj6EveTJk3auXOnlZVVbm4ujvwZih43glH/SYr+G9NORsd7urKzs2/cuHHq1Clra+ukpCQKXhnnlnSpCgsLLS0tUXkoAwmff/v27cHBwV/3YzQZHSciIjjeYoJKaWkpermQkBAdHR30MLhOv379AOWZmZnMmd4egOM0Gi00NPTmzZt79+7dsGGDkpKSchdo48aNKioqCgoKsrKy+vr6LWKGfN+0Gxoaampqrl+/nnrOTtSmTZs2b94MoyghIcHPz4/6OmXKFJjnqqqq6upqZvBMUlJSdHV116xZg7TjafHMXVH6qFQoem1tbSMjI7R5anWA7y4q7atXr8bjUeXFPGknOP4DCE27vLwcxikoKMjJyenx48dmZmaBgYHdBrIZGRl3795dsmQJGxsbFxfXqlWrjI2N4Rug8/kiKCc4TkREcJxxUJz6nc3Gxmbt2rVUWPFRo0YZGBjk5eUx7S/8PQDHCwoKLCws5OTkuLm5eXl5QeSHDx/ev3//nk7Svn37wCJqamrLly8fPnw4ik1SUpJJFhrIz883NzcHh02aNGn8+PEyMjKgZ/yp1EkC4CLhMIeDBw+mxsUXLlwYExPDPKXv5+c3Y8YMavxswYIFW7ZsOfj/7Z0JXEzbH8C9kmiRUNJOJISSpcVWlIpkrUQoEWVrIWQplbTYs6TQpoWnUkrSoj1t0r7vG+377v1/zf2b18vyPK+ewe/7mc+Yxr0z95x7zrnf35lzzzEwgFM2VGdfV1cXihMoL1zFISCBDPH29oYKTwlpDw0NFRYWhrQvXLgQvHn//v1wtBCUUkLaUcd/GiDkhoscRODt7e0gtenp6ba2tpaWlr6+vsRoFrK7D9MBhISEQLxNjJGbP38+GHlxcTFcTb/+Fk/UcQRBHSemMiR6lOLj4/ft20f8+MbCwnLs2LFXr17V1dVRcnq/XceHpHX+3G+jA98EJXV2dl69ejVkq6CgYGBg4B+kbuPqIQLOEDTc4N/Xr18H4YNvERERSUhI+Pdp//fTWJaUlNx1uAsqJiYupqSs5OTsFPcqLjQs9EXwiyF5RERGJCYlWttY8/HxETouKTk0a54NSvI350BQUNCMGTPgwCAaMTIyggoJoW1tbe1Qnf2mpiY4Nnd3d25ubpBLiPooRy6fPXvGy8s7evRoUHDiJjxifC0lpB11/Gelp6cHmsSsrKzIyEgXFxcLCws3Nzdob4fpEkAAV1n4LmKtA/ByaO1dXV3Ly8uhphO3eH55bvKBOg4XYGNjYzj+7zjEDkGQf094ePjs2bO/UseJOcWhHUhNTTU3Nyd6siZOnKijoxMcHAzXO8pP77fo+MBWGBIZHPzi6tUrOjra27erqigraWjsOnPm1P37d1+/TuroaP+az3n37q2j473z581cXZ2Tkgb/XA6NMrTUhI4vXLhwmKbYgxYfvEROTg6+ZcGCBZ/U8YGrzcFfaWlvnJ0dTUyMNTV3q25V2aa6dd8+LWtrSz9fn9LS4kH7trW1FRTkBwQE3LhxA64WJiTOfeDMmTMnTpywu307MSG+ubmxt7fnTx2/e3fHjh0rJFdo7tEMCAwoKS3Jys5KS08bkkdefl5ldeXde3dBdv9Wx8nnq7OrIyIi/PLlSwYG+mpq25SVtuzcqWZgoHfv3t2EhFctLc0Ddukj51h3d1d8fNytWzcMDY9u375ty+ZN+7T2Xrxo5eBgd+3aZT+/J+CZn4yPiWMTEhKysbEh334xtIDs8vPzf71cQt338/OFU6+1b++WLZs2b96oqalx9uwZX98nFRVl5M26ujqhPMMZNzQ0PHv27Lm/QhQAU1Oz8+fPW1pa3rp1y/OhR1JyYvOHDCR0nImJCYpHZmbmMM1j80/Tjjr+EzOwbW9tba2oqMjLy4PGEApJAAl4AX9+XA2/Wc3/bFU6obIkQU0h7mBhZWVVUlK6f/9+RkZGWVnZl+cmJy7D0IDz8PDQ0dHt3bvXy8srPj4eDh4qTjqCID8UBQUFUN/t7e2nTJkCrcGsWbO+oOPQHNXV1UEDAi/CwsIOHTrEzs4Oe0FToK6uTiEjHYaxd7ynp7u27p2Hh9uGjeuFhedtWK+wT2u37pGDRw4f0Ny9a9UqSV5enlmzZm7dqvLggWtNzbvPN8EdqW+ST586wcc3hY1t0rZt2z6+tBM6Lisr+wVR/vd8/bc0NjZERUWePXtaUnK5yHzhrVuVdXUPHzXQ26elqaiosGjRAoEZM+RkZS0szoN9kkOL8vIyNzeXPXs0li1bCp+voKCgqqqqrKysRGLDhg3y8vJHjxoEPQ+sr6vp+TALJlnHl69Yrq6h7uvnm1+Qn5qWmvw6eUgemVmZ4Pd37twheqD/tne8srLivuNdiLvExRdLSIiqq6sdN9Q/bmiwW2On5Iqlc+bMFhYW0tLa6x/gV99QC4WE2KupqSkqKuL0aaNly5cKz5+3dauSvt4hw2N6mrvVV62UhPIjIiK8bNkSRcV1trbX376t/uTPVXPnzh2+Mf1fP09IYkKikdGJFSuWLVggsnKl5P59e4xOHoezv1VFGd6BMr98+RIzU5OszExSn197aGiIru4RKFcbN25U+ivKJFSUlcXFxJiYxkGVgfz08fmdXF9Ax6ExGjt2rJGR0fD9+P5tc6TgzCq/DsQCQ3CNzM7OBjkGaQ4KCnJzc4O2+tWrVwNHN/37/nK4oHp4eBCdL0SvGNT6wsJC+K+GhgYIDz6p48QqHg8ePGBhYSGWR+Dg4ODj44NInh9BkB8NqLmCgoLktQg5OTl1dXWhtSF+Gx9Y94nFfSBij4mJOXfunLi4OA0NDewiKioKYgMtxn8/bdR/reO5uTlmZmfFxBaw1QYsyAAAIABJREFUs09evVrG09P9bXVlQ0NdU1NDdXUl/Llp8wYGRnpSpiwKCHj6uc/x83uyUmoFOcfBUB8+fPRJHSca6OHW8a/5lpcvw6SlVzEyMsyePevw4UMhIcEg6C3NTbU173Jzcy9etBEUnEX6yZVKVXVrWnra/zM6LfWowREZGUkVlS2mpiYBAf4gWK9exceSIBa4hneqq6u6ujrff+hRJnRcbYfad9fx3t6ehobamzevgzWOHEktI7PK1vbq6+TE9raW9vbWioqyuLjoQ4cP0tL2Lx4kIbH49m1bcPcP6hYoJSU5bhwTaPfx48dAzWGXrq6OjPS027dvnjlz6vJlm40bN8COoJ62ttfqICD5oPL/vY5/rq+3vr4+MjJit4YG6Xo/QlNzN6SrpLiop7uro709Iz3d2dlxzRp5UioYjx09mpiQAAIBLUVqampERAQ0FrEfgNfgNFlZ2SDcENctWyYxfvzYJRKirq5OtbU15CUJ/nsdx95x5G+7vdvb2wsKCqC98vPze/r0qZeXl7u7e1RUFLw/VN+YmJhoZmY2f/58qE3jxo3bu3cvBABEGYM69bGOwyUZjBz2unr1KnEv0JEjR4g7TA4h/yWQ3wdIz7/Ig0gsMuTliATU4mPHjpmaml67ds3f3x/8Cq7CxP0k5FU2W1tb4U1PT09ZWdmRI0cSMTx4eUZGxhB2E1C0jnv7eHFy9E/EsXHj+idPfAatwwwRTGJC3AGd/WPG9M9afcHifH5e7qDGOjMz/fx5U3n51eLiorMFZwnM5F+2fKmmpqaHuwdkN2XqeHd3V1Vl+dmzpwhzPXnyRF5uzqClNKCcXLxoJSjYb5AzBGY8fepLvA8OtlpmpbCQoLn5uazszK88KsrR8fLyMhcXxxUrlhJ3VXp6eny8TWrqmw0bFInPUVi7Jicnh9SdHL93jya8w8HO7uh4v6+v96OLb/87SUkJBw/oqKltv3vXPjMzo62tldJ0PDk5adcuNXq6/nu0ly9flpSU+Knw0pdYBhwKgIWF2d8ebVhYiIqKkpTUcmNjo5iYCIjEBv4v6jhC4VRXV0N4+fjxY29vb2gzs7KyIPjMz88Haf6GoSyDNgsPD9+zZw8xQxk3NzdINrQGxB0Ug27xhGtzRUVFXV0dMaCLGFWIfAd6f8kHMjwQ9xb29vZCvYZ4G64yUM0JEYerIbHcvaurKyi7mJgYAwMDHx8fBOHR0dHkNuT7Lnr/H+l4dEzUfm1tDY3djx49LCsbPHFMe3tbUmL8oYM6Y8aM6dfxCxb5+XlkHW9qaoyKCj9qoDtrloC8nGxoyIvwiFCN3btWrpSExvfBgweDBt1Tjo63trZkZ2Xcdbiza9cuuDZER0V1dXYOOt8VFeW2ttcWLVpAGvA009fXh9xDPGPGdGZmJgMD3UePPAAXF1d7e3v40mcBATk52eD6lKzjb99W+/s/NTI6qaS05ezZswOnXBgorKqqKqNp+38q2rB+fWlpWXV11aFDOjw8nCwTmZW2bIqKiqiqrgwMDHRwcLh9+7aHhzu8k5KSHB8fl5eX09XVToyDgrpHvjBTjo7n5uZYW11Q36V28IC2s7PTJ7fx9/f7oOMCFhamxcVFX/h9CXwdwtGlS8UhVyurPrEkAeo48qP0mkOdTU5OhqodEhICGh0VFUX84gcx+aAfi/9WzQduANdgEP0dO3YQUz+xsLDs378fyh401/CNtbW1X77FE0GQnwliiU14kZ2d7ezsvHPnTmLuFGpqam1t7aSkpIEi/qN0in+7jkMC/zaRoaHBmprqbJNYSOMWxAMDnw36X1lZ6UWLRM5bmOXkZME7BYUFe7X2iEuI7t6t4fbAjTJ1/GtObVtbi4uLk7j4YvgQWtqRO3ZsJ3qIASfne9zc3KQVofjFRBfw8vLQ0/cP5qGmopownllhrfz161fT09MG3gdJITr+NSuDgEMXFxeeO2c8fvy4/tkSly91dXHq6elJSXm9bKkE7SjqRYvmqyhv2qO5a/16henTp9GM6ld2enq6mTP558+fN4N/2pYtG51dHMvLSweFN5Sg43+9hffT1Na8Cw4OVFffASHoxIkTjh3TT0iIa25u+mReVVVVmJmdGzVq5NixjJcu2VRWln/yNk3UceRHVPO2trbExMQHDx5cvXrV0dExPj6+rKwMGtiGhoavv0AO3BJakidPnqxfv37UqFFEU2Bra1tQUED8Wv0NywYhCPLDiTiE39CGNDY2ghUcOnSImJaauGXz8OHD5FEVP1aP+BD0jg+is7OzqakJMismJtrW9sq6dfIsrCwQtUivWnH7lm11ddWHgRwVoCyGhvri4qJaWntKSv7fd/g65fVuTY0lS8U192h6eHjA5wz8cGjKKWrs+EB6e3tbW1sgXAMdCXwWoKt7UEhozvjxzMLCQqdPG716FUf8JlBdXXHz5nURERFaWtopU3g2bdpgZWX58NFDDw83E5OzcrIy45n7LXbOnDl37G5XV1WS5Yxyesc/NXSnu6mxsaKyoqAwD0wafJqTk33cuHFr1sj7PHn8/o/+yWFevgwXFJzTX2HGjGafzMbJwb5aRtrM9Jynp7u7+4OzZ09LSUlO45s6R1CQm4trJDWVtPTK4ODnlKbjn6Ojo6O2rjY/Ly8xId7G2nLpEvGJE5lBoA8ePJCa+uZzeyUnJ+noaHNzc44ZQ6uoqAB/fm5L1HHkR1fz6urqe/fumZiY2Nvbv3z5EppZaBLhYgGFeeCPYF/zaa2trdBEi4mJkTo7aGVlZd3c3EpLSysqKoglP1BZEOTnA6o2MbESXP3j4uJAEdXU1BgZGaEdGDly5KZNm54+fUqsmfCjN57/SsehrWxvb0tNTXFxcdq3b+/SpUtAMtjZ2VatkrpwwQKsjnxDXltba15elrHxqYkTJ7Czs5ubm8FelZUVRIscGhqybdvWRYsXbt++zc7OLjMzoxf2/HBDG6Xdyknu4wQFgSO3sbFav15hxoxprKwT+adPV9+16+FDz7dvqwZqa0NDfUrKay+vx4GBz+Ci8fGn+fn5LCaNbxnPzLR/v1ZOTjYl63hba2tBQcGjR57HjulLiIuysrBMnDhx8eJFZ8+eSUx8BdHpgF9CQkVE5hOfLCEu/vx54KCPqq+vg0dfX6+npwcx9/nKlcsdHG6TbwOlTB2HAAw0+saN62pqW6dPnwpizc4+ef36dffu3S0tLfl8memBwO3SJWuIVOnp6fT1D8fHx35hFUzUceSnUXOQ6czMTCjSDx48gFgcXkA7U1ZWVltbC2HtV/aaw/UiPz/fysoKWgOiVVm6dOmtW7eys7OJseNfuWwQgiA/hIgD70hAMA9RPbEmIHGH9+7duyMjI3+mBvNf6Xh6etqJ48dm8E+joqJiYhorLydjf+dmYUH+x1u+SXmtvX8PFycbiAszM9MCESHpVWCYEiuWi0tJLhUWnsvKygrhDtskVr6pPLNn8Wtq7nryxKuxsYHoX3F1daU0HY+KilBS2sTISEdLO3L27FmHDh4Ieh7YUP/pNZ/6+t5/eSRTauqbgwf2TZzQ30cuLi5OHgJFaTr+/n1fW2uLq4vzooX9tWIsI72crPTNG1dyczMH3YZIEBsbo7BWjppqBO2o31S3KmUOuNl5EDEx0bKyq+jpaKbx8Rw10M3Pz6NMHW9tbc7OTjMxOQWRJ+km7ml6eoeCXzxvaW764++UoqSk2MHhjqysNAMD3apVksnJiV/eHnUc+VkBdQ4LC7t27drJkyft7e3Byz/Zuf45KS8tLbWxsZk2bRrUQRoaGiUlJfi0zs5OHLiCID8NEKsTMyZdvnxZWloaFJywFDExscePH0N9/+FGhw+Ljjc2NcQnxOrpH2JhmSAwY7qd3Y2qqvIvLPpTUJB/9YrNls2KK6WWii4WWSKxeNlSMXiAkf9wOg6maGl5YckS8UmTWOXl5YKDg4jRxZ/bvrKi0uuxt7WVlZWlhY+P16ChOAQJCfGbN68fTUs9aiSV0pbN6R+mR6Q0HX/1KkZJafOkSSx8fFMOHtROS3vz5VzNyEg3NDSYPn0KFdUIWVmZ1NTUjw2f+CckJFhIqL/Ha9Hi+RcvWZH7mClHx/t/C2prd7x/f9asmbSjaVZILrO9cQ0M++u/BTJWS2vPwoXz5eVlLl2y/kI/Ouo48uv0nefm5l6/fh28/NatW9HR0V/4veivgXFrdna2sbHx5Mn9c3xxcXHp6urClbu3txdcH8euIMiPC1xQ6uvrIUpPSko6ffo0JycnMb2Smpqag4MDVPxBs/n90jr+MjxMSkoKfFRObvWVyzavkxNbmhtra96+e1v1trqyuqqiuqr/uaqyvLb2XVtbS0dnR2trC+h1fV1dbW1N7QfAMKD1/FEGq/T29tTX1dywvTZlCu/48cxaWrv9/LzycrOamxog7W+ryWmvIKW9rLm58Y/+se8lTk731qyRHTN6ND//9CtXLlZUlA7oOO9NSow/eECbgYF+1CgaFeXN3t5/LgRDOToOh/T8eeCuXTsZGBh4uLmsLM9npL2uKC+BM1rzrhoSPiDt5ZUVZU2kUAri1/z83DNnjMaOZaSjG6Ojsz82Npo8hAmuuxCf2Npee/DAZf9+LRoaGlbWiRcumBcU/DktJuXoODQBJiZn5s2bTUtLvXjxAncP15qaakh7bc27D8X+/zkAf9bVvWttbR40p0Tg82ezZ8/i4JhsZmackZFKnswRdRz5lenr64P6XlNTU1paCj7t7+//AFoEF5eoqKiOjo4v71tZWQnb79ixA9ol4oLdP1uuh0d+fj5c1MmzFCMIQvkQ62tCrYcQ3c3Nbdu2bSDio0aN4uPjI4Jtkob1/gTDxIdGxyGniooKTc+ZMDMzEwIH7eDEiRPZ2NhYWVlZWFhYPzyYmJhoaWnFxcVtbGwyMzO/0LAmJydtVVWeO2+OqqoqtMIUeysnbAOXiTVr5MBCiLXfQMohyZMgLiElnvwAhaKmpl4tI+Pn69PR0dbV1Rke/nKf1l4+vilMTGPBvOGyISAgABI8efJkGpqRoGgKCvK3btlCKPLX4Q2UouPwpubu3WDVH+5lHsPGRko1KeUD005cFzds2JCWlvYh30r9/X20tDR4ebioqag4ODgESHBxcUFWEB84Y8Y0Xd0DISGBVVV/WX+bcnQ8KOj5rFkzR3xg3LhxkBA49QPL/IQJE+B9bm7ORYvmm5kakyc6BPPOzk43MDgCO/Lw8ISEhHzNUaGOI79afzlcJhpItLW1QZm/ffv25cuXoSKAqX9hx+Li4qdPn4KUjx49mrjBS1FRES7ncO2AkgmfBlKOUyIiCMVaeEVFBdRT8Gx4AXVZS0tr6tSp5LoMl5ufbFzK0Oh4V2dndVVl+MtQcEfjs6fNTE3gcc7kjInxaRPjMwMfZ06fPHH82A3ba2Ci1dXVn5zKjaC6uirw2VO3B86Bz/wzMzLa/vozBOX0jjc2NiQnJXh6PLh29bLpOWNIuOm5syafSvvpUycMjxnY29/OyEh7/+HWxrra2rjYGGdnR319vY0bNy5fvnzVqpW7du04f97s2TP/vLycQdO3U5SOQ5Xx9fW+fMna2vrCeXNTU1NjUsI/8ThldOKogZ6T4/1BYl1eXvLiRSBkmrKykoSExNKlS9XU1GxsrCFDbt264ef3BKz94++lHB0vKMi/63DnlNFxSL7FeTMoAB+fd+Ozp86cNjpvfu6G7eWw0KCG+npi386OjoqK0uDgwGvXLrm5udZ8nbyijiO/MnDJgGY5OTk5LCwM3Prq1atOTk5JSUmfG81SVFT06NGjdevWEU0ZMaYcCidcfRobG2EvKKUo5QhCUUD1JEae5OfnX7lyZdWqVezs7ER3p7S0tKenZ1NT08cj3FDH/58dvb09XV2d7WDNrc1trS2fe7T2P5rb29u6u7v6b2T84/0XfqyED+zsaIennp6eQTlOOToOx9ndvyJ6W1t/2lv+Ju0tzR0d7ZBXH5ch0PqiosKMjIzs7CzS9DKdg3KYAnW8r68XkvPlVA9K+yd/UYL3IVFpaelAWVnZxxEIxeo4lEwozJC0vz31UDw6Otp6uv+cx+3D0mKg5e3w/JW/taGOI79yTzn5NVyPCwoKoF0ilhYKDw9/+fJlMES3gYFpaWmDWtfCwkJvb+/t27czMTFBuzF58mRlZeUbN26kpqaClEM1rK2traioQA1CkO/YHU7MIw5BckdHR0pKyrVr18A9iFXuJ02apKqqeu/eveLi4l9ExL9Rx/97BoqyuLg4tLbD1BPj6+urqNi/xruIiMgwSf8/BezTwcFh586dK1et1DmoExkV2djcP9U3OPSQPN7VvGvvaPfw9Jg9e/Y/nXf8n15Tv42goCABAQHipNy8eZM8pnxogdNNSD9FySXoOA8Pz/jx4y0sLKAWDNO3fFvaUceR70JdXV1eXh5YOFzC4TkmJubJkyf+/v7JyckNDQ3kzeA1WPuBAweIGz1ZWVmlpaX19fWfPn1aRZpqFtQcb/dEkO8i4nUk4M8XL16cOXNGWFiY0A8QvLNnz3p5eQ283v2sI8V/SB0vKytzcnICHSdNp8ikqal55coVc3Pzc0OEmZnZhQsXoKVev3498SvJwoULKUfH7969u2nTJlCfGTNmKCsrHz58eL/2fq19WkPygMuVnp7emrVrxo4dS9SHJUuWDFxp9rsD1ZXouYdTLyUlBUdrbW0Np2yozj6Y7qVLlyAWpyUBWf3w4UPy+l7fF1BeYvycqKjo/v37jYyMzp8/b2pqSglpRx1HKAGw6rCwMHd3dx8fHz8/P1BzaL4G/uYWGxt75MgRIqQn3aMyw9DQMDg4ODs7u7a2tqamBoouejmCDLeFA1DdWklA1QsKCjp+/Dix2AgANRQubW/evBna7jzU8SEGziJYwq5du2bNmkXcQzlMUFNTg/EPug3xu6f90aNHO3bsIJfa4WDkyJHjxo0jlrmCmORT0xF+N6KioiQlJeHARo8eTSyRPXyZICQkBNYLF/VPTkb5XdIOEciI4ecb0o46jnxf3pMY2FS+fPnSxcXF09Pz9evXxcXFOTk5RLFsa2uLiIiAa7+YmBjRhnBycqqpqT148CA9Pb2FBGg93u6JIMMxNBxqVkNDQ3t7O9SvuLi4e/funTx5UlRUlLj6CAoKnj17lpg15ZcV8R9Gx6GtzMrKAlG4ffu2paXlxYsXLw8bVlZWZmZmYMAUohe/ctoJSktLXV1dIW62sbEZvrRDxkLy7e3tnz17lpeXN0xDYn6mtKOOI5Tj5QP/7OzsjI+Pf/LkSUBAQHBwcHh4eGpqanl5eUlJSUJCgp2dnaampoCAADU1NQcHx+7du+/cuQONHvwXuALe7okgQyvi8Ay1D2LjpKSkS5cuLVu2bMyYMSNHjuTi4lqzZg1cd6r+uk75ryniP4aOf8dz891HLP3Kaf+49+vXyfwfIu2o4wjlXy+6u7shwvT29oaA9t69e7m5ucT7aWlpx44dIxb1BKioqMAMPDw8KioqampqGhoaamtrCZNAqUKQb7BwuCLU1dVBVUpJSXF2dlZXVxcUFKShoSFmZTh16tQQ3qKGOo4gyK8L6jjyY1FZWeng4KCnp3f8+PH79+9nZWVFRETo6urOmjVrzJgxIApTp07dv39/YGAgSHlhYWFxcTG4BUo5gny9iFd9mES8rKwsMzMzMjLy6NGjLCwsRNwrJCQENS4sLIz8G+yv3BeOOo4gCOo48ktTV1cXHBzs4eHx7NkzR0dHfX19aWlpAQEB8IaJEyfOnj1bUVHx8uXLCQkJxLqeaOQI8mURJzrF8/LyoqOjnZycjI2NV61aRU9PT0w2umfPHqhxAxefQRFHHUcQBHUc+dUhj8draGhITk729PS8evXqli1bQMeJnjxmZuaFCxeamJikpKSARoDBo5QjyMfU1NQ0NjYWFBSAcB85coSXl5eoQWxsbEpKSm5ubhUVFdjgoI4jCDLsOv748WPUceSHprm5ubCw8OnTp9bW1jIyMqNHjyaUYuzYsUJCQjo6Os7Ozunp6WDkeLsngkBFgFoAdaGnpycvL8/FxUVFRYWLi4uoNdzc3OfOnUtNTaWQOcpQxxEE+SV0HHvHkZ8A0rq5XW1tbcXFxZGRkba2ttra2nPnziXPBzp79uzdu3d7eXmBi/zRv8BwR11dHU6PiPwiEHOHQ5mHalJTU5OQkAB1RF1dXUBAgIaGBq4FYOHKysrXrl1LSkqCzbBJQR1HEAR1HEH+Fe3t7aDd2dnZiYmJ9+7d27t3L+j4mDFjRo0aBSVfSUnJ1NQ0NDQUdBw8vra2tqKiAo0N+SktHCoClHBi5HdhYeHly5fl5eXJK3nT0tKqqam5u7vHxcVBdYAwFVsP1HEEQb6DjuNgFeSnp6mpKSwszMLCQkREhNxfLiQkpKmp6e3tTfwoD77S2NgIr3GUOfKjKzixlH1ra2tPTw+U6pycHEdHx127dpGHhkNoumrVKisrq4SEBApZxxp1HEGQX1rHsXcc+YkZOAVEe3t7amrqw4cP9fT0ZGRkeHh4xo0bB4ICrw0NDR0cHGJjY0tLS4mVwHGlT+QHHY7S0dFRX1+flZUVEhLi6ekJZVtSUnLSpEn09PSTJ09eunSpvr6+i4tLQUEBtg+o4wiCoI4jyHeQcoKSkhIfHx8rK6vVq1cTE7oxMTEJCQkpKCgYGRk5OzunpKSA03R3dzc0NGB/OULhfeFQVjs7O6Fgw+sXL16cO3dOSUkJGvlRo0aNHj1aQEBAXV3dzs4uLi4uJycHok1yRaCERQNRxxEEQR3HwSrIL63mRUVFEJEaGBisX7+ek5OTPMvbpk2bQNbDwsJyc3PByJuampqbm0F6ampq0M6R7wgxRziUQyiNLS0txK2Zb9688fX1tbe319TUBPkmijEjI+OyZcvMzc0jIiI+HhSOc4ejjiMIQkE6jr3jCAJ0d3dHR0eDgsvJyfHy8tLS0jIwMBDjy2/evAmuEx8fn5aWVlJSUldXB3aOo8yR79ILTixuBWEklMaoqChozG1sbKAlJweTHBwcUlJS6urqjx8/RgVHHUcQBHUcQX4ABjlKX18fWI61tbWOjs7SpUvZ2dnp6enZ2NgWLlyorKxsYWEBlpOcnJybmwuSBFIOdg41CNUcGaa+cChdoODNzc3wZ3p6emBgoKOj48mTJ7du3Qrh4oQJE6B8cnFxrVy5Ultb28XFJTU1tbe3d2B5xjqOOo4gCOo4gvyoav4HaZT51atXJSQkqKmpqaioiA7IuXPn6unpgZfHxMTk5+eXlpYS2gS8ffuWWHUcVRL5Nv8mgLJUU1MD7xQVFeWQANVWUlJiYWEhzw7Ex8enqKgI7+MEhajjCIKgjiPIz099fb2Xl5eamhoPDw8hQzQ0NBwcHGBIdnZ2SUlJIExlZWWg5vCME5kj32Dh8AJKDlGK4AWEdpGRkZaWlitWrCBuOAYmTpw4f/78w4cPQzRYWVlJDiBxIArqOIIgqOMI8kvQ29vb1NT06tUrUHB1dXUJCQkWFhYqEqysrOLi4uDrV69eDQ4OLigoKC8vx3EsyNdAjEjJyMiABtnGxsbExGTr1q2zZ88eNWoUMe0PFK3jx4+DghcXF2NfOOo4giA/m47jzCoI8g1S3tXVBVYEz6Ddvr6+hoaGsrKy7Ozs1NTU4E/wPHnyZBEREW1tbWdn5/T09Ldv37a2ttbV1RGjWVBAf/G+8NraWigPfX19ubm59+/f37Nnj4yMzNSpUxkZGYlecBBxAQEBUPDk5OT379+3tbW1t7d3d3djLzjqOIIgP6GOY+84gvxLQJKIlYNycnKCgoKOHj06Z86cEQPg5eWVl5c3MTGB6Bf0q7m5GTwMdmloaCBPnohLDv3ckxJC8YDzTixWX1pa+ujRo927dwsKCoJ2EyEcsWS9pKTkxYsXY2NjiVIBu2D9Qh1HEAR1HEGQfwB4NrhXQUFBVFSUt7f3hQsXNDQ0li1bBuLFzs4+fvx4ZmbmyZMng3UdO3bM0dHRy8srJSWlpaXlD1Kne1tbG3kWRRT0H3Q6QoiyiEV54BnOY2Jioq+vr62trbGxsaqq6uLFiydMmADyDS0wlIQVK1bs3bvX2tr63r17xDz3UAYGFSrsEUcdRxDkJ9dxHKyCIMNHa2trRUVFRkZGfHy8p6enmZnZzp075eXl+fn5aWlpwclYWFhmz54tJia2ceNGLS2tixcv+vj4gJMR44PB5xobG3GICyXLN5yd5uZm8nhuCKVCQ0PNzc23bdsGYZiEhISAgACEYUxMTDw8PHCu582bp6Kicvny5aCgoOjo6OzsbPgcUPBBzo0KjjqOIAjqOIIgQ09PTw/oWklJCXiYu7v7yZMnoQ4KCQlxc3MzMjKCoE+YMAGMTUpKSlFR8dChQ1euXPHz84uJiQFBxxtDKQpiFEphYWFsbKybm5u1tbWuru6ePXvWrl0rIiLCzMxMHn8Cf2poaIB/wxkPCwtLSEiAk4h1AXUcQRDUcRysgiD/KZ/s7GxpaXFxcdm1a5e0tDQbG9uIvzJy5Ehwu+vXr7948aKsrKy9vR0+pKOjA/ZqampqIIHDWv6z8d91dXWQ4ZDzkP+tra3d3d1wBqHxDAkJMTIyWrly5ZgxY0Z8BAsLy969e8HCv7JIIKjjCIKgjiMI8t9RX18fGxvr7u5+586d8+fPGxoagpqvW7dOWFiYg4ODi4tLVFQU/lRWVgal09PTs7CwcHBw8PX1Bb179epVYmJiQUFBc3Nzb29vZ2cnOCKh6Y2NjcRS6qjp3zD4hLjtErIRtLurq6utrQ1ayKKioqysrPj4+NDQ0CdPnnh4eNy6dQtO2f79+xUVFZcuXSouLi4iIjJnzpx58+bBazhrGhoacELNzMwePnyYkZEBn4MLZKKOIwiCfFrHcbAKgnwXPtc5CvUxPDzc1dXV3NxcX19fSUlJQkKCm5ubgYGBiYkJau7ChQvtNJpEAAAgAElEQVRB+FatWgUiqKOjY2lp6ejo6Obm9vTp08jISND06OjotLS02tpaoiudsPO6ujp4B4e7kIeaQG4Q2QLmDSFNe3s7hDTwfkpKCmRgQkICmDfk6qVLl4yNjQ8ePAiRkoyMzDwS0tLSECkxMzPDGYE/VVVVz5w5c//+fWhOIVKCMAk+HEs46jiCIMjX6jj2jiMIhQs6UFRU9OLFi+vXrx8/fhyqrZiYGBcXF7ggNTU1FRUVeb1G0HR5efkVK1ZoaGjY29uHkgC5BEEEQc/KyiopKampqSE60QkZJTSdDPzvOxIgpsQz5d9FSownIR8wcfyQkIHpIlJK9HxD8mEvyI3k5OQ3b97ExsY+e/bM19c3MDDwxo0b27dvl5SUXLt27cDZKiEWguzl5OTk5eVVUFCwtrb29PQE/46Jifm2E4qgjiMIgjqOOo4gPzYdHR3+/v63bt1yc3MzNjZetmwZKyvrpEmTwBrHjx8/evRoYjUisHZwdEVFRRB0HR0d8EgfHx8Q9JcvX0ZERICJJiQkgJW+JpGamgqSmpeXV1BQUEgCwgAw+IqKCmglBok72d3f/id8bNgE8F9weMXFxYUfgIOHJEBCIDmQKEhdUlISJBPUGVIdHh4OqXZyctqzZw9kCzyvXr2ajo6OPF6fnp5+woQJkJMzZ85cvnw5MQuhn58ffALEMKjdyI+q41BMyQuYtf8nwHdRyAitXzntBHAwnZ2d/03aIZO7u7shwymkZaTktONgFQT5oflcTQdfzMzMBNv28PC4dOnSsWPHDhw4oKSkJCUlxc/PD5pOQ0NDS0sLdZ+Y9IOPj09MTExSUhI2kJCQkJOT09TUNDIyOn/+PDjohQsX4EPs7Ox8fX0TExMJx838QEZGRnZ2NugvqHDRcFJMAiQbvg6+lHwA8Gdubm58fLy3tzeEJRcvXoQDhsM2Nzc/ceIEMbZkyZIlYNurVq0SFRXl5eUl7rYE54Z8gOepU6euX79+3759EKsYGBhcuXIFYhsvLy/weDRs5GfT8aamJghPXV1dzczM9PX1jx8/fmLYgOp08OBBe3v7yspKTDslAA3o9evX4XoAV4XhS7uhoSFkLzTEnp6e6enpra2tmPav13HsHUeQX43y8vK7d++ePHkStBsaqC1btsyZM4eJiQlUlYqKihgAQyj7l2FjY1NRUYHP0dXVPTRs6OnpQVu3YcMG8uyBnwQOmIoENQniTWjodHR0wNRNTEyuXbsGcQUEFcSkKAjya+k4VPsHDx5AdM7BwTHiPwEC4pSUFApJO4Ta0NJ9PIPV0AJRPvFCWlqaQtJO8PLly4ULF/43533KlCk7d+708vKqqamhkLQvWrSIMtOOOo4gvzLv378HJe0i0dnZ2dHR0dbW1tLSAs/wZ0VFRXR0NPj6mTNnDh48CDZsQAKc+OzZs5s2bRo7duyI7weEDWJiYnv27Dl16hTEEkQkALbt5OQUHx9fXV0NiWptbW0mAS8gRURiKernUwR1/B9X23+5f1lZmbOzs6ysLNSiWbNmeXt7Q50vLS3NHyJKSkqqqqqioqJsbGwkJCTgWxYsWJCQkDAc7dc/3aC4uNjBwUFNTU1SUnLfvn1hYWFgS/DmUKUdGs2mpiZXV1cBAQGinVq+fHlycvLQpuKPrx4Y9/FmL168II6Nn5//6NGjERERw5ED9+/f5+TkpKam/hq5/LYc+IbtAwMDwZJpaWnh1D99+jQ1NRXCs8LCwu+YdtRxBEG+BtDW9vZ20Fli2kQCaHDgndraWuIKTh6o/XHrBI08NHdxcXH29vZmZmZWVlY2HwFvXrhwwdbW1sPDAy4NmZmZcDX/QgtZQKKoqAi+HZy7vr4eDgYOiTg2Yl1MnEkQ+YF1vLy87Km/n7m56QGdfZq7d+npHbG3v52YGNfW1jxQOAY6R3NLU2xcjK3t1YMHtWEXHW0tY+PT/v6+9fW1n/r8chcXl9WrV4OTLVq06M2bN8OREeAT7u7u8vLyf6fjf6aivb01JSXJ2dnxxAnDfVqaWlq7T540/P33hxUVZYNka2DaS0qKf//d8/hxg60qm7epKsEunp7uRUWFn5QzaJKgMVJXV1+zZo2xsTFkxXCkPTIycv78+YSOg/e/fv36b62xpKTIy+t3E5PT6upqO3ds09M9fP36tYSE+D/+6Bu08cAX/Wl/5GloqL9NVXn37p3W1pYREeHQGqelpZWWlpDbwYFfRNZxISEhaH8hcBqOHAgNDQXd/7JcDjyPcKhJSYm3btrq6R2Gk7h9m7LRScOHnz+Pf/mcvr729raw0JBjR/VMz53Jzs743FE9e/aMl5eXiYnpzJkzcKUZpp9HvybtqOMIgnwXQJGJdXM+CTh0W1sbDh1BfnUdz87OOnXKSFhYaNIklnFMDFOncE3h5WRmZmRiYpzMzrZhw3r7O7fy83O6urr+In8Rkdu2qbKzT5rMNpGDnXX6NF5uLnZGRvpJbJMWL15kbmaWl5vzOR0fpn7rf/4t71+8eL5NVYWTYzLbJBb2yazT+Xi4uSYzMNCNGzduxgz+I0cOxcZGvn/fQ9b3zs6O7Kx0G+sL4uJiY8cywm5TeDj5p/FycU5mZGRYsEDE6OSJuNiYQXlF1nGIE06dOgVx/zAJGcjuF3X8/YcIpC3ldZKZ2TlR0cXjxjFxcbJP4+OdwT+Vi5MN0j5l6pQNGxQhPmloqBu4c9/7vorK0tt2N5cuWwqJZZ88CVINmcbNzc7PP42PbyobG9uWLZuePfPr6mob9MWg4zNnzoQDmzt3rqWlZUnJsPyS87dySXbr2tp3jx4+UNuuAkc+diwDLw8HnEReHs5JrCxwWhcvXnzq1MnYmGi4QnxOyjs62gP8fVWUN9PTjVm0aEFYWPAXdHzKlCljx441MjKCKBSuPd8l7ajjCIIgCEKJOl5VWfnwofvOHdtmzJi+YMF8UJDff3/k/9Tv2TN/L6/fjx8/JiQ0l45uNCvLRHX1nXFx/59Ws7S01P6O3ZbNm4TmzVktI33pos3zwGdBzwN9fLzu3XPYsWM787hxEyYw71BTffLkzzGshCgTg1WGW8e/5lvS09NOnDi+aNFCAYEZcrKrrawsIeGBgQG+T3ycnJw0NNRZWCZQU/8mLDzvwgWL0rLSD/oSsGnT+ilTuBcuENHU3H3XweFlWFhYaAjI67FjBsuWLWVlZZGSkvT0dG9orOvp6aEwHf+/V/v7+65ZI8fOPhnih71790AqwkJDQ0KC3d0fmJqeW7VKipZ2FD//dBsb6/z8vM7Ozv59+nohc1RVlQUEpi9cMF9DfVf/XmGhL4KCLl26uG7dWkHBmSIiwosXLxQXX2xkdAJivO+r45+bJwRCkby8nAsXzGfwT2MeNxbywczMFM7XSziLwcF2drf37tWEkz5hwnh5ebnAZ/59vT3kfaurK6Miw90euN65Y6ejo71A5P+/RSxcuDAklIJ0/OvnSMGZVRAEQRDkO+u4f8DTmTMFqKlGyMnJuLm7gqkM/N+O9raQ4OeqW5WJZQWsra1qat7C+xER4YKCs+npx4CjBwcHkaWT4M2b1yrKSgz0dAz0Y7apbs3IyBgoypTQO97T3f32beV5c1Mamv4bHw8dOvj69eBh1mDM5mZmM2bMgA3mzJnz4sXzhoa60NAXkGR4h4uLy9nFsad38C9rjx495Oef9ttvI2Skpe462FdWVlCajtfV1UIqlJQ2wTY0NDQ3blzv6Bg8BQcEJKCPpA9Z7uh4r7GxsbOzI+CZ78ZNivAmOzs7vNnd3Unevru7OyEhLigoID4+9tw5Y/DOceOYz5w5DQEPeX4PCukdBzIzM4yMDDk5+++pFRDgDw5+MWiDmpp358+bM5CAADU9PZXcR578OuH8eTMlpS0bN24QFRWFeIbIbXEJ8bCXIZSj49g7jiAIgiA/kI77LVu+bOHChdevX8vPz21vbx/4v+/f91VVllucN2MmAR6Zn5cH70dFRc2dO2fkSCoFBfmHD93bO/6yV2Rk+GoZmTGjaXm4OY8cOZSXl0tpOt7U1Pg6OcH03FkRkflycnJ+fn4dHe2D7vyor68Dt5aXlyNJm0Dgs4CsrHTICiHhufCOmJhYWnrah1z6cyxyUlKirOwq2ICRoT9WycrKpDQdb2ioj4uLtbW1JVZUhpP+8TaPH//OyckJH6Kisun5c/++vt6CgoIDB7VZWMaT5mxZlZaeOnB7yLqurv/b+dOnfnx8fLDZ4sULr127UlZWRmk6DiXE09P99OmTenqH7961f/fu7aANKivKTYzP0tPTTZw44fLli+XlZeShRxBfhUeE+/v7R0ZGurg4a2vv4+fnI0paSOgL1HEEQRAEQR3/Z4oDtl1eURYe3j/aIj8/Hyyht7d34AYpKclWlhcWL1pI6iEWdHN7QFjX27dvQWh27do+b97sFcuXWl644Ofr6+Pj/eCBy/XrV1S3Kk+axCIoOMvK6nxmZlpbWyul6Xh3d1dtbQ34NDgihBbV1VWDRgb39fU8e/Z0+3YVVtYJI0dSb9y4AcS6ubnRyemupOQyklPOi4iI+PiTX74MXbJEjBBiWdk/p1mkDB1//8m7EhsaGpKTk54F+Pv5PnFwsDc2PqOwbi0PD88aebkAf19im5iYGClJSfjY8cyM+7R25+Rkf+4YIsLDF5EKDBsbi+6AYIwSdByS/8nb7auqqoKCnj9wdfXy8rp29aqGhvrSpRILFgjr6x/Jy8v53HdBsblx4+rixQsgUcLCwsEhqOMIgiAIgjo+FBMd9vR0g528fBl269YNZaXN3NycbGys0tJStjeukcdP9/b2vHtXbW9/G1yEhoZqEuvEmQL8YqILhefNZZ3IQk9Pz8IyXlVVKTDQr6OjFRSI2KusrIzybuX8C01NjYWFBT4+XmfOnFy5cjkHx+Q5c2YfPKj94sVzYtBFeXmppaUFDw83K+tEbe19fn5PMjMz6uvrampqs7OzXgQFHjlyiIeb+2MhprCx438hPz/v8iWrLZsVpVetmD6Nj45uDAMDw+xZs/R0daEYENtAwDZr1qz+aa15OU+fOg659LlPi4uLUVwnTzNyxCgaKhXlLenp6ZSj458jKSlx1061GdP5Fi0QmUoapTOJjXXbNhV3d9fc3Oy+vk9PTwv5dvGiFVh7v47PRx1HEARBENTxf6fjfX19tbU1mZnpt2/f3LhRkZVlIkgGBwe7qurWJ0+8Ozr+MqY8MNB/9eqVY8fST506RU1tO1hLdnZ6QX5O6pvk54H+urpHeHl4SYOMWQ4f1gZh/feiPKw63tXVBX4ZHPzc0FBfWHgONfWI334bsXjxImtri5yczEEbV1SUX792SUpyKWQRBCoyMqt271bfs0dz7do1fHxTx49n5ubiYiHl3rp1a1NT31C+jnd1dda8qyopLiguyk9MeOXj7b1Pax+xXBE3N8fZs6cgSklKShIW7vdODnbWY8f0Cws+q+OxsTGyq/uH69COotq+TSUj4wfQ8ba21qLC/OysdMiB6OjwW7euycpKw6GOGkWjtGWj1+OHHw9oQR1HEARBEGRodBwsvK2tDewwMjLcyOiEoGB/D+jo0bTLli2xtDyfnv6mr+8vw1eamhoSE+KOHD5AR0fHyspqbm6al5czaK5QMK0LFy7Mnj2btNzPTB+fx8T7VVVVrq6ulKPjPT09ra2tYMxubq47dqhxc3P/9hsVCwuLkpKSh4f7xwYGedW/ZFlHR09Pd0pK8qVL1rKyMrAXLS0tMzOTlNQKM7Nz5mamcrKrZwrwzxGcaWCgSwy1pygd7+3t7ehor6urq6ysfPv27aC7BQhycrP19Q9NmjSBGCX/OiU5KytdbbvKeOaxjAz0yspKyUlJH33m/5dd8Pf3FxTsP/VzBAXOm58rLi6iNB2H0wcBxtu31VVVlZAPg6akJAiPeLl0qQSRk8oD+vhRxxEEQRAEGWIdj4+PV1FR5uXlERVdZGZmWl5e9uXtW1qa37x5bWhowMzMPH78eD3dI7Ex0SA3A7fJy8u1tDSfP38uSYhFAgMDiPfB/yhJx9+7u7uBII4dy7h1q7K39+OGhvovf3JNzbsXQYE71LZRUVFBjjk732tv/3OBpMbGxpdhYXs0d9PT080Q4H/wwKW19c+x+JSj4xUVFZ6eHmvXroFtpk3j8/R06+7uJA8oIoiICIf4ZPx4ZtgGDjgtrf/GzczM9GPHjjIxMUEYZmx8Jj09lTxrSkVF+e+/P7x+/aqLi5O29n7I0hkz+B0d7zYOmOqRcnT8zZuUAwf2c3GxjRpFJScnEx0d+ZGvd0HZmD9/PhXVbzNmTDt9+sQnB+egjiMIgiAIMgQ6npiYuH37Nn7+aUuWiJ8/b0aeB+MLOp6SkmRgoMfENHY8M7OBvn58/CuylhGAu1hbXyB0fP584WfP/ClSx/949MgT1BCCiu3bVX18vOrr675Gx3fu2E5DQwMi6+rqSNLx/48qbmxoiAgP19q7h45uzLTpfI6O95qaGnp7KW7ecdBxDw93BYW1sM3MmQJeXo/++KN30DYxMdHq6rsg4oJtICeJITepqSl6ekcYGRkmTZpkZnYuJyero6OD2L66uhoy0M7uFsj9oUMHYJtp06Y6ONjV1b0j/3JCaTrOw8NORzdq3bq1r17FfRyqQdkQEREhRSy8J08eKyjIRx1HEARBEGSIdfz9+97Wlkb7O7eIGaYns7GKiS5cIy+zZfP6jRsUNqxfS36sXbNaRlrygM6+h54eRPd5WnqqgYHu9OlTaWlHcXCwKytvAT+7cuWKpeWFw4cPiomJUlFRMTLQw74PXJ3Ic29TztjxmnfvAgMD1HftBEOCzWbw80EC1ynIbdq4bsP6v6QdMmSl1LJjR/ViY6MIbQ0JeSErK0NPP5qTk231aunTp0/fuXPn+vWramrbWVgmsrJM3LpV6eFDN3KqKU3HPwiiv6Tk8t9+GzGOaeyypUtOnjx59+5dO7s7p04ZbdigyM7ORpoahdXQUC8hIaa5uelD8BZ/6JA2nPdx48bNmzfPwEAfFPzatSuamhrTp/XP90dN9duUKTyKigr29ncGCTfl6HhXV1dFebm1lRUxa/iUKdzKypuNjY3tHRzgHBkYGIiLidKOooH/EhKa6+zk2NhQP2hmfYK8vFwrq/Nz5vSP75o1e1bQi+eo4wiCIAiCOv4PFKezs7Oiotzb6/cjhw9uWK+4c8f2PZrqmrvhsYv0/Odj187t21SVTxmd8PN9Ah5DDMBoaWlOSIi/e9deX+/Izh1q6xQUQDTl5ORA3jU1d5uZmz719ysoyO/u7iLPSkE5M6vU1taEh4dctLmwT2uPstJmjV079u7RICV/16Dk79yxTUV5s5mZSULCq96+fifr7e2pqCz383ty+vSpLZs3r127drWMjLycrKqqypEjh1xcnHJzcwaN/aBAHe/q6iwtK/F76mtqarJtm+q6deukpaUh0yA5W7Zs0tfXBc+OjY15+7aa3P1PCuHeNzc3x8REXbpkvXOn2rp1CitXrpSWXrV1q/LRo/rGZ08bHtW/Y3crPT3tY3+ltFs56+rqkhKT7jo4QGC5ZctGSLhMP6uhJENyjI3PeHs/hgJMnqbzYyBzAgOfnj1zcqvKllNGJzMy0lDHEQRBEAR1/B8oTv+NiZ2djY0NVVWVpaUlpf2UlJZ8CnDJoqLKysrGxsaurq6BMzfDnzU174qKCjMyMlJTU9PS0rKyskC7Qdre//H+G0T5v9FxkEUIJ+DIKysrvpTw/ye9sLqqqq2tbeByP/Civq6uoKAAEp6SkgJpz8/Phw/85H2Bf1DwzCpNTY2QyszMTNgYEgLJAQetqamBOGrgZgPTTgrGWsrKSsl75eXlgcY1NTXV19cN9NeBu1DmzCrd3d1w1vLz8zIy0klJSYFEwckadDvEJyFK0bt3byEr3r59C7UJdRxBEARBUMdL/rsv/NRMzF8vyqKiojk5OcNxXOA6Xl5eCgoK8C0iIiLDJP1/mzuf1HENDQ04MHNz87q6uuH4VkgsRCD/dKLDf3ja33/bZkFBQQICAqTbCeZfu3YNQrvhyIGYmBjiWyhKLkHHeXh4mJmZzczMioqKhulbvi3tqOMIgiAI8sPq+D+H0PE1a9bQ0NCAnVy4cCEkJMTHx+f3IcLb2/vp06d2dnaHDh2aM2cOIf2JiYmUkPaSkpJ79+5t374dDklRUdHW1hYUDQ54qNLu5+cXHBxsbGxM3AkwfDr+zcDhEXNfcnFxQT7cvn17OHLAyMiIhYWFjo5OSUmJcuQSQhF+fn5Q3vXr19vY2Li6uvr6+j5+/JgS0o46jiAIgiC/kI6Dkjo4OEhJSY34AAMDA9jDmCGCjsSoUaPIny8kJBQfH08habe3t5eWlh49ejQcGBUVFT09/ZihAxIOmQlSRU67sLDwd/pl4NMEBgZCDEY+PAjJhiMHiA+HMqCgoODm5lZdXU0haef+sFYrNTU1lIEhLPb/Mu2o4wiCIAjyC+l4XV1dVFTUlStX9u/fv2HDho3Dw6ZNm5SUlODFmjVrzM3Ni4uLKSftly9f1tLSWrdu3TAlf8uWLVu3boXntWvXUk7aCTIyMoyMjOTl5eHw4ATBaRqOHCAy9uDBgzdv3oRIrLm5mRLSnpmZCWmXk5ODYwPrpai0o44jCIIgyC+h44NuBPyP6e3t/Y7f/iunnZwDA2///e+/HdOOOo4gCIIgv7qOIwhCmaCOIwiCIAjqOIIgqOMIgiAIgjqOIAjqOOo4giAIgqCOIwiCOo4gCIIgqOMIgvxaOv748WPUcQRBEARBHUcQ5PvoOPaOIwiCIAjqOIIgqOMIgiAIgjqOIMivp+M4WAVBEARBUMcRBPluOo694wiCIAiCOo4gyH+t4/z8/CNGjJCXl3dxcamursY8QRAEQRDUcQRBhpf3798TL8LCwqZOncrExGRiYpKVldXW1oaZgyAIgiDfruOVWdWDrrUIgiCfo7u7++bNmwwMDLNmzUpPT8fWA0EQBEH+rY6H+YS39Db3/dGH2YEgyCch23ZRUZGFhcWCBQvo6Ojk5eXfvHmDmYMgCIIg/1bH5/EK6+hrZ+VkYnYgCPJlHj9+LCoqys3Nra6u7u3tXVNTg3mCIAiCIP9Wx4EZQvwO9+zhytrV1YWZgiDIx7x69WrHjh309PTQYixYsAC8HJoLHKOCIAiCIEOg4wumLeLgY2dkYpCVlYVLbHNzc29vL2YNgiAE1dXVPj4+KioqDAwMjIyMysrKOLkhgiAIggyljldmVSekx69dt3YEiSVLljx48KChoaGvD0eTI8ivyMA+79ra2qtXr06dOnX06NFycnL29vZFRUWYRQiCIAgylDpendPfy1VSVnzmzJmxY8cSUq6goBAaGvq5KzSCID835eXl58+fX7x4MRsbG9EmyMvLR0dHY84gCIIgyNDrOHne8Xfv3r18+fLQoUOcnJxw9Z0yZYqysrKVlRVOnoAgPyvvSQx8Jzs728nJae3atSNHjoR2YN68ecePHw8ICKipqcFfzBAEQRBkeHT89V+WAWpqakpPT79z5466uvqcOXNYWVknT568aNGic+fOwXV60IUccxBBflwRH6jXaWlpV65c2bp168yZM6HKCwoKbt++3c7OLi4urqWlBWs9giAIggynjn9mVc66urqHDx+qqakxMDAQv1bz8fHp6Og4OTmVlpZi3iHIT0BHR4ebm5uKisrcuXNHfABqfUBAwKBqjiKOIAiCIP+djg+87hYXFz9+/Pjs2bOysrLTp09nYmKaMGGCiIiIhobG9evXnzx5kpWV1dTUhFmJIBTIJx26rKwsMjLS0dHR0tJSQUGBmLtQUFBw8+bN2trarq6uKOIIgiAI8p11/JPX4Nra2qSkJLiEnzx5UlxcnIqKCi7hoOYSEhJqamrm5ubwXwkJCQ0NDZitCEJRCl5SUhITExMSEnLv3j0jI6PVq1dzcHBAFaalpZ09e/bOnTvv3r376tWrzs5OzD0EQRAEoSAd/wJw2fb09ISruJiYGBMTE/k37pkzZ+7du9fd3R3EvaampqmpCe/9QpDvQnd3d35+fmhoqKWlpbKysoCAwMSJE4l6Sk9PLywsvH///jt37uTm5v6tzSMIgiAIQkE6Puj2r/Lycl9fXwsLCyUlpUWLFk2YMAEu9oyMjKKiohoaGsePH3d0dIyOji4qKiorK6uvr8fuNwQZDqBmQQBcWlqamZmZnJz85MmTy5cvr1mzhpaWlvBvDg4OLi4uCQkJTU1NPz8/VHAEQRAE+VF1/AvX797e3qysrMePH+vo6IiIiICUgwTA86RJk+bOnSsvL29gYHDnzp2XL19mZGRUVla+e/eura0NzwGC/FO6u7sbGhqgEhUXF0OsGxkZaW9vr62tLSMjw8nJSQwko6amnj17tpqamq2tbUBAANTNiooK2BEVHEEQBEF+Eh3/Gqqrq11dXVVUVLi4uMDLyWNa4PWcOXM2bdp08+bNzMzMrq6uJhKtra0DdQFBEMKbe3p6Ojs720nk5ub6+voaGhqCfLOwsJCrFWHhULMOHz7s4+OTlpaG4S6CIAiC/Oo6TgYcArTbz8/P3t5+x44dxDJDZEaOHMnKyiouLr5z505nZ+eysjLYpa+vr4dEb29vH4mP1ytBkJ9Mu4mi3vsBeA1hamFh4fPnz2/cuLFx48bx48cPrDvMzMzz5s3bvXs3/G9KSkpHRwdmI4IgCIKgjn8aQjK6u7sJwwbD8PX1vXTpkrGx8a5du1asWMHBwUFNTU1IxoQJE+bPn79mzZrNmzcfP37cxcUlIiIiLi7uc/Odo6YjPzptbW2xsbHu7u6Ojo5WVlZHjhyRkpKaNGkSUSPGjBkDFQTMe8mSJVBfLCwsgoODKyoqoCqBgnd2dkLNwtumEQRBEAR1/J/R1dXV2tra3NxcV1dXXV0NblFeXv769WvQdFNTUxUVlWnTppF7AUFHGBb/A/gAAAX3SURBVBgYxo8fz8bGBlKydu3agwcPmpmZhYaGfsFCUNMRCqSqqioqKurRo0cQi27btm3RokVQ1CdOnDh27FgiIh01atTUqVOXL1++cePGEydOgKDHxMTk5eW9JVFfX9/S0gJhLeYkgiAIgqCODwvED/SVlZXgHxkZGSEhIU5OTiAu2tra8+fPH/FXmJiYeHh4wGa4ublXr15tYWHh7u5+586d8PBwPLvIcPCPYrzc3Fw/Pz8rKytdXV0FBQVhYWFOTk5WVlZGRkZwbnIxpqennzVrlqSk5MmTJ/39/WGvnJycoqIiqAWNjY0QuGK2IwiCIAjq+Pekt7cXpKS6ujotLQ3sHPzm+fPn4OinTp1SVVWVl5dfsGABHx/f1KlTwdf5+fnHjBlDR0c3ffp0eH/hwoWKiooGBgZWJOzt7X19fWNiYpKTkwsLC+vq6obcwJBfgZKSEihCmZmZSUlJwcHBrq6uV69ePXHixL59+zZt2rRq1SooilACIVaEkgmqDSIOpRGewbmh0EKBNDU1tbOze/ToEeweHR395s0bUPCvLJAIgiAIgqCOUwQtLS1gRbm5ua9fv46NjQWtAdUGMbp16xa40fXr148cObJkyRIREZEtW7ZISUkxMDCMGDECnkGSwJAWL168bNmyNWvWKCsrq6mpbdu2Dfz+8ePH8FEvX74MCgoKCAjIyMj4R4eE4k6x/KNTA7Hfq1evoAxERET4+PhAcdLX19fU1ASThnKioKAgJiYGRWjGjBmcnJxMTEzEGKoVK1asXLlSQkIC/guM/Pjx4xD+Qdzo5eUVGBgYFRUVHx+flZVVVlYG4eUX5uDHUoQgCIIgqOM/j1rl5+fHxcUlJSX5+/tfvnz59OnTZmZm+/btExcXnzp1qoCAwJQpU8irFQJ0dHS8vLzgWOzs7JMnTwaV37p166FDh7S1tWGvvXv3mpqaent7x8TEgLKHhYWFh4enpKSAYA3HjXSoZUNOQ0NDWloamHFISAioNsRvN2/ehDDs8OHDWlpa+/fv19DQUFFRAbHm5+eHAsDFxUVEcQS0tLRQNuC/+Pj4li9frqOjc+7cOSMjIysrK4gDISCEgpGQkAARXXFxMeY2giAIgiBfpeNvC9/9gikvqiyKTY59nfk6PiU+JCrE2cPZ3MZc97jukWNHtI9o79HRVFZTllOUW7ZqqfgKMRGx+XNE5nBO5RzDNIZnOvd6pfU6ujpaB7U2q24WXyEuISm+WXUT7GhmbXbl5hWb6zZWV60sL1teu33Nyd3Jy9/r6Yunz0KfBYQE+Af7w+sX4S+iE6PTctIKygvK3pWVVJeUVP35gAMrKCuoba7F0tn7R099W315TXlRRVFxVfHAXCp7W1ZRU5GZnxkaHeob6Ov/wh+yFx7PQp4FhgU+CXzi9tjN7r7d5RuXLa9YWl+1vmh78eqtq6dMT23X2L5Beb3a7u1wirUO7t20deMCcRFefh44rfyC0+eLzhdbLiq6TFRKVgo2U9fapX1k/xHDI/AwsTC5de+WX5BfXHJcSmYKPMOB4TlCEARBEORfUpBUNMLLwjfJPyXa81XEg5if/hHuGg2PaI9XSd5vUvzSX/umwXOqf2bm89y8kKLC8FJ4ZL/IT36SGnQ31NXCw+7U3XsmzvB8We/6qR1nteS1lcVVNy1Sgge8kJomzUs1lfG3sUy/jWMYwThmBB3tiNGjR4yhHUFLM2IU828T+EcLiHJISE5bJTNTTlpAdiW/DLxeM3fdtmU7Dm/UO7PLxGK/ldlei4EPk91m8P71Y7cC7ILiHiVGucf9Cudl4CPSLRZO0It7YY8ued86aX9Bx8ZYw9R0z/mBuXR+n6WlzkUDJcP1IpuWTZGEjF01YzU8ZATkVs+SX8q7Yu44IY7fuODUjBox6sNJGQ0POEdTqPngXKhIbNu4cAs8toiq7JbZa6BsCF9028jh/jkX+zP3Xc67+918FvswISsorziyvPBlaV5oEbxOC8giF5tE7xQ4O1CcfrUThA984AMf+MAHPobkEfsoPvHpa/dTv/8PIxj4OQ1MyvkAAAAASUVORK5CYII=)"
      ],
      "metadata": {
        "id": "d4g7yB4DmmAE"
      }
    },
    {
      "cell_type": "markdown",
      "source": [
        "Figure of direct index"
      ],
      "metadata": {
        "id": "DuNOuEwwUzSs"
      }
    },
    {
      "cell_type": "markdown",
      "source": [
        "###(5) Why a file is limited to 4KB in the current implementation?"
      ],
      "metadata": {
        "id": "KFqyUDr8LQCG"
      }
    },
    {
      "cell_type": "code",
      "source": [
        "bool FileHeader::Allocate(PersistentBitmap *freeMap, int fileSize)\n",
        "{\n",
        "  :\n",
        "\tfor (int i = 0; i < numSectors; i++)\n",
        "\t{\n",
        "\t\tdataSectors[i] = freeMap->FindAndSet();\n",
        "\t\t// since we checked that there was enough free space,\n",
        "\t\t// we expect this to succeed\n",
        "\t\tASSERT(dataSectors[i] >= 0);\n",
        "\t}"
      ],
      "metadata": {
        "id": "BVnIf7PETuM0"
      },
      "execution_count": null,
      "outputs": []
    },
    {
      "cell_type": "markdown",
      "source": [
        "由Allocate得知 fileHeader只有一層，一個fileHeader能用的空間就只有32個sector的大小"
      ],
      "metadata": {
        "id": "-ASkbmFLToUO"
      }
    },
    {
      "cell_type": "code",
      "source": [
        "#define NumDirect \t((SectorSize - 2 * sizeof(int)) / sizeof(int))\n",
        "#define MaxFileSize \t(NumDirect * SectorSize)"
      ],
      "metadata": {
        "id": "9Dj6ltg5Mfzm"
      },
      "execution_count": null,
      "outputs": []
    },
    {
      "cell_type": "markdown",
      "source": [
        "FileHeader的大小為128 bytes\n",
        "\n",
        "\n",
        "扣除numBytes和numSectors後，剩餘120 bytes用於存放長度為30的dataSectors\n",
        "\n",
        "NumDirect 為 (128 - 2*4) / 4 = 30，\n",
        "\n",
        "因此MaxFileSize = 30*128，為 3.75KB\n",
        "\n"
      ],
      "metadata": {
        "id": "YIdLPvEW8FJt"
      }
    },
    {
      "cell_type": "markdown",
      "source": [
        "##Implement part"
      ],
      "metadata": {
        "id": "0x8t6h048JC-"
      }
    },
    {
      "cell_type": "markdown",
      "source": [
        "###Part II. Modify the file system code to support file I/O system calls and larger file size"
      ],
      "metadata": {
        "id": "SWXycYJCbRNl"
      }
    },
    {
      "cell_type": "markdown",
      "source": [
        "###Implement five system calls"
      ],
      "metadata": {
        "id": "0x-rFDDSlfBV"
      }
    },
    {
      "cell_type": "markdown",
      "source": [
        "首先與MP1大致相同，user呼叫system call後，進入syscall.h，接著程式執行後，會進到exception.cc對應的case，\n",
        "，再呼叫ksyscall.h 中對應的function，最後呼叫fileSystem下對應的function"
      ],
      "metadata": {
        "id": "xIyLz0zDh7qs"
      }
    },
    {
      "cell_type": "markdown",
      "source": [
        "####kyscall.h"
      ],
      "metadata": {
        "id": "PuH8XFtiiPmE"
      }
    },
    {
      "cell_type": "code",
      "source": [
        "int sysCreate(char *name, int size){\n",
        "\treturn kernel->fileSystem->Create0(name, size);\n",
        "}\n",
        "OpenFileId sysOpen(char *name){\n",
        "\treturn kernel->fileSystem->Open0(name);\n",
        "}\n",
        "int sysRead(char *buf, int size, OpenFileId id){\n",
        "\treturn kernel->fileSystem->Read0(buf, size, id);\n",
        "}\n",
        "int sysWrite(char *buf, int size, OpenFileId id){\n",
        "\treturn kernel->fileSystem->Write0(buf, size, id);\n",
        "}\n",
        "int sysClose(OpenFileId id){\n",
        "\treturn kernel->fileSystem->Close0(id);\n",
        "}"
      ],
      "metadata": {
        "id": "t4eYNXeAbUcN"
      },
      "execution_count": null,
      "outputs": []
    },
    {
      "cell_type": "markdown",
      "source": [
        "在ksyscall.h加上Systemcall介面"
      ],
      "metadata": {
        "id": "TYaBgIIoiOOU"
      }
    },
    {
      "cell_type": "markdown",
      "source": [
        "####exception.cc"
      ],
      "metadata": {
        "id": "qpVnVzUFjAiU"
      }
    },
    {
      "cell_type": "code",
      "source": [
        "\t\tcase SC_Create:\n",
        "\t\t\tval = kernel->machine->ReadRegister(4);\n",
        "\t\t\t{\n",
        "\t\t\t\tchar *filename = &(kernel->machine->mainMemory[val]);\n",
        "\t\t\t\t//cout << filename << endl;\n",
        "\t\t\t\tint size = kernel->machine->ReadRegister(5);\n",
        "\t\t\t\tstatus = sysCreate(filename, size);\n",
        "\t\t\t\tkernel->machine->WriteRegister(2, (int)status);\n",
        "\t\t\t}\n",
        "\t\t\tkernel->machine->WriteRegister(PrevPCReg, kernel->machine->ReadRegister(PCReg));\n",
        "\t\t\tkernel->machine->WriteRegister(PCReg, kernel->machine->ReadRegister(PCReg) + 4);\n",
        "\t\t\tkernel->machine->WriteRegister(NextPCReg, kernel->machine->ReadRegister(PCReg) + 4);\n",
        "\t\t\treturn;\n",
        "\t\t\tASSERTNOTREACHED();\n",
        "\t\t\tbreak;\n",
        "\t\tcase SC_Close:\n",
        "\t\t\tval = kernel->machine->ReadRegister(4);\n",
        "\t\t\t{\n",
        "\t\t\t\tchar *filename = &(kernel->machine->mainMemory[val]);\n",
        "\t\t\t\t//cout << filename << endl;\n",
        "\t\t\t\tstatus = sysClose(val);\n",
        "\t\t\t\tkernel->machine->WriteRegister(2, (int)status);\n",
        "\t\t\t}\n",
        "\t\t\tkernel->machine->WriteRegister(PrevPCReg, kernel->machine->ReadRegister(PCReg));\n",
        "\t\t\tkernel->machine->WriteRegister(PCReg, kernel->machine->ReadRegister(PCReg) + 4);\n",
        "\t\t\tkernel->machine->WriteRegister(NextPCReg, kernel->machine->ReadRegister(PCReg) + 4);\n",
        "\t\t\treturn;\n",
        "\t\t\tASSERTNOTREACHED();\n",
        "\t\t\tbreak;\n",
        "      #剩下省略"
      ],
      "metadata": {
        "id": "JiL4isQPid6s"
      },
      "execution_count": null,
      "outputs": []
    },
    {
      "cell_type": "markdown",
      "source": [
        "比照MP1，加上Systemcall的定義，除了SC_Create多帶了一個檔案大小的參數之外，其他方法都與MP1的實作一模一樣"
      ],
      "metadata": {
        "id": "OoSQps9TbUPt"
      }
    },
    {
      "cell_type": "markdown",
      "source": [
        "####filesys"
      ],
      "metadata": {
        "id": "Tam8kGZnjLhs"
      }
    },
    {
      "cell_type": "code",
      "source": [
        "\tint Close0(OpenFileId id);\n",
        "\tint Write0(char *buf, int size, OpenFileId id);\n",
        "\tint Read0(char *buf, int size, OpenFileId id);\n",
        "\tOpenFileId Open0(char *name);\n",
        "\tint Create0(char *name, int size);\n",
        "  OpenFile* filetable[20];"
      ],
      "metadata": {
        "id": "bPt-YB4tjLJV"
      },
      "execution_count": null,
      "outputs": []
    },
    {
      "cell_type": "markdown",
      "source": [
        "與MP1大致相同，只是多了CreateFile()，且新增\n",
        "filetable 來儲存開啟的檔案"
      ],
      "metadata": {
        "id": "CY6PCi3lkS89"
      }
    },
    {
      "cell_type": "code",
      "source": [
        "int FileSystem::Close0(OpenFileId id){\n",
        "    if(id<0 || id>=20) return -1;\n",
        "    if(filetable[id] == NULL) return -1;\n",
        "    delete filetable[id];\n",
        "    filetable[id] = NULL;\n",
        "    return 1;\n",
        "}\n",
        "int FileSystem::Write0(char *buf, int size, OpenFileId id){\n",
        "    if(id<0 || id>=20 || size<0) return -1;\n",
        "    if(filetable[id] == NULL) return -1;\n",
        "    return filetable[id]->Write(buf, size);\n",
        "}\n",
        "int FileSystem::Read0(char *buf, int size, OpenFileId id){\n",
        "    if(id<0 || id>=20 || size<0) return -1;\n",
        "    if(filetable[id] == NULL) return -1;\n",
        "    return filetable[id]->Read(buf, size);\n",
        "}\n",
        "OpenFileId FileSystem::Open0(char *name){\n",
        "    OpenFile *file = Open(name);\n",
        "    if(file == NULL) return -1;\n",
        "    for(int i=0 ; i<20 ; ++i){\n",
        "        if(filetable[i] == NULL){\n",
        "            filetable[i] = file;\n",
        "            return i;\n",
        "        }\n",
        "    }\n",
        "    delete file;\n",
        "    return -1;\n",
        "}\n",
        "int FileSystem::Create0(char *name, int size){\n",
        "    return Create(name, size);\n",
        "}"
      ],
      "metadata": {
        "id": "wqLWJ_X1lLfs"
      },
      "execution_count": null,
      "outputs": []
    },
    {
      "cell_type": "markdown",
      "source": [
        "###Enhance the FS to let it support up to 32KB file size"
      ],
      "metadata": {
        "id": "xhYM7NPslo_N"
      }
    },
    {
      "cell_type": "markdown",
      "source": [
        "原版本僅支援單一 FileHeader，檔案大小被限制為最多 MaxFileSize。\n",
        "無法處理需要跨多個index block的檔案分配需求  \n",
        "所以我將原本的 index scheme 轉為 linked index scheme，使檔案的長度不再受限制。為此，我在 filehdr.h 中新增了兩個 private 變數：nextHeader 和 nextHeaderSector，用來儲存下一個 index block 的相關資訊。其中， nextHeader 放在變數宣告的最前面，而這個是不必寫回 disk 的資訊， WriteBack() 時會加上 sizeof(FileHeader*) 這樣便可跳過。具體的實作細節會在後續進一步說明。此外， NumDirect 也需要更新，扣除 nextHeaderSector ( 用來儲存下一個 sector 的位置 ) 所佔的空間，以確保需要寫回硬碟的資料大小與 sector 大小完全匹配。"
      ],
      "metadata": {
        "id": "hAfRyfSJl-2E"
      }
    },
    {
      "cell_type": "markdown",
      "source": [
        "####filehdr"
      ],
      "metadata": {
        "id": "FuNHfzkfl-r8"
      }
    },
    {
      "cell_type": "code",
      "source": [
        "\tFileHeader *nextfileheader;\n",
        "\tint nextfilesector;"
      ],
      "metadata": {
        "id": "MNDfP2LOlz5k"
      },
      "execution_count": null,
      "outputs": []
    },
    {
      "cell_type": "code",
      "source": [
        "#define NumDirect ((SectorSize - 3 * sizeof(int)) / sizeof(int))"
      ],
      "metadata": {
        "id": "uagSFxNPpUNl"
      },
      "execution_count": null,
      "outputs": []
    },
    {
      "cell_type": "code",
      "source": [
        "FileHeader::FileHeader()\n",
        "{\n",
        "\tnumBytes = -1;\n",
        "\tnumSectors = -1;\n",
        "\t//MP4\n",
        "\tnextfileheader = NULL;\n",
        "\tnextfilesector = -1;\n",
        "\t//MP4 end\n",
        "\tmemset(dataSectors, -1, sizeof(dataSectors));\n",
        "}"
      ],
      "metadata": {
        "id": "skIJ_-SbrxDE"
      },
      "execution_count": null,
      "outputs": []
    },
    {
      "cell_type": "code",
      "source": [
        "FileHeader::~FileHeader()\n",
        "{\n",
        "\t// nothing to do now\n",
        "\t//MP4\n",
        "\tif(nextfileheader != NULL) delete nextfileheader;\n",
        "\t//MP4 end\n",
        "}"
      ],
      "metadata": {
        "id": "-QRWpklmrxiV"
      },
      "execution_count": null,
      "outputs": []
    },
    {
      "cell_type": "markdown",
      "source": [
        "在constructor和destructor中初始化和刪除nextfileheader, nextfilesector"
      ],
      "metadata": {
        "id": "mBLio0v6rzhs"
      }
    },
    {
      "cell_type": "code",
      "source": [
        "bool FileHeader::Allocate(PersistentBitmap *freeMap, int fileSize)\n",
        "{\n",
        "\t//MP4\n",
        "\tDEBUG('f',\"fileheader allocate\");\n",
        "\tnumBytes = fileSize<MaxFileSize? fileSize:MaxFileSize;\n",
        "\tfileSize -= numBytes;\n",
        "\tnumSectors = divRoundUp(numBytes, SectorSize);\n",
        "\t//MP4 end\n",
        "\tif (freeMap->NumClear() < numSectors)\n",
        "\t\treturn FALSE; // not enough space\n",
        "\n",
        "\tfor (int i = 0; i < numSectors; i++)\n",
        "\t{\n",
        "\t\tdataSectors[i] = freeMap->FindAndSet();\n",
        "\t\t// since we checked that there was enough free space,\n",
        "\t\t// we expect this to succeed\n",
        "\t\tASSERT(dataSectors[i] >= 0);\n",
        "\t}\n",
        "\t//MP4\n",
        "\tif(fileSize <= 0) return TRUE;\n",
        "\tnextfilesector = freeMap->FindAndSet();\n",
        "\tif(nextfilesector == -1) return FALSE;\n",
        "\tif(nextfileheader != NULL) delete nextfileheader;\n",
        "\tnextfileheader = new FileHeader;\n",
        "\treturn nextfileheader->Allocate(freeMap, fileSize);\n",
        "\t//MP4 end\n",
        "}\n"
      ],
      "metadata": {
        "id": "uXz1PvVwpYVE"
      },
      "execution_count": null,
      "outputs": []
    },
    {
      "cell_type": "markdown",
      "source": [
        "在Allocate使用遞迴呼叫 nextfileheader->Allocate，分配剩餘的 fileSize，直到完全分配完成"
      ],
      "metadata": {
        "id": "0PdcpTgSpzd8"
      }
    },
    {
      "cell_type": "code",
      "source": [
        "void FileHeader::Deallocate(PersistentBitmap *freeMap)\n",
        "{\n",
        "\tfor (int i = 0; i < numSectors; i++)\n",
        "\t{\n",
        "\t\tASSERT(freeMap->Test((int)dataSectors[i])); // ought to be marked!\n",
        "\t\tfreeMap->Clear((int)dataSectors[i]);\n",
        "\t}\n",
        "\t//MP4\n",
        "\tif(nextfilesector == -1) return;\n",
        "\tASSERT(nextfileheader != NULL);\n",
        "\tnextfileheader->Deallocate(freeMap);\n",
        "\t//MP4 end\n",
        "}\n"
      ],
      "metadata": {
        "id": "2AQren-Vpz-F"
      },
      "execution_count": null,
      "outputs": []
    },
    {
      "cell_type": "markdown",
      "source": [
        "Deallocate()則是會繼續往下一個file header 遞迴呼叫\n",
        "Deallocate()"
      ],
      "metadata": {
        "id": "dECB7hntp0yu"
      }
    },
    {
      "cell_type": "code",
      "source": [
        "void FileHeader::FetchFrom(int sector)\n",
        "{\n",
        "\t//MP4\n",
        "\tkernel->synchDisk->ReadSector(sector, (char *)this + sizeof(FileHeader*));\n",
        "\t//MP4 end\n",
        "\t/*\n",
        "\t\tMP4 Hint:\n",
        "\t\tAfter you add some in-core informations, you will need to rebuild the header's structure\n",
        "\t*/\n",
        "\t//MP4\n",
        "\tif(nextfilesector == -1) return;\n",
        "\tif(nextfileheader != NULL)\n",
        "\t\tdelete nextfileheader;\n",
        "\tnextfileheader = new FileHeader;\n",
        "\tnextfileheader->FetchFrom(nextfilesector);\n",
        "\t//MP4 end\n",
        "}"
      ],
      "metadata": {
        "id": "5D6LpCSVp1o9"
      },
      "execution_count": null,
      "outputs": []
    },
    {
      "cell_type": "markdown",
      "source": [
        "在 FetchFrom()中，若存在下一個 FileHeader，則會遞迴呼叫下一個 FileHeader 的 FetchFrom()"
      ],
      "metadata": {
        "id": "dcb5IJZDqAS0"
      }
    },
    {
      "cell_type": "code",
      "source": [
        "void FileHeader::WriteBack(int sector)\n",
        "{\n",
        "\t//MP4\n",
        "\tDEBUG('f',\"FileHeader::WriteBack at Sector: \"<<sector<<\" NextSector: \"<<nextfilesector);\n",
        "\tkernel->synchDisk->WriteSector(sector, (((char *)this) + sizeof(FileHeader*)));\n",
        "\n",
        "\t/*\n",
        "\t\tMP4 Hint:\n",
        "\t\tAfter you add some in-core informations, you may not want to write all fields into disk.\n",
        "\t\tUse this instead:\n",
        "\t\tchar buf[SectorSize];\n",
        "\t\tmemcpy(buf + offset, &dataToBeWritten, sizeof(dataToBeWritten));\n",
        "\t\t...\n",
        "\t*/\n",
        "\tDEBUG(dbgFile, \"Writing next headers back to disk.\");\n",
        "\tif(nextfileheader == NULL || nextfilesector == -1) return;\n",
        "\tnextfileheader->WriteBack(nextfilesector);\n",
        "\t//MP4 end\n",
        "}"
      ],
      "metadata": {
        "id": "kiM3UKLdqAi8"
      },
      "execution_count": null,
      "outputs": []
    },
    {
      "cell_type": "markdown",
      "source": [
        "在 WriteBack()時，會將 this 加上 sizeof(FileHeader*)用來跳過不需存回disk的nextHeader"
      ],
      "metadata": {
        "id": "eTJbZyftqFlM"
      }
    },
    {
      "cell_type": "code",
      "source": [
        "int FileHeader::ByteToSector(int offset)\n",
        "{\n",
        "\t//MP4\n",
        "\tint index = offset/SectorSize;\n",
        "\tif(index<NumDirect)\n",
        "\t\treturn dataSectors[index];\n",
        "\tASSERT(nextfileheader != NULL);\n",
        "\treturn nextfileheader->ByteToSector(offset - MaxFileSize);\n",
        "\t//MP4 end\n",
        "}"
      ],
      "metadata": {
        "id": "9FHkyJVLqFym"
      },
      "execution_count": null,
      "outputs": []
    },
    {
      "cell_type": "markdown",
      "source": [
        "在ByteToSector()中， 如果offset超過這個block儲存的size，就會遞迴的向下尋找，然後將offset減掉MaxFileSize。"
      ],
      "metadata": {
        "id": "CmsG2hpZqJt8"
      }
    },
    {
      "cell_type": "code",
      "source": [
        "int FileHeader::FileLength()\n",
        "{\n",
        "\t//MP4\n",
        "\tif(nextfileheader!=NULL)\n",
        "\t\treturn numBytes+nextfileheader->FileLength();\n",
        "\treturn numBytes;\n",
        "\t//MP4 end\n",
        "}"
      ],
      "metadata": {
        "id": "LNCRj-uHqJ9U"
      },
      "execution_count": null,
      "outputs": []
    },
    {
      "cell_type": "markdown",
      "source": [
        "FileLength()則是遞迴後加上numBytes後回傳"
      ],
      "metadata": {
        "id": "DXc3wghXqKZc"
      }
    },
    {
      "cell_type": "markdown",
      "source": [
        "###Part III. Modify the file system code to support the subdirectory"
      ],
      "metadata": {
        "id": "S3wIm1muqK2U"
      }
    },
    {
      "cell_type": "code",
      "source": [
        "class DirectoryEntry\n",
        "{\n",
        "public:\n",
        "    bool isDir;\n",
        "}"
      ],
      "metadata": {
        "id": "J05THEg2mO4R"
      },
      "execution_count": null,
      "outputs": []
    },
    {
      "cell_type": "markdown",
      "source": [
        "首先，在DirectoryEntry 新增一個 variable  isDir，用來判斷此\n",
        "entry 的資料是directory 還是file"
      ],
      "metadata": {
        "id": "IAFOOZ1smPuj"
      }
    },
    {
      "cell_type": "code",
      "source": [
        "bool Add(char *name, int newSector, bool isDir); // Add a file name into the directory\n",
        "void RecursiveList(int layer);\n",
        "int GetDirSector(char *name);"
      ],
      "metadata": {
        "id": "2EIGfQNrma2L"
      },
      "execution_count": null,
      "outputs": []
    },
    {
      "cell_type": "code",
      "source": [
        "bool Directory::Add(char *name, int newSector, bool isDir)\n",
        "{//MP4 end\n",
        "    if (FindIndex(name) != -1)\n",
        "        return FALSE;\n",
        "\n",
        "    for (int i = 0; i < tableSize; i++)\n",
        "        if (!table[i].inUse)\n",
        "        {\n",
        "            table[i].inUse = TRUE;\n",
        "            strncpy(table[i].name, name, FileNameMaxLen);\n",
        "            table[i].sector = newSector;\n",
        "            //MP4\n",
        "            table[i].isDir = isDir;\n",
        "            //MP4 end\n",
        "            return TRUE;\n",
        "        }\n",
        "    return FALSE; // no space.  Fix when we have extensible files.\n",
        "}"
      ],
      "metadata": {
        "id": "9ZJYzKBgnY77"
      },
      "execution_count": null,
      "outputs": []
    },
    {
      "cell_type": "markdown",
      "source": [
        "在 Directory 中，將原本的 Add() 方法新增一個 isDir 參數，用於標記新增項目是否為目錄，並在找到目錄項目後設定對應的 isDir 資料。此外，新增 RecursiveList() 方法以實現遞迴列出目錄內容的功能（類似 -lr）。同時，實作 GetDirSector() 方法，接收相對路徑並返回對應檔案或目錄的sector編號，以支援更靈活的路徑操作。"
      ],
      "metadata": {
        "id": "T3oVmjNZon9k"
      }
    },
    {
      "cell_type": "code",
      "source": [
        "void Directory::List()\n",
        "{\n",
        "    for (int i = 0; i < tableSize; i++)\n",
        "        if (table[i].inUse)//MP4\n",
        "            printf(\"%s\\n\", table[i].name);\n",
        "        //MP4 end\n",
        "}"
      ],
      "metadata": {
        "id": "3KYHViM9oqLD"
      },
      "execution_count": null,
      "outputs": []
    },
    {
      "cell_type": "markdown",
      "source": [
        "在 List() 中，修改輸出格式"
      ],
      "metadata": {
        "id": "dZhraTmGowkj"
      }
    },
    {
      "cell_type": "code",
      "source": [
        "void Directory::RecursiveList(int layer){\n",
        "    Directory *sub = new Directory(NumDirEntries);\n",
        "    for(int i=0;i<tableSize;++i){\n",
        "        if(table[i].inUse){\n",
        "            for(int j=0;j<layer;++j) printf(\"    \");\n",
        "            printf(\"[%c] %s\\n\",(table[i].isDir? 'D':'F'), table[i].name);\n",
        "            if(table[i].isDir){\n",
        "                OpenFile *file = new OpenFile(table[i].sector);\n",
        "                sub->FetchFrom(file);\n",
        "                sub->RecursiveList(layer+1);\n",
        "                delete file;\n",
        "            }\n",
        "        }\n",
        "    }\n",
        "}"
      ],
      "metadata": {
        "id": "Iw4AE9B2ow1C"
      },
      "execution_count": null,
      "outputs": []
    },
    {
      "cell_type": "markdown",
      "source": [
        "在 RecursiveList() 中，根據當前層級添加對應數量的縮排，然後輸出每個項目。若項目為目錄，則遞迴呼叫 RecursiveList()，並將layer加 1，以處理其子目錄的內容"
      ],
      "metadata": {
        "id": "jeb_oxxxpQOz"
      }
    },
    {
      "cell_type": "code",
      "source": [
        "class FileSystem\n",
        "{\n",
        "public:\n",
        "  bool CreateDirectory(char *name);\n",
        "\tvoid RecursiveList(char *name);\n",
        "private:\n",
        "\tvoid SplitPath(char *path, char *dirName, char *fileName);\n",
        "}"
      ],
      "metadata": {
        "id": "PV12Mih9tO3D"
      },
      "execution_count": null,
      "outputs": []
    },
    {
      "cell_type": "markdown",
      "source": [
        "在FileSystem下新增三個function,其功用會在下方做說明"
      ],
      "metadata": {
        "id": "PhtO1YCrtPJz"
      }
    },
    {
      "cell_type": "code",
      "source": [
        "void FileSystem::SplitPath(char *path, char *dirName, char *fileName){\n",
        "    int len = strlen(path), i;\n",
        "    for(i=len-1;i>=0;i--){\n",
        "        if(path[i] == '/') break;\n",
        "    }\n",
        "    strncpy(dirName, path, i);\n",
        "    strncpy(fileName, path+i+1, len-i-1);\n",
        "    dirName[i] = fileName[len-i-1] = '\\0';\n",
        "    if(i==0) dirName[0] = '/', dirName[1]='\\0';\n",
        "}"
      ],
      "metadata": {
        "id": "1ER9giSf0bJQ"
      },
      "execution_count": null,
      "outputs": []
    },
    {
      "cell_type": "markdown",
      "source": [
        "SplitPath() 的主要功能是處理字串，將路徑分割為兩部分，並將結果分別存入 dirName 和 fileName。"
      ],
      "metadata": {
        "id": "90ZFVbT70br5"
      }
    },
    {
      "cell_type": "code",
      "source": [
        "bool FileSystem::Create(char *name, int initialSize)\n",
        "{\n",
        "    //MP4\n",
        "    Directory *directory, *root;\n",
        "    OpenFile *file;\n",
        "    int dirSector;\n",
        "    char dirName[256], fileName[10];\n",
        "    SplitPath(name, dirName, fileName);\n",
        "    //MP4 end\n",
        "    PersistentBitmap *freeMap;\n",
        "    FileHeader *hdr;\n",
        "    int sector;\n",
        "    bool success;\n",
        "\n",
        "    DEBUG(dbgFile, \"Creating file \" << name << \" size \" << initialSize);\n",
        "    //MP4\n",
        "    root = new Directory(NumDirEntries);\n",
        "    directory = new Directory(NumDirEntries);\n",
        "    DEBUG('f',\"FetchFrom Dir Name: \"<<dirName);\n",
        "    root->FetchFrom(directoryFile);\n",
        "    DEBUG('f',\"GetDirSector Dir Name: \"<<dirName);\n",
        "    dirSector = root->GetDirSector(dirName);\n",
        "    file = new OpenFile(dirSector);\n",
        "    DEBUG('f',\"directory GetDirSector\");\n",
        "    directory->FetchFrom(file);\n",
        "    //MP4 end\n",
        "    if (directory->Find(name) != -1)\n",
        "        success = FALSE; // file is already in directory\n",
        "    else\n",
        "    {\n",
        "        freeMap = new PersistentBitmap(freeMapFile, NumSectors);\n",
        "        sector = freeMap->FindAndSet(); // find a sector to hold the file header\n",
        "        if (sector == -1)\n",
        "            success = FALSE; // no free block for file header//MP4\n",
        "        else if (!directory->Add(fileName, sector, FALSE))\n",
        "            success = FALSE; // no space in directory//MP4 end\n",
        "        else\n",
        "        {\n",
        "            hdr = new FileHeader;\n",
        "            DEBUG('f',\"hdr Allocate\");\n",
        "            if (!hdr->Allocate(freeMap, initialSize))\n",
        "                success = FALSE; // no space on disk for data\n",
        "            else\n",
        "            {\n",
        "                success = TRUE;\n",
        "                // everthing worked, flush all changes back to disk\n",
        "                DEBUG('f',\"FileHeader WriteBack\");\n",
        "                hdr->WriteBack(sector);\n",
        "                //MP4\n",
        "                DEBUG('f',\"directory WriteBack\");\n",
        "                directory->WriteBack(file);\n",
        "                //MP4 end\n",
        "                DEBUG('f',\"freeMap WriteBack\");\n",
        "                freeMap->WriteBack(freeMapFile);\n",
        "            }\n",
        "            delete hdr;\n",
        "        }\n",
        "        delete freeMap;\n",
        "    }\n",
        "    delete root;\n",
        "    delete file;\n",
        "    delete directory;\n",
        "    return success;\n",
        "}\n",
        "\n"
      ],
      "metadata": {
        "id": "zNVrbSEJjyM6"
      },
      "execution_count": null,
      "outputs": []
    },
    {
      "cell_type": "markdown",
      "source": [
        "Create() 負責在檔案系統中建立新檔案\n",
        "\n",
        "由於傳入的 name 不再限定在 root 目錄下，因此首先使用 SplitPath() 方法將路徑分割為dirName 和fileName。接著，從 root 目錄開始，透過 GetDirSector() 方法定位目標目錄所在的 sector，並打開該目錄進行操作。\n",
        "\n",
        "在打開目標目錄後，檢查目錄中是否已存在相同名稱的檔案。如果檔案已存在，操作失敗。如果檔案不存在，則嘗試分配一個空閒的sector來存放File Header。若sector分配成功，將檔案加入目標目錄，並初始化檔案的header與相關的磁碟空間。\n",
        "\n",
        "在成功建立檔案後，將檔案頭資訊寫回磁碟，並將目錄的更新內容寫回到對應的磁區，最後同步更新 Free Map 的狀態。如果任何步驟失敗，則適當清理資源並返回操作失敗的結果。"
      ],
      "metadata": {
        "id": "PISTW2gEkWCr"
      }
    },
    {
      "cell_type": "code",
      "source": [
        "bool FileSystem::CreateDirectory(char *name){\n",
        "    DEBUG('f',\"FileSystem::CreateDirectory\");\n",
        "    Directory *root, *directory;\n",
        "    PersistentBitmap *freeMap;\n",
        "    OpenFile *file;\n",
        "    FileHeader *hdr;\n",
        "    int sector, dirSector;\n",
        "    char dirName[256], fileName[10];\n",
        "    SplitPath(name, dirName, fileName);\n",
        "    DEBUG('f',\"SplitPath dirName: \"<<dirName<<\", fileName: \"<<fileName);\n",
        "    root = new Directory(NumDirEntries);\n",
        "    directory = new Directory(NumDirEntries);\n",
        "    DEBUG('f',\"root FetchFrom\");\n",
        "    root->FetchFrom(directoryFile);\n",
        "    DEBUG('f',\"root GetDirSector\");\n",
        "    dirSector = root->GetDirSector(dirName);\n",
        "    file = new OpenFile(dirSector);\n",
        "    DEBUG('f',\"directory FetchFrom\");\n",
        "    directory->FetchFrom(file);\n",
        "    if(directory->Find(fileName) != -1){\n",
        "        delete file;\n",
        "        delete root;\n",
        "        delete directory;\n",
        "        return FALSE;\n",
        "    }\n",
        "    freeMap = new PersistentBitmap(freeMapFile, NumSectors);\n",
        "    sector = freeMap->FindAndSet();\n",
        "    if(sector == -1 || !directory->Add(fileName, sector, TRUE)){\n",
        "        delete freeMap;\n",
        "        delete root;\n",
        "        delete file;\n",
        "        delete directory;\n",
        "        return FALSE;\n",
        "    }\n",
        "    hdr = new FileHeader;\n",
        "    DEBUG('f',\"hdr Allocate\");\n",
        "    if (!hdr->Allocate(freeMap, DirectoryFileSize)){\n",
        "        delete hdr;\n",
        "        delete freeMap;\n",
        "        delete root;\n",
        "        delete file;\n",
        "        delete directory;\n",
        "        return FALSE; // no space on disk for data\n",
        "    }\n",
        "    DEBUG('f',\"header WriteBack\");\n",
        "    hdr->WriteBack(sector);\n",
        "    DEBUG('f',\"directory WriteBack\");\n",
        "    directory->WriteBack(file);\n",
        "    DEBUG('f',\"freeMap WriteBack\");\n",
        "    freeMap->WriteBack(freeMapFile);\n",
        "    OpenFile *f = new OpenFile(sector);\n",
        "    Directory *d = new Directory(NumDirEntries);\n",
        "    DEBUG('f',\"subdirectory WriteBack\");\n",
        "    d->WriteBack(f);\n",
        "    delete hdr;\n",
        "    delete freeMap;\n",
        "    delete root;\n",
        "    delete file;\n",
        "    delete directory;\n",
        "    return TRUE;\n",
        "}"
      ],
      "metadata": {
        "id": "j46v1CTSuYab"
      },
      "execution_count": null,
      "outputs": []
    },
    {
      "cell_type": "markdown",
      "source": [
        "\n",
        "CreateDirectory() 方法用於建立新的 directory，與 Create() 方法類似，首先通過 SplitPath() 將路徑分為目標 directory 名稱和新 directory 名稱，並利用 GetDirSector() 確定目標 directory 所在的 sector，然後在該 directory 中檢查是否已存在同名項目。如果不存在，分配一個新的sector來存放 directory 資料，並透過 Add() 將新 directory 加入到目標 directory 中。\n",
        "\n",
        "與 Create() 的主要差別在於：\n",
        "\n",
        "directory 標記：在呼叫 Add() 時，isDir 參數設為 TRUE，以標記新增項目為 directory，而非檔案。\n",
        "\n",
        "\n",
        "directory 初始化：在分配sector後，新增的sector需初始化為 directory structure，並通過 WriteBack() 將初始 directory 資訊寫入disk。\n",
        "\n",
        "\n",
        "directory 大小：分配的sector大小為 directory 固定大小 DirectoryFileSize，而非依檔案大小動態分配。"
      ],
      "metadata": {
        "id": "DUUrznVZugqU"
      }
    },
    {
      "cell_type": "code",
      "source": [
        "OpenFile * FileSystem::Open(char *name)\n",
        "{\n",
        "    # 省略\n",
        "    directory->FetchFrom(directoryFile);\n",
        "    sector = directory->GetDirSector(name);\n",
        "}"
      ],
      "metadata": {
        "id": "rMvCbN5623n3"
      },
      "execution_count": null,
      "outputs": []
    },
    {
      "cell_type": "markdown",
      "source": [
        "在Open()中，因為路徑有可能是多layer的,所以將原先的Find()改為使用GetDirSector()"
      ],
      "metadata": {
        "id": "vZN-dUjR238o"
      }
    },
    {
      "cell_type": "code",
      "source": [
        "void FileSystem::RecursiveList(char *name){\n",
        "    DEBUG('f',\"FileSystem::RecursiveList\");\n",
        "    Directory *root = new Directory(NumDirEntries);\n",
        "    Directory *directory = new Directory(NumDirEntries);\n",
        "    root->FetchFrom(directoryFile);\n",
        "    int sector = root->GetDirSector(name);\n",
        "    OpenFile *file = new OpenFile(sector);\n",
        "    directory->FetchFrom(file);\n",
        "    directory->RecursiveList(0);\n",
        "    delete root;\n",
        "    delete directory;\n",
        "    delete file;\n",
        "}"
      ],
      "metadata": {
        "id": "TfVGSab9urnI"
      },
      "execution_count": null,
      "outputs": []
    },
    {
      "cell_type": "markdown",
      "source": [
        "在 RecursiveList() 中，首先定位該目錄的 sector 並打開它，然後調用目錄的 RecursiveList() 方法，傳入 0 表示當前處於第 0 層"
      ],
      "metadata": {
        "id": "RSEhv8b1ur0b"
      }
    },
    {
      "cell_type": "code",
      "source": [
        "void FileSystem::List(char *name)\n",
        "{\n",
        "    Directory *directory = new Directory(NumDirEntries);\n",
        "    OpenFile *file;\n",
        "\n",
        "    directory->FetchFrom(directoryFile);\n",
        "    int sector = directory->GetDirSector(name);\n",
        "    file = new OpenFile(sector);\n",
        "    directory->FetchFrom(file);\n",
        "    directory->List();\n",
        "    delete file;\n",
        "    delete directory;\n",
        "}"
      ],
      "metadata": {
        "id": "_aKT17nUuvF1"
      },
      "execution_count": null,
      "outputs": []
    },
    {
      "cell_type": "markdown",
      "source": [
        "在 List() 中，操作與 RecursiveList() 類似，但最後只需調用該目錄的 List() 方法，無需進行遞迴處理"
      ],
      "metadata": {
        "id": "mVbe8rY6uvUU"
      }
    },
    {
      "cell_type": "code",
      "source": [
        "    if (dirListFlag)\n",
        "    {\n",
        "        if(recursiveListFlag) kernel->fileSystem->RecursiveList(listDirectoryName);\n",
        "        else kernel->fileSystem->List(listDirectoryName);\n",
        "    }"
      ],
      "metadata": {
        "id": "q3NE9soLu3S7"
      },
      "execution_count": null,
      "outputs": []
    },
    {
      "cell_type": "markdown",
      "source": [
        "在main()裡面就可以呼叫List()或 RecursiveList()"
      ],
      "metadata": {
        "id": "RdKYx9WNu3lz"
      }
    },
    {
      "cell_type": "markdown",
      "source": [
        "####Support up to 64 files/subdirectories per directory"
      ],
      "metadata": {
        "id": "saDPeWJ8q2xq"
      }
    },
    {
      "cell_type": "code",
      "source": [
        "#define NumDirEntries 64"
      ],
      "metadata": {
        "id": "xXKRiSkvq4DL"
      },
      "execution_count": null,
      "outputs": []
    },
    {
      "cell_type": "markdown",
      "source": [
        "應該將NumDirEntries 設為 64就好了"
      ],
      "metadata": {
        "id": "XKdk_Vu6q7J7"
      }
    },
    {
      "cell_type": "markdown",
      "source": [
        "##Bonus Assignment"
      ],
      "metadata": {
        "id": "KH-VxIzSqXnk"
      }
    },
    {
      "cell_type": "markdown",
      "source": [
        "###Bonus I: Enhance the NachOS to support even larger file size"
      ],
      "metadata": {
        "id": "rruDz9dRqcx8"
      }
    },
    {
      "cell_type": "markdown",
      "source": [
        "在 Part 2 中所採用的 allocation 方式為 linked index scheme,所以理論上，只要單一檔案大小不超過約 4 GB (由於 sector 為 int 最多也就能有 2 的 31 次方個sector)，header 都可以容納相關資訊。而根據 `disk.h` 中的設定，原本的磁碟大小為 128 x 32 x 32 = 128KB,由此可以得知，主要的限制在於磁碟的總容量。\n",
        "\n",
        "為了解決這個限制，我們只需要將 `NumTracks` 的大小改為 32 x 512 = 16384，這樣磁碟的總大小將會擴展到 64 MB, 如此一來，單一檔案的最大大小也可以達到 64 MB"
      ],
      "metadata": {
        "id": "p756hmXprNk1"
      }
    },
    {
      "cell_type": "markdown",
      "source": [
        "####disk.h"
      ],
      "metadata": {
        "id": "0BZzMITblhLK"
      }
    },
    {
      "cell_type": "code",
      "source": [
        "const int numTracks = 32*512;"
      ],
      "metadata": {
        "id": "1709SrGli3BO"
      },
      "execution_count": null,
      "outputs": []
    },
    {
      "cell_type": "markdown",
      "source": [
        "###Bonus II: Multi-level header size"
      ],
      "metadata": {
        "id": "YUUvT7Q1rQAM"
      }
    },
    {
      "cell_type": "markdown",
      "source": [
        "沒做"
      ],
      "metadata": {
        "id": "whAZepPJrV-k"
      }
    },
    {
      "cell_type": "markdown",
      "source": [
        "###Bonus III: Recursive operations on directories"
      ],
      "metadata": {
        "id": "zjxfamQyYs0L"
      }
    },
    {
      "cell_type": "markdown",
      "source": [
        "沒做"
      ],
      "metadata": {
        "id": "p6dMCIgvY3sK"
      }
    }
  ]
}