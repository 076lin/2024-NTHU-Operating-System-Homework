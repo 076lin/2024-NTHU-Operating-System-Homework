{
  "nbformat": 4,
  "nbformat_minor": 0,
  "metadata": {
    "colab": {
      "provenance": []
    },
    "kernelspec": {
      "name": "python3",
      "display_name": "Python 3"
    },
    "language_info": {
      "name": "python"
    }
  },
  "cells": [
    {
      "cell_type": "markdown",
      "source": [
        "#MP2_report\n"
      ],
      "metadata": {
        "id": "5VTCMJpW7B0t"
      }
    },
    {
      "cell_type": "markdown",
      "source": [
        "##組員與分工\n",
        "\n",
        "組員: 林群佑, 刁一平\n",
        "\n",
        "|      工作項目      |      分工     |\n",
        "|:------------------:|:-------------:|\n",
        "| Trace Code|     林群佑    |\n",
        "|      功能實作與除錯      |     刁一平    |"
      ],
      "metadata": {
        "id": "inwhTasmcVsM"
      }
    },
    {
      "cell_type": "markdown",
      "source": [
        "##Trace code"
      ],
      "metadata": {
        "id": "PGHRtBaT7It8"
      }
    },
    {
      "cell_type": "markdown",
      "source": [
        "####Kernel::Kernel()"
      ],
      "metadata": {
        "id": "5XGOTibHOv4y"
      }
    },
    {
      "cell_type": "code",
      "source": [
        "Kernel::Kernel(int argc, char **argv) {\n",
        "    randomSlice = FALSE;\n",
        "    debugUserProg = FALSE;\n",
        "    execExit = FALSE;\n",
        "    consoleIn = NULL;   // default is stdin\n",
        "    consoleOut = NULL;  // default is stdout\n",
        "#ifndef FILESYS_STUB\n",
        "    formatFlag = FALSE;\n",
        "#endif\n",
        "    reliability = 1;  // network reliability, default is 1.0\n",
        "    hostName = 0;     // machine id, also UNIX socket name\n",
        "                      // 0 is the default machine id\n",
        "    for (int i = 1; i < argc; i++) {\n",
        "        if (strcmp(argv[i], \"-rs\") == 0) { //-rs <randomSeed>：設置隨機種子，用於初始化偽隨機數生成器\n",
        "            ASSERT(i + 1 < argc);\n",
        "            RandomInit(atoi(argv[i + 1]));  // initialize pseudo-random\n",
        "                                            // number generator\n",
        "            randomSlice = TRUE;\n",
        "            i++;\n",
        "        } else if (strcmp(argv[i], \"-s\") == 0) { //-s：啟用用戶程序的調試模式\n",
        "            debugUserProg = TRUE;\n",
        "        } else if (strcmp(argv[i], \"-e\") == 0) { //-e <execfile>：指定執行檔案\n",
        "            execfile[++execfileNum] = argv[++i];\n",
        "            cout << execfile[execfileNum] << \"\\n\";\n",
        "        } else if (strcmp(argv[i], \"-ee\") == 0) { //-ee：設置在所有執行緒完成後結束程式\n",
        "            // Added by @dasbd72\n",
        "            // To end the program after all the threads are done\n",
        "            execExit = TRUE;\n",
        "        } else if (strcmp(argv[i], \"-ci\") == 0) { //-ci <consoleIn>：設置自定義的輸入來源\n",
        "            ASSERT(i + 1 < argc);\n",
        "            consoleIn = argv[i + 1];\n",
        "            i++;\n",
        "        } else if (strcmp(argv[i], \"-co\") == 0) { //-co <consoleOut>：設置自定義的輸出地方\n",
        "            ASSERT(i + 1 < argc);\n",
        "            consoleOut = argv[i + 1];\n",
        "            i++;\n",
        "#ifndef FILESYS_STUB\n",
        "        } else if (strcmp(argv[i], \"-f\") == 0) { //-f (僅在非 FILESYS_STUB 下可用)：設置文件系統格式化標誌\n",
        "            formatFlag = TRUE;\n",
        "#endif\n",
        "        } else if (strcmp(argv[i], \"-n\") == 0) { //-n <reliability>：設置網路可靠性\n",
        "            ASSERT(i + 1 < argc);  // next argument is float\n",
        "            reliability = atof(argv[i + 1]);\n",
        "            i++;\n",
        "        } else if (strcmp(argv[i], \"-m\") == 0) { //-m <hostName>：設置主機名稱\n",
        "            ASSERT(i + 1 < argc);  // next argument is int\n",
        "            hostName = atoi(argv[i + 1]);\n",
        "            i++;\n",
        "        } else if (strcmp(argv[i], \"-u\") == 0) { //-u：顯示使用說明\n",
        "            cout << \"Partial usage: nachos [-rs randomSeed]\\n\";\n",
        "            cout << \"Partial usage: nachos [-s]\\n\";\n",
        "            cout << \"Partial usage: nachos [-ci consoleIn] [-co consoleOut]\\n\";\n",
        "#ifndef FILESYS_STUB\n",
        "            cout << \"Partial usage: nachos [-nf]\\n\";\n",
        "#endif\n",
        "            cout << \"Partial usage: nachos [-n #] [-m #]\\n\";\n",
        "        }\n",
        "    }\n",
        "}"
      ],
      "metadata": {
        "id": "V48Qf1ZAO8TK"
      },
      "execution_count": null,
      "outputs": []
    },
    {
      "cell_type": "markdown",
      "source": [
        "進到 threads/kernel.cc 觀察 Kernel() 函式\n",
        "\n",
        "這是用來解析使用者輸入的指令的函式，預設 randomSlice=FALSE, debugUserProg=FALSE, execExit=FALSE, consoleIn=NULL, consoleOut=NULL, 可以在檔案名稱後加上不同指令來改變其值(各種功能設定)"
      ],
      "metadata": {
        "id": "y4Ltk057O8la"
      }
    },
    {
      "cell_type": "markdown",
      "source": [
        "###下方是按照函式使用的流程寫的(從 Kernel::ExecAll() 開始)"
      ],
      "metadata": {
        "id": "PjKFWSrJNx7h"
      }
    },
    {
      "cell_type": "markdown",
      "source": [
        "###Kernel::ExecAll()"
      ],
      "metadata": {
        "id": "8SkaWONfT3SP"
      }
    },
    {
      "cell_type": "code",
      "source": [
        "void Kernel::ExecAll() {\n",
        "    for (int i = 1; i <= execfileNum; i++) {\n",
        "        int a = Exec(execfile[i]);\n",
        "    }\n",
        "    currentThread->Finish();\n",
        "    // Kernel::Exec();\n",
        "}"
      ],
      "metadata": {
        "id": "Xb6zbrem_E6J"
      },
      "execution_count": null,
      "outputs": []
    },
    {
      "cell_type": "markdown",
      "source": [
        "進到 threads/thread.cc 從 Kernel::ExecAll() 開始\n",
        "\n",
        "這個就是將所有待辦的程式放入執行(呼叫 Exec() 函式)，執行完後呼叫 currentThread->Finish() 來表示完成所有待辦程式"
      ],
      "metadata": {
        "id": "Pzcm171s_YfB"
      }
    },
    {
      "cell_type": "markdown",
      "source": [
        "####Kernel::Exec()"
      ],
      "metadata": {
        "id": "U29CjIu06jNw"
      }
    },
    {
      "cell_type": "code",
      "source": [
        "int Kernel::Exec(char *name) {\n",
        "    t[threadNum] = new Thread(name, threadNum);\n",
        "    t[threadNum]->setIsExec();\n",
        "    t[threadNum]->space = new AddrSpace();\n",
        "    t[threadNum]->Fork((VoidFunctionPtr)&ForkExecute, (void *)t[threadNum]);\n",
        "    threadNum++;\n",
        "\n",
        "    return threadNum - 1;\n",
        "    /*\n",
        "        cout << \"Total threads number is \" << execfileNum << endl;\n",
        "        for (int n=1;n<=execfileNum;n++) {\n",
        "                    t[n] = new Thread(execfile[n]);\n",
        "                    t[n]->space = new AddrSpace();\n",
        "                    t[n]->Fork((VoidFunctionPtr) &ForkExecute, (void *)t[n]);\n",
        "                    cout << \"Thread \" << execfile[n] << \" is executing.\" << endl;\n",
        "            }\n",
        "            cout << \"debug Kernel::Run finished.\\n\";\n",
        "    */\n",
        "    //  Thread *t1 = new Thread(execfile[1]);\n",
        "    //  Thread *t1 = new Thread(\"../test/test1\");\n",
        "    //  Thread *t2 = new Thread(\"../test/test2\");\n",
        "\n",
        "    //    AddrSpace *halt = new AddrSpace();\n",
        "    //  t1->space = new AddrSpace();\n",
        "    //  t2->space = new AddrSpace();\n",
        "\n",
        "    //    halt->Execute(\"../test/halt\");\n",
        "    //  t1->Fork((VoidFunctionPtr) &ForkExecute, (void *)t1);\n",
        "    //  t2->Fork((VoidFunctionPtr) &ForkExecute, (void *)t2);\n",
        "\n",
        "    //\tcurrentThread->Finish();\n",
        "    //    Kernel::Run();\n",
        "    //  cout << \"after ThreadedKernel:Run();\" << endl;  // unreachable\n",
        "}"
      ],
      "metadata": {
        "id": "q1EFnE0YAaTX"
      },
      "execution_count": null,
      "outputs": []
    },
    {
      "cell_type": "markdown",
      "source": [
        "進到 threads/kernel.cc 觀察 Exec() 具體執行什麼\n",
        "\n",
        "首先建立一個 Process Control Block (在這裡我們可以看到 NachOS 中使用 Thread 這個物件作為 Process Control Block )然後呼叫 setIsExec() ，接著分配空間(呼叫 new AddrSpace() 建立一個 AddrSpace 物件用來管理記憶體)，再呼叫 Fork() ，最後將 threadNum 用來記錄有多少個  Process Control Block 的變數加一"
      ],
      "metadata": {
        "id": "R290RZOGD4Ok"
      }
    },
    {
      "cell_type": "markdown",
      "source": [
        "####Thread::setIsExec()"
      ],
      "metadata": {
        "id": "Nj_tzVC07brG"
      }
    },
    {
      "cell_type": "code",
      "source": [
        "void setIsExec() { this->isExec = true; }"
      ],
      "metadata": {
        "id": "j2gztsPc7asm"
      },
      "execution_count": null,
      "outputs": []
    },
    {
      "cell_type": "markdown",
      "source": [
        "就只是將當前  Process Control Block ( this ) 的 isExec 變數設為 true 代表正在處理"
      ],
      "metadata": {
        "id": "FwQJe4OO7fA-"
      }
    },
    {
      "cell_type": "markdown",
      "source": [
        "####AddrSpace::AddrSpace()"
      ],
      "metadata": {
        "id": "ZotQdVw46qbg"
      }
    },
    {
      "cell_type": "code",
      "source": [
        "AddrSpace::AddrSpace() {\n",
        "    pageTable = new TranslationEntry[NumPhysPages];\n",
        "    for (int i = 0; i < NumPhysPages; i++) {\n",
        "        pageTable[i].virtualPage = i;  // for now, virt page # = phys page #\n",
        "        pageTable[i].physicalPage = i;\n",
        "        pageTable[i].valid = TRUE;\n",
        "        pageTable[i].use = FALSE;\n",
        "        pageTable[i].dirty = FALSE;\n",
        "        pageTable[i].readOnly = FALSE;\n",
        "    }\n",
        "\n",
        "    // zero out the entire address space\n",
        "    bzero(kernel->machine->mainMemory, MemorySize);\n",
        "}"
      ],
      "metadata": {
        "id": "-FjMWbVZMTiO"
      },
      "execution_count": null,
      "outputs": []
    },
    {
      "cell_type": "markdown",
      "source": [
        "接著進到 userprog/addrspace.cc 觀察 AddrSpace()\n",
        "\n",
        "這個函式會將 pageTable 這個變數設為對應映射到的實體位置(目前上面程式碼為未實作完成的狀態)，接著初始化 pageTable 內的各種變數，最後將整個空間設為 0 清理掉所有可能是其他程式遺留下的資料"
      ],
      "metadata": {
        "id": "hFF2j9RPMT1F"
      }
    },
    {
      "cell_type": "markdown",
      "source": [
        "####Thread::Fork()"
      ],
      "metadata": {
        "id": "z_2BFghF6sIo"
      }
    },
    {
      "cell_type": "code",
      "source": [
        "void Thread::Fork(VoidFunctionPtr func, void *arg) {\n",
        "    Interrupt *interrupt = kernel->interrupt;\n",
        "    Scheduler *scheduler = kernel->scheduler;\n",
        "    IntStatus oldLevel;\n",
        "\n",
        "    DEBUG(dbgThread, \"Forking thread: \" << name << \" f(a): \" << (int)func << \" \" << arg);\n",
        "    StackAllocate(func, arg);\n",
        "\n",
        "    oldLevel = interrupt->SetLevel(IntOff);\n",
        "    scheduler->ReadyToRun(this);  // ReadyToRun assumes that interrupts\n",
        "                                  // are disabled!\n",
        "    (void)interrupt->SetLevel(oldLevel);\n",
        "}\n"
      ],
      "metadata": {
        "id": "_XKrQtFERNvy"
      },
      "execution_count": null,
      "outputs": []
    },
    {
      "cell_type": "markdown",
      "source": [
        "進到 threads/thread.cc 觀察 Fork() 函式\n",
        "\n",
        "這個函式會呼叫 StackAllocate() 分配 stack 的空間，然後關閉 interrupt 的功能，接著讓 scheduler 知道這個 Process control Block 的程式是準備好執行的(呼叫 scheduler->ReadyToRun(this) )，就是已經將要執行的程式與變數放入 stack 中，最後再回到原本的 interrupt level"
      ],
      "metadata": {
        "id": "ipWLetVXRVzP"
      }
    },
    {
      "cell_type": "markdown",
      "source": [
        "####Thread::StackAllocate()"
      ],
      "metadata": {
        "id": "-1DvfMuQ6xU_"
      }
    },
    {
      "cell_type": "code",
      "source": [
        "void Thread::StackAllocate(VoidFunctionPtr func, void *arg) {\n",
        "    stack = (int *)AllocBoundedArray(StackSize * sizeof(int));\n",
        "\n",
        "#ifdef PARISC\n",
        "    // HP stack works from low addresses to high addresses\n",
        "    // everyone else works the other way: from high addresses to low addresses\n",
        "    stackTop = stack + 16;  // HP requires 64-byte frame marker\n",
        "    stack[StackSize - 1] = STACK_FENCEPOST;\n",
        "#endif\n",
        "\n",
        "#ifdef SPARC\n",
        "    stackTop = stack + StackSize - 96;  // SPARC stack must contains at\n",
        "                                        // least 1 activation record\n",
        "                                        // to start with.\n",
        "    *stack = STACK_FENCEPOST;\n",
        "#endif\n",
        "\n",
        "#ifdef PowerPC                          // RS6000\n",
        "    stackTop = stack + StackSize - 16;  // RS6000 requires 64-byte frame marker\n",
        "    *stack = STACK_FENCEPOST;\n",
        "#endif\n",
        "\n",
        "#ifdef DECMIPS\n",
        "    stackTop = stack + StackSize - 4;  // -4 to be on the safe side!\n",
        "    *stack = STACK_FENCEPOST;\n",
        "#endif\n",
        "\n",
        "#ifdef ALPHA\n",
        "    stackTop = stack + StackSize - 8;  // -8 to be on the safe side!\n",
        "    *stack = STACK_FENCEPOST;\n",
        "#endif\n",
        "\n",
        "#ifdef x86\n",
        "    // the x86 passes the return address on the stack.  In order for SWITCH()\n",
        "    // to go to ThreadRoot when we switch to this thread, the return addres\n",
        "    // used in SWITCH() must be the starting address of ThreadRoot.\n",
        "    stackTop = stack + StackSize - 4;  // -4 to be on the safe side!\n",
        "    *(--stackTop) = (int)ThreadRoot;\n",
        "    *stack = STACK_FENCEPOST;\n",
        "#endif\n",
        "\n",
        "#ifdef PARISC\n",
        "    machineState[PCState] = PLabelToAddr(ThreadRoot);\n",
        "    machineState[StartupPCState] = PLabelToAddr(ThreadBegin);\n",
        "    machineState[InitialPCState] = PLabelToAddr(func);\n",
        "    machineState[InitialArgState] = arg;\n",
        "    machineState[WhenDonePCState] = PLabelToAddr(ThreadFinish);\n",
        "#else\n",
        "    machineState[PCState] = (void *)ThreadRoot;\n",
        "    machineState[StartupPCState] = (void *)ThreadBegin;\n",
        "    machineState[InitialPCState] = (void *)func;\n",
        "    machineState[InitialArgState] = (void *)arg;\n",
        "    machineState[WhenDonePCState] = (void *)ThreadFinish;\n",
        "#endif\n",
        "}"
      ],
      "metadata": {
        "id": "09n0LenDaTrx"
      },
      "execution_count": null,
      "outputs": []
    },
    {
      "cell_type": "markdown",
      "source": [
        "進到 threads/thread.cc 觀察 StackAllocate() 函式\n",
        "\n",
        "這個函式就是呼叫 AllocBoundedArray() 分配空間給 stack 和初始化 stack ，而 stack top 需針對不同作業系統有不同處理"
      ],
      "metadata": {
        "id": "p2ccQv5zaT8h"
      }
    },
    {
      "cell_type": "markdown",
      "source": [
        "####Kernel::ForkExecute"
      ],
      "metadata": {
        "id": "0WS-Aq9_Dnfm"
      }
    },
    {
      "cell_type": "code",
      "source": [
        "void ForkExecute(Thread *t) {\n",
        "    if (!t->space->Load(t->getName())) {\n",
        "        return;  // executable not found\n",
        "    }\n",
        "\n",
        "    t->space->Execute(t->getName());\n",
        "}"
      ],
      "metadata": {
        "id": "9xL5MhWqDnWf"
      },
      "execution_count": null,
      "outputs": []
    },
    {
      "cell_type": "markdown",
      "source": [
        "進到 threads/kernel.cc 觀察 ForkExecute() 函式\n",
        "\n",
        "這個函式是在 Kernel::Exec() 中被 Thread::Fork() 放入 stack 中具體要執行的函式，這個功能就是載入指定的程式(呼叫 t->space->Load() )，如果成功那就執行(呼叫 t->space->Execute() )"
      ],
      "metadata": {
        "id": "eTRo_g_0EFDF"
      }
    },
    {
      "cell_type": "markdown",
      "source": [
        "####AddrSpace::Load()"
      ],
      "metadata": {
        "id": "QqVBB_dKY9-v"
      }
    },
    {
      "cell_type": "code",
      "source": [
        "bool AddrSpace::Load(char *fileName) {\n",
        "    OpenFile *executable = kernel->fileSystem->Open(fileName);\n",
        "    NoffHeader noffH;\n",
        "    unsigned int size;\n",
        "\n",
        "    if (executable == NULL) {\n",
        "        cerr << \"Unable to open file \" << fileName << \"\\n\";\n",
        "        return FALSE;\n",
        "    }\n",
        "\n",
        "    executable->ReadAt((char *)&noffH, sizeof(noffH), 0);\n",
        "    if ((noffH.noffMagic != NOFFMAGIC) &&\n",
        "        (WordToHost(noffH.noffMagic) == NOFFMAGIC))\n",
        "        SwapHeader(&noffH);\n",
        "    ASSERT(noffH.noffMagic == NOFFMAGIC);\n",
        "\n",
        "#ifdef RDATA\n",
        "    // how big is address space?\n",
        "    size = noffH.code.size + noffH.readonlyData.size + noffH.initData.size +\n",
        "           noffH.uninitData.size + UserStackSize;\n",
        "    // we need to increase the size\n",
        "    // to leave room for the stack\n",
        "#else\n",
        "    // how big is address space?\n",
        "    size = noffH.code.size + noffH.initData.size + noffH.uninitData.size + UserStackSize;  // we need to increase the size\n",
        "                                                                                           // to leave room for the stack\n",
        "#endif\n",
        "    numPages = divRoundUp(size, PageSize);\n",
        "    size = numPages * PageSize;\n",
        "\n",
        "    ASSERT(numPages <= NumPhysPages);  // check we're not trying\n",
        "                                       // to run anything too big --\n",
        "                                       // at least until we have\n",
        "                                       // virtual memory\n",
        "\n",
        "    DEBUG(dbgAddr, \"Initializing address space: \" << numPages << \", \" << size);\n",
        "\n",
        "    // then, copy in the code and data segments into memory\n",
        "    // Note: this code assumes that virtual address = physical address\n",
        "    if (noffH.code.size > 0) {\n",
        "        DEBUG(dbgAddr, \"Initializing code segment.\");\n",
        "        DEBUG(dbgAddr, noffH.code.virtualAddr << \", \" << noffH.code.size);\n",
        "        executable->ReadAt(\n",
        "            &(kernel->machine->mainMemory[noffH.code.virtualAddr]),\n",
        "            noffH.code.size, noffH.code.inFileAddr);\n",
        "    }\n",
        "    if (noffH.initData.size > 0) {\n",
        "        DEBUG(dbgAddr, \"Initializing data segment.\");\n",
        "        DEBUG(dbgAddr, noffH.initData.virtualAddr << \", \" << noffH.initData.size);\n",
        "        executable->ReadAt(\n",
        "            &(kernel->machine->mainMemory[noffH.initData.virtualAddr]),\n",
        "            noffH.initData.size, noffH.initData.inFileAddr);\n",
        "    }\n",
        "\n",
        "#ifdef RDATA\n",
        "    if (noffH.readonlyData.size > 0) {\n",
        "        DEBUG(dbgAddr, \"Initializing read only data segment.\");\n",
        "        DEBUG(dbgAddr, noffH.readonlyData.virtualAddr << \", \" << noffH.readonlyData.size);\n",
        "        executable->ReadAt(\n",
        "            &(kernel->machine->mainMemory[noffH.readonlyData.virtualAddr]),\n",
        "            noffH.readonlyData.size, noffH.readonlyData.inFileAddr);\n",
        "    }\n",
        "#endif\n",
        "\n",
        "    delete executable;  // close file\n",
        "    return TRUE;        // success\n",
        "}"
      ],
      "metadata": {
        "id": "y7FTmn8AY-aH"
      },
      "execution_count": null,
      "outputs": []
    },
    {
      "cell_type": "markdown",
      "source": [
        "進到 userprog/addrspace.cc 觀察 Load() 函式\n",
        "\n",
        "首先會打開程式指定的檔案，如果失敗則回傳 FALSE ，然後檢查 NOFF 格式是否合格，接著計算程式所需記憶體空間，並檢查是否有足夠空間執行程式，若有則將程式及資料片段複製進記憶體對應空間，最後關閉檔案並返回 TRUE 代表成功載入資料，而本次作業的實作就在這裡完成虛擬記憶體位置與物理記憶體位置的映射表(目前上方程式碼為未實作的狀態)"
      ],
      "metadata": {
        "id": "1Ke_EtNkY-un"
      }
    },
    {
      "cell_type": "markdown",
      "source": [
        "####AddrSpace::Execute()"
      ],
      "metadata": {
        "id": "OidpfHnAQj1A"
      }
    },
    {
      "cell_type": "code",
      "source": [
        "void AddrSpace::Execute(char *fileName) {\n",
        "    kernel->currentThread->space = this;\n",
        "\n",
        "    this->InitRegisters();  // set the initial register values\n",
        "    this->RestoreState();   // load page table register\n",
        "\n",
        "    kernel->machine->Run();  // jump to the user progam\n",
        "\n",
        "    ASSERTNOTREACHED();  // machine->Run never returns;\n",
        "                         // the address space exits\n",
        "                         // by doing the syscall \"exit\"\n",
        "}"
      ],
      "metadata": {
        "id": "TT4pspcxQXq5"
      },
      "execution_count": null,
      "outputs": []
    },
    {
      "cell_type": "markdown",
      "source": [
        "進到 userprog/addrspace.cc 觀察 Execute() 函式\n",
        "\n",
        "首先，指定當前執行緒要載入的資料在哪(記錄在 Process Control Block ( this )中)，然後初始化暫存器，接著載入 page table 然後執行，如果沒能執行程式則報錯"
      ],
      "metadata": {
        "id": "PRLf59jfQz-A"
      }
    },
    {
      "cell_type": "markdown",
      "source": [
        "####Machine::Run()"
      ],
      "metadata": {
        "id": "_Vh-YYC9Q964"
      }
    },
    {
      "cell_type": "code",
      "source": [
        "void Machine::Run() {\n",
        "    Instruction *instr = new Instruction;  // storage for decoded instruction\n",
        "    if (debug->IsEnabled('m')) {\n",
        "        cout << \"Starting program in thread: \" << kernel->currentThread->getName();\n",
        "        cout << \", at time: \" << kernel->stats->totalTicks << \"\\n\";\n",
        "    }\n",
        "    kernel->interrupt->setStatus(UserMode);\n",
        "    for (;;) {\n",
        "        DEBUG(dbgTraCode, \"In Machine::Run(), into OneInstruction \"\n",
        "                              << \"== Tick \" << kernel->stats->totalTicks << \" ==\");\n",
        "        OneInstruction(instr);\n",
        "        DEBUG(dbgTraCode, \"In Machine::Run(), return from OneInstruction  \"\n",
        "                              << \"== Tick \" << kernel->stats->totalTicks << \" ==\");\n",
        "\n",
        "        DEBUG(dbgTraCode, \"In Machine::Run(), into OneTick \"\n",
        "                              << \"== Tick \" << kernel->stats->totalTicks << \" ==\");\n",
        "        kernel->interrupt->OneTick();\n",
        "        DEBUG(dbgTraCode, \"In Machine::Run(), return from OneTick \"\n",
        "                              << \"== Tick \" << kernel->stats->totalTicks << \" ==\");\n",
        "        if (singleStep && (runUntilTime <= kernel->stats->totalTicks))\n",
        "            Debugger();\n",
        "    }\n",
        "}"
      ],
      "metadata": {
        "id": "VWdzymbwQ_Iw"
      },
      "execution_count": null,
      "outputs": []
    },
    {
      "cell_type": "markdown",
      "source": [
        "進到 machine/mipssim.cc 觀察 Run() 函式\n",
        "\n",
        "這部分檢查有哪些指令輸入，模擬程式執行的解碼過程 instr 就是 User Program 的某一行程式碼 OneTick() 就是模擬 CPU Clock 往前跑的情形，通常一條指令假設會讓系統前進一個 Clock cycle"
      ],
      "metadata": {
        "id": "Oh412v7cREUf"
      }
    },
    {
      "cell_type": "markdown",
      "source": [
        "####Scheduler::ReadyToRun()"
      ],
      "metadata": {
        "id": "38A3m75P_2Cy"
      }
    },
    {
      "cell_type": "code",
      "source": [
        "void Scheduler::ReadyToRun(Thread *thread) {\n",
        "    ASSERT(kernel->interrupt->getLevel() == IntOff);//檢查 interrupt 功能是否已經關閉中斷，若無則報錯\n",
        "    DEBUG(dbgThread, \"Putting thread on ready list: \" << thread->getName());\n",
        "    // cout << \"Putting thread on ready list: \" << thread->getName() << endl ;\n",
        "    thread->setStatus(READY);\n",
        "    readyList->Append(thread);\n",
        "}"
      ],
      "metadata": {
        "id": "PWE_oAqM_pma"
      },
      "execution_count": null,
      "outputs": []
    },
    {
      "cell_type": "markdown",
      "source": [
        "進到 threads/scheduler.cc 觀察 ReadyToRun() 函式\n",
        "\n",
        "這個函式就是將 Process Control Block ( thread )的 setStatus 變數設為 READY ，然後將這個 Process Control Block ( thread )放入 readyList"
      ],
      "metadata": {
        "id": "nrpR94Yt_56J"
      }
    },
    {
      "cell_type": "markdown",
      "source": [
        "####Thread::Finish()"
      ],
      "metadata": {
        "id": "jfDHR9wz60r_"
      }
    },
    {
      "cell_type": "code",
      "source": [
        "void Thread::Finish() {\n",
        "    (void)kernel->interrupt->SetLevel(IntOff);\n",
        "    ASSERT(this == kernel->currentThread);\n",
        "\n",
        "    DEBUG(dbgThread, \"Finishing thread: \" << name);\n",
        "    if (kernel->execExit && this->getIsExec()) {\n",
        "        kernel->execRunningNum--;\n",
        "        if (kernel->execRunningNum == 0) {\n",
        "            kernel->interrupt->Halt();\n",
        "        }\n",
        "    }\n",
        "    Sleep(TRUE);  // invokes SWITCH\n",
        "    // not reached\n",
        "}"
      ],
      "metadata": {
        "id": "MLyXRx5gqYGz"
      },
      "execution_count": null,
      "outputs": []
    },
    {
      "cell_type": "markdown",
      "source": [
        "進到 threads/thread.cc 觀察 Finish() 函式\n",
        "\n",
        "首先先關閉 interrupt 功能，然後檢查是否所有執行緒已經停止以及當前程式是否完成，當所有執行緒已經停止且當前執行緒工作完成則將紀錄有多少程式在運行的變數減一，當變數為0時，代表已經沒有任何 process 在執行，此時便呼叫 kernel->interrupt->Halt() 結束 NachOS 運作，而若還有 process 在運作則呼叫 Sleep(TRUE) ，代表當前執行緒進入休息狀態"
      ],
      "metadata": {
        "id": "iwoNwYgUwFvk"
      }
    },
    {
      "cell_type": "markdown",
      "source": [
        "###thread::Sleep()"
      ],
      "metadata": {
        "id": "d0QlnP3INgG5"
      }
    },
    {
      "cell_type": "code",
      "source": [
        "void Thread::Sleep(bool finishing) {\n",
        "    Thread *nextThread;\n",
        "\n",
        "    ASSERT(this == kernel->currentThread);//檢查現在的 thread 是否為 currentThread ，不是則報錯\n",
        "    ASSERT(kernel->interrupt->getLevel() == IntOff);//檢查 interrupt 功能是否已經關閉中斷，若無則報錯\n",
        "\n",
        "    DEBUG(dbgThread, \"Sleeping thread: \" << name);\n",
        "    DEBUG(dbgTraCode, \"In Thread::Sleep, Sleeping thread: \" << name << \", \" << kernel->stats->totalTicks);\n",
        "\n",
        "    status = BLOCKED;\n",
        "    // cout << \"debug Thread::Sleep \" << name << \"wait for Idle\\n\";\n",
        "    while ((nextThread = kernel->scheduler->FindNextToRun()) == NULL) {\n",
        "        kernel->interrupt->Idle();  // no one to run, wait for an interrupt\n",
        "    }\n",
        "    // returns when it's time for us to run\n",
        "    kernel->scheduler->Run(nextThread, finishing);\n",
        "}"
      ],
      "metadata": {
        "id": "7kA6_6AayzE5"
      },
      "execution_count": null,
      "outputs": []
    },
    {
      "cell_type": "markdown",
      "source": [
        "進到 threads/thread.cc 觀察 Sleep() 函式\n",
        "\n",
        "首先先將當前 Process Control Block ( thread )狀態設為 BLOCKED 然後檢查是否還有其他任務，若無則進入空閒狀態，等待 interrupt，直到下個 Process Control Block 出現，當下個 Process Control Block 出現時呼叫 kernel->scheduler->Run() 執行下個 Program"
      ],
      "metadata": {
        "id": "oo7GM78G0FEv"
      }
    },
    {
      "cell_type": "markdown",
      "source": [
        "####Scheduler::Run()"
      ],
      "metadata": {
        "id": "rAreAI068mBd"
      }
    },
    {
      "cell_type": "code",
      "source": [
        "void Scheduler::Run(Thread *nextThread, bool finishing) {\n",
        "    Thread *oldThread = kernel->currentThread;\n",
        "\n",
        "    ASSERT(kernel->interrupt->getLevel() == IntOff);//檢查 interrupt 功能是否已經關閉中斷，若無則報錯\n",
        "\n",
        "    if (finishing) {  // mark that we need to delete current thread\n",
        "        ASSERT(toBeDestroyed == NULL);\n",
        "        toBeDestroyed = oldThread;\n",
        "    }\n",
        "\n",
        "    if (oldThread->space != NULL) {  // if this thread is a user program,\n",
        "        oldThread->SaveUserState();  // save the user's CPU registers\n",
        "        oldThread->space->SaveState();\n",
        "    }\n",
        "\n",
        "    oldThread->CheckOverflow();  // check if the old thread\n",
        "                                 // had an undetected stack overflow\n",
        "\n",
        "    kernel->currentThread = nextThread;  // switch to the next thread\n",
        "    nextThread->setStatus(RUNNING);      // nextThread is now running\n",
        "\n",
        "    DEBUG(dbgThread, \"Switching from: \" << oldThread->getName() << \" to: \" << nextThread->getName());\n",
        "\n",
        "    // This is a machine-dependent assembly language routine defined\n",
        "    // in switch.s.  You may have to think\n",
        "    // a bit to figure out what happens after this, both from the point\n",
        "    // of view of the thread and from the perspective of the \"outside world\".\n",
        "\n",
        "    SWITCH(oldThread, nextThread);\n",
        "\n",
        "    // we're back, running oldThread\n",
        "\n",
        "    // interrupts are off when we return from switch!\n",
        "    ASSERT(kernel->interrupt->getLevel() == IntOff);\n",
        "\n",
        "    DEBUG(dbgThread, \"Now in thread: \" << oldThread->getName());\n",
        "\n",
        "    CheckToBeDestroyed();  // check if thread we were running\n",
        "                           // before this one has finished\n",
        "                           // and needs to be cleaned up\n",
        "\n",
        "    if (oldThread->space != NULL) {     // if there is an address space\n",
        "        oldThread->RestoreUserState();  // to restore, do it.\n",
        "        oldThread->space->RestoreState();\n",
        "    }\n",
        "}"
      ],
      "metadata": {
        "id": "nfWUvnt6z96D"
      },
      "execution_count": null,
      "outputs": []
    },
    {
      "cell_type": "markdown",
      "source": [
        "進到 threads/scheduler.cc 觀察 Run() 函式\n",
        "\n",
        "首先查看當前 process 的 Process Control Block 中的 finish 變數檢查是否已完成，若已完成，則將其放入 toBeDestroyed 這樣之後便會刪除，接著，如果程式是 user program，則須將其資料儲存起來，接著檢查舊 process ( oldThread )是否有 stack overflow ，然後將當前執行緒切換到下一個 Process Control Block 的 process ，並將狀態設為 RUNNING ，再呼叫 SWITCH(oldThread, nextThread) 函式完成當前執行緒工作切換，完成交換後，呼叫 CheckToBeDestroyed() 來檢查是否有執行完成需要被回收掉的程式，最後檢查舊 Process Control Block ( oldThread )是否還有資料(還未完成)，如果有，將資料存回舊 Process Control Block ( oldthread )讓執行緒回來執行 oldthread process 時能從 Process Control Block 中找到資料位置"
      ],
      "metadata": {
        "id": "1KVmO3ob0siK"
      }
    },
    {
      "cell_type": "markdown",
      "source": [
        "##Implement page table in NachOS\n",
        "\n"
      ],
      "metadata": {
        "id": "fNqvDzlzc4nO"
      }
    },
    {
      "cell_type": "markdown",
      "source": [
        "To impelemet page tabe based on hint, we need the information of the number of remaining physical pages and the whether the page is use or not."
      ],
      "metadata": {
        "id": "pp0xvpCGc8kL"
      }
    },
    {
      "cell_type": "markdown",
      "source": [
        "\n",
        "In the addrspace class, two member variables were added: remain, which records the current number of available physical pages, and the bool array used, which tracks whether each physical page is in use, where TRUE indicates it is in use and FALSE indicates it is not."
      ],
      "metadata": {
        "id": "5jbIf54znqR8"
      }
    },
    {
      "cell_type": "markdown",
      "source": [
        "addrspace.h"
      ],
      "metadata": {
        "id": "JA-v8fNzihkY"
      }
    },
    {
      "cell_type": "code",
      "source": [
        "static int remain;\n",
        "static bool used[];"
      ],
      "metadata": {
        "id": "LigMtQ96hhxH"
      },
      "execution_count": null,
      "outputs": []
    },
    {
      "cell_type": "markdown",
      "source": [
        "Initialize the variables in addrspace.cc"
      ],
      "metadata": {
        "id": "kj3xhVx-ihGn"
      }
    },
    {
      "cell_type": "code",
      "source": [
        "bool AddrSpace::used[NumPhysPages] = {false};\n",
        "int AddrSpace::reamin = NumPhysPages;"
      ],
      "metadata": {
        "id": "jvvMPkt2hnCA"
      },
      "execution_count": null,
      "outputs": []
    },
    {
      "cell_type": "markdown",
      "source": [
        "For handelling exception, add **MemoryLimitException** before NumExceptionTypes in machine.h"
      ],
      "metadata": {
        "id": "4lVgh7wffkEB"
      }
    },
    {
      "cell_type": "code",
      "source": [
        "enum ExceptionType { NoException,            // Everything ok!\n",
        "                     SyscallException,       // A program executed a system call.\n",
        "                     PageFaultException,     // No valid translation found\n",
        "                     ReadOnlyException,      // Write attempted to page marked\n",
        "                                             // \"read-only\"\n",
        "                     BusErrorException,      // Translation resulted in an\n",
        "                                             // invalid physical address\n",
        "                     AddressErrorException,  // Unaligned reference or one that\n",
        "                                             // was beyond the end of the\n",
        "                                             // address space\n",
        "                     OverflowException,      // Integer overflow in add or sub.\n",
        "                     IllegalInstrException,  // Unimplemented or reserved instr.\n",
        "\n",
        "                     MemoryLimitException, # 8\n",
        "\n",
        "                     NumExceptionTypes\n",
        "};"
      ],
      "metadata": {
        "id": "h4gVFdn5fieh"
      },
      "execution_count": null,
      "outputs": []
    },
    {
      "cell_type": "markdown",
      "source": [
        "Since we want to apply function call kernel->machine->**RaiseException**(), so we add **friend class AddrSpace** in the machine class in machine.h"
      ],
      "metadata": {
        "id": "oCNRDcbaf-jC"
      }
    },
    {
      "cell_type": "code",
      "source": [
        "friend class AddrSpace;"
      ],
      "metadata": {
        "id": "5gQbX939gAQY"
      },
      "execution_count": null,
      "outputs": []
    },
    {
      "cell_type": "markdown",
      "source": [
        "###AddrSpace::AddrSpace()\n",
        " In the constructor, since not load into the memory yet,so there is no corresponding physical page, thus I set every **physicalPage** into value -1 at first"
      ],
      "metadata": {
        "id": "Hr4WbON6ONLw"
      }
    },
    {
      "cell_type": "code",
      "source": [
        "AddrSpace::AddrSpace() {\n",
        "    pageTable = new TranslationEntry[NumPhysPages];\n",
        "    for (int i = 0; i < NumPhysPages; i++) {\n",
        "        pageTable[i].virtualPage = i;  // for now, virt page # = phys page #\n",
        "        pageTable[i].physicalPage = -1; # not loaded first\n",
        "        pageTable[i].valid = TRUE;\n",
        "        pageTable[i].use = FALSE;\n",
        "        pageTable[i].dirty = FALSE;\n",
        "        pageTable[i].readOnly = FALSE;\n",
        "    }\n",
        "    # zero out the entire memory space\n",
        "    bzero(kernel->machine->mainMemory, MemorySize);\n",
        "    }"
      ],
      "metadata": {
        "id": "LusVtPriOJTB"
      },
      "execution_count": null,
      "outputs": []
    },
    {
      "cell_type": "markdown",
      "source": [
        "###AddrSpace::~AddrSpace()"
      ],
      "metadata": {
        "id": "MIcHD7pIhX_g"
      }
    },
    {
      "cell_type": "markdown",
      "source": [
        "By checking for each physcial page if it is used, if so, then set it to **FALSE**, and add the remain page numbers for each release physical page"
      ],
      "metadata": {
        "id": "phry7B7LiDlX"
      }
    },
    {
      "cell_type": "code",
      "source": [
        "AddrSpace::~AddrSpace() {\n",
        "    # Free the physical pages and release the page table\n",
        "    for(unsigned int i = 0; i < NumPhysPages; i++){\n",
        "        int physPage = pageTable[i].physicalPage;\n",
        "        if(physPage == -1) continue;\n",
        "        AddrSpace::used[physPage] = FALSE;\n",
        "        AddrSpace::remain++;\n",
        "    }\n",
        "    delete pageTable;\n",
        "}"
      ],
      "metadata": {
        "id": "h1EHjohFar_S"
      },
      "execution_count": null,
      "outputs": []
    },
    {
      "cell_type": "markdown",
      "source": [
        "###AddrSpace::Load"
      ],
      "metadata": {
        "id": "LgmZ3ihKh_cg"
      }
    },
    {
      "cell_type": "markdown",
      "source": [
        "First, it checks if the required numPages exceeds the available physical pages (**remain**). If it does, RaiseException() will be called with MemoryLimitException, indicating insufficient memory, and it will return FALSE to signify that the load has failed.\n",
        "\n",
        " If the required pages do not exceed the available pages, it will then begin searching for available physical pages one by one, needing to find a total of numPages. For each page found, used is set to TRUE to indicate it is in use, and remain is decreased accordingly"
      ],
      "metadata": {
        "id": "vQvhKoLbln1F"
      }
    },
    {
      "cell_type": "code",
      "source": [
        "    if(numPages > AddrSpace::remain){\n",
        "        kernel->machine->RaiseException(MemoryLimitException, 0);\n",
        "        return FALSE;\n",
        "    }\n",
        "\n",
        "    int j = 0;\n",
        "    for(unsigned int i = 0; i < numPages; i++){\n",
        "        for(j = 0;j < NumPhysPages;j++){\n",
        "            if(AddrSpace::used[j] == FALSE) break;\n",
        "        }\n",
        "        pageTable[i].physicalPage = j;\n",
        "        AddrSpace::used[j] = TRUE;\n",
        "        AddrSpace::remain--;\n",
        "    }"
      ],
      "metadata": {
        "id": "qrTe_3Gjatwp"
      },
      "execution_count": null,
      "outputs": []
    },
    {
      "cell_type": "markdown",
      "source": [
        "AddrSpace::Translate"
      ],
      "metadata": {
        "id": "j6AGZbsfJ0at"
      }
    },
    {
      "cell_type": "code",
      "source": [
        "ExceptionType\n",
        "AddrSpace::Translate(unsigned int vaddr, unsigned int *paddr, int isReadWrite) {\n",
        "    TranslationEntry *pte;\n",
        "    int pfn;\n",
        "    unsigned int vpn = vaddr / PageSize;\n",
        "    unsigned int offset = vaddr % PageSize;\n",
        "    pte = &pageTable[vpn];\n",
        "    pfn = pte->physicalPage;\n",
        "    *paddr = pfn * PageSize + offset;\n",
        "    return NoException;\n",
        "}\n"
      ],
      "metadata": {
        "id": "4zTr4kFFDlBo"
      },
      "execution_count": null,
      "outputs": []
    },
    {
      "cell_type": "markdown",
      "source": [
        "Based on the translate function in addrspace, we can get:\n",
        "\n",
        "physical address = pageTable[virtual/PageSize].physicalPage * PageSize + virtual % PageSize\n",
        "\n",
        "The calculation determines which page in the program's own page table the virtual address falls under and since pageTable[i].virtualPage = i, the corresponding page entry in the page table can be directly accessed through the virtual address.\n",
        "\n",
        " Then, it retrieves the physical page ID of this page, multiplies it by the page size, and adds the offset to obtain the physical address.\n",
        "\n",
        "This approach allows different programs to use non-overlapping segments of pages."
      ],
      "metadata": {
        "id": "ZC0mkECim-Tc"
      }
    },
    {
      "cell_type": "code",
      "source": [
        "        executable->ReadAt(\n",
        "        &(kernel->machine->mainMemory[pageTable[noffH.initData.virtualAddr/PageSize].physicalPage * PageSize + (noffH.code.virtualAddr%PageSize)]),\n",
        "            noffH.initData.size, noffH.initData.inFileAddr);"
      ],
      "metadata": {
        "id": "DSr91bJNjS6e"
      },
      "execution_count": null,
      "outputs": []
    },
    {
      "cell_type": "markdown",
      "source": [
        "###Testing Result"
      ],
      "metadata": {
        "id": "dW86KY1FlGjt"
      }
    },
    {
      "cell_type": "markdown",
      "source": [
        "建議指令最後加上 -ee 這樣結束後會 halt 才不會卡住，不加就會發生下面第一張圖的狀況，但也不用擔心，關掉重連就好"
      ],
      "metadata": {
        "id": "8oLWw3a-mZHm"
      }
    },
    {
      "cell_type": "markdown",
      "source": [
        "![2024-11-09_050012.png](data:image/png;base64,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)"
      ],
      "metadata": {
        "id": "tKbJjEaZkuAl"
      }
    },
    {
      "cell_type": "markdown",
      "source": [
        "![2024-11-10_033236.png](data:image/png;base64,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)"
      ],
      "metadata": {
        "id": "z3V6t-7jarMP"
      }
    },
    {
      "cell_type": "markdown",
      "source": [
        "這個問答是後來( 刁一平 )補的，因為沒有批改評語，所以有沒有完全正確不是很確定，但我個人認為應該問題不大\n",
        "\n",
        "(1) How Nachos allocates the memory space for new thread(process)?\n",
        "\n",
        "\n",
        "thread.cc 裡的 Fork()會使用 StackAllocate()分配並初始化記憶體空間給新\n",
        "的thread。\n",
        "\n",
        "\n",
        "(2) How Nachos initializes the memory content of a thread(process), including\n",
        "loading the user binary code in the memory?\n",
        "\n",
        "\n",
        "Nachos 在建立新的thread的時候，這個thread會new一個AddrSpace\n",
        "來管理他的pageTable，並設定初始值。在之後Load()時，會去打開我們輸\n",
        "入的binary 檔，且先讀取binary檔最前面固定格式的header進NoffHeader\n",
        "資料結構中，就可以知道這個binary檔裡面的code、initData、readonlyData\n",
        "的size、virtualAddr、inFileAddr，最後就可以分別將這些資料從file裡寫進\n",
        "mainMemory 中。\n",
        "\n",
        "\n",
        "(3) How Nachos creates and manages the page table?\n",
        "\n",
        "\n",
        "每個thread 在建立時，都會new一個AddrSpace來管理pageTable，\n",
        "pageTable 是一個TranslationEntry 陣列，儲存了每個 virtualPage 對應到哪一\n",
        "個physicalPage，其中也會儲存一些狀態，如valid、dirty、readonly等，\n",
        "Nachos 可以透過查pageTable，將loagical address 轉換成 physical address。\n",
        "\n",
        "\n",
        "(4) How Nachos translates address?\n",
        "\n",
        "\n",
        "translate.cc 裡的 Machine::Translate()會使用 pageTable 或 TLB 把 virtual\n",
        "address 轉換成physical address。過程中如果有錯誤的話會回傳錯誤類型，\n",
        "確認沒有錯誤後，會將entry的use設為TRUE，並將算出的physical address\n",
        "存進physAddr 裡。\n",
        "\n",
        "\n",
        "(5) How Nachos initializes the machine status (registers, etc) before running a\n",
        "thread(process)?\n",
        "\n",
        "\n",
        "在Execute()裡，最後執行Machine::Run()前，會先將currentThread 的\n",
        "space 指向現在這個Address；並且呼叫InitRegisters()，將program\n",
        "counter 和 stack 的位置寫進machine 的register，其他register 則設為0\n",
        "； 再來呼叫RestoreState()，將 machine 的pageTable 和 pageTableSize 設\n",
        "為現在這個AddrSpace的pageTable和numPages\n",
        "\n",
        "(6) Which object in Nachos acts the role of process control block?\n",
        "\n",
        "\n",
        "Thread，裡面包含了machine state、stack、state、userRegisters 等資\n",
        "料，還有Fork()、Sleep()等功能。\n",
        "\n",
        "\n",
        "(7) When and how does a thread get added into the ReadyToRun queue of Nachos\n",
        "CPU scheduler?\n",
        "\n",
        "\n",
        "Scheduler 會管理 threads 的 ready list，當某個 thread 可以使用 CPU 的\n",
        "時候就會呼叫ReadyToRun()，把thread的status設成READY，並加進list的\n",
        "最後面，像是在Fork()、Yield()都會呼叫到ReadyToRun()。"
      ],
      "metadata": {
        "id": "SWoyfFH_k5C8"
      }
    }
  ]
}