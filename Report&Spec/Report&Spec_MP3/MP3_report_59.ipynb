{
  "nbformat": 4,
  "nbformat_minor": 0,
  "metadata": {
    "colab": {
      "provenance": []
    },
    "kernelspec": {
      "name": "python3",
      "display_name": "Python 3"
    },
    "language_info": {
      "name": "python"
    }
  },
  "cells": [
    {
      "cell_type": "markdown",
      "source": [
        "# **MP3_report_59**"
      ],
      "metadata": {
        "id": "aCORONAdtR2G"
      }
    },
    {
      "cell_type": "markdown",
      "source": [
        "##**組員與分工**\n",
        "\n",
        "組員: 林群佑, 刁一平\n",
        "\n",
        "|      工作項目      |      分工     |\n",
        "|:------------------:|:-------------:|\n",
        "|   Trace Code   |     刁一平    |\n",
        "|      功能實作與除錯      |     林群佑    |"
      ],
      "metadata": {
        "id": "kpTZ4e4ftatD"
      }
    },
    {
      "cell_type": "markdown",
      "source": [
        "## Trace Code"
      ],
      "metadata": {
        "id": "l_lLCUnrtEVV"
      }
    },
    {
      "cell_type": "markdown",
      "source": [
        " ### 1-1. New→Ready"
      ],
      "metadata": {
        "id": "NTLd4hv0hGqy"
      }
    },
    {
      "cell_type": "markdown",
      "source": [
        "#### Kernel::ExecAll()"
      ],
      "metadata": {
        "id": "FfuQ-HRHhN7B"
      }
    },
    {
      "cell_type": "code",
      "source": [
        "void Kernel::ExecAll() {\n",
        "    for (int i = 1; i <= execfileNum; i++) {\n",
        "        int a = Exec(execfile[i]);\n",
        "    }\n",
        "    currentThread->Finish();\n",
        "    // Kernel::Exec();\n",
        "}"
      ],
      "metadata": {
        "id": "ExBQWqI_jTjQ"
      },
      "execution_count": null,
      "outputs": []
    },
    {
      "cell_type": "markdown",
      "source": [
        "將所有待辦的程式放入執行(呼叫 Exec() 函式)，執行完後呼叫 currentThread->Finish() 來表示完成所有待辦程式"
      ],
      "metadata": {
        "id": "o4A_c4Cwhsvi"
      }
    },
    {
      "cell_type": "markdown",
      "source": [
        "#### Kernel::Exec(char*)"
      ],
      "metadata": {
        "id": "EjuorWqHiAep"
      }
    },
    {
      "cell_type": "code",
      "source": [
        "int Kernel::Exec(char *name) {\n",
        "    t[threadNum] = new Thread(name, threadNum); # NEW\n",
        "    t[threadNum]->setIsExec();\n",
        "    t[threadNum]->space = new AddrSpace();\n",
        "    t[threadNum]->Fork((VoidFunctionPtr)&ForkExecute, (void *)t[threadNum]);\n",
        "    threadNum++;\n",
        "\n",
        "    return threadNum - 1;\n",
        "}"
      ],
      "metadata": {
        "id": "Un6E5UpUjPAP"
      },
      "execution_count": null,
      "outputs": []
    },
    {
      "cell_type": "markdown",
      "source": [
        "建⽴new thread，設定thread的 AddrSpace，呼叫 Fork() 將其 fork"
      ],
      "metadata": {
        "id": "iQIrDlqxiObp"
      }
    },
    {
      "cell_type": "markdown",
      "source": [
        "#### Thread::Fork(VoidFunctionPtr, void*)"
      ],
      "metadata": {
        "id": "-aDJPgMCizBJ"
      }
    },
    {
      "cell_type": "code",
      "source": [
        "void Thread::Fork(VoidFunctionPtr func, void *arg) {\n",
        "    //omit\n",
        "\n",
        "    StackAllocate(func, arg);\n",
        "    oldLevel = interrupt->SetLevel(IntOff);\n",
        "    scheduler->ReadyToRun(this);  // ReadyToRun assumes that interrupts are disabled!\n",
        "    (void)interrupt->SetLevel(oldLevel);\n",
        "    //omit\n",
        "}\n"
      ],
      "metadata": {
        "id": "C1dO6hpjkeV4"
      },
      "execution_count": null,
      "outputs": []
    },
    {
      "cell_type": "markdown",
      "source": [
        "在Fork()裡，會先以StackAllocate()分配一塊 stack 給這個thread，接著就以\n",
        "ReadyToRun()將這個 thread 加進 ready queue 裡"
      ],
      "metadata": {
        "id": "OKneh1lzi3WI"
      }
    },
    {
      "cell_type": "markdown",
      "source": [
        "####  Thread::StackAllocate(VoidFunctionPtr, void*)"
      ],
      "metadata": {
        "id": "g5WFGZ71krjr"
      }
    },
    {
      "cell_type": "code",
      "execution_count": null,
      "metadata": {
        "id": "gux0KkHjedI4"
      },
      "outputs": [],
      "source": [
        "void Thread::StackAllocate(VoidFunctionPtr func, void *arg) {\n",
        "    stack = (int *)AllocBoundedArray(StackSize * sizeof(int));\n",
        "// omit\n",
        "// 處理 stack top ,  將 ThreadRoot 存入 Kernel Registers"
      ]
    },
    {
      "cell_type": "markdown",
      "source": [
        "這個函式就是呼叫 AllocBoundedArray() 分配空間給 stack 和初始化 stack ，而 stack top 需針對不同作業系統有不同處理"
      ],
      "metadata": {
        "id": "O95r-60jDp44"
      }
    },
    {
      "cell_type": "markdown",
      "source": [
        "#### Scheduler::ReadyToRun(Thread*)"
      ],
      "metadata": {
        "id": "NTSCaLAqkxK3"
      }
    },
    {
      "cell_type": "code",
      "source": [
        "void Scheduler::ReadyToRun(Thread *thread) {\n",
        "    ASSERT(kernel->interrupt->getLevel() == IntOff);//檢查 interrupt 功能是否已經關閉中斷，若無則報錯\n",
        "    thread->setStatus(READY); # READY\n",
        "    readyList->Append(thread); # insert to ready list\n",
        "}"
      ],
      "metadata": {
        "id": "MhkGEZ6KIrg7"
      },
      "execution_count": null,
      "outputs": []
    },
    {
      "cell_type": "markdown",
      "source": [
        "在ReadyToRun()裡，確保interrupt被關閉, 會將thread 狀態設為ready，並加進ready queue裡。"
      ],
      "metadata": {
        "id": "jkXPkcvvDaso"
      }
    },
    {
      "cell_type": "markdown",
      "source": [
        "###  1-2. Running→Ready\n"
      ],
      "metadata": {
        "id": "0XC3Oqm2-yod"
      }
    },
    {
      "cell_type": "markdown",
      "source": [
        "####  Machine::Run()"
      ],
      "metadata": {
        "id": "cZ4amoepDu-Y"
      }
    },
    {
      "cell_type": "code",
      "source": [
        "void Machine::Run() {\n",
        "    Instruction *instr = new Instruction;  // storage for decoded instruction\n",
        "    kernel->interrupt->setStatus(UserMode);\n",
        "    for (;;) {\n",
        "        OneInstruction(instr);\n",
        "        kernel->interrupt->OneTick();\n",
        "    }\n",
        "}"
      ],
      "metadata": {
        "id": "6PAr__1sHsAV"
      },
      "execution_count": null,
      "outputs": []
    },
    {
      "cell_type": "markdown",
      "source": [
        "這部分檢查有哪些指令輸入，模擬程式執行的解碼過程 instr 就是 User Program 的某一行程式碼 OneTick() 就是模擬 CPU Clock 往前跑的情形"
      ],
      "metadata": {
        "id": "n61DiTf_D1Uo"
      }
    },
    {
      "cell_type": "markdown",
      "source": [
        "####  Interrupt::OneTick()"
      ],
      "metadata": {
        "id": "5Bs3YuLbHEqN"
      }
    },
    {
      "cell_type": "code",
      "source": [
        "Interrupt::OneTick()\n",
        "{\n",
        "    MachineStatus oldStatus = status;\n",
        "    Statistics *stats = kernel->stats;\n",
        "\n",
        "// advance simulated time\n",
        "    if (status == SystemMode) {\n",
        "      stats->totalTicks += SystemTick; # SystemTick = 10\n",
        "      stats->systemTicks += SystemTick;\n",
        "    } else {\n",
        "      stats->totalTicks += UserTick; # UserTick = 1\n",
        "      stats->userTicks += UserTick;\n",
        "    }\n",
        "    DEBUG(dbgInt, \"== Tick \" << stats->totalTicks << \" ==\");\n",
        "\n",
        "// check any pending interrupts are now ready to fire  # ChangeLevel: 改變interupt狀態\n",
        "    ChangeLevel(IntOn, IntOff); // first, turn off interrupts\n",
        "                // (interrupt handlers run with\n",
        "                // interrupts disabled)\n",
        "    CheckIfDue(FALSE);      // check for pending interrupts\n",
        "    ChangeLevel(IntOff, IntOn); // re-enable interrupts\n",
        "    if (yieldOnReturn) {    // if the timer device handler asked\n",
        "                    // for a context switch, ok to do it now\n",
        "    yieldOnReturn = FALSE;\n",
        "    status = SystemMode;        // yield is a kernel routine\n",
        "    kernel->currentThread->Yield();\n",
        "    status = oldStatus;\n",
        "    }\n",
        "}"
      ],
      "metadata": {
        "id": "PzNx4yDMWHx1"
      },
      "execution_count": null,
      "outputs": []
    },
    {
      "cell_type": "markdown",
      "source": [
        "用來模擬系統中時間的推進，並檢查是否有需要觸發的 pending interrupts\n",
        "根據當前系統處於system mode或user mode，來決定kernel的推進時間,SystemTick（10）或UserTick（1）\n",
        "\n",
        "進入CheckIfDue去檢查是否⽬前有需要執⾏的的pending interrupt\n",
        "\n",
        "如果當前要求進行context switch，則將 yieldOnReturn設為FALSE,並呼叫currentThread的 Yield(),當此thread⼜可以執⾏時，則恢復 status\n",
        "\n",
        "總結來說,檢查有沒有hardware interrupt要執行，最後檢查timer是否要求context switch，如果需要則會呼叫Yield()"
      ],
      "metadata": {
        "id": "rkbOjIS6HLhW"
      }
    },
    {
      "cell_type": "markdown",
      "source": [
        "####  Thread::Yield()"
      ],
      "metadata": {
        "id": "xJtxCSdVHEKd"
      }
    },
    {
      "cell_type": "code",
      "source": [
        "void Thread::Yield() {\n",
        "    Thread *nextThread;\n",
        "    IntStatus oldLevel = kernel->interrupt->SetLevel(IntOff);\n",
        "\n",
        "    ASSERT(this == kernel->currentThread);\n",
        "\n",
        "    DEBUG(dbgThread, \"Yielding thread: \" << name);\n",
        "\n",
        "    nextThread = kernel->scheduler->FindNextToRun();\n",
        "    if (nextThread != NULL) {\n",
        "        kernel->scheduler->ReadyToRun(this);\n",
        "        kernel->scheduler->Run(nextThread, FALSE);\n",
        "    }\n",
        "    (void)kernel->interrupt->SetLevel(oldLevel);\n",
        "}"
      ],
      "metadata": {
        "id": "XWtpbT7VN_IP"
      },
      "execution_count": null,
      "outputs": []
    },
    {
      "cell_type": "markdown",
      "source": [
        "呼叫FindNextToRun()尋找下一個在ready state 的 thread 來\n",
        "執行，再呼叫ReadyToRun()將現在這個thread重新加回ready queue裡面，最後呼叫Run()執行context switch"
      ],
      "metadata": {
        "id": "RR1PE7SbK0fi"
      }
    },
    {
      "cell_type": "markdown",
      "source": [
        "#### Scheduler::FindNextToRun()"
      ],
      "metadata": {
        "id": "_snQd8NWEaJv"
      }
    },
    {
      "cell_type": "code",
      "source": [
        "Thread *\n",
        "Scheduler::FindNextToRun() {\n",
        "    ASSERT(kernel->interrupt->getLevel() == IntOff);\n",
        "    if (readyList->IsEmpty()) { # no thread ready to run\n",
        "        return NULL;\n",
        "    } else {\n",
        "        return readyList->RemoveFront();\n",
        "    }\n",
        "}"
      ],
      "metadata": {
        "id": "Pt5rrFUfTBG8"
      },
      "execution_count": null,
      "outputs": []
    },
    {
      "cell_type": "markdown",
      "source": [
        "先確保interrupt被關閉,在ready list中尋找下一個可執行的thread,若無則回傳NULL"
      ],
      "metadata": {
        "id": "FKyWwW2GS2gE"
      }
    },
    {
      "cell_type": "markdown",
      "source": [
        "#### Scheduler::ReadyToRun(Thread*)"
      ],
      "metadata": {
        "id": "6rM8clyRSbHs"
      }
    },
    {
      "cell_type": "code",
      "source": [
        "void Scheduler::ReadyToRun(Thread *thread) {\n",
        "    ASSERT(kernel->interrupt->getLevel() == IntOff);//檢查 interrupt 功能是否已經關閉中斷，若無則報錯\n",
        "    DEBUG(dbgThread, \"Putting thread on ready list: \" << thread->getName());\n",
        "    // cout << \"Putting thread on ready list: \" << thread->getName() << endl ;\n",
        "    thread->setStatus(READY);\n",
        "    readyList->Append(thread);\n",
        "}"
      ],
      "metadata": {
        "id": "kP4_Kp10Th6b"
      },
      "execution_count": null,
      "outputs": []
    },
    {
      "cell_type": "markdown",
      "source": [
        "先確保interrupt被關閉,將thread設為ready並將其放入readyList"
      ],
      "metadata": {
        "id": "pnoNxgD4T5zb"
      }
    },
    {
      "cell_type": "markdown",
      "source": [
        "#### Scheduler::Run(Thread*, bool)"
      ],
      "metadata": {
        "id": "hC4iWtZ2SbFb"
      }
    },
    {
      "cell_type": "code",
      "source": [
        "void Scheduler::Run(Thread *nextThread, bool finishing) {\n",
        "    Thread *oldThread = kernel->currentThread;\n",
        "\n",
        "    ASSERT(kernel->interrupt->getLevel() == IntOff);//檢查 interrupt 功能是否已經關閉中斷，若無則報錯\n",
        "\n",
        "    if (finishing) {  // mark that we need to delete current thread\n",
        "        ASSERT(toBeDestroyed == NULL);\n",
        "        toBeDestroyed = oldThread;\n",
        "    }\n",
        "\n",
        "    if (oldThread->space != NULL) {  // if this thread is a user program,\n",
        "        oldThread->SaveUserState();  // save the user's CPU registers\n",
        "        oldThread->space->SaveState();\n",
        "    }\n",
        "\n",
        "    oldThread->CheckOverflow();  // check if the old thread\n",
        "                                 // had an undetected stack overflow\n",
        "\n",
        "    kernel->currentThread = nextThread;  // switch to the next thread\n",
        "    nextThread->setStatus(RUNNING);      // nextThread is now running\n",
        "\n",
        "    DEBUG(dbgThread, \"Switching from: \" << oldThread->getName() << \" to: \" << nextThread->getName());\n",
        "\n",
        "    // This is a machine-dependent assembly language routine defined\n",
        "    // in switch.s.  You may have to think\n",
        "    // a bit to figure out what happens after this, both from the point\n",
        "    // of view of the thread and from the perspective of the \"outside world\".\n",
        "\n",
        "    SWITCH(oldThread, nextThread);\n",
        "\n",
        "    // we're back, running oldThread\n",
        "\n",
        "    // interrupts are off when we return from switch!\n",
        "    ASSERT(kernel->interrupt->getLevel() == IntOff);\n",
        "\n",
        "    DEBUG(dbgThread, \"Now in thread: \" << oldThread->getName());\n",
        "\n",
        "    CheckToBeDestroyed();  // check if thread we were running\n",
        "                           // before this one has finished\n",
        "                           // and needs to be cleaned up\n",
        "\n",
        "    if (oldThread->space != NULL) {     // if there is an address space\n",
        "        oldThread->RestoreUserState();  // to restore, do it.\n",
        "        oldThread->space->RestoreState();\n",
        "    }\n",
        "}"
      ],
      "metadata": {
        "id": "AySi9f0tk-Te"
      },
      "execution_count": null,
      "outputs": []
    },
    {
      "cell_type": "markdown",
      "source": [
        "首先查看當前 process 的 Process Control Block 中的 finish 變數檢查是否已完成，若已完成，則將其放入 toBeDestroyed 這樣之後便會刪除，接著，如果程式是 user program，則須將其資料儲存起來，接著檢查舊 process ( oldThread )是否有 stack overflow ，然後將當前執行緒切換到下一個 Process Control Block 的 process ，並將狀態設為 RUNNING ，再呼叫 SWITCH(oldThread, nextThread) 函式完成當前執行緒工作切換，完成交換後，呼叫 CheckToBeDestroyed() 來檢查是否有執行完成需要被回收掉的程式，最後檢查舊 Process Control Block ( oldThread )是否還有資料(還未完成)，如果有，將資料存回舊 Process Control Block ( oldthread )讓執行緒回來執行 oldthread process 時能從 Process Control Block 中找到資料位置\n"
      ],
      "metadata": {
        "id": "RLOhLSrGSbDN"
      }
    },
    {
      "cell_type": "markdown",
      "source": [
        "### 1-3. Running→Waiting"
      ],
      "metadata": {
        "id": "CB7sNseYSbAz"
      }
    },
    {
      "cell_type": "markdown",
      "source": [
        "####  SynchConsoleOutput::PutChar(char)"
      ],
      "metadata": {
        "id": "j5utQxgxSa-M"
      }
    },
    {
      "cell_type": "code",
      "source": [
        "void SynchConsoleOutput::PutChar(char ch)\n",
        "{\n",
        "    lock->Acquire();\n",
        "    consoleOutput->PutChar(ch);\n",
        "    waitFor->P();\n",
        "    lock->Release();\n",
        "}\n",
        "\n",
        "# 下方為lock 之code\n",
        "void Lock::Acquire()\n",
        "{\n",
        "    semaphore->P();\n",
        "    lockHolder = kernel->currentThread;\n",
        "}\n",
        "void Lock::Release()\n",
        "{\n",
        "    ASSERT(IsHeldByCurrentThread());\n",
        "    lockHolder = NULL;\n",
        "    semaphore->V();\n",
        "}"
      ],
      "metadata": {
        "id": "3pZX7jTLVc6R"
      },
      "execution_count": null,
      "outputs": []
    },
    {
      "cell_type": "markdown",
      "source": [
        "為了確保多個thread不會同時寫入，這裡使用了lock機制 lock->Acquire() 來保護對輸出的權限, 當一個thread獲得了這個鎖後，其他thread需要等待該鎖release後才能繼續\n",
        "\n",
        "lock->Acquire(): 取得 lock,  來達到同時間只會有⼀個 writer, 拿到 lock 的\n",
        "thread 才能執⾏\n",
        "\n",
        "\n",
        "waitfor->P(): 等待 semaphore value > 0 ( wait for callBack )\n",
        "lock->Release(),　釋放 lock"
      ],
      "metadata": {
        "id": "kpVYH9f9XAVn"
      }
    },
    {
      "cell_type": "markdown",
      "source": [
        "####  Semaphore::P()"
      ],
      "metadata": {
        "id": "DJ1blGemSa7c"
      }
    },
    {
      "cell_type": "code",
      "source": [
        "void Semaphore::P()\n",
        "{\n",
        "    DEBUG(dbgTraCode, \"In Semaphore::P(), \" << kernel->stats->totalTicks);\n",
        "    Interrupt *interrupt = kernel->interrupt;\n",
        "    Thread *currentThread = kernel->currentThread;\n",
        "\n",
        "    // disable interrupts\n",
        "    IntStatus oldLevel = interrupt->SetLevel(IntOff);\n",
        "\n",
        "    while (value == 0) {        // semaphore not available\n",
        "    queue->Append(currentThread);   // so go to sleep\n",
        "    currentThread->Sleep(FALSE);\n",
        "    }\n",
        "    value--;    // semaphore available, consume its value\n",
        "\n",
        "    // re-enable interrupts\n",
        "    (void) interrupt->SetLevel(oldLevel);\n",
        "}"
      ],
      "metadata": {
        "id": "W9aWwp_TXjk4"
      },
      "execution_count": null,
      "outputs": []
    },
    {
      "cell_type": "markdown",
      "source": [
        "關閉interrupt確保接下來的操作不被context switch中斷\n",
        "\n",
        "\n",
        "如果現在的value為0，將current thread 放到 queue 的尾端並使其Sleep,以FALSE傳入, 代表進入waiting state\n",
        "\n",
        "將value -1後恢復interrupt"
      ],
      "metadata": {
        "id": "5vW4cjlrYpXH"
      }
    },
    {
      "cell_type": "markdown",
      "source": [
        "####  List<T>::Append(T)"
      ],
      "metadata": {
        "id": "5rmZoTWuZjie"
      }
    },
    {
      "cell_type": "code",
      "source": [
        "void List<T>::Append(T item)\n",
        "{\n",
        "    ListElement<T> *element = new ListElement<T>(item);\n",
        "    ASSERT(!IsInList(item));\n",
        "    if (IsEmpty()) {    // list is empty\n",
        "        first = element;\n",
        "        last = element;\n",
        "    }\n",
        "    else {              // else put it after last\n",
        "        last->next = element;\n",
        "        last = element;\n",
        "    }\n",
        "    numInList++;\n",
        "    ASSERT(IsInList(item));\n",
        "}"
      ],
      "metadata": {
        "id": "y_jrnU2XZkzW"
      },
      "execution_count": null,
      "outputs": []
    },
    {
      "cell_type": "markdown",
      "source": [
        "在Append()會將傳入的thread存到list的最尾端"
      ],
      "metadata": {
        "id": "uTjWO1ahSa31"
      }
    },
    {
      "cell_type": "markdown",
      "source": [
        "#### Thread::Sleep(bool)"
      ],
      "metadata": {
        "id": "afZHnPC9aeI9"
      }
    },
    {
      "cell_type": "code",
      "source": [
        "void Thread::Sleep(bool finishing) {\n",
        "    Thread *nextThread;\n",
        "\n",
        "    ASSERT(this == kernel->currentThread);\n",
        "    ASSERT(kernel->interrupt->getLevel() == IntOff);\n",
        "\n",
        "    DEBUG(dbgThread, \"Sleeping thread: \" << name);\n",
        "    DEBUG(dbgTraCode, \"In Thread::Sleep, Sleeping thread: \" << name << \", \" << kernel->stats->totalTicks);\n",
        "\n",
        "    status = BLOCKED;\n",
        "    // cout << \"debug Thread::Sleep \" << name << \"wait for Idle\\n\";\n",
        "    while ((nextThread = kernel->scheduler->FindNextToRun()) == NULL) {\n",
        "        kernel->interrupt->Idle();  // no one to run, wait for an interrupt\n",
        "    }\n",
        "    // returns when it's time for us to run\n",
        "    kernel->scheduler->Run(nextThread, finishing);\n",
        "}"
      ],
      "metadata": {
        "id": "QTjT-Qjyahzf"
      },
      "execution_count": null,
      "outputs": []
    },
    {
      "cell_type": "markdown",
      "source": [
        "將狀態設為blocked，直到有其他thread來叫醒他，並將他放回ready queue 裡進行重新排程,\n",
        "\n",
        "而此時若沒有其他thread 在ready queue\n",
        "裡，就會呼叫Idle()表示現在CPU在閒置中，直到找到下一個thread並呼叫\n",
        "Run()來進行context switch"
      ],
      "metadata": {
        "id": "6mm3b7qsahDW"
      }
    },
    {
      "cell_type": "markdown",
      "source": [
        "####  Scheduler::FindNextToRun()"
      ],
      "metadata": {
        "id": "VRWsZdmRSazE"
      }
    },
    {
      "cell_type": "markdown",
      "source": [
        "先確保interrupt被關閉,在ready list中尋找下一個可執行的thread,若無則回傳NULL"
      ],
      "metadata": {
        "id": "-kil7zTRZ6Of"
      }
    },
    {
      "cell_type": "markdown",
      "source": [
        "#### Scheduler::Run(Thread*, bool)"
      ],
      "metadata": {
        "id": "ZHVtZa0_SasE"
      }
    },
    {
      "cell_type": "markdown",
      "source": [
        "參照先前之段落"
      ],
      "metadata": {
        "id": "_op0M6-pSaV7"
      }
    },
    {
      "cell_type": "markdown",
      "source": [
        "###  1-4. Waiting→Ready"
      ],
      "metadata": {
        "id": "AljMj3e5SaIM"
      }
    },
    {
      "cell_type": "markdown",
      "source": [
        "####  Semaphore::V()"
      ],
      "metadata": {
        "id": "QNND4UEkeEDi"
      }
    },
    {
      "cell_type": "code",
      "source": [
        "void Semaphore::V()\n",
        "{\n",
        "    DEBUG(dbgTraCode, \"In Semaphore::V(), \" << kernel->stats->totalTicks);\n",
        "    Interrupt *interrupt = kernel->interrupt;\n",
        "\n",
        "    // disable interrupts\n",
        "    IntStatus oldLevel = interrupt->SetLevel(IntOff);\n",
        "\n",
        "    if (!queue->IsEmpty()) {  // make thread ready.\n",
        "    kernel->scheduler->ReadyToRun(queue->RemoveFront()); # READY\n",
        "    }\n",
        "    value++;\n",
        "\n",
        "    // re-enable interrupts\n",
        "    (void) interrupt->SetLevel(oldLevel);\n",
        "}"
      ],
      "metadata": {
        "id": "tL9bQRC9eIeZ"
      },
      "execution_count": null,
      "outputs": []
    },
    {
      "cell_type": "markdown",
      "source": [
        "從queue裡叫醒一個waiting中的thread，並呼叫ReadyToRun()，\n",
        "使其設為ready state，再將value+1，表示釋放出CPU資源"
      ],
      "metadata": {
        "id": "zwWme7k_eEBZ"
      }
    },
    {
      "cell_type": "markdown",
      "source": [
        "#### Scheduler::ReadyToRun(Thread*)"
      ],
      "metadata": {
        "id": "1GMuGbQ1eD_K"
      }
    },
    {
      "cell_type": "markdown",
      "source": [
        "將thread設為ready並將其放入readyList"
      ],
      "metadata": {
        "id": "kwRELqWXenYj"
      }
    },
    {
      "cell_type": "markdown",
      "source": [
        "### 1-5. Running→Terminated"
      ],
      "metadata": {
        "id": "mxrlpNe8eD87"
      }
    },
    {
      "cell_type": "markdown",
      "source": [
        "#### ExceptionHandler(ExceptionType) case SC_Exit"
      ],
      "metadata": {
        "id": "NS7LpNG4hUtY"
      }
    },
    {
      "cell_type": "code",
      "source": [
        "void ExceptionHandler(ExceptionType which) {\n",
        "    char ch;\n",
        "    int val;\n",
        "    int type = kernel->machine->ReadRegister(2);\n",
        "    int status, exit, threadID, programID, fileID, numChar;\n",
        "    DEBUG(dbgSys, \"Received Exception \" << which << \" type: \" << type << \"\\n\");\n",
        "    DEBUG(dbgTraCode, \"In ExceptionHandler(), Received Exception \" << which << \" type: \" << type << \", \" << kernel->stats->totalTicks);\n",
        "    switch (which) {\n",
        "        case SyscallException:\n",
        "            switch (type) {\n",
        "                case SC_Exit:\n",
        "                    DEBUG(dbgAddr, \"Program exit\\n\");\n",
        "                    val = kernel->machine->ReadRegister(4);\n",
        "                    cout << \"return value:\" << val << endl;\n",
        "                    kernel->currentThread->Finish();\n",
        "                    break;\n",
        "                }\n",
        "    ASSERTNOTREACHED();\n",
        "}"
      ],
      "metadata": {
        "id": "n5LxZZLohURR"
      },
      "execution_count": null,
      "outputs": []
    },
    {
      "cell_type": "markdown",
      "source": [
        "從4號register讀出程序的回傳值,呼叫Finish()來結束目前這個thread"
      ],
      "metadata": {
        "id": "0zdweh_veD6q"
      }
    },
    {
      "cell_type": "markdown",
      "source": [
        "####  Thread::Finish()"
      ],
      "metadata": {
        "id": "cyvXAo38eD4g"
      }
    },
    {
      "cell_type": "code",
      "source": [
        "void Thread::Finish() {\n",
        "    (void)kernel->interrupt->SetLevel(IntOff);\n",
        "    ASSERT(this == kernel->currentThread);\n",
        "\n",
        "    DEBUG(dbgThread, \"Finishing thread: \" << name);\n",
        "    if (kernel->execExit && this->getIsExec()) {\n",
        "        kernel->execRunningNum--;\n",
        "        if (kernel->execRunningNum == 0) {\n",
        "            kernel->interrupt->Halt();\n",
        "        }\n",
        "    }\n",
        "    Sleep(TRUE);  // invokes SWITCH\n",
        "    // not reached\n",
        "}"
      ],
      "metadata": {
        "id": "sA-EzvxYjItQ"
      },
      "execution_count": null,
      "outputs": []
    },
    {
      "cell_type": "markdown",
      "source": [
        "首先關閉 interrupt ，然後檢查是否所有執行緒已經停止以及當前程式是否完成，當所有執行緒已經停止且當前執行緒工作完成則將紀錄有多少程式在運行的變數減一，當變數為0時，代表已經沒有任何 process 在執行，此時便呼叫 kernel->interrupt->Halt() 結束 NachOS 運作，而若還有 process 在運作則呼叫 Sleep(TRUE) ，代表當前執行緒進入休息狀態"
      ],
      "metadata": {
        "id": "gGpWMuaDeD2a"
      }
    },
    {
      "cell_type": "markdown",
      "source": [
        "#### Thread::Sleep(bool)"
      ],
      "metadata": {
        "id": "0QJN2_ureD0W"
      }
    },
    {
      "cell_type": "markdown",
      "source": [
        "在Finish()裡會呼叫Sleep()，參數為TRUE代表thread 結束"
      ],
      "metadata": {
        "id": "UVABk6UceDyL"
      }
    },
    {
      "cell_type": "markdown",
      "source": [
        "####  Scheduler::FindNextToRun()"
      ],
      "metadata": {
        "id": "myebX1SqeDv7"
      }
    },
    {
      "cell_type": "markdown",
      "source": [
        "參照先前之段落"
      ],
      "metadata": {
        "id": "rghXPsNheDto"
      }
    },
    {
      "cell_type": "markdown",
      "source": [
        "#### Scheduler::Run(Thread*, bool)"
      ],
      "metadata": {
        "id": "Uy-GHnYyeDrb"
      }
    },
    {
      "cell_type": "markdown",
      "source": [
        "參照先前之段落"
      ],
      "metadata": {
        "id": "JCJu1QVheDkc"
      }
    },
    {
      "cell_type": "markdown",
      "source": [
        "### 1-6. Ready→Running"
      ],
      "metadata": {
        "id": "D6NzBXXjeDhk"
      }
    },
    {
      "cell_type": "markdown",
      "source": [
        "###  Scheduler::FindNextToRun()"
      ],
      "metadata": {
        "id": "FgrPp8TtkCBP"
      }
    },
    {
      "cell_type": "markdown",
      "source": [
        "參照先前之段落"
      ],
      "metadata": {
        "id": "U1p-6PC-kFXX"
      }
    },
    {
      "cell_type": "markdown",
      "source": [
        "####  Scheduler::Run(Thread*, bool)"
      ],
      "metadata": {
        "id": "wcvhJsCFkB_P"
      }
    },
    {
      "cell_type": "markdown",
      "source": [
        "呼叫SWITCH()來進行context switch"
      ],
      "metadata": {
        "id": "jZn2wCMrkJ0W"
      }
    },
    {
      "cell_type": "markdown",
      "source": [
        "#### SWITCH(Thread *,  Thread *)"
      ],
      "metadata": {
        "id": "h7Z_zkc9kB9P"
      }
    },
    {
      "cell_type": "code",
      "source": [
        "8(esp) ->  thread *t2\n",
        "4(esp) ->  thread *t1\n",
        "(esp) ->  return address"
      ],
      "metadata": {
        "id": "JP7B2m5iAoDF"
      },
      "execution_count": null,
      "outputs": []
    },
    {
      "cell_type": "markdown",
      "source": [
        "esp指向的記憶體存著return address\n",
        "\n",
        "esp+4指向的記憶體存著oldThread的address\n",
        "\n",
        "esp+8 指向的記憶體存著nextThread的address"
      ],
      "metadata": {
        "id": "FnCMgj3wkB7n"
      }
    },
    {
      "cell_type": "code",
      "source": [
        "eax     points to startup function (interrupt enable)\n",
        "edx     contains inital argument to thread function\n",
        "esi     points to thread function\n",
        "edi     point to Thread::Finish()"
      ],
      "metadata": {
        "id": "-eRBhwasUdh1"
      },
      "execution_count": null,
      "outputs": []
    },
    {
      "cell_type": "code",
      "source": [
        "  _SWITCH:\n",
        "SWITCH:\n",
        "        movl    %eax,_eax_save          # save the value of eax\n",
        "        movl    4(%esp),%eax            # move pointer to t1 into eax\n",
        "        movl    %ebx,_EBX(%eax)         # save registers\n",
        "        movl    %ecx,_ECX(%eax)\n",
        "        movl    %edx,_EDX(%eax)\n",
        "        movl    %esi,_ESI(%eax)\n",
        "        movl    %edi,_EDI(%eax)\n",
        "        movl    %ebp,_EBP(%eax)\n",
        "        movl    %esp,_ESP(%eax)         # save stack pointer\n",
        "        movl    _eax_save,%ebx          # get the saved value of eax\n",
        "        movl    %ebx,_EAX(%eax)         # store it\n",
        "        movl    0(%esp),%ebx            # get return address from stack into ebx\n",
        "        movl    %ebx,_PC(%eax)          # save it into the pc storage\n",
        "\n",
        "        movl    8(%esp),%eax            # move pointer to t2 into eax\n",
        "\n",
        "        movl    _EAX(%eax),%ebx         # get new value for eax into ebx\n",
        "        movl    %ebx,_eax_save          # save it\n",
        "        movl    _EBX(%eax),%ebx         # retore old registers\n",
        "        movl    _ECX(%eax),%ecx\n",
        "        movl    _EDX(%eax),%edx\n",
        "        movl    _ESI(%eax),%esi\n",
        "        movl    _EDI(%eax),%edi\n",
        "        movl    _EBP(%eax),%ebp\n",
        "        movl    _ESP(%eax),%esp         # restore stack pointer\n",
        "        movl    _PC(%eax),%eax          # restore return address into eax\n",
        "        movl    %eax,4(%esp)            # copy over the ret address on the stack\n",
        "        movl    _eax_save,%eax\n",
        "\n",
        "        ret"
      ],
      "metadata": {
        "id": "fU25Y-fhUUTN"
      },
      "execution_count": null,
      "outputs": []
    },
    {
      "cell_type": "markdown",
      "source": [
        "儲存oldThread的%ebx,%ecx,%edx,%esi,%edi,%ebp,%esp,%eax,return address\n",
        "\n",
        "\n",
        "載入newThread的%ebx,%ecx,%edx,%esi,%edi,%ebp,%esp,return address,%eax\n",
        "\n",
        "\n",
        "呼叫ret返回newThread的PC執行newThread"
      ],
      "metadata": {
        "id": "0_O6N-9XUqU6"
      }
    },
    {
      "cell_type": "markdown",
      "source": [
        "#### depends on the previous process state"
      ],
      "metadata": {
        "id": "R5Fz7plQkB5T"
      }
    },
    {
      "cell_type": "markdown",
      "source": [
        "在SWITCH()結束後，程式會從上次這個thread的中斷點開始繼續執行"
      ],
      "metadata": {
        "id": "VHLIRSselsGe"
      }
    },
    {
      "cell_type": "markdown",
      "source": [
        "####  for loop in Machine::Run()"
      ],
      "metadata": {
        "id": "Y4V73-JXlr-F"
      }
    },
    {
      "cell_type": "markdown",
      "source": [
        "newThread通過ForkExecute及AddrSpace::Execute進入Machine::Run的無窮迴圈中執行指令"
      ],
      "metadata": {
        "id": "g08JOfTGlrlt"
      }
    },
    {
      "cell_type": "markdown",
      "source": [
        "##  Implement a multilevel feedback queue"
      ],
      "metadata": {
        "id": "IXmszuLv_Mlg"
      }
    },
    {
      "cell_type": "markdown",
      "source": [
        "###stats.h"
      ],
      "metadata": {
        "id": "wRcHue47-Xil"
      }
    },
    {
      "cell_type": "markdown",
      "source": [
        "首先按照要求改 ConsoleTime 為 1"
      ],
      "metadata": {
        "id": "9nrb9euP-cC_"
      }
    },
    {
      "cell_type": "code",
      "source": [
        "const int ConsoleTime = 1;"
      ],
      "metadata": {
        "id": "I9432phI-aHu"
      },
      "execution_count": null,
      "outputs": []
    },
    {
      "cell_type": "markdown",
      "source": [
        "###kernel.cc"
      ],
      "metadata": {
        "id": "jH-NniT0D_sq"
      }
    },
    {
      "cell_type": "markdown",
      "source": [
        "按照要求在 Kernel::Initialize() 與 Kernel::~Kernel() 註解掉以下程式碼"
      ],
      "metadata": {
        "id": "M4_VdCShEIAZ"
      }
    },
    {
      "cell_type": "code",
      "source": [
        "// postOfficeIn = new PostOfficeInput(10);\n",
        "// postOfficeOut = new PostOfficeOutput(reliability);\n",
        "// delete postOfficeIn;\n",
        "// delete postOfficeOut;"
      ],
      "metadata": {
        "id": "P1F8Q6aDED1y"
      },
      "execution_count": null,
      "outputs": []
    },
    {
      "cell_type": "markdown",
      "source": [
        "### kernel.h"
      ],
      "metadata": {
        "id": "21nneYIYCmnD"
      }
    },
    {
      "cell_type": "markdown",
      "source": [
        "在 class kernel 中，首先修改Exec函式增加優先級的傳入參數，以及儲存優先級的變數( threadPriority 共10個最多可接受9個任務第一個是 main thread )"
      ],
      "metadata": {
        "id": "aqNTMboaEIiJ"
      }
    },
    {
      "cell_type": "code",
      "source": [
        "public:\n",
        "  int Exec(char *name, int priority);\n",
        "private:\n",
        "  int threadPriority[10];"
      ],
      "metadata": {
        "id": "QormihRMGJik"
      },
      "execution_count": null,
      "outputs": []
    },
    {
      "cell_type": "markdown",
      "source": [
        "###kernel.cc"
      ],
      "metadata": {
        "id": "2CVpMhYoCrNj"
      }
    },
    {
      "cell_type": "markdown",
      "source": [
        "實作 -ep 的指令支援， -e 的部分也須做修改但作業中訂沒有講到未給予優先級的-e指令的程式優先級要給多少，暫時給定 0 這樣會跟修改前一樣執行 round-robin 的 scheduling"
      ],
      "metadata": {
        "id": "Zq8kvSGzFEYp"
      }
    },
    {
      "cell_type": "code",
      "source": [
        "Kernel::Kernel(int argc, char **argv) {\n",
        "    randomSlice = FALSE;\n",
        "    debugUserProg = FALSE;\n",
        "    execExit = FALSE;\n",
        "    consoleIn = NULL;   // default is stdin\n",
        "    consoleOut = NULL;  // default is stdout\n",
        "#ifndef FILESYS_STUB\n",
        "    formatFlag = FALSE;\n",
        "#endif\n",
        "    reliability = 1;  // network reliability, default is 1.0\n",
        "    hostName = 0;     // machine id, also UNIX socket name\n",
        "                      // 0 is the default machine id\n",
        "    for (int i = 1; i < argc; i++) {\n",
        "        if (strcmp(argv[i], \"-rs\") == 0) { //-rs <randomSeed>：設置隨機種子，用於初始化偽隨機數生成器\n",
        "            ASSERT(i + 1 < argc);\n",
        "            RandomInit(atoi(argv[i + 1]));  // initialize pseudo-random\n",
        "                                            // number generator\n",
        "            randomSlice = TRUE;\n",
        "            i++;\n",
        "        }else if (strcmp(argv[i], \"-ep\") == 0) {\n",
        "          ASSERT(i + 2 < argc); //後面應該再接有檔案名稱與優先級的參數\n",
        "          execfile[++execfileNum]= argv[++i];\n",
        "          threadPriority[execfileNum] = atoi(argv[++i]);\n",
        "          if(threadPriority[execfileNum] > 149) {\n",
        "            threadPriority[execfileNum] = 149;\n",
        "          }else if(threadPriority[execfileNum] < 0){\n",
        "            threadPriority[execfileNum] = 0;\n",
        "          }\n",
        "        } else if (strcmp(argv[i], \"-s\") == 0) { //-s：啟用用戶程序的調試模式\n",
        "            debugUserProg = TRUE;\n",
        "        } else if (strcmp(argv[i], \"-e\") == 0) { //-e <execfile>：指定執行檔案\n",
        "            execfile[++execfileNum] = argv[++i];\n",
        "            threadPriority[execfileNum] = 0;\n",
        "            cout << execfile[execfileNum] << \"\\n\";\n",
        "        } else if (strcmp(argv[i], \"-ee\") == 0) { //-ee：設置在所有執行緒完成後結束程式\n",
        "            // Added by @dasbd72\n",
        "            // To end the program after all the threads are done\n",
        "            execExit = TRUE;\n",
        "        } else if (strcmp(argv[i], \"-ci\") == 0) { //-ci <consoleIn>：設置自定義的輸入來源\n",
        "            ASSERT(i + 1 < argc);\n",
        "            consoleIn = argv[i + 1];\n",
        "            i++;\n",
        "        } else if (strcmp(argv[i], \"-co\") == 0) { //-co <consoleOut>：設置自定義的輸出地方\n",
        "            ASSERT(i + 1 < argc);\n",
        "            consoleOut = argv[i + 1];\n",
        "            i++;\n",
        "#ifndef FILESYS_STUB\n",
        "        } else if (strcmp(argv[i], \"-f\") == 0) { //-f (僅在非 FILESYS_STUB 下可用)：設置文件系統格式化標誌\n",
        "            formatFlag = TRUE;\n",
        "#endif\n",
        "        } else if (strcmp(argv[i], \"-n\") == 0) { //-n <reliability>：設置網路可靠性\n",
        "            ASSERT(i + 1 < argc);  // next argument is float\n",
        "            reliability = atof(argv[i + 1]);\n",
        "            i++;\n",
        "        } else if (strcmp(argv[i], \"-m\") == 0) { //-m <hostName>：設置主機名稱\n",
        "            ASSERT(i + 1 < argc);  // next argument is int\n",
        "            hostName = atoi(argv[i + 1]);\n",
        "            i++;\n",
        "        } else if (strcmp(argv[i], \"-u\") == 0) { //-u：顯示使用說明\n",
        "            cout << \"Partial usage: nachos [-rs randomSeed]\\n\";\n",
        "            cout << \"Partial usage: nachos [-s]\\n\";\n",
        "            cout << \"Partial usage: nachos [-ci consoleIn] [-co consoleOut]\\n\";\n",
        "#ifndef FILESYS_STUB\n",
        "            cout << \"Partial usage: nachos [-nf]\\n\";\n",
        "#endif\n",
        "            cout << \"Partial usage: nachos [-n #] [-m #]\\n\";\n",
        "        }\n",
        "    }\n",
        "}"
      ],
      "metadata": {
        "id": "_d1VYa_xN6bO"
      },
      "execution_count": null,
      "outputs": []
    },
    {
      "cell_type": "markdown",
      "source": [
        "修改ExecAll函式使其同時傳入 -ep 時給定的優先級給 Exec 函式"
      ],
      "metadata": {
        "id": "kl_nd6G2F59o"
      }
    },
    {
      "cell_type": "code",
      "source": [
        "void Kernel::ExecAll()\n",
        "{\n",
        "  for (int i=1;i<=execfileNum;i++) {\n",
        "    int a = Exec(execfile[i], threadPriority[i]);\n",
        "  }\n",
        "  currentThread->Finish();\n",
        "}"
      ],
      "metadata": {
        "id": "dn8VBw-zOtU9"
      },
      "execution_count": null,
      "outputs": []
    },
    {
      "cell_type": "markdown",
      "source": [
        "增加3個東西分別為初始化 BurstTime 與 T 為 0 還有設定優先級"
      ],
      "metadata": {
        "id": "JKcx-ylWGL5f"
      }
    },
    {
      "cell_type": "code",
      "source": [
        "int Kernel::Exec(char* name, int priority){\n",
        "  t[threadNum] = new Thread(name, threadNum);\n",
        "  t[threadNum]->setT(0);\n",
        "  t[threadNum]->setBurstTime(0);\n",
        "  t[threadNum]->setPriority(priority);\n",
        "  t[threadNum]->setIsExec();\n",
        "  t[threadNum]->space = new AddrSpace();\n",
        "  t[threadNum]->Fork((VoidFunctionPtr) &ForkExecute, (void *)t[threadNum]);\n",
        "  threadNum++;\n",
        "  return threadNum-1;\n",
        "}"
      ],
      "metadata": {
        "id": "ym-Hr-xAOvwt"
      },
      "execution_count": null,
      "outputs": []
    },
    {
      "cell_type": "markdown",
      "source": [
        "### Thread.h"
      ],
      "metadata": {
        "id": "66vHB_Ax_6Tn"
      }
    },
    {
      "cell_type": "markdown",
      "source": [
        "增加5個 class thread 需要的變數 T, burstTime, priority, StartExecutionTime, StartWaitingTime 並且實作10個函式來幫助我們管理這些 Private 的變數"
      ],
      "metadata": {
        "id": "oEtE9fM5I7yG"
      }
    },
    {
      "cell_type": "code",
      "source": [
        "Public:\n",
        "    void setBurstTime(double t){this->burstTime = t;}\n",
        "    void setPriority(int p){this->priority = p;}\n",
        "    void setStartExecutionTime(int t){this->StartExecutionTime = t;}\n",
        "    void setStartWaitingTime(int t){this->StartWaitingTime = t;}\n",
        "    viod setT(int t){this->T = t;}\n",
        "    double getBurstTime(){return (burstTime);}\n",
        "    int getPriority(){return (priority);}\n",
        "    //由於 Thread.h 裡無法調用 kernel->stats->totalTicks 故設計為變數從外面傳入\n",
        "    int getExecutionTime(int nowtime){return (nowtime - StartExecutionTime);}\n",
        "    int getStartWaitingTime(){return (StartWaitingTime);}\n",
        "    int getT(){return T;}\n",
        "Private:\n",
        "    int T;\n",
        "    double burstTime;\n",
        "    int priority;\n",
        "    int StartExecutionTime;\n",
        "    int StartWaitingTime;"
      ],
      "metadata": {
        "id": "pUB6vfnl_59Q"
      },
      "execution_count": null,
      "outputs": []
    },
    {
      "cell_type": "markdown",
      "source": [
        "###Thread.cc"
      ],
      "metadata": {
        "id": "tDwHvOZ8A1v_"
      }
    },
    {
      "cell_type": "markdown",
      "source": [
        " Sleep 是 thread 要從 Running -> Waiting ，增加DEBUG訊息，然後根據要求 Update the approximated burst time when the thread becomes waiting state, and return the accumulated T to zero 故更新 Burst Time ，最後將 T 設為 0"
      ],
      "metadata": {
        "id": "vH0B2108MI-k"
      }
    },
    {
      "cell_type": "code",
      "source": [
        "Thread::Sleep (bool finishing)\n",
        "{\n",
        "    Thread *nextThread;\n",
        "\n",
        "    ASSERT(this == kernel->currentThread);\n",
        "    ASSERT(kernel->interrupt->getLevel() == IntOff);\n",
        "\n",
        "    DEBUG(dbgThread, \"Sleeping thread: \" << name);\n",
        "    DEBUG(dbgTraCode, \"In Thread::Sleep, Sleeping thread: \" << name << \", \" << kernel->stats->totalTicks);\n",
        "    double prevBurstTime = this->getBurstTime();\n",
        "    //由於結束後 T 要設為 0 我就沒有再回去更新 T 了，而是給一個 TT 變數來計算 T\n",
        "    double TT = (double)(this->getExecutionTime(kernel->stats->totalTicks) + this->getT());\n",
        "    double newBurstTime = (0.5*prevBurstTime + 0.5*TT);\n",
        "    double diff = newBurstTime - prevBurstTime;\n",
        "    this->setBurstTime(newBurstTime);\n",
        "    this->setStartExecutionTime(kernel->stats->totalTicks);\n",
        "    DEBUG('z',\"[D] Tick [\"<<kernel->stats->totalTicks<<\"]: Thread [\"<<this->getID()\n",
        "    <<\"] update approximate burst time, from: [\"<<prevBurstTime<<\"], add [\"<<diff<<\"], to [\"<<newBurstTime<<\"]\");\n",
        "    //根據要求設 T 為 0\n",
        "    this->setT(0);\n",
        "    status = BLOCKED;\n",
        "    while ((nextThread = kernel->scheduler->FindNextToRun()) == NULL) kernel->interrupt->Idle();\t// no one to run, wait for an interrupt\n",
        "\n",
        "    // returns when it's time for us to run\n",
        "    kernel->scheduler->Run(nextThread, finishing);\n",
        "}"
      ],
      "metadata": {
        "id": "LzTfbwg9A6YX"
      },
      "execution_count": null,
      "outputs": []
    },
    {
      "cell_type": "markdown",
      "source": [
        "Yield 函式是當 thread 要讓出執行緒從 Running -> Ready ，根據要求 Stop accumulating T when the thread becomes ready state, and resume\n",
        "accumulating T when the thread moves back to the running state ，故我們需要在此時結算執行了多少時間累加進 T 的時間裡"
      ],
      "metadata": {
        "id": "uRkAVElpPd85"
      }
    },
    {
      "cell_type": "code",
      "source": [
        "void Thread::Yield() {\n",
        "    Thread *nextThread;\n",
        "    IntStatus oldLevel = kernel->interrupt->SetLevel(IntOff);\n",
        "\n",
        "    ASSERT(this == kernel->currentThread);\n",
        "\n",
        "    DEBUG(dbgThread, \"Yielding thread: \" << name);\n",
        "    //在這時結算執行了多少時間累加進 T 的時間裡\n",
        "    this->setT((this->getExecutionTime(kernel->stats->totalTicks) + this->getT()));\n",
        "    nextThread = kernel->scheduler->FindNextToRun();\n",
        "    if (nextThread != NULL) {\n",
        "        kernel->scheduler->ReadyToRun(this);\n",
        "        kernel->scheduler->Run(nextThread, FALSE);\n",
        "    }\n",
        "    (void)kernel->interrupt->SetLevel(oldLevel);\n",
        "}\n"
      ],
      "metadata": {
        "id": "X2UwLgyMzVwX"
      },
      "execution_count": null,
      "outputs": []
    },
    {
      "cell_type": "markdown",
      "source": [
        "### scheduler.h"
      ],
      "metadata": {
        "id": "IvsTRgSUuABv"
      }
    },
    {
      "cell_type": "markdown",
      "source": [
        "在 class scheduler 中新增 updatePriority 與 ShouldPreempt 兩個函式以及將原本的 ReadyList 改為 L1ReadyList, L2ReadyList, L3ReadyList 用以完成 multilevel feedback queue"
      ],
      "metadata": {
        "id": "RMowDWQ-TJ3d"
      }
    },
    {
      "cell_type": "code",
      "source": [
        "Public:\n",
        "  void updatePriority();\n",
        "  bool ShouldPreempt(Thread* now);\n",
        "private:\n",
        "  SortedList<Thread *> *L1ReadyList;\n",
        "  SortedList<Thread *> *L2ReadyList;\n",
        "  List<Thread *> *L3ReadyList;"
      ],
      "metadata": {
        "id": "9umZhDljuBCO"
      },
      "execution_count": null,
      "outputs": []
    },
    {
      "cell_type": "markdown",
      "source": [
        "###scheduler.cc"
      ],
      "metadata": {
        "id": "TIWJqPoHuJq_"
      }
    },
    {
      "cell_type": "markdown",
      "source": [
        "實作 L1 與 L2 用來排序的函式"
      ],
      "metadata": {
        "id": "Q_9s7r31WiKk"
      }
    },
    {
      "cell_type": "code",
      "source": [
        "static int compareL1(Thread* t1, Thread* t2){\n",
        "  if ( t1->getBurstTime() > t2->getBurstTime() ) return 1;\n",
        "  else if ( t1->getBurstTime() < t2->getBurstTime() ) return -1;\n",
        "  else return t1->getID() < t2->getID() ? -1 : 1;\n",
        "  return 0;\n",
        "}\n",
        "static int compareL2(Thread* t1, Thread* t2){\n",
        "  if ( t1->getPriority() > t2->getPriority() ) return -1;\n",
        "  else if( t1->getPriority() < t2->getPriority() ) return 1;\n",
        "  else return t1->getID() < t2->getID() ? -1 : 1;\n",
        "  return 0;\n",
        "}"
      ],
      "metadata": {
        "id": "--066bxpuKrG"
      },
      "execution_count": null,
      "outputs": []
    },
    {
      "cell_type": "markdown",
      "source": [
        "改寫建構子與解構子把 L1ReadyList, L2ReadyList, L3ReadyList 創造出來並在最後將其全部刪除"
      ],
      "metadata": {
        "id": "Ut1TL7WbW407"
      }
    },
    {
      "cell_type": "code",
      "source": [
        "Scheduler::Scheduler(){\n",
        "  L1ReadyList = new SortedList<Thread *>(compareL1);\n",
        "  L2ReadyList = new SortedList<Thread *>(compareL2);\n",
        "  L3ReadyList = new List<Thread *>;\n",
        "  toBeDestroyed = NULL;\n",
        "}\n",
        "Scheduler::~Scheduler(){\n",
        "  delete L1ReadyList;\n",
        "  delete L2ReadyList;\n",
        "  delete L3ReadyList;\n",
        "}"
      ],
      "metadata": {
        "id": "X23ng5D8uZq-"
      },
      "execution_count": null,
      "outputs": []
    },
    {
      "cell_type": "markdown",
      "source": [
        "設計 updatePriority 函式來完成 Aging 的實作"
      ],
      "metadata": {
        "id": "SdeyjJE7XRZS"
      }
    },
    {
      "cell_type": "code",
      "source": [
        "void Scheduler::updatePriority(){\n",
        "  Statistics *stats = kernel->stats;\n",
        "  int oldPriority;\n",
        "  int newPriority;\n",
        "  int nowTimerTicks = kernel->stats->totalTicks;\n",
        "  //依照L1->L2->L3順序檢查\n",
        "  //檢查 L1readylist 是否有東西，但 L1Readylist 裡優先級沒用，不更新其實好像不影響正常運作\n",
        "  if(!L1ReadyList->IsEmpty()){\n",
        "    //使用 ListIterator 幫助遍歷 L1Readylist 內的所有 Thread\n",
        "    ListIterator<Thread *> *iter1 = new ListIterator<Thread *>(L1ReadyList);\n",
        "    for( ; !iter1->IsDone(); iter1->Next() ){\n",
        "      ASSERT( iter1->Item()->getStatus() == READY);\n",
        "      //計算當前 thread 等待的時間\n",
        "      int waitingtime = kernel->stats->totalTicks - iter1->Item()->getStartWaitingTime();\n",
        "      //ID 0 是 main thread 不是 scheduler 要管的，與等待時間是否超過 1500 ticks\n",
        "      if(waitingtime > 1500 && iter1->Item()->getID() > 0 ){\n",
        "        //等待時間過久的優先級要加 10\n",
        "        oldPriority = iter1->Item()->getPriority();\n",
        "        newPriority = oldPriority + 10;\n",
        "        //確保優先級不會超過149\n",
        "        if (newPriority > 149) newPriority = 149;\n",
        "        iter1->Item()->setPriority(newPriority);\n",
        "        //除錯訊息實作\n",
        "        DEBUG('z',\"[C] Tick [\"<<kernel->stats->totalTicks<<\"]: Thread [\"<<iter1->Item()->getID()<<\"] changes its priority from [\"\n",
        "        <<oldPriority<<\"] to [\"<<newPriority<<\"]\");\n",
        "        //由於還是在 L1ReadyList 就不做拔出重放的動作，並且 L1ReadyList 優先級不影響排序，另外要重置 StartWaitingTime\n",
        "        iter1->Item()->setStartWaitingTime(kernel->stats->totalTicks);\n",
        "      }\n",
        "    }\n",
        "    //最後記得刪除 ListIterator\n",
        "    delete iter1;\n",
        "  }\n",
        "  //檢查 L2readylist 是否有東西\n",
        "  if(!L2ReadyList->IsEmpty()){\n",
        "    //使用 ListIterator 幫助遍歷 L2Readylist 內的所有 Thread\n",
        "    ListIterator<Thread *> *iter2 = new ListIterator<Thread *>(L2ReadyList);\n",
        "    for( ; !iter2->IsDone(); iter2->Next() ){\n",
        "      ASSERT( iter2->Item()->getStatus() == READY);\n",
        "      int waitingtime = kernel->stats->totalTicks - iter2->Item()->getStartWaitingTime();\n",
        "      //ID 0 是 main thread 不是 scheduler 要管的，與等待時間是否超過 1500 ticks\n",
        "      if(waitingtime > 1500 && iter2->Item()->getID() > 0 ){\n",
        "        oldPriority = iter2->Item()->getPriority();\n",
        "        newPriority = oldPriority + 10;\n",
        "        iter2->Item()->setPriority(newPriority);\n",
        "        DEBUG('z',\"[C] Tick [\"<<kernel->stats->totalTicks<<\"]: Thread [\"<<iter2->Item()->getID()<<\"] changes its priority from [\"\n",
        "        <<oldPriority<<\"] to [\"<<newPriority<<\"]\");\n",
        "        //將需要更新的 thread 拔出 L2readylist 重新放入，如果不做這動作只改優先級， thread 在 ReadyList 的排序是不會變的，等於改了個寂寞\n",
        "        if(newPriority > 99){\n",
        "          DEBUG('z', \"[B] Tick [\"<<kernel->stats->totalTicks<<\"]: Thread [\"<<iter2->Item()->getID()<<\"] is removed from queue L[2]\");\n",
        "          //將需要更新的 thread 拔出 L2readylist 重新放入，如果不做這動作只改優先級， thread 在 ReadyList 的排序是不會變的，等於改了個寂寞\n",
        "          L2ReadyList->Remove(iter2->Item());\n",
        "          //放入 ReadyToRun 就會把 thread 自動放入 L1ReadyList 並重設 StartWaitingTime\n",
        "          ReadyToRun(iter2->Item());\n",
        "        }else{\n",
        "          //其實可以寫的跟上面一樣，但是 DEBUG 訊息會不太對，需要移除再重放是因為， SortedList 好像只有在插入時會做排序\n",
        "          //所以只改優先級並不會改變 thread 排序在 L2ReadyList 的位置等於白改\n",
        "          L2ReadyList->Remove(iter2->Item());\n",
        "          //重設 StartWaitingTime\n",
        "          iter2->Item()->setStartWaitingTime(kernel->stats->totalTicks);\n",
        "          L2ReadyList->Insert(iter2->Item());\n",
        "        }\n",
        "      }\n",
        "    }\n",
        "    //最後記得刪除 ListIterator\n",
        "    delete iter2;\n",
        "  }\n",
        "  //檢查 L3readylist 是否有東西\n",
        "  if(!L3ReadyList->IsEmpty()){\n",
        "    //使用 ListIterator 幫助遍歷 L3Readylist 內的所有 Thread\n",
        "    ListIterator<Thread *> *iter3 = new ListIterator<Thread *>(L3ReadyList);\n",
        "    for( ; !iter3->IsDone(); iter3->Next() ){\n",
        "      ASSERT( iter3->Item()->getStatus() == READY);\n",
        "      int waitingtime = kernel->stats->totalTicks - iter3->Item()->getStartWaitingTime();\n",
        "      if( waitingtime > 1500 && iter3->Item()->getID() > 0 ){\n",
        "        oldPriority = iter3->Item()->getPriority();\n",
        "        newPriority = oldPriority + 10;\n",
        "        iter3->Item()->setPriority(newPriority);\n",
        "        DEBUG('z',\"[C] Tick [\"<<kernel->stats->totalTicks<<\"]: Thread [\"<<iter3->Item()->getID()<<\"] changes its priority from [\"\n",
        "        <<oldPriority<<\"] to [\"<<newPriority<<\"]\");\n",
        "        if(newPriority > 49){\n",
        "          DEBUG('z', \"[B] Tick [\"<<kernel->stats->totalTicks<<\"]: Thread [\"<<iter3->Item()->getID()<<\"] is removed from queue L[3]\");\n",
        "          //如果優先級超過 49 那就拔出 L3readylist\n",
        "          L3ReadyList->Remove(iter3->Item());\n",
        "          //放入 ReadyToRun 就會把 thread 自動放入 L2ReadyList 並重設 StartWaitingTime\n",
        "          ReadyToRun(iter3->Item());\n",
        "        }else{\n",
        "          //由於還是在 L3ReadyList 就不做拔出重放的動作，因為這樣會導致 thread 要重新排隊，另外要重製 StartWaitingTime\n",
        "          iter3->Item()->setStartWaitingTime(kernel->stats->totalTicks);\n",
        "        }\n",
        "      }\n",
        "    }\n",
        "    //最後記得刪除 ListIterator\n",
        "    delete iter3;\n",
        "  }\n",
        "}"
      ],
      "metadata": {
        "id": "UUqryzs7ZeIZ"
      },
      "execution_count": null,
      "outputs": []
    },
    {
      "cell_type": "markdown",
      "source": [
        "用來將 thread 放入 ReadyList 的函式，根據要求 An aging mechanism must be implemented, so that the priority of a process is increased by 10 after waiting for more than 1500 ticks (waiting ticks >1500). That is, record the tick whenever entering the ready queue, when Alarm::Callback is triggered, if the current total tick minus the recorded is larger than 1500, increase priority by 10, and set the record to the current total tick. 所以當進到 ReadyList 要開始計時等待時間"
      ],
      "metadata": {
        "id": "9u9OgSA4agzw"
      }
    },
    {
      "cell_type": "code",
      "source": [
        "void Scheduler::ReadyToRun (Thread *thread){\n",
        "  ASSERT(kernel->interrupt->getLevel() == IntOff);\n",
        "  DEBUG(dbgThread, \"Putting thread on ready list: \" << thread->getName());\n",
        "  thread->setStatus(READY);\n",
        "  // StartWaitingTime 更新\n",
        "  thread->setStartWaitingTime(kernel->stats->totalTicks);\n",
        "  int PriorityOfThread = thread->getPriority();\n",
        "  if(PriorityOfThread >= 100 && PriorityOfThread <= 149){\n",
        "    if( !kernel->scheduler->L1ReadyList->IsInList(thread) ){\n",
        "      //實作除錯訊息\n",
        "      DEBUG('z', \"[A] Tick[\" << kernel->stats->totalTicks  << \"]: Thread [\" << thread->getID() << \"] is inserted into queue L[1]\");\n",
        "      //放入 L1ReadyList\n",
        "      L1ReadyList->Insert(thread);\n",
        "    }\n",
        "  //下面做的事也差不多就不贅述\n",
        "  }else if(PriorityOfThread >= 50 && PriorityOfThread <= 99) {\n",
        "    if( !L2ReadyList->IsInList(thread) ){\n",
        "      DEBUG('z', \"[A] Tick[\" << kernel->stats->totalTicks  << \"]: Thread [\" << thread->getID() << \"] is inserted into queue L[2]\");\n",
        "      L2ReadyList->Insert(thread);\n",
        "    }\n",
        "  }else if (PriorityOfThread >= 0 && PriorityOfThread <= 49) {\n",
        "    if( !L3ReadyList->IsInList(thread) ){\n",
        "      DEBUG('z', \"[A] Tick[\" << kernel->stats->totalTicks  << \"]: Thread [\" << thread->getID() << \"] is inserted into queue L[3]\");\n",
        "      L3ReadyList->Append(thread);\n",
        "    }\n",
        "  }\n",
        "}"
      ],
      "metadata": {
        "id": "joDY9zyUvsqN"
      },
      "execution_count": null,
      "outputs": []
    },
    {
      "cell_type": "markdown",
      "source": [
        "FindNextToRun 函式是當 thread 要變 Running 所以要設 ExecutionTime 這樣在 thread 變 Waiting 或 Ready 時就能知道 thread 從何時開始執行並更新 T ，而另一部份時做的事是根據優先程度取出對應的 thread 做為下一個執行的程式"
      ],
      "metadata": {
        "id": "ko9k0EM40nkP"
      }
    },
    {
      "cell_type": "code",
      "source": [
        "Thread *\n",
        "Scheduler::FindNextToRun (){\n",
        "  ASSERT(kernel->interrupt->getLevel() == IntOff);\n",
        "  //依序從 L1 -> L2 -> L3 的 ReadyList 取出最優先的thread\n",
        "  if( !L1ReadyList->IsEmpty() ){\n",
        "    //取出 L1 最優先的 thread\n",
        "    Thread *returnthread = L1ReadyList->RemoveFront();\n",
        "    //設定 thread 開始執行時間\n",
        "    returnthread->setStartExecutionTime(kernel->stats->totalTicks);\n",
        "    //實作除錯訊息\n",
        "    DEBUG('z', \"[B] Tick [\" << kernel->stats->totalTicks  << \"]: Thread [\" << returnthread->getID() << \"] is removed from queue L[1]\");\n",
        "    //返回最優先的 thread\n",
        "    return returnthread;\n",
        "  }else if ( !L2ReadyList->IsEmpty() ){\n",
        "    //L2, L3 做的事差不多就不贅述\n",
        "    Thread *returnthread = L2ReadyList->RemoveFront();\n",
        "    returnthread->setStartExecutionTime(kernel->stats->totalTicks);\n",
        "    DEBUG('z', \"[B] Tick [\" << kernel->stats->totalTicks  << \"]: Thread [\" << returnthread->getID() << \"] is removed from queue L[2]\");\n",
        "    return returnthread;\n",
        "  }else if ( !L3ReadyList->IsEmpty() ){\n",
        "    Thread *returnthread = L3ReadyList->RemoveFront();\n",
        "    returnthread->setStartExecutionTime(kernel->stats->totalTicks);\n",
        "    DEBUG('z', \"[B] Tick [\" << kernel->stats->totalTicks  << \"]: Thread [\" << returnthread->getID() << \"] is removed from queue L[3]\");\n",
        "    return returnthread;\n",
        "  }\n",
        "  return NULL;\n",
        "}"
      ],
      "metadata": {
        "id": "6iuffp0W2HEW"
      },
      "execution_count": null,
      "outputs": []
    },
    {
      "cell_type": "markdown",
      "source": [
        "Scheduler::Run 函式就是要 context switch 了在裡面實作 DEBUG 訊息"
      ],
      "metadata": {
        "id": "I2YRguGq3OA0"
      }
    },
    {
      "cell_type": "code",
      "source": [
        "void Scheduler::Run(Thread *nextThread, bool finishing) {\n",
        "    Thread *oldThread = kernel->currentThread;\n",
        "\n",
        "    ASSERT(kernel->interrupt->getLevel() == IntOff);\n",
        "\n",
        "    if (finishing) {  // mark that we need to delete current thread\n",
        "        ASSERT(toBeDestroyed == NULL);\n",
        "        toBeDestroyed = oldThread;\n",
        "    }\n",
        "\n",
        "    if (oldThread->space != NULL) {  // if this thread is a user program,\n",
        "        oldThread->SaveUserState();  // save the user's CPU registers\n",
        "        oldThread->space->SaveState();\n",
        "    }\n",
        "\n",
        "    oldThread->CheckOverflow();  // check if the old thread\n",
        "                                 // had an undetected stack overflow\n",
        "\n",
        "    kernel->currentThread = nextThread;  // switch to the next thread\n",
        "    nextThread->setStatus(RUNNING);      // nextThread is now running\n",
        "\n",
        "    DEBUG(dbgThread, \"Switching from: \" << oldThread->getName() << \" to: \" << nextThread->getName());\n",
        "    //加上DEBUG訊息\n",
        "    DEBUG('z',\"[E] Tick [\"<<kernel->stats->totalTicks<<\"]: Thread [\"<<nextThread->getID()<<\"] is now selected for execution, thread [\"\n",
        "    <<oldThread->getID()<<\"] is replaced, and it has executed [\"<<oldThread->getExecutionTime(kernel->stats->totalTicks)<<\"] ticks\");\n",
        "    // This is a machine-dependent assembly language routine defined\n",
        "    // in switch.s.  You may have to think\n",
        "    // a bit to figure out what happens after this, both from the point\n",
        "    // of view of the thread and from the perspective of the \"outside world\".\n",
        "\n",
        "    SWITCH(oldThread, nextThread);\n",
        "\n",
        "    // we're back, running oldThread\n",
        "    // interrupts are off when we return from switch!\n",
        "    ASSERT(kernel->interrupt->getLevel() == IntOff);\n",
        "\n",
        "    DEBUG(dbgThread, \"Now in thread: \" << oldThread->getName());\n",
        "\n",
        "    CheckToBeDestroyed();  // check if thread we were running\n",
        "                           // before this one has finished\n",
        "                           // and needs to be cleaned up\n",
        "\n",
        "    if (oldThread->space != NULL) {     // if there is an address space\n",
        "        oldThread->RestoreUserState();  // to restore, do it.\n",
        "        oldThread->space->RestoreState();\n",
        "    }\n",
        "}"
      ],
      "metadata": {
        "id": "pZ88fujTN41W"
      },
      "execution_count": null,
      "outputs": []
    },
    {
      "cell_type": "markdown",
      "source": [
        "Print 是把所有 thread 印出來檢查排序是否正確，就依樣畫葫蘆所有 ReadyList->Apply(ThreadPrint)"
      ],
      "metadata": {
        "id": "Gv26nu2R3jrs"
      }
    },
    {
      "cell_type": "code",
      "source": [
        "void Scheduler::Print() {\n",
        "    cout << \"Ready list contents:\\n\";\n",
        "    L1ReadyList->Apply(ThreadPrint);\n",
        "    L2ReadyList->Apply(ThreadPrint);\n",
        "    L3ReadyList->Apply(ThreadPrint);\n",
        "}"
      ],
      "metadata": {
        "id": "pe2vFxFbh6GZ"
      },
      "execution_count": null,
      "outputs": []
    },
    {
      "cell_type": "markdown",
      "source": [
        "由於是否搶占需要檢查一些 scheduler private 的東西所以我把它實作在 class Scheduler裡面，至於為什麼沒有檢查當前執行 thread 是否執行至少 100 ticks 是因為我當初想在 Alarm::CallBack 完成所有判斷但不行，後來才改進 Scheduler 裡，而檢查當前執行 thread 是否執行至少 100 ticks 在 Alarm::CallBack 可以執行，不用額外函式支援所以就留在 Alarm::CallBack 裡面判斷了"
      ],
      "metadata": {
        "id": "gyyQUcby38bk"
      }
    },
    {
      "cell_type": "code",
      "source": [
        "bool Scheduler::ShouldPreempt(Thread* now){\n",
        "    int p = now->getPriority();\n",
        "    if(p > 99){\n",
        "        if(L1ReadyList->IsEmpty()) return false;//由於不存在其他L1任務所以返回 false\n",
        "        else if(compareL1(now, L1ReadyList->Front()) < 0) return false;//比較當前兩任務優先級，調用前面的compareL1完成比較\n",
        "    }else if(p > 49){\n",
        "        if(!L1ReadyList->IsEmpty()) return true;//有L1優先級較高的故返回 true 代表需要搶占\n",
        "        else return false;//由於L2任務並不會搶佔其他L2的執行任務而L3也無法搶佔L2故返回 false\n",
        "    }\n",
        "    return true;//L3任務是round-robin時間到就換人，以及L1比較後當前執行的優先級較低也是返回 true\n",
        "}"
      ],
      "metadata": {
        "id": "CC780AxELHac"
      },
      "execution_count": null,
      "outputs": []
    },
    {
      "cell_type": "markdown",
      "source": [
        "###Alarm.cc"
      ],
      "metadata": {
        "id": "r32jlEAaDRpC"
      }
    },
    {
      "cell_type": "markdown",
      "source": [
        "就是時間到呼叫 updatePriority 一下，然後檢查當前執行 thread 是否執行至少 100 ticks 接著呼叫 ShouldPreempt 檢查是否需要搶佔執行緒\n"
      ],
      "metadata": {
        "id": "MglUShHk5Khr"
      }
    },
    {
      "cell_type": "code",
      "source": [
        "void Alarm::CallBack() {\n",
        "    Interrupt *interrupt = kernel->interrupt;\n",
        "    MachineStatus status = interrupt->getStatus();\n",
        "    int exectime = kernel->currentThread->getExecutionTime(kernel->stats->totalTicks);\n",
        "    kernel->scheduler->updatePriority();\n",
        "    if (status != IdleMode && exectime >= 100){\n",
        "        if(kernel->scheduler->ShouldPreempt(kernel->currentThread)){\n",
        "            interrupt->YieldOnReturn();\n",
        "        }\n",
        "    }\n",
        "}"
      ],
      "metadata": {
        "id": "FWo6sNSo5FBr"
      },
      "execution_count": null,
      "outputs": []
    },
    {
      "cell_type": "markdown",
      "source": [
        "### 最後附上通過 PartA 驗證的圖片"
      ],
      "metadata": {
        "id": "nKQXpRih6Gei"
      }
    },
    {
      "cell_type": "markdown",
      "source": [
        "![螢幕擷取畫面 2024-11-29 205044.png](data:image/png;base64,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)"
      ],
      "metadata": {
        "id": "mr3-XcCF6flJ"
      }
    }
  ]
}